{
 "cells": [
  {
   "cell_type": "code",
   "execution_count": 1,
   "id": "stupid-active",
   "metadata": {},
   "outputs": [],
   "source": [
    "import numpy as np\n",
    "import tensorflow as tf\n",
    "import tensorflow_probability as tfp\n",
    "from tensorflow_probability.python.internal import prefer_static\n",
    "tfb = tfp.bijectors\n",
    "tfd = tfp.distributions"
   ]
  },
  {
   "cell_type": "code",
   "execution_count": 2,
   "id": "biblical-gnome",
   "metadata": {},
   "outputs": [],
   "source": [
    "event_size = 4\n",
    "num_components = 3"
   ]
  },
  {
   "cell_type": "markdown",
   "id": "awful-marks",
   "metadata": {},
   "source": [
    "# Learnable Multivariate Normal with Scaled Identity for chol(Cov)"
   ]
  },
  {
   "cell_type": "code",
   "execution_count": 3,
   "id": "congressional-headset",
   "metadata": {},
   "outputs": [],
   "source": [
    "learnable_mvn_scaled_identity = tfd.Independent(\n",
    "    tfd.Normal(loc=tf.Variable(tf.zeros(event_size), name='loc'),\n",
    "               scale=tfp.util.TransformedVariable(\n",
    "                   tf.ones([event_size, 1]), \n",
    "                   bijector=tfb.Exp()), \n",
    "               name='scale'), \n",
    "    reinterpreted_batch_ndims=1, \n",
    "    name='learnable_mvn_scaled_identity')"
   ]
  },
  {
   "cell_type": "code",
   "execution_count": 4,
   "id": "radio-navigator",
   "metadata": {},
   "outputs": [
    {
     "data": {
      "text/plain": [
       "<tfp.distributions.Independent 'learnable_mvn_scaled_identity' batch_shape=[4] event_shape=[4] dtype=float32>"
      ]
     },
     "execution_count": 4,
     "metadata": {},
     "output_type": "execute_result"
    }
   ],
   "source": [
    "learnable_mvn_scaled_identity"
   ]
  },
  {
   "cell_type": "code",
   "execution_count": 5,
   "id": "reverse-springer",
   "metadata": {},
   "outputs": [
    {
     "data": {
      "text/plain": [
       "(<tf.Variable 'loc:0' shape=(4,) dtype=float32, numpy=array([0., 0., 0., 0.], dtype=float32)>,\n",
       " <tf.Variable 'Variable:0' shape=(4, 1) dtype=float32, numpy=\n",
       " array([[0.],\n",
       "        [0.],\n",
       "        [0.],\n",
       "        [0.]], dtype=float32)>)"
      ]
     },
     "execution_count": 5,
     "metadata": {},
     "output_type": "execute_result"
    }
   ],
   "source": [
    "learnable_mvn_scaled_identity.trainable_variables"
   ]
  },
  {
   "cell_type": "code",
   "execution_count": 8,
   "id": "extensive-compensation",
   "metadata": {},
   "outputs": [],
   "source": [
    "trainable_normal = tfd.Normal(loc=tf.Variable(0.),\n",
    "                              scale=tfp.util.TransformedVariable(1., bijector=tfb.Exp()))"
   ]
  },
  {
   "cell_type": "code",
   "execution_count": 9,
   "id": "silver-standard",
   "metadata": {},
   "outputs": [
    {
     "data": {
      "text/plain": [
       "<tf.Variable 'Variable:0' shape=() dtype=float32, numpy=0.0>"
      ]
     },
     "execution_count": 9,
     "metadata": {},
     "output_type": "execute_result"
    }
   ],
   "source": [
    "trainable_normal.loc"
   ]
  },
  {
   "cell_type": "code",
   "execution_count": 10,
   "id": "liberal-eligibility",
   "metadata": {},
   "outputs": [
    {
     "data": {
      "text/plain": [
       "<TransformedVariable: dtype=float32, shape=[], fn=\"exp\", numpy=1.0>"
      ]
     },
     "execution_count": 10,
     "metadata": {},
     "output_type": "execute_result"
    }
   ],
   "source": [
    "trainable_normal.scale"
   ]
  },
  {
   "cell_type": "code",
   "execution_count": 11,
   "id": "discrete-potato",
   "metadata": {},
   "outputs": [
    {
     "data": {
      "text/plain": [
       "{'loc': <tf.Variable 'Variable:0' shape=() dtype=float32, numpy=0.0>,\n",
       " 'scale': <TransformedVariable: dtype=float32, shape=[], fn=\"exp\", numpy=1.0>,\n",
       " 'validate_args': False,\n",
       " 'allow_nan_stats': True,\n",
       " 'name': 'Normal'}"
      ]
     },
     "execution_count": 11,
     "metadata": {},
     "output_type": "execute_result"
    }
   ],
   "source": [
    "trainable_normal.parameters"
   ]
  },
  {
   "cell_type": "code",
   "execution_count": 12,
   "id": "reverse-account",
   "metadata": {},
   "outputs": [
    {
     "data": {
      "text/plain": [
       "<tf.Tensor: shape=(), dtype=float32, numpy=1.0>"
      ]
     },
     "execution_count": 12,
     "metadata": {},
     "output_type": "execute_result"
    }
   ],
   "source": [
    "trainable_normal.stddev()"
   ]
  },
  {
   "cell_type": "code",
   "execution_count": 14,
   "id": "parallel-hardware",
   "metadata": {},
   "outputs": [
    {
     "name": "stdout",
     "output_type": "stream",
     "text": [
      "tfp.distributions.Independent(\"learnable_mvn_diag\", batch_shape=[], event_shape=[4], dtype=float32)\n",
      "(<tf.Variable 'loc:0' shape=(4,) dtype=float32, numpy=array([0., 0., 0., 0.], dtype=float32)>, <tf.Variable 'Variable:0' shape=(4,) dtype=float32, numpy=array([0.54132485, 0.54132485, 0.54132485, 0.54132485], dtype=float32)>)\n"
     ]
    }
   ],
   "source": [
    "learnable_mvndiag = tfd.Independent(\n",
    "    tfd.Normal(\n",
    "        loc=tf.Variable(tf.zeros(event_size), name='loc'),\n",
    "        scale=tfp.util.TransformedVariable(\n",
    "            tf.ones(event_size),\n",
    "            bijector=tfb.Softplus()),  # Use Softplus...cuz why not?\n",
    "            name='scale'),\n",
    "    reinterpreted_batch_ndims=1,\n",
    "    name='learnable_mvn_diag')\n",
    "\n",
    "print(learnable_mvndiag)\n",
    "print(learnable_mvndiag.trainable_variables)"
   ]
  },
  {
   "cell_type": "code",
   "execution_count": 15,
   "id": "vertical-fetish",
   "metadata": {},
   "outputs": [
    {
     "data": {
      "text/plain": [
       "<tf.Tensor: shape=(4,), dtype=float32, numpy=array([1., 1., 1., 1.], dtype=float32)>"
      ]
     },
     "execution_count": 15,
     "metadata": {},
     "output_type": "execute_result"
    }
   ],
   "source": [
    "t = tf.ones(4)\n",
    "t"
   ]
  },
  {
   "cell_type": "code",
   "execution_count": 16,
   "id": "utility-finger",
   "metadata": {},
   "outputs": [],
   "source": [
    "soft = tfb.Softplus()"
   ]
  },
  {
   "cell_type": "code",
   "execution_count": 17,
   "id": "faced-stadium",
   "metadata": {},
   "outputs": [
    {
     "data": {
      "text/plain": [
       "<tf.Tensor: shape=(4,), dtype=float32, numpy=array([1.3132616, 1.3132616, 1.3132616, 1.3132616], dtype=float32)>"
      ]
     },
     "execution_count": 17,
     "metadata": {},
     "output_type": "execute_result"
    }
   ],
   "source": [
    "soft.forward(t)"
   ]
  },
  {
   "cell_type": "code",
   "execution_count": 27,
   "id": "eligible-bahamas",
   "metadata": {},
   "outputs": [
    {
     "data": {
      "text/plain": [
       "<tf.Tensor: shape=(4,), dtype=float32, numpy=array([0.54132485, 0.54132485, 0.54132485, 0.54132485], dtype=float32)>"
      ]
     },
     "execution_count": 27,
     "metadata": {},
     "output_type": "execute_result"
    }
   ],
   "source": [
    "soft.inverse(t)"
   ]
  },
  {
   "cell_type": "code",
   "execution_count": 18,
   "id": "brilliant-rachel",
   "metadata": {},
   "outputs": [
    {
     "data": {
      "text/plain": [
       "1.3132616875182228"
      ]
     },
     "execution_count": 18,
     "metadata": {},
     "output_type": "execute_result"
    }
   ],
   "source": [
    "np.log(1+np.exp(1))"
   ]
  },
  {
   "cell_type": "code",
   "execution_count": 20,
   "id": "wired-context",
   "metadata": {},
   "outputs": [],
   "source": [
    "s = tfp.util.TransformedVariable(\n",
    "            tf.ones(event_size),\n",
    "            bijector=tfb.Softplus())"
   ]
  },
  {
   "cell_type": "code",
   "execution_count": 21,
   "id": "federal-giant",
   "metadata": {},
   "outputs": [
    {
     "data": {
      "text/plain": [
       "<TransformedVariable: dtype=float32, shape=[4], fn=\"softplus\", numpy=array([1., 1., 1., 1.], dtype=float32)>"
      ]
     },
     "execution_count": 21,
     "metadata": {},
     "output_type": "execute_result"
    }
   ],
   "source": [
    "s"
   ]
  },
  {
   "cell_type": "code",
   "execution_count": 22,
   "id": "lesser-regression",
   "metadata": {},
   "outputs": [
    {
     "data": {
      "text/plain": [
       "<tf.Variable 'Variable:0' shape=(4,) dtype=float32, numpy=array([0.54132485, 0.54132485, 0.54132485, 0.54132485], dtype=float32)>"
      ]
     },
     "execution_count": 22,
     "metadata": {},
     "output_type": "execute_result"
    }
   ],
   "source": [
    "s.pretransformed_input"
   ]
  },
  {
   "cell_type": "code",
   "execution_count": 23,
   "id": "convertible-filling",
   "metadata": {},
   "outputs": [
    {
     "data": {
      "text/plain": [
       "<tf.Tensor: shape=(4,), dtype=float32, numpy=array([1., 1., 1., 1.], dtype=float32)>"
      ]
     },
     "execution_count": 23,
     "metadata": {},
     "output_type": "execute_result"
    }
   ],
   "source": [
    "soft.forward(s.pretransformed_input)"
   ]
  },
  {
   "cell_type": "code",
   "execution_count": 24,
   "id": "apart-fifteen",
   "metadata": {},
   "outputs": [],
   "source": [
    "n = tfd.Normal(\n",
    "        loc=tf.Variable(tf.zeros(event_size), name='loc'),\n",
    "        scale=tfp.util.TransformedVariable(\n",
    "            tf.ones(event_size),\n",
    "            bijector=tfb.Softplus()),  # Use Softplus...cuz why not?\n",
    "            name='scale')"
   ]
  },
  {
   "cell_type": "code",
   "execution_count": 25,
   "id": "listed-steam",
   "metadata": {},
   "outputs": [
    {
     "data": {
      "text/plain": [
       "<TransformedVariable: dtype=float32, shape=[4], fn=\"softplus\", numpy=array([1., 1., 1., 1.], dtype=float32)>"
      ]
     },
     "execution_count": 25,
     "metadata": {},
     "output_type": "execute_result"
    }
   ],
   "source": [
    "n.scale"
   ]
  },
  {
   "cell_type": "code",
   "execution_count": 26,
   "id": "alternative-nomination",
   "metadata": {},
   "outputs": [
    {
     "data": {
      "text/plain": [
       "{'loc': <tf.Variable 'loc:0' shape=(4,) dtype=float32, numpy=array([0., 0., 0., 0.], dtype=float32)>,\n",
       " 'scale': <TransformedVariable: dtype=float32, shape=[4], fn=\"softplus\", numpy=array([1., 1., 1., 1.], dtype=float32)>,\n",
       " 'validate_args': False,\n",
       " 'allow_nan_stats': True,\n",
       " 'name': 'scale'}"
      ]
     },
     "execution_count": 26,
     "metadata": {},
     "output_type": "execute_result"
    }
   ],
   "source": [
    "n.parameters"
   ]
  },
  {
   "cell_type": "code",
   "execution_count": null,
   "id": "surface-classic",
   "metadata": {},
   "outputs": [],
   "source": []
  }
 ],
 "metadata": {
  "kernelspec": {
   "display_name": "Python 3",
   "language": "python",
   "name": "python3"
  },
  "language_info": {
   "codemirror_mode": {
    "name": "ipython",
    "version": 3
   },
   "file_extension": ".py",
   "mimetype": "text/x-python",
   "name": "python",
   "nbconvert_exporter": "python",
   "pygments_lexer": "ipython3",
   "version": "3.7.3"
  }
 },
 "nbformat": 4,
 "nbformat_minor": 5
}
