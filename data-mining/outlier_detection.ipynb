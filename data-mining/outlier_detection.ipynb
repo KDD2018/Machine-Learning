{
 "cells": [
  {
   "cell_type": "markdown",
   "id": "express-bench",
   "metadata": {},
   "source": [
    "# LocalOutLierFactor"
   ]
  },
  {
   "cell_type": "code",
   "execution_count": 1,
   "id": "sacred-standard",
   "metadata": {},
   "outputs": [],
   "source": [
    "import numpy as np\n",
    "from sklearn.neighbors import LocalOutlierFactor"
   ]
  },
  {
   "cell_type": "code",
   "execution_count": 2,
   "id": "cellular-bibliography",
   "metadata": {},
   "outputs": [],
   "source": [
    "X = [[-1.1], [0.2], [101.1], [0.3]]"
   ]
  },
  {
   "cell_type": "code",
   "execution_count": 4,
   "id": "integrated-pontiac",
   "metadata": {},
   "outputs": [],
   "source": [
    "clf = LocalOutlierFactor(n_neighbors=2)"
   ]
  },
  {
   "cell_type": "code",
   "execution_count": 6,
   "id": "ready-enlargement",
   "metadata": {},
   "outputs": [
    {
     "name": "stdout",
     "output_type": "stream",
     "text": [
      "predict is not available when novelty=False, use fit_predict if you want to predict on training data. Use novelty=True if you want to use LOF for novelty detection and predict on new unseen data.\n"
     ]
    }
   ],
   "source": [
    "try:\n",
    "    clf.predict(X)\n",
    "except Exception as e:\n",
    "    print(e)"
   ]
  },
  {
   "cell_type": "code",
   "execution_count": 9,
   "id": "shared-conflict",
   "metadata": {},
   "outputs": [
    {
     "data": {
      "text/plain": [
       "array([ 1,  1, -1,  1])"
      ]
     },
     "execution_count": 9,
     "metadata": {},
     "output_type": "execute_result"
    }
   ],
   "source": [
    "clf.fit_predict(X)"
   ]
  },
  {
   "cell_type": "code",
   "execution_count": 10,
   "id": "impaired-works",
   "metadata": {},
   "outputs": [
    {
     "data": {
      "text/plain": [
       "array([ -0.98214286,  -1.03703704, -73.36970899,  -0.98214286])"
      ]
     },
     "execution_count": 10,
     "metadata": {},
     "output_type": "execute_result"
    }
   ],
   "source": [
    "clf.negative_outlier_factor_"
   ]
  },
  {
   "cell_type": "code",
   "execution_count": 12,
   "id": "statistical-roads",
   "metadata": {},
   "outputs": [
    {
     "name": "stdout",
     "output_type": "stream",
     "text": [
      "decision_function is not available when novelty=False. Use novelty=True if you want to use LOF for novelty detection and compute decision_function for new unseen data. Note that the opposite LOF of the training samples is always available by considering the negative_outlier_factor_ attribute.\n"
     ]
    }
   ],
   "source": [
    "try:\n",
    "    clf.decision_function\n",
    "except Exception as e:\n",
    "    print(e)"
   ]
  },
  {
   "cell_type": "code",
   "execution_count": 14,
   "id": "directed-basis",
   "metadata": {},
   "outputs": [
    {
     "name": "stdout",
     "output_type": "stream",
     "text": [
      "score_samples is not available when novelty=False. The scores of the training samples are always available through the negative_outlier_factor_ attribute. Use novelty=True if you want to use LOF for novelty detection and compute score_samples for new unseen data.\n"
     ]
    }
   ],
   "source": [
    "\n",
    "try:\n",
    "    clf.score_samples\n",
    "except Exception as e:\n",
    "    print(e)"
   ]
  },
  {
   "cell_type": "code",
   "execution_count": 15,
   "id": "waiting-variety",
   "metadata": {},
   "outputs": [
    {
     "data": {
      "text/plain": [
       "<bound method KNeighborsMixin.kneighbors_graph of LocalOutlierFactor(n_neighbors=2)>"
      ]
     },
     "execution_count": 15,
     "metadata": {},
     "output_type": "execute_result"
    }
   ],
   "source": [
    "clf.kneighbors_graph"
   ]
  },
  {
   "cell_type": "code",
   "execution_count": 16,
   "id": "natural-profit",
   "metadata": {},
   "outputs": [
    {
     "data": {
      "text/plain": [
       "<bound method KNeighborsMixin.kneighbors of LocalOutlierFactor(n_neighbors=2)>"
      ]
     },
     "execution_count": 16,
     "metadata": {},
     "output_type": "execute_result"
    }
   ],
   "source": [
    "clf.kneighbors"
   ]
  },
  {
   "cell_type": "code",
   "execution_count": null,
   "id": "proprietary-amateur",
   "metadata": {},
   "outputs": [],
   "source": []
  }
 ],
 "metadata": {
  "kernelspec": {
   "display_name": "Python 3",
   "language": "python",
   "name": "python3"
  },
  "language_info": {
   "codemirror_mode": {
    "name": "ipython",
    "version": 3
   },
   "file_extension": ".py",
   "mimetype": "text/x-python",
   "name": "python",
   "nbconvert_exporter": "python",
   "pygments_lexer": "ipython3",
   "version": "3.7.3"
  }
 },
 "nbformat": 4,
 "nbformat_minor": 5
}
