{
 "cells": [
  {
   "cell_type": "code",
   "execution_count": 14,
   "metadata": {},
   "outputs": [],
   "source": [
    "import tensorflow as tf\n",
    "from tensorflow import keras\n",
    "import matplotlib.pyplot as plt"
   ]
  },
  {
   "cell_type": "code",
   "execution_count": 15,
   "metadata": {},
   "outputs": [],
   "source": [
    "fashion = tf.keras.datasets.fashion_mnist\n",
    "(x_train, y_train), (x_test, y_test) = fashion.load_data()"
   ]
  },
  {
   "cell_type": "code",
   "execution_count": 16,
   "metadata": {},
   "outputs": [
    {
     "data": {
      "text/plain": [
       "<function matplotlib.pyplot.show(*args, **kw)>"
      ]
     },
     "execution_count": 16,
     "metadata": {},
     "output_type": "execute_result"
    },
    {
     "data": {
      "image/png": "[encoded data removed]",
      "text/plain": [
       "<Figure size 432x288 with 1 Axes>"
      ]
     },
     "metadata": {
      "needs_background": "light"
     },
     "output_type": "display_data"
    }
   ],
   "source": [
    "plt.imshow(x_test[0])\n",
    "plt.title(y_test[0])\n",
    "plt.show"
   ]
  },
  {
   "cell_type": "code",
   "execution_count": 17,
   "metadata": {},
   "outputs": [
    {
     "data": {
      "text/plain": [
       "(dtype('uint8'), dtype('uint8'))"
      ]
     },
     "execution_count": 17,
     "metadata": {},
     "output_type": "execute_result"
    }
   ],
   "source": [
    "x_train.dtype, y_train.dtype"
   ]
  },
  {
   "cell_type": "code",
   "execution_count": 18,
   "metadata": {},
   "outputs": [],
   "source": [
    "x_train, x_test = x_train / 255.0, x_test / 255.0"
   ]
  },
  {
   "cell_type": "markdown",
   "metadata": {},
   "source": [
    "# Subclass Model"
   ]
  },
  {
   "cell_type": "code",
   "execution_count": null,
   "metadata": {},
   "outputs": [],
   "source": [
    "class FashionMnistModel(tf.keras.Model):\n",
    "    def __init__(self):\n",
    "        super(FashionMnistModel, self).__init__()\n",
    "        self.flatten = keras.layers.Flatten()\n",
    "        self.d1 = keras.layers.Dense(128, activation='relu')\n",
    "        self.d2 = keras.layers.Dense(10, activation='softmax')\n",
    "        \n",
    "    def call(self, x):\n",
    "        x = self.flatten(x)\n",
    "        x = self.d1(x)\n",
    "        y = self.d2(x)\n",
    "        return y\n",
    "    \n",
    "model = FashionMnistModel()"
   ]
  },
  {
   "cell_type": "markdown",
   "metadata": {},
   "source": [
    "# Sequential Model"
   ]
  },
  {
   "cell_type": "code",
   "execution_count": 19,
   "metadata": {},
   "outputs": [],
   "source": [
    "model = tf.keras.Sequential([\n",
    "    keras.layers.Flatten(),\n",
    "    keras.layers.Dense(128, activation='relu'),\n",
    "    keras.layers.Dense(10, activation='softmax')\n",
    "])"
   ]
  },
  {
   "cell_type": "code",
   "execution_count": 20,
   "metadata": {},
   "outputs": [],
   "source": [
    "model.compile(optimizer='adam',\n",
    "              loss=keras.losses.SparseCategoricalCrossentropy(from_logits=False),\n",
    "              metrics=['sparse_categorical_accuracy'])"
   ]
  },
  {
   "cell_type": "code",
   "execution_count": 21,
   "metadata": {},
   "outputs": [
    {
     "name": "stdout",
     "output_type": "stream",
     "text": [
      "Train on 60000 samples, validate on 10000 samples\n",
      "Epoch 1/10\n",
      "60000/60000 [==============================] - 5s 88us/sample - loss: 0.5020 - sparse_categorical_accuracy: 0.8241 - val_loss: 0.4310 - val_sparse_categorical_accuracy: 0.8481\n",
      "Epoch 2/10\n",
      "60000/60000 [==============================] - 6s 94us/sample - loss: 0.3783 - sparse_categorical_accuracy: 0.8635 - val_loss: 0.4024 - val_sparse_categorical_accuracy: 0.8521\n",
      "Epoch 3/10\n",
      "60000/60000 [==============================] - 5s 90us/sample - loss: 0.3389 - sparse_categorical_accuracy: 0.8760 - val_loss: 0.3849 - val_sparse_categorical_accuracy: 0.8600\n",
      "Epoch 4/10\n",
      "60000/60000 [==============================] - 6s 94us/sample - loss: 0.3133 - sparse_categorical_accuracy: 0.8842 - val_loss: 0.3495 - val_sparse_categorical_accuracy: 0.8718\n",
      "Epoch 5/10\n",
      "60000/60000 [==============================] - 6s 97us/sample - loss: 0.2957 - sparse_categorical_accuracy: 0.8906 - val_loss: 0.3636 - val_sparse_categorical_accuracy: 0.8672\n",
      "Epoch 6/10\n",
      "60000/60000 [==============================] - 6s 95us/sample - loss: 0.2809 - sparse_categorical_accuracy: 0.8955 - val_loss: 0.3436 - val_sparse_categorical_accuracy: 0.8791\n",
      "Epoch 7/10\n",
      "60000/60000 [==============================] - 6s 105us/sample - loss: 0.2696 - sparse_categorical_accuracy: 0.8993 - val_loss: 0.3611 - val_sparse_categorical_accuracy: 0.8731\n",
      "Epoch 8/10\n",
      "60000/60000 [==============================] - 6s 93us/sample - loss: 0.2587 - sparse_categorical_accuracy: 0.9036 - val_loss: 0.3546 - val_sparse_categorical_accuracy: 0.8747\n",
      "Epoch 9/10\n",
      "60000/60000 [==============================] - 6s 100us/sample - loss: 0.2480 - sparse_categorical_accuracy: 0.9076 - val_loss: 0.3398 - val_sparse_categorical_accuracy: 0.8812\n",
      "Epoch 10/10\n",
      "60000/60000 [==============================] - 6s 100us/sample - loss: 0.2407 - sparse_categorical_accuracy: 0.9102 - val_loss: 0.3397 - val_sparse_categorical_accuracy: 0.8836\n"
     ]
    },
    {
     "data": {
      "text/plain": [
       "<tensorflow.python.keras.callbacks.History at 0x7f09a43de8d0>"
      ]
     },
     "execution_count": 21,
     "metadata": {},
     "output_type": "execute_result"
    }
   ],
   "source": [
    "model.fit(x_train, y_train, batch_size=32, epochs=10, validation_data=(x_test, y_test), validation_freq=1)"
   ]
  },
  {
   "cell_type": "code",
   "execution_count": null,
   "metadata": {},
   "outputs": [],
   "source": [
    "model.summary()"
   ]
  },
  {
   "cell_type": "code",
   "execution_count": null,
   "metadata": {},
   "outputs": [],
   "source": []
  }
 ],
 "metadata": {
  "kernelspec": {
   "display_name": "Python 3",
   "language": "python",
   "name": "python3"
  },
  "language_info": {
   "codemirror_mode": {
    "name": "ipython",
    "version": 3
   },
   "file_extension": ".py",
   "mimetype": "text/x-python",
   "name": "python",
   "nbconvert_exporter": "python",
   "pygments_lexer": "ipython3",
   "version": "3.7.7"
  }
 },
 "nbformat": 4,
 "nbformat_minor": 4
}
