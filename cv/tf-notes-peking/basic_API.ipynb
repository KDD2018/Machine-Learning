{
 "cells": [
  {
   "cell_type": "code",
   "execution_count": 1,
   "metadata": {},
   "outputs": [],
   "source": [
    "import tensorflow as tf"
   ]
  },
  {
   "cell_type": "code",
   "execution_count": 2,
   "metadata": {},
   "outputs": [],
   "source": [
    "w = tf.Variable(tf.constant(5, dtype=tf.float32))\n",
    "epoch = 40\n",
    "learning_rate = 0.2"
   ]
  },
  {
   "cell_type": "code",
   "execution_count": 3,
   "metadata": {
    "collapsed": true,
    "jupyter": {
     "outputs_hidden": true
    }
   },
   "outputs": [
    {
     "name": "stdout",
     "output_type": "stream",
     "text": [
      "After 0, loss is 36.0, w is 2.5999999046325684\n",
      "After 1, loss is 12.959999084472656, w is 1.159999966621399\n",
      "After 2, loss is 4.665599346160889, w is 0.29600000381469727\n",
      "After 3, loss is 1.6796159744262695, w is -0.2224000096321106\n",
      "After 4, loss is 0.604661762714386, w is -0.5334399938583374\n",
      "After 5, loss is 0.2176782339811325, w is -0.7200639843940735\n",
      "After 6, loss is 0.07836417108774185, w is -0.832038402557373\n",
      "After 7, loss is 0.028211098164319992, w is -0.8992230296134949\n",
      "After 8, loss is 0.010155998170375824, w is -0.9395338296890259\n",
      "After 9, loss is 0.00365615775808692, w is -0.9637203216552734\n",
      "After 10, loss is 0.0013162150280550122, w is -0.978232204914093\n",
      "After 11, loss is 0.00047383690252900124, w is -0.9869393110275269\n",
      "After 12, loss is 0.00017058159573934972, w is -0.9921635985374451\n",
      "After 13, loss is 6.140919140307233e-05, w is -0.9952981472015381\n",
      "After 14, loss is 2.2107420591055416e-05, w is -0.9971789121627808\n",
      "After 15, loss is 7.958537025842816e-06, w is -0.9983073472976685\n",
      "After 16, loss is 2.8650731564994203e-06, w is -0.9989843964576721\n",
      "After 17, loss is 1.031450551636226e-06, w is -0.9993906617164612\n",
      "After 18, loss is 3.712931402333197e-07, w is -0.9996343851089478\n",
      "After 19, loss is 1.3367424855914578e-07, w is -0.9997806549072266\n",
      "After 20, loss is 4.8112269723787904e-08, w is -0.9998683929443359\n",
      "After 21, loss is 1.7320417100563645e-08, w is -0.9999210238456726\n",
      "After 22, loss is 6.2372329523441294e-09, w is -0.9999526143074036\n",
      "After 23, loss is 2.2454038628438866e-09, w is -0.9999715685844421\n",
      "After 24, loss is 8.083453906237992e-10, w is -0.9999829530715942\n",
      "After 25, loss is 2.9059776807116577e-10, w is -0.9999897480010986\n",
      "After 26, loss is 1.0510348147363402e-10, w is -0.9999938607215881\n",
      "After 27, loss is 3.7690739418394514e-11, w is -0.9999963045120239\n",
      "After 28, loss is 1.3656631381309126e-11, w is -0.9999977946281433\n",
      "After 29, loss is 4.863665026277886e-12, w is -0.9999986886978149\n",
      "After 30, loss is 1.7195134205394424e-12, w is -0.9999992251396179\n",
      "After 31, loss is 6.004086117172847e-13, w is -0.9999995231628418\n",
      "After 32, loss is 2.2737367544323206e-13, w is -0.9999997019767761\n",
      "After 33, loss is 8.881784197001252e-14, w is -0.9999998211860657\n",
      "After 34, loss is 3.197442310920451e-14, w is -0.9999998807907104\n",
      "After 35, loss is 1.4210854715202004e-14, w is -0.9999999403953552\n",
      "After 36, loss is 3.552713678800501e-15, w is -0.9999999403953552\n",
      "After 37, loss is 3.552713678800501e-15, w is -0.9999999403953552\n",
      "After 38, loss is 3.552713678800501e-15, w is -0.9999999403953552\n",
      "After 39, loss is 3.552713678800501e-15, w is -0.9999999403953552\n"
     ]
    }
   ],
   "source": [
    "for epoch in range(epoch):\n",
    "    with tf.GradientTape() as tape:\n",
    "        loss = tf.square(w + 1)\n",
    "    grads = tape.gradient(loss, w)\n",
    "    w.assign_sub(learning_rate * grads)\n",
    "    print(f'After {epoch}, loss is {loss}, w is {w.numpy()}')"
   ]
  },
  {
   "cell_type": "code",
   "execution_count": 5,
   "metadata": {},
   "outputs": [],
   "source": [
    "LR_DECAY = 0.99\n",
    "LR_STEP = 1"
   ]
  },
  {
   "cell_type": "code",
   "execution_count": 7,
   "metadata": {},
   "outputs": [],
   "source": [
    "for epoch in range(epoch):\n",
    "    lr = learning_rate * LR_DECAY ** (epoch / LR_STEP)\n",
    "    with tf.GradientTape() as tape:\n",
    "        loss = tf.square(w + 1)\n",
    "    grads = tape.gradient(loss, w)\n",
    "    w.assign_sub(lr * grads)\n",
    "    print(f'After {epoch}, loss is {loss}, w is {w.numpy()}, learning rate is {lr}')"
   ]
  },
  {
   "cell_type": "code",
   "execution_count": 8,
   "metadata": {},
   "outputs": [
    {
     "data": {
      "text/plain": [
       "<tf.Tensor: shape=(2, 2), dtype=int32, numpy=\n",
       "array([[9, 9],\n",
       "       [9, 9]], dtype=int32)>"
      ]
     },
     "execution_count": 8,
     "metadata": {},
     "output_type": "execute_result"
    }
   ],
   "source": [
    "tf.fill([2,2], 9)"
   ]
  },
  {
   "cell_type": "code",
   "execution_count": 9,
   "metadata": {},
   "outputs": [
    {
     "data": {
      "text/plain": [
       "<tf.Tensor: shape=(4,), dtype=float32, numpy=array([1., 1., 1., 1.], dtype=float32)>"
      ]
     },
     "execution_count": 9,
     "metadata": {},
     "output_type": "execute_result"
    }
   ],
   "source": [
    "tf.ones(4)"
   ]
  },
  {
   "cell_type": "code",
   "execution_count": 10,
   "metadata": {},
   "outputs": [
    {
     "data": {
      "text/plain": [
       "<tf.Tensor: shape=(2, 2), dtype=float32, numpy=\n",
       "array([[-0.4056591 ,  0.7422994 ],\n",
       "       [ 0.03266469, -1.2213521 ]], dtype=float32)>"
      ]
     },
     "execution_count": 10,
     "metadata": {},
     "output_type": "execute_result"
    }
   ],
   "source": [
    "tf.random.normal([2,2], mean=0, stddev=0.5, seed=1)"
   ]
  },
  {
   "cell_type": "code",
   "execution_count": 11,
   "metadata": {},
   "outputs": [
    {
     "data": {
      "text/plain": [
       "<tf.Tensor: shape=(2, 2), dtype=float32, numpy=\n",
       "array([[-0.4056591 ,  0.7422994 ],\n",
       "       [ 0.03266469,  0.0496242 ]], dtype=float32)>"
      ]
     },
     "execution_count": 11,
     "metadata": {},
     "output_type": "execute_result"
    }
   ],
   "source": [
    "tf.random.truncated_normal([2,2], mean=0, stddev=0.5, seed=1)"
   ]
  },
  {
   "cell_type": "code",
   "execution_count": 12,
   "metadata": {},
   "outputs": [
    {
     "name": "stdout",
     "output_type": "stream",
     "text": [
      "x1: tf.Tensor([1. 2. 3.], shape=(3,), dtype=float64)\n",
      "x2 tf.Tensor([1 2 3], shape=(3,), dtype=int32)\n",
      "minimum of x2： tf.Tensor(1, shape=(), dtype=int32)\n",
      "maxmum of x2: tf.Tensor(3, shape=(), dtype=int32)\n"
     ]
    }
   ],
   "source": [
    "x1 = tf.constant([1., 2., 3.], dtype=tf.float64)\n",
    "print(\"x1:\", x1)\n",
    "x2 = tf.cast(x1, tf.int32)\n",
    "print(\"x2\", x2)\n",
    "print(\"minimum of x2：\", tf.reduce_min(x2))\n",
    "print(\"maxmum of x2:\", tf.reduce_max(x2))"
   ]
  },
  {
   "cell_type": "code",
   "execution_count": 13,
   "metadata": {},
   "outputs": [
    {
     "name": "stdout",
     "output_type": "stream",
     "text": [
      "x: tf.Tensor(\n",
      "[[1 2 3]\n",
      " [2 2 3]], shape=(2, 3), dtype=int32)\n",
      "mean of x: tf.Tensor(2, shape=(), dtype=int32)\n",
      "sum of x: tf.Tensor([6 7], shape=(2,), dtype=int32)\n"
     ]
    }
   ],
   "source": [
    "x = tf.constant([[1, 2, 3], [2, 2, 3]])\n",
    "print(\"x:\", x)\n",
    "print(\"mean of x:\", tf.reduce_mean(x))  # 求x中所有数的均值\n",
    "print(\"sum of x:\", tf.reduce_sum(x, axis=1))  # 求每一行的和"
   ]
  },
  {
   "cell_type": "code",
   "execution_count": 14,
   "metadata": {},
   "outputs": [
    {
     "name": "stdout",
     "output_type": "stream",
     "text": [
      "a: tf.Tensor([[1. 1. 1.]], shape=(1, 3), dtype=float32)\n",
      "b: tf.Tensor([[3. 3. 3.]], shape=(1, 3), dtype=float32)\n",
      "a+b: tf.Tensor([[4. 4. 4.]], shape=(1, 3), dtype=float32)\n",
      "a-b: tf.Tensor([[-2. -2. -2.]], shape=(1, 3), dtype=float32)\n",
      "a*b: tf.Tensor([[3. 3. 3.]], shape=(1, 3), dtype=float32)\n",
      "b/a: tf.Tensor([[3. 3. 3.]], shape=(1, 3), dtype=float32)\n"
     ]
    }
   ],
   "source": [
    "a = tf.ones([1, 3])\n",
    "b = tf.fill([1, 3], 3.)\n",
    "print(\"a:\", a)\n",
    "print(\"b:\", b)\n",
    "print(\"a+b:\", tf.add(a, b))\n",
    "print(\"a-b:\", tf.subtract(a, b))\n",
    "print(\"a*b:\", tf.multiply(a, b))\n",
    "print(\"b/a:\", tf.divide(b, a))"
   ]
  },
  {
   "cell_type": "code",
   "execution_count": 15,
   "metadata": {},
   "outputs": [
    {
     "name": "stdout",
     "output_type": "stream",
     "text": [
      "a: tf.Tensor(\n",
      "[[1. 1.]\n",
      " [1. 1.]\n",
      " [1. 1.]], shape=(3, 2), dtype=float32)\n",
      "b: tf.Tensor(\n",
      "[[3. 3. 3.]\n",
      " [3. 3. 3.]], shape=(2, 3), dtype=float32)\n",
      "a*b: tf.Tensor(\n",
      "[[6. 6. 6.]\n",
      " [6. 6. 6.]\n",
      " [6. 6. 6.]], shape=(3, 3), dtype=float32)\n"
     ]
    }
   ],
   "source": [
    "a = tf.ones([3, 2])\n",
    "b = tf.fill([2, 3], 3.)\n",
    "print(\"a:\", a)\n",
    "print(\"b:\", b)\n",
    "print(\"a*b:\", tf.matmul(a, b))"
   ]
  },
  {
   "cell_type": "code",
   "execution_count": 16,
   "metadata": {},
   "outputs": [
    {
     "data": {
      "text/plain": [
       "<TensorSliceDataset shapes: ((), ()), types: (tf.int32, tf.int32)>"
      ]
     },
     "execution_count": 16,
     "metadata": {},
     "output_type": "execute_result"
    }
   ],
   "source": [
    "feature = tf.constant([12,23,10,17])\n",
    "label = tf.constant([0,1,1,0])\n",
    "ds = tf.data.Dataset.from_tensor_slices((feature, label))\n",
    "ds"
   ]
  },
  {
   "cell_type": "code",
   "execution_count": 17,
   "metadata": {},
   "outputs": [
    {
     "name": "stdout",
     "output_type": "stream",
     "text": [
      "(<tf.Tensor: shape=(), dtype=int32, numpy=12>, <tf.Tensor: shape=(), dtype=int32, numpy=0>)\n",
      "(<tf.Tensor: shape=(), dtype=int32, numpy=23>, <tf.Tensor: shape=(), dtype=int32, numpy=1>)\n",
      "(<tf.Tensor: shape=(), dtype=int32, numpy=10>, <tf.Tensor: shape=(), dtype=int32, numpy=1>)\n",
      "(<tf.Tensor: shape=(), dtype=int32, numpy=17>, <tf.Tensor: shape=(), dtype=int32, numpy=0>)\n"
     ]
    }
   ],
   "source": [
    "for item in ds:\n",
    "    print(item)"
   ]
  },
  {
   "cell_type": "code",
   "execution_count": 18,
   "metadata": {},
   "outputs": [
    {
     "name": "stdout",
     "output_type": "stream",
     "text": [
      "tf.Tensor(27.0, shape=(), dtype=float32)\n"
     ]
    }
   ],
   "source": [
    "with tf.GradientTape() as tape:\n",
    "    x = tf.Variable(tf.constant(3.0))\n",
    "    y = tf.pow(x, 3)\n",
    "grad = tape.gradient(y, x)\n",
    "print(grad)"
   ]
  },
  {
   "cell_type": "code",
   "execution_count": 19,
   "metadata": {},
   "outputs": [
    {
     "name": "stdout",
     "output_type": "stream",
     "text": [
      "0 one\n",
      "1 two\n",
      "2 three\n"
     ]
    }
   ],
   "source": [
    "seq = ['one', 'two', 'three']\n",
    "for i, element in enumerate(seq):\n",
    "    print(i, element)"
   ]
  },
  {
   "cell_type": "code",
   "execution_count": 20,
   "metadata": {},
   "outputs": [
    {
     "name": "stdout",
     "output_type": "stream",
     "text": [
      "result:  tf.Tensor(\n",
      "[[0. 1. 0.]\n",
      " [1. 0. 0.]\n",
      " [0. 0. 1.]], shape=(3, 3), dtype=float32)\n"
     ]
    }
   ],
   "source": [
    "classes = 3\n",
    "labels = tf.constant([1,0,2])\n",
    "output = tf.one_hot(labels, depth=classes)\n",
    "print('result: ', output)\n"
   ]
  },
  {
   "cell_type": "code",
   "execution_count": 21,
   "metadata": {},
   "outputs": [
    {
     "name": "stdout",
     "output_type": "stream",
     "text": [
      "x1.shape: (1, 4)\n",
      "w1.shape: (4, 3)\n",
      "b1.shape: (3,)\n",
      "y.shape: (1, 3)\n",
      "y: tf.Tensor([[ 1.0099998  2.008     -0.6600003]], shape=(1, 3), dtype=float32)\n"
     ]
    }
   ],
   "source": [
    "x1 = tf.constant([[5.8, 4.0, 1.2, 0.2]])  # 5.8,4.0,1.2,0.2（0）\n",
    "w1 = tf.constant([[-0.8, -0.34, -1.4],\n",
    "                  [0.6, 1.3, 0.25],\n",
    "                  [0.5, 1.45, 0.9],\n",
    "                  [0.65, 0.7, -1.2]])\n",
    "b1 = tf.constant([2.52, -3.1, 5.62])\n",
    "y = tf.matmul(x1, w1) + b1\n",
    "print(\"x1.shape:\", x1.shape)\n",
    "print(\"w1.shape:\", w1.shape)\n",
    "print(\"b1.shape:\", b1.shape)\n",
    "print(\"y.shape:\", y.shape)\n",
    "print(\"y:\", y)"
   ]
  },
  {
   "cell_type": "code",
   "execution_count": 22,
   "metadata": {},
   "outputs": [
    {
     "name": "stdout",
     "output_type": "stream",
     "text": [
      "y_dim: tf.Tensor([ 1.0099998  2.008     -0.6600003], shape=(3,), dtype=float32)\n",
      "y_pro: tf.Tensor([0.2563381  0.69540703 0.04825489], shape=(3,), dtype=float32)\n"
     ]
    }
   ],
   "source": [
    "y_dim = tf.squeeze(y)  # 去掉y中纬度1（观察y_dim与 y 效果对比）\n",
    "y_pro = tf.nn.softmax(y_dim)  # 使y_dim符合概率分布，输出为概率值了\n",
    "print(\"y_dim:\", y_dim)\n",
    "print(\"y_pro:\", y_pro)"
   ]
  },
  {
   "cell_type": "code",
   "execution_count": 23,
   "metadata": {},
   "outputs": [
    {
     "name": "stdout",
     "output_type": "stream",
     "text": [
      "After softmax, y_pro is: tf.Tensor([0.25598174 0.69583046 0.04818781], shape=(3,), dtype=float32)\n",
      "The sum of y_pro: tf.Tensor(1.0, shape=(), dtype=float32)\n"
     ]
    }
   ],
   "source": [
    "y = tf.constant([1.01, 2.01, -0.66])\n",
    "y_pro = tf.nn.softmax(y)\n",
    "\n",
    "print(\"After softmax, y_pro is:\", y_pro)  # y_pro 符合概率分布\n",
    "\n",
    "print(\"The sum of y_pro:\", tf.reduce_sum(y_pro))  # 通过softmax后，所有概率加起来和为1"
   ]
  },
  {
   "cell_type": "code",
   "execution_count": 24,
   "metadata": {},
   "outputs": [
    {
     "name": "stdout",
     "output_type": "stream",
     "text": [
      "test:\n",
      " [[1 2 3]\n",
      " [2 3 4]\n",
      " [5 4 3]\n",
      " [8 7 2]]\n",
      "每一列的最大值的索引： tf.Tensor([3 3 1], shape=(3,), dtype=int64)\n",
      "每一行的最大值的索引 tf.Tensor([2 2 0 0], shape=(4,), dtype=int64)\n"
     ]
    }
   ],
   "source": [
    "import numpy as np\n",
    "test = np.array([[1, 2, 3], [2, 3, 4], [5, 4, 3], [8, 7, 2]])\n",
    "print(\"test:\\n\", test)\n",
    "print(\"每一列的最大值的索引：\", tf.argmax(test, axis=0))  # 返回每一列最大值的索引\n",
    "print(\"每一行的最大值的索引\", tf.argmax(test, axis=1))  # 返回每一行最大值的索引"
   ]
  },
  {
   "cell_type": "code",
   "execution_count": 25,
   "metadata": {},
   "outputs": [
    {
     "name": "stdout",
     "output_type": "stream",
     "text": [
      "c： tf.Tensor([1 2 3 4 5], shape=(5,), dtype=int32)\n"
     ]
    }
   ],
   "source": [
    "a = tf.constant([1, 2, 3, 1, 1])\n",
    "b = tf.constant([0, 1, 3, 4, 5])\n",
    "c = tf.where(tf.greater(a, b), a, b)  # 若a>b，返回a对应位置的元素，否则返回b对应位置的元素\n",
    "print(\"c：\", c)"
   ]
  },
  {
   "cell_type": "code",
   "execution_count": 26,
   "metadata": {},
   "outputs": [
    {
     "name": "stdout",
     "output_type": "stream",
     "text": [
      "a: 0.417022004702574\n",
      "b: [[7.20324493e-01 1.14374817e-04 3.02332573e-01]\n",
      " [1.46755891e-01 9.23385948e-02 1.86260211e-01]]\n"
     ]
    }
   ],
   "source": [
    "rdm = np.random.RandomState(seed=1)\n",
    "a = rdm.rand()\n",
    "b = rdm.rand(2, 3)\n",
    "print(\"a:\", a)\n",
    "print(\"b:\", b)"
   ]
  },
  {
   "cell_type": "code",
   "execution_count": 27,
   "metadata": {},
   "outputs": [
    {
     "name": "stdout",
     "output_type": "stream",
     "text": [
      "c:\n",
      " [[1 2 3]\n",
      " [4 5 6]]\n"
     ]
    }
   ],
   "source": [
    "a = np.array([1, 2, 3])\n",
    "b = np.array([4, 5, 6])\n",
    "c = np.vstack((a, b))\n",
    "print(\"c:\\n\", c)"
   ]
  },
  {
   "cell_type": "code",
   "execution_count": 28,
   "metadata": {},
   "outputs": [
    {
     "name": "stdout",
     "output_type": "stream",
     "text": [
      "[1 2 3 4 5 6]\n"
     ]
    }
   ],
   "source": [
    "print(np.hstack((a, b)))"
   ]
  },
  {
   "cell_type": "code",
   "execution_count": 29,
   "metadata": {},
   "outputs": [
    {
     "name": "stdout",
     "output_type": "stream",
     "text": [
      "a: 0.417022004702574\n",
      "b: [[7.20324493e-01 1.14374817e-04 3.02332573e-01]\n",
      " [1.46755891e-01 9.23385948e-02 1.86260211e-01]]\n"
     ]
    }
   ],
   "source": [
    "rdm = np.random.RandomState(seed=1)\n",
    "a = rdm.rand()\n",
    "b = rdm.rand(2, 3)\n",
    "print(\"a:\", a)\n",
    "print(\"b:\", b)"
   ]
  },
  {
   "cell_type": "code",
   "execution_count": 30,
   "metadata": {},
   "outputs": [
    {
     "name": "stdout",
     "output_type": "stream",
     "text": [
      "x:\n",
      " [[1. 1. 1. 1.]\n",
      " [2. 2. 2. 2.]]\n",
      "y:\n",
      " [[2.  2.5 3.  3.5]\n",
      " [2.  2.5 3.  3.5]]\n",
      "x.ravel():\n",
      " [1. 1. 1. 1. 2. 2. 2. 2.]\n",
      "y.ravel():\n",
      " [2.  2.5 3.  3.5 2.  2.5 3.  3.5]\n",
      "grid:\n",
      " [[1.  2. ]\n",
      " [1.  2.5]\n",
      " [1.  3. ]\n",
      " [1.  3.5]\n",
      " [2.  2. ]\n",
      " [2.  2.5]\n",
      " [2.  3. ]\n",
      " [2.  3.5]]\n"
     ]
    }
   ],
   "source": [
    "# 生成等间隔数值点\n",
    "x, y = np.mgrid[1:3:1, 2:4:0.5]\n",
    "# 将x, y拉直，并合并配对为二维张量，生成二维坐标点\n",
    "grid = np.c_[x.ravel(), y.ravel()]\n",
    "print(\"x:\\n\", x)\n",
    "print(\"y:\\n\", y)\n",
    "print(\"x.ravel():\\n\", x.ravel())\n",
    "print(\"y.ravel():\\n\", y.ravel())\n",
    "print('grid:\\n', grid)"
   ]
  },
  {
   "cell_type": "code",
   "execution_count": 33,
   "metadata": {
    "collapsed": true,
    "jupyter": {
     "outputs_hidden": true
    }
   },
   "outputs": [
    {
     "data": {
      "text/plain": [
       "array([[[[2, 2, 2],\n",
       "         [2, 2, 2]],\n",
       "\n",
       "        [[3, 3, 3],\n",
       "         [3, 3, 3]],\n",
       "\n",
       "        [[4, 4, 4],\n",
       "         [4, 4, 4]],\n",
       "\n",
       "        [[5, 5, 5],\n",
       "         [5, 5, 5]],\n",
       "\n",
       "        [[6, 6, 6],\n",
       "         [6, 6, 6]],\n",
       "\n",
       "        [[7, 7, 7],\n",
       "         [7, 7, 7]]],\n",
       "\n",
       "\n",
       "       [[[1, 1, 1],\n",
       "         [3, 3, 3]],\n",
       "\n",
       "        [[1, 1, 1],\n",
       "         [3, 3, 3]],\n",
       "\n",
       "        [[1, 1, 1],\n",
       "         [3, 3, 3]],\n",
       "\n",
       "        [[1, 1, 1],\n",
       "         [3, 3, 3]],\n",
       "\n",
       "        [[1, 1, 1],\n",
       "         [3, 3, 3]],\n",
       "\n",
       "        [[1, 1, 1],\n",
       "         [3, 3, 3]]],\n",
       "\n",
       "\n",
       "       [[[3, 4, 5],\n",
       "         [3, 4, 5]],\n",
       "\n",
       "        [[3, 4, 5],\n",
       "         [3, 4, 5]],\n",
       "\n",
       "        [[3, 4, 5],\n",
       "         [3, 4, 5]],\n",
       "\n",
       "        [[3, 4, 5],\n",
       "         [3, 4, 5]],\n",
       "\n",
       "        [[3, 4, 5],\n",
       "         [3, 4, 5]],\n",
       "\n",
       "        [[3, 4, 5],\n",
       "         [3, 4, 5]]]])"
      ]
     },
     "execution_count": 33,
     "metadata": {},
     "output_type": "execute_result"
    }
   ],
   "source": [
    "np.mgrid[2:8:1, 1:5:2, 3:6:1]"
   ]
  },
  {
   "cell_type": "code",
   "execution_count": 34,
   "metadata": {
    "collapsed": true,
    "jupyter": {
     "outputs_hidden": true
    }
   },
   "outputs": [
    {
     "name": "stdout",
     "output_type": "stream",
     "text": [
      "After 0 training steps,w1 is \n",
      "[[-0.20658986]\n",
      " [ 0.00788221]] \n",
      "\n",
      "After 500 training steps,w1 is \n",
      "[[0.50298166]\n",
      " [0.7459474 ]] \n",
      "\n",
      "After 1000 training steps,w1 is \n",
      "[[0.75841296]\n",
      " [0.979108  ]] \n",
      "\n",
      "After 1500 training steps,w1 is \n",
      "[[0.8581708]\n",
      " [1.0452577]] \n",
      "\n",
      "After 2000 training steps,w1 is \n",
      "[[0.9031108]\n",
      " [1.0574757]] \n",
      "\n",
      "After 2500 training steps,w1 is \n",
      "[[0.92757535]\n",
      " [1.0533679 ]] \n",
      "\n",
      "After 3000 training steps,w1 is \n",
      "[[0.9434762]\n",
      " [1.0452478]] \n",
      "\n",
      "After 3500 training steps,w1 is \n",
      "[[0.95511955]\n",
      " [1.0369942 ]] \n",
      "\n",
      "After 4000 training steps,w1 is \n",
      "[[0.96419907]\n",
      " [1.0296872 ]] \n",
      "\n",
      "After 4500 training steps,w1 is \n",
      "[[0.9714882]\n",
      " [1.023513 ]] \n",
      "\n",
      "After 5000 training steps,w1 is \n",
      "[[0.9774142]\n",
      " [1.0183884]] \n",
      "\n",
      "After 5500 training steps,w1 is \n",
      "[[0.98225707]\n",
      " [1.0141642 ]] \n",
      "\n",
      "After 6000 training steps,w1 is \n",
      "[[0.98622364]\n",
      " [1.0106924 ]] \n",
      "\n",
      "After 6500 training steps,w1 is \n",
      "[[0.9894752]\n",
      " [1.0078425]] \n",
      "\n",
      "After 7000 training steps,w1 is \n",
      "[[0.9921414]\n",
      " [1.0055034]] \n",
      "\n",
      "After 7500 training steps,w1 is \n",
      "[[0.99432844]\n",
      " [1.0035859 ]] \n",
      "\n",
      "After 8000 training steps,w1 is \n",
      "[[0.9961221]\n",
      " [1.0020125]] \n",
      "\n",
      "After 8500 training steps,w1 is \n",
      "[[0.99759316]\n",
      " [1.0007207 ]] \n",
      "\n",
      "After 9000 training steps,w1 is \n",
      "[[0.9987998 ]\n",
      " [0.99966335]] \n",
      "\n",
      "After 9500 training steps,w1 is \n",
      "[[0.99978924]\n",
      " [0.99879414]] \n",
      "\n",
      "After 10000 training steps,w1 is \n",
      "[[1.0006009]\n",
      " [0.9980816]] \n",
      "\n",
      "After 10500 training steps,w1 is \n",
      "[[1.0012652]\n",
      " [0.9974976]] \n",
      "\n",
      "After 11000 training steps,w1 is \n",
      "[[1.0018116]\n",
      " [0.9970181]] \n",
      "\n",
      "After 11500 training steps,w1 is \n",
      "[[1.0022583 ]\n",
      " [0.99662685]] \n",
      "\n",
      "After 12000 training steps,w1 is \n",
      "[[1.002629 ]\n",
      " [0.9963046]] \n",
      "\n",
      "After 12500 training steps,w1 is \n",
      "[[1.0029302]\n",
      " [0.9960414]] \n",
      "\n",
      "After 13000 training steps,w1 is \n",
      "[[1.0031717]\n",
      " [0.9958233]] \n",
      "\n",
      "After 13500 training steps,w1 is \n",
      "[[1.0033687 ]\n",
      " [0.99564815]] \n",
      "\n",
      "After 14000 training steps,w1 is \n",
      "[[1.0035475]\n",
      " [0.9954992]] \n",
      "\n",
      "After 14500 training steps,w1 is \n",
      "[[1.0036676]\n",
      " [0.9953807]] \n",
      "\n",
      "Final w1 is:  [[1.0037866]\n",
      " [0.9952915]]\n"
     ]
    }
   ],
   "source": [
    "SEED = 23455\n",
    "\n",
    "rdm = np.random.RandomState(seed=SEED)  # 生成[0,1)之间的随机数\n",
    "x = rdm.rand(32, 2)\n",
    "y_ = [[x1 + x2 + (rdm.rand() / 10.0 - 0.05)] for (x1, x2) in x]  # 生成噪声[0,1)/10=[0,0.1); [0,0.1)-0.05=[-0.05,0.05)\n",
    "x = tf.cast(x, dtype=tf.float32)\n",
    "\n",
    "w1 = tf.Variable(tf.random.normal([2, 1], stddev=1, seed=1))\n",
    "\n",
    "epoch = 15000\n",
    "lr = 0.002\n",
    "\n",
    "for epoch in range(epoch):\n",
    "    with tf.GradientTape() as tape:\n",
    "        # 前向传播\n",
    "        y = tf.matmul(x, w1)\n",
    "        # 定义损失函数MSE\n",
    "        loss_mse = tf.reduce_mean(tf.square(y_ - y))\n",
    "    # 求损失函数对权重的梯度\n",
    "    grads = tape.gradient(loss_mse, w1)\n",
    "    # 更新权重\n",
    "    w1.assign_sub(lr * grads)\n",
    "\n",
    "    if epoch % 500 == 0:\n",
    "        print(\"After %d training steps,w1 is \" % (epoch))\n",
    "        print(w1.numpy(), \"\\n\")\n",
    "print(\"Final w1 is: \", w1.numpy())"
   ]
  },
  {
   "cell_type": "code",
   "execution_count": 35,
   "metadata": {
    "collapsed": true,
    "jupyter": {
     "outputs_hidden": true
    }
   },
   "outputs": [
    {
     "name": "stdout",
     "output_type": "stream",
     "text": [
      "After 0 training steps,w1 is \n",
      "[[2.3406312]\n",
      " [3.5071864]] \n",
      "\n",
      "After 500 training steps,w1 is \n",
      "[[1.1319451]\n",
      " [1.1269131]] \n",
      "\n",
      "After 1000 training steps,w1 is \n",
      "[[1.1809582]\n",
      " [1.1694897]] \n",
      "\n",
      "After 1500 training steps,w1 is \n",
      "[[1.1505198]\n",
      " [1.0243032]] \n",
      "\n",
      "After 2000 training steps,w1 is \n",
      "[[1.1408995]\n",
      " [1.0555867]] \n",
      "\n",
      "After 2500 training steps,w1 is \n",
      "[[1.1312798]\n",
      " [1.0868708]] \n",
      "\n",
      "After 3000 training steps,w1 is \n",
      "[[1.1216598]\n",
      " [1.1181545]] \n",
      "\n",
      "After 3500 training steps,w1 is \n",
      "[[1.1706731]\n",
      " [1.1607316]] \n",
      "\n",
      "After 4000 training steps,w1 is \n",
      "[[1.1402348]\n",
      " [1.015545 ]] \n",
      "\n",
      "After 4500 training steps,w1 is \n",
      "[[1.1306151]\n",
      " [1.0468291]] \n",
      "\n",
      "After 5000 training steps,w1 is \n",
      "[[1.1209952]\n",
      " [1.078113 ]] \n",
      "\n",
      "After 5500 training steps,w1 is \n",
      "[[1.1113749]\n",
      " [1.1093965]] \n",
      "\n",
      "After 6000 training steps,w1 is \n",
      "[[1.1603881]\n",
      " [1.1519734]] \n",
      "\n",
      "After 6500 training steps,w1 is \n",
      "[[1.1507683]\n",
      " [1.1832573]] \n",
      "\n",
      "After 7000 training steps,w1 is \n",
      "[[1.1203301]\n",
      " [1.0380709]] \n",
      "\n",
      "After 7500 training steps,w1 is \n",
      "[[1.1107103]\n",
      " [1.0693549]] \n",
      "\n",
      "After 8000 training steps,w1 is \n",
      "[[1.1597236]\n",
      " [1.1119319]] \n",
      "\n",
      "After 8500 training steps,w1 is \n",
      "[[1.1501037]\n",
      " [1.1432158]] \n",
      "\n",
      "After 9000 training steps,w1 is \n",
      "[[1.1404836]\n",
      " [1.1744995]] \n",
      "\n",
      "After 9500 training steps,w1 is \n",
      "[[1.168679 ]\n",
      " [1.0406065]] \n",
      "\n",
      "Final w1 is:  [[1.1115032]\n",
      " [1.0833595]]\n"
     ]
    }
   ],
   "source": [
    "SEED = 23455\n",
    "COST = 1\n",
    "PROFIT = 99\n",
    "\n",
    "rdm = np.random.RandomState(SEED)\n",
    "x = rdm.rand(32, 2)\n",
    "y_ = [[x1 + x2 + (rdm.rand() / 10.0 - 0.05)] for (x1, x2) in x]  # 生成噪声[0,1)/10=[0,0.1); [0,0.1)-0.05=[-0.05,0.05)\n",
    "x = tf.cast(x, dtype=tf.float32)\n",
    "\n",
    "w1 = tf.Variable(tf.random.normal([2, 1], stddev=1, seed=1))\n",
    "\n",
    "epoch = 10000\n",
    "lr = 0.002\n",
    "\n",
    "for epoch in range(epoch):\n",
    "    with tf.GradientTape() as tape:\n",
    "        y = tf.matmul(x, w1)\n",
    "        # 自定义损失函数\n",
    "        loss = tf.reduce_sum(tf.where(tf.greater(y, y_), (y - y_) * COST, (y_ - y) * PROFIT))\n",
    "\n",
    "    grads = tape.gradient(loss, w1)\n",
    "    w1.assign_sub(lr * grads)\n",
    "\n",
    "    if epoch % 500 == 0:\n",
    "        print(\"After %d training steps,w1 is \" % (epoch))\n",
    "        print(w1.numpy(), \"\\n\")\n",
    "print(\"Final w1 is: \", w1.numpy())"
   ]
  },
  {
   "cell_type": "code",
   "execution_count": 36,
   "metadata": {},
   "outputs": [
    {
     "name": "stdout",
     "output_type": "stream",
     "text": [
      "loss_ce1: tf.Tensor(0.5108256, shape=(), dtype=float32)\n",
      "loss_ce2: tf.Tensor(0.22314353, shape=(), dtype=float32)\n"
     ]
    }
   ],
   "source": [
    "# 交叉熵损失\n",
    "loss_ce1 = tf.losses.categorical_crossentropy([1, 0], [0.6, 0.4])\n",
    "loss_ce2 = tf.losses.categorical_crossentropy([1, 0], [0.8, 0.2])\n",
    "print(\"loss_ce1:\", loss_ce1)\n",
    "print(\"loss_ce2:\", loss_ce2)"
   ]
  },
  {
   "cell_type": "code",
   "execution_count": 37,
   "metadata": {},
   "outputs": [
    {
     "name": "stdout",
     "output_type": "stream",
     "text": [
      "分步计算的结果:\n",
      " tf.Tensor(\n",
      "[1.68795487e-04 1.03475622e-03 6.58839038e-02 2.58349207e+00\n",
      " 5.49852354e-02], shape=(5,), dtype=float64)\n",
      "结合计算的结果:\n",
      " tf.Tensor(\n",
      "[1.68795487e-04 1.03475622e-03 6.58839038e-02 2.58349207e+00\n",
      " 5.49852354e-02], shape=(5,), dtype=float64)\n"
     ]
    }
   ],
   "source": [
    "y_ = np.array([[1, 0, 0], [0, 1, 0], [0, 0, 1], [1, 0, 0], [0, 1, 0]])\n",
    "y = np.array([[12, 3, 2], [3, 10, 1], [1, 2, 5], [4, 6.5, 1.2], [3, 6, 1]])\n",
    "y_pro = tf.nn.softmax(y)\n",
    "loss_ce1 = tf.losses.categorical_crossentropy(y_,y_pro)\n",
    "loss_ce2 = tf.nn.softmax_cross_entropy_with_logits(y_, y)\n",
    "\n",
    "print('分步计算的结果:\\n', loss_ce1)\n",
    "print('结合计算的结果:\\n', loss_ce2)"
   ]
  },
  {
   "cell_type": "code",
   "execution_count": null,
   "metadata": {},
   "outputs": [],
   "source": []
  }
 ],
 "metadata": {
  "kernelspec": {
   "display_name": "Python 3",
   "language": "python",
   "name": "python3"
  },
  "language_info": {
   "codemirror_mode": {
    "name": "ipython",
    "version": 3
   },
   "file_extension": ".py",
   "mimetype": "text/x-python",
   "name": "python",
   "nbconvert_exporter": "python",
   "pygments_lexer": "ipython3",
   "version": "3.7.7"
  }
 },
 "nbformat": 4,
 "nbformat_minor": 4
}
