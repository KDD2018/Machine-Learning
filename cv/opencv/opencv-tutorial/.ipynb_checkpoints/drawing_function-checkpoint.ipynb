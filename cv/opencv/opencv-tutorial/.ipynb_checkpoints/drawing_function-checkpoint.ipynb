{
 "cells": [
  {
   "cell_type": "code",
   "execution_count": 1,
   "metadata": {},
   "outputs": [],
   "source": [
    "import numpy as np\n",
    "import cv2 as cv"
   ]
  },
  {
   "cell_type": "markdown",
   "metadata": {},
   "source": [
    "## Drawing Line"
   ]
  },
  {
   "cell_type": "code",
   "execution_count": 2,
   "metadata": {},
   "outputs": [],
   "source": [
    "def cv_show(img):\n",
    "    cv.imshow('IMG', img)\n",
    "    cv.waitKey(0)\n",
    "    cv.destroyAllWindows()"
   ]
  },
  {
   "cell_type": "code",
   "execution_count": 3,
   "metadata": {
    "tags": []
   },
   "outputs": [],
   "source": [
    "img = np.zeros((512, 512, 3), np.uint8)\n",
    "cv_show(img)"
   ]
  },
  {
   "cell_type": "code",
   "execution_count": 4,
   "metadata": {},
   "outputs": [],
   "source": [
    "cv.line(img, (0, 0), (511, 511), (255, 0, 0), 5)\n",
    "cv_show(img)"
   ]
  },
  {
   "cell_type": "markdown",
   "metadata": {},
   "source": [
    "## Drawing Rectangle"
   ]
  },
  {
   "cell_type": "code",
   "execution_count": 5,
   "metadata": {
    "collapsed": true,
    "jupyter": {
     "outputs_hidden": true
    },
    "tags": []
   },
   "outputs": [
    {
     "data": {
      "text/plain": [
       "array([[[255,   0,   0],\n",
       "        [255,   0,   0],\n",
       "        [255,   0,   0],\n",
       "        ...,\n",
       "        [  0, 255,   0],\n",
       "        [  0, 255,   0],\n",
       "        [  0, 255,   0]],\n",
       "\n",
       "       [[255,   0,   0],\n",
       "        [255,   0,   0],\n",
       "        [255,   0,   0],\n",
       "        ...,\n",
       "        [  0, 255,   0],\n",
       "        [  0, 255,   0],\n",
       "        [  0, 255,   0]],\n",
       "\n",
       "       [[255,   0,   0],\n",
       "        [255,   0,   0],\n",
       "        [255,   0,   0],\n",
       "        ...,\n",
       "        [  0, 255,   0],\n",
       "        [  0, 255,   0],\n",
       "        [  0, 255,   0]],\n",
       "\n",
       "       ...,\n",
       "\n",
       "       [[  0,   0,   0],\n",
       "        [  0,   0,   0],\n",
       "        [  0,   0,   0],\n",
       "        ...,\n",
       "        [255,   0,   0],\n",
       "        [255,   0,   0],\n",
       "        [255,   0,   0]],\n",
       "\n",
       "       [[  0,   0,   0],\n",
       "        [  0,   0,   0],\n",
       "        [  0,   0,   0],\n",
       "        ...,\n",
       "        [255,   0,   0],\n",
       "        [255,   0,   0],\n",
       "        [255,   0,   0]],\n",
       "\n",
       "       [[  0,   0,   0],\n",
       "        [  0,   0,   0],\n",
       "        [  0,   0,   0],\n",
       "        ...,\n",
       "        [255,   0,   0],\n",
       "        [255,   0,   0],\n",
       "        [255,   0,   0]]], dtype=uint8)"
      ]
     },
     "execution_count": 5,
     "metadata": {},
     "output_type": "execute_result"
    }
   ],
   "source": [
    "cv.rectangle(img, (384,0), (510, 128), (0, 255, 0), 3)"
   ]
  },
  {
   "cell_type": "code",
   "execution_count": 6,
   "metadata": {},
   "outputs": [],
   "source": [
    "cv_show(img)"
   ]
  },
  {
   "cell_type": "markdown",
   "metadata": {},
   "source": [
    "## Drawing Circle"
   ]
  },
  {
   "cell_type": "code",
   "execution_count": 7,
   "metadata": {
    "tags": []
   },
   "outputs": [],
   "source": [
    "cv.circle(img, (447, 63), 63, (0, 0, 255), -1)\n",
    "cv_show(img)"
   ]
  },
  {
   "cell_type": "markdown",
   "metadata": {},
   "source": [
    "## Drawing Ellipse\n",
    "\n",
    "-   @param center Center of the ellipse.椭圆中心\n",
    "-   @param axes Half of the size of the ellipse main axes.长短轴长的一半\n",
    "-   @param angle Ellipse rotation angle in degrees.旋转角度\n",
    "-   @param startAngle Starting angle of the elliptic arc in degrees.起始位置角度\n",
    "-   @param endAngle Ending angle of the elliptic arc in degrees.终止位置角度\n",
    "-   @param color Ellipse color.颜色\n",
    "-   @param thickness Thickness of the ellipse arc outline, if positive.椭圆轮廓曲线厚度 "
   ]
  },
  {
   "cell_type": "code",
   "execution_count": 16,
   "metadata": {
    "tags": []
   },
   "outputs": [],
   "source": [
    "cv.ellipse(img, (256, 256), (100, 50), 45, 0, 360, (0,0,255), -1)\n",
    "cv_show(img)"
   ]
  },
  {
   "cell_type": "markdown",
   "metadata": {},
   "source": [
    "## Drawing Polygon\n",
    "-   @param img Image.\n",
    "-   @param pts Array of polygonal curves.多边形坐标向量\n",
    "-   @param isClosed Flag indicating whether the drawn polylines are closed or not. If they are closed, the function draws a line from the last vertex of each curve to its first vertex.是否闭环\n",
    "-   @param color Polyline color.颜色\n",
    "-   @param thickness Thickness of the polyline edges.边的厚度\n",
    "-   @param lineType Type of the line segments. See #LineTypes\n",
    "-   @param shift Number of fractional bits in the vertex coordinates."
   ]
  },
  {
   "cell_type": "code",
   "execution_count": 17,
   "metadata": {
    "tags": []
   },
   "outputs": [
    {
     "data": {
      "text/plain": [
       "array([[[10,  5]],\n",
       "\n",
       "       [[20, 30]],\n",
       "\n",
       "       [[70, 20]],\n",
       "\n",
       "       [[50, 10]]], dtype=int32)"
      ]
     },
     "execution_count": 17,
     "metadata": {},
     "output_type": "execute_result"
    }
   ],
   "source": [
    "pts = np.array([[10,5],[20,30], [70,20], [50, 10]], np.int32)\n",
    "pts = pts.reshape((-1, 1, 2))\n",
    "pts"
   ]
  },
  {
   "cell_type": "code",
   "execution_count": 22,
   "metadata": {},
   "outputs": [],
   "source": [
    "cv.polylines(img, [pts], False, (255, 255, 0))\n",
    "cv_show(img)"
   ]
  },
  {
   "cell_type": "markdown",
   "metadata": {},
   "source": [
    "## Adding Text to Images\n",
    "\n",
    "-   @param img Image.\n",
    "-   @param text Text string to be drawn.\n",
    "-   @param org Bottom-left corner of the text string in the image.文本左下角的位置\n",
    "-   @param fontFace Font type, see #HersheyFonts.\n",
    "-   @param fontScale Font scale factor that is multiplied by the font-specific base size.\n",
    "-   @param color Text color.\n",
    "-   @param thickness Thickness of the lines used to draw a text.\n",
    "-   @param lineType Line type. See #LineTypes\n",
    "-   @param bottomLeftOrigin When true, the image data origin is at the bottom-left corner. Otherwise, it is at the top-left corner."
   ]
  },
  {
   "cell_type": "code",
   "execution_count": 24,
   "metadata": {
    "tags": []
   },
   "outputs": [],
   "source": [
    "font = cv.FONT_HERSHEY_SIMPLEX\n",
    "cv.putText(img, 'OpenCV', (10, 500), font, 4, (255, 255, 255), 2, cv.LINE_AA)\n",
    "cv_show(img)"
   ]
  },
  {
   "cell_type": "markdown",
   "metadata": {},
   "source": [
    "## Exercise——opencv-logo"
   ]
  },
  {
   "cell_type": "code",
   "execution_count": 25,
   "metadata": {},
   "outputs": [
    {
     "data": {
      "text/plain": [
       "(794, 600, 3)"
      ]
     },
     "execution_count": 25,
     "metadata": {},
     "output_type": "execute_result"
    }
   ],
   "source": [
    "logo = cv.imread('../images/logo.png')\n",
    "logo.shape"
   ]
  },
  {
   "cell_type": "code",
   "execution_count": 28,
   "metadata": {},
   "outputs": [],
   "source": [
    "cv_show(logo)"
   ]
  },
  {
   "cell_type": "code",
   "execution_count": 27,
   "metadata": {},
   "outputs": [],
   "source": [
    "img = np.zeros((794, 600, 3), np.uint8)\n",
    "# 上外圆\n",
    "img = cv.circle(img, (300, 142), 142, (0, 0, 255), -1)\n",
    "# 上内圆\n",
    "img = cv.circle(img, (300, 142), 60, (0, 0, 0), -1)\n",
    "# 圆弧扇形\n",
    "img = cv.ellipse(img, (300, 142), (142, 142), 0, 60, 120, 0, -1)\n",
    "\n",
    "# 左外圆\n",
    "img = cv.circle(img, (142, 416), 142, (0, 255, 0), -1)\n",
    "# 左内圆\n",
    "img = cv.circle(img, (142, 416), 60, (0, 0, 0), -1)\n",
    "# 圆弧扇形\n",
    "img = cv.ellipse(img, (142, 416), (142, 142), 0, 300, 360, 0, -1)\n",
    "\n",
    "# 右外圆\n",
    "img = cv.circle(img, (458, 416), 142, (255, 0, 0), -1)\n",
    "# 右内圆\n",
    "img = cv.circle(img, (458, 416), 60, (0, 0, 0), -1)\n",
    "# 圆弧扇形\n",
    "img = cv.ellipse(img, (458, 416), (142, 142), 0, 240, 300, 0, -1)\n",
    "\n",
    "# 添加opencv字样\n",
    "font = cv.FONT_HERSHEY_SCRIPT_COMPLEX\n",
    "cv.putText(img, 'OpenCV', (20,720), font, 5,(255,255,255), 15, cv.LINE_AA)\n",
    "cv_show(img)\n",
    "# cv.imwrite('opencv.png', img)"
   ]
  },
  {
   "cell_type": "code",
   "execution_count": null,
   "metadata": {},
   "outputs": [],
   "source": []
  }
 ],
 "metadata": {
  "kernelspec": {
   "display_name": "Python 3",
   "language": "python",
   "name": "python3"
  },
  "language_info": {
   "codemirror_mode": {
    "name": "ipython",
    "version": 3
   },
   "file_extension": ".py",
   "mimetype": "text/x-python",
   "name": "python",
   "nbconvert_exporter": "python",
   "pygments_lexer": "ipython3",
   "version": "3.8.10"
  }
 },
 "nbformat": 4,
 "nbformat_minor": 4
}
