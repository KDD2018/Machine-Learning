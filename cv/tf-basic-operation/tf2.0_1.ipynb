{
 "cells": [
  {
   "cell_type": "code",
   "execution_count": null,
   "metadata": {},
   "outputs": [],
   "source": [
    "import tensorflow as tf"
   ]
  },
  {
   "cell_type": "code",
   "execution_count": 2,
   "metadata": {},
   "outputs": [
    {
     "data": {
      "text/plain": [
       "'2.0.0'"
      ]
     },
     "execution_count": 2,
     "metadata": {},
     "output_type": "execute_result"
    }
   ],
   "source": [
    "tf.__version__"
   ]
  },
  {
   "cell_type": "code",
   "execution_count": 3,
   "metadata": {},
   "outputs": [],
   "source": [
    "p = tf.random.normal([4,28,28,3])"
   ]
  },
  {
   "cell_type": "code",
   "execution_count": 4,
   "metadata": {},
   "outputs": [
    {
     "data": {
      "text/plain": [
       "4"
      ]
     },
     "execution_count": 4,
     "metadata": {},
     "output_type": "execute_result"
    }
   ],
   "source": [
    "p.ndim"
   ]
  },
  {
   "cell_type": "code",
   "execution_count": 5,
   "metadata": {},
   "outputs": [
    {
     "data": {
      "text/plain": [
       "TensorShape([4, 28, 28, 3])"
      ]
     },
     "execution_count": 5,
     "metadata": {},
     "output_type": "execute_result"
    }
   ],
   "source": [
    "p.shape"
   ]
  },
  {
   "cell_type": "code",
   "execution_count": 6,
   "metadata": {},
   "outputs": [
    {
     "data": {
      "text/plain": [
       "(TensorShape([4, 28, 28, 3]), 4)"
      ]
     },
     "execution_count": 6,
     "metadata": {},
     "output_type": "execute_result"
    }
   ],
   "source": [
    "p.shape, p.ndim"
   ]
  },
  {
   "cell_type": "code",
   "execution_count": 7,
   "metadata": {},
   "outputs": [
    {
     "data": {
      "text/plain": [
       "tf.float32"
      ]
     },
     "execution_count": 7,
     "metadata": {},
     "output_type": "execute_result"
    }
   ],
   "source": [
    "p.dtype"
   ]
  },
  {
   "cell_type": "code",
   "execution_count": 8,
   "metadata": {},
   "outputs": [
    {
     "data": {
      "text/plain": [
       "TensorShape([4, 784, 3])"
      ]
     },
     "execution_count": 8,
     "metadata": {},
     "output_type": "execute_result"
    }
   ],
   "source": [
    "tf.reshape(p, [4,784,3]).shape"
   ]
  },
  {
   "cell_type": "markdown",
   "metadata": {},
   "source": [
    "# reshape操作"
   ]
  },
  {
   "cell_type": "code",
   "execution_count": 9,
   "metadata": {},
   "outputs": [
    {
     "data": {
      "text/plain": [
       "TensorShape([4, 784, 3])"
      ]
     },
     "execution_count": 9,
     "metadata": {},
     "output_type": "execute_result"
    }
   ],
   "source": [
    "tf.reshape(p, [4,-1,3]).shape"
   ]
  },
  {
   "cell_type": "code",
   "execution_count": 10,
   "metadata": {},
   "outputs": [
    {
     "data": {
      "text/plain": [
       "TensorShape([4, 2352])"
      ]
     },
     "execution_count": 10,
     "metadata": {},
     "output_type": "execute_result"
    }
   ],
   "source": [
    "tf.reshape(p, [4,-1]).shape"
   ]
  },
  {
   "cell_type": "markdown",
   "metadata": {},
   "source": [
    "# transpose操作"
   ]
  },
  {
   "cell_type": "code",
   "execution_count": 11,
   "metadata": {},
   "outputs": [
    {
     "data": {
      "text/plain": [
       "TensorShape([3, 28, 28, 4])"
      ]
     },
     "execution_count": 11,
     "metadata": {},
     "output_type": "execute_result"
    }
   ],
   "source": [
    "tf.transpose(p).shape"
   ]
  },
  {
   "cell_type": "code",
   "execution_count": 12,
   "metadata": {},
   "outputs": [
    {
     "data": {
      "text/plain": [
       "TensorShape([4, 28, 28, 3])"
      ]
     },
     "execution_count": 12,
     "metadata": {},
     "output_type": "execute_result"
    }
   ],
   "source": [
    "p.shape"
   ]
  },
  {
   "cell_type": "code",
   "execution_count": 13,
   "metadata": {
    "scrolled": false
   },
   "outputs": [
    {
     "data": {
      "text/plain": [
       "TensorShape([3, 28, 28, 4])"
      ]
     },
     "execution_count": 13,
     "metadata": {},
     "output_type": "execute_result"
    }
   ],
   "source": [
    "tf.transpose(p, perm=[3,1,2,0]).shape"
   ]
  },
  {
   "cell_type": "code",
   "execution_count": 14,
   "metadata": {},
   "outputs": [],
   "source": [
    "a = tf.zeros([1,2,1,3])"
   ]
  },
  {
   "cell_type": "code",
   "execution_count": 17,
   "metadata": {},
   "outputs": [
    {
     "data": {
      "text/plain": [
       "TensorShape([1, 2, 1, 3])"
      ]
     },
     "execution_count": 17,
     "metadata": {},
     "output_type": "execute_result"
    }
   ],
   "source": [
    "a.shape"
   ]
  },
  {
   "cell_type": "markdown",
   "metadata": {},
   "source": [
    "# squeeze操作"
   ]
  },
  {
   "cell_type": "code",
   "execution_count": 16,
   "metadata": {},
   "outputs": [
    {
     "data": {
      "text/plain": [
       "TensorShape([2, 3])"
      ]
     },
     "execution_count": 16,
     "metadata": {},
     "output_type": "execute_result"
    }
   ],
   "source": [
    "tf.squeeze(a).shape"
   ]
  },
  {
   "cell_type": "code",
   "execution_count": 18,
   "metadata": {},
   "outputs": [
    {
     "data": {
      "text/plain": [
       "TensorShape([1, 2, 3])"
      ]
     },
     "execution_count": 18,
     "metadata": {},
     "output_type": "execute_result"
    }
   ],
   "source": [
    "tf.squeeze(a, axis=2).shape"
   ]
  },
  {
   "cell_type": "markdown",
   "metadata": {},
   "source": [
    "# expand_dims操作"
   ]
  },
  {
   "cell_type": "code",
   "execution_count": 19,
   "metadata": {},
   "outputs": [],
   "source": [
    "s = tf.random.normal([4,35,8])"
   ]
  },
  {
   "cell_type": "code",
   "execution_count": 20,
   "metadata": {},
   "outputs": [
    {
     "data": {
      "text/plain": [
       "(TensorShape([4, 35, 8]), TensorShape([1, 4, 35, 8]))"
      ]
     },
     "execution_count": 20,
     "metadata": {},
     "output_type": "execute_result"
    }
   ],
   "source": [
    "s.shape, tf.expand_dims(s, axis=0).shape"
   ]
  },
  {
   "cell_type": "markdown",
   "metadata": {},
   "source": [
    "# Broadcasting操作"
   ]
  },
  {
   "cell_type": "code",
   "execution_count": 21,
   "metadata": {},
   "outputs": [],
   "source": [
    "b = tf.random.normal([4,16,16,32])"
   ]
  },
  {
   "cell_type": "code",
   "execution_count": 22,
   "metadata": {},
   "outputs": [
    {
     "data": {
      "text/plain": [
       "TensorShape([4, 16, 16, 32])"
      ]
     },
     "execution_count": 22,
     "metadata": {},
     "output_type": "execute_result"
    }
   ],
   "source": [
    "b.shape"
   ]
  },
  {
   "cell_type": "code",
   "execution_count": 23,
   "metadata": {},
   "outputs": [
    {
     "data": {
      "text/plain": [
       "TensorShape([32])"
      ]
     },
     "execution_count": 23,
     "metadata": {},
     "output_type": "execute_result"
    }
   ],
   "source": [
    "tf.random.normal([32]).shape"
   ]
  },
  {
   "cell_type": "code",
   "execution_count": 24,
   "metadata": {},
   "outputs": [],
   "source": [
    "c = b + tf.random.normal([32])  # 不用显式调用"
   ]
  },
  {
   "cell_type": "code",
   "execution_count": 25,
   "metadata": {},
   "outputs": [
    {
     "data": {
      "text/plain": [
       "(TensorShape([4, 16, 16, 32]), TensorShape([4, 16, 16, 32]))"
      ]
     },
     "execution_count": 25,
     "metadata": {},
     "output_type": "execute_result"
    }
   ],
   "source": [
    "b.shape, c.shape"
   ]
  },
  {
   "cell_type": "markdown",
   "metadata": {},
   "source": [
    "# 数学运算"
   ]
  },
  {
   "cell_type": "code",
   "execution_count": 26,
   "metadata": {},
   "outputs": [],
   "source": [
    "x = tf.fill([2,2], 6)"
   ]
  },
  {
   "cell_type": "code",
   "execution_count": 27,
   "metadata": {},
   "outputs": [
    {
     "data": {
      "text/plain": [
       "<tf.Tensor: id=50, shape=(2, 2), dtype=int32, numpy=\n",
       "array([[6, 6],\n",
       "       [6, 6]], dtype=int32)>"
      ]
     },
     "execution_count": 27,
     "metadata": {},
     "output_type": "execute_result"
    }
   ],
   "source": [
    "x"
   ]
  },
  {
   "cell_type": "code",
   "execution_count": 28,
   "metadata": {},
   "outputs": [],
   "source": [
    "y = tf.fill([2,2], 7)"
   ]
  },
  {
   "cell_type": "code",
   "execution_count": 29,
   "metadata": {},
   "outputs": [
    {
     "data": {
      "text/plain": [
       "<tf.Tensor: id=53, shape=(2, 2), dtype=int32, numpy=\n",
       "array([[7, 7],\n",
       "       [7, 7]], dtype=int32)>"
      ]
     },
     "execution_count": 29,
     "metadata": {},
     "output_type": "execute_result"
    }
   ],
   "source": [
    "y"
   ]
  },
  {
   "cell_type": "code",
   "execution_count": 48,
   "metadata": {},
   "outputs": [
    {
     "data": {
      "text/plain": [
       "array([[13, 13],\n",
       "       [13, 13]], dtype=int32)"
      ]
     },
     "execution_count": 48,
     "metadata": {},
     "output_type": "execute_result"
    }
   ],
   "source": [
    "(x + y).numpy() # 加"
   ]
  },
  {
   "cell_type": "code",
   "execution_count": 31,
   "metadata": {},
   "outputs": [
    {
     "data": {
      "text/plain": [
       "<tf.Tensor: id=55, shape=(2, 2), dtype=int32, numpy=\n",
       "array([[-1, -1],\n",
       "       [-1, -1]], dtype=int32)>"
      ]
     },
     "execution_count": 31,
     "metadata": {},
     "output_type": "execute_result"
    }
   ],
   "source": [
    "x - y # 减"
   ]
  },
  {
   "cell_type": "code",
   "execution_count": 32,
   "metadata": {},
   "outputs": [
    {
     "data": {
      "text/plain": [
       "<tf.Tensor: id=56, shape=(2, 2), dtype=int32, numpy=\n",
       "array([[42, 42],\n",
       "       [42, 42]], dtype=int32)>"
      ]
     },
     "execution_count": 32,
     "metadata": {},
     "output_type": "execute_result"
    }
   ],
   "source": [
    "x * y # 乘"
   ]
  },
  {
   "cell_type": "code",
   "execution_count": 33,
   "metadata": {},
   "outputs": [
    {
     "data": {
      "text/plain": [
       "<tf.Tensor: id=59, shape=(2, 2), dtype=float64, numpy=\n",
       "array([[0.85714286, 0.85714286],\n",
       "       [0.85714286, 0.85714286]])>"
      ]
     },
     "execution_count": 33,
     "metadata": {},
     "output_type": "execute_result"
    }
   ],
   "source": [
    "x / y # 除"
   ]
  },
  {
   "cell_type": "code",
   "execution_count": 34,
   "metadata": {},
   "outputs": [
    {
     "data": {
      "text/plain": [
       "<tf.Tensor: id=60, shape=(2, 2), dtype=int32, numpy=\n",
       "array([[0, 0],\n",
       "       [0, 0]], dtype=int32)>"
      ]
     },
     "execution_count": 34,
     "metadata": {},
     "output_type": "execute_result"
    }
   ],
   "source": [
    "x // y  # 整除  求商"
   ]
  },
  {
   "cell_type": "code",
   "execution_count": 35,
   "metadata": {},
   "outputs": [
    {
     "data": {
      "text/plain": [
       "<tf.Tensor: id=61, shape=(2, 2), dtype=int32, numpy=\n",
       "array([[1, 1],\n",
       "       [1, 1]], dtype=int32)>"
      ]
     },
     "execution_count": 35,
     "metadata": {},
     "output_type": "execute_result"
    }
   ],
   "source": [
    "y // x"
   ]
  },
  {
   "cell_type": "code",
   "execution_count": 36,
   "metadata": {},
   "outputs": [
    {
     "data": {
      "text/plain": [
       "<tf.Tensor: id=62, shape=(2, 2), dtype=int32, numpy=\n",
       "array([[6, 6],\n",
       "       [6, 6]], dtype=int32)>"
      ]
     },
     "execution_count": 36,
     "metadata": {},
     "output_type": "execute_result"
    }
   ],
   "source": [
    "x % y # 取余"
   ]
  },
  {
   "cell_type": "code",
   "execution_count": 37,
   "metadata": {},
   "outputs": [
    {
     "data": {
      "text/plain": [
       "<tf.Tensor: id=63, shape=(2, 2), dtype=int32, numpy=\n",
       "array([[1, 1],\n",
       "       [1, 1]], dtype=int32)>"
      ]
     },
     "execution_count": 37,
     "metadata": {},
     "output_type": "execute_result"
    }
   ],
   "source": [
    "y % x"
   ]
  },
  {
   "cell_type": "code",
   "execution_count": 38,
   "metadata": {},
   "outputs": [
    {
     "data": {
      "text/plain": [
       "<tf.Tensor: id=65, shape=(2, 2), dtype=int32, numpy=\n",
       "array([[216, 216],\n",
       "       [216, 216]], dtype=int32)>"
      ]
     },
     "execution_count": 38,
     "metadata": {},
     "output_type": "execute_result"
    }
   ],
   "source": [
    "tf.pow(x, 3) # 幂方"
   ]
  },
  {
   "cell_type": "code",
   "execution_count": 39,
   "metadata": {},
   "outputs": [
    {
     "data": {
      "text/plain": [
       "<tf.Tensor: id=67, shape=(2, 2), dtype=int32, numpy=\n",
       "array([[216, 216],\n",
       "       [216, 216]], dtype=int32)>"
      ]
     },
     "execution_count": 39,
     "metadata": {},
     "output_type": "execute_result"
    }
   ],
   "source": [
    "x ** 3 # 幂方"
   ]
  },
  {
   "cell_type": "code",
   "execution_count": 40,
   "metadata": {
    "scrolled": true
   },
   "outputs": [
    {
     "data": {
      "text/plain": [
       "<tf.Tensor: id=69, shape=(2, 2), dtype=float32, numpy=\n",
       "array([[2.4494898, 2.4494898],\n",
       "       [2.4494898, 2.4494898]], dtype=float32)>"
      ]
     },
     "execution_count": 40,
     "metadata": {},
     "output_type": "execute_result"
    }
   ],
   "source": [
    "tf.sqrt(tf.cast(x, dtype=tf.float32)) # 开方  浮点型"
   ]
  },
  {
   "cell_type": "code",
   "execution_count": 41,
   "metadata": {},
   "outputs": [],
   "source": [
    "e = tf.ones([2,2], dtype=tf.float32)"
   ]
  },
  {
   "cell_type": "code",
   "execution_count": 42,
   "metadata": {},
   "outputs": [
    {
     "data": {
      "text/plain": [
       "<tf.Tensor: id=72, shape=(2, 2), dtype=float32, numpy=\n",
       "array([[1., 1.],\n",
       "       [1., 1.]], dtype=float32)>"
      ]
     },
     "execution_count": 42,
     "metadata": {},
     "output_type": "execute_result"
    }
   ],
   "source": [
    "e"
   ]
  },
  {
   "cell_type": "code",
   "execution_count": 43,
   "metadata": {},
   "outputs": [
    {
     "data": {
      "text/plain": [
       "<tf.Tensor: id=73, shape=(2, 2), dtype=float32, numpy=\n",
       "array([[0., 0.],\n",
       "       [0., 0.]], dtype=float32)>"
      ]
     },
     "execution_count": 43,
     "metadata": {},
     "output_type": "execute_result"
    }
   ],
   "source": [
    "tf.math.log(e)  # 对数"
   ]
  },
  {
   "cell_type": "code",
   "execution_count": 44,
   "metadata": {
    "scrolled": true
   },
   "outputs": [
    {
     "data": {
      "text/plain": [
       "<tf.Tensor: id=78, shape=(), dtype=float32, numpy=3.0>"
      ]
     },
     "execution_count": 44,
     "metadata": {},
     "output_type": "execute_result"
    }
   ],
   "source": [
    "tf.math.log(8.) / tf.math.log(2.)  # 以2为底8的对数"
   ]
  },
  {
   "cell_type": "code",
   "execution_count": 45,
   "metadata": {},
   "outputs": [
    {
     "data": {
      "text/plain": [
       "<tf.Tensor: id=79, shape=(2, 2), dtype=float32, numpy=\n",
       "array([[2.7182817, 2.7182817],\n",
       "       [2.7182817, 2.7182817]], dtype=float32)>"
      ]
     },
     "execution_count": 45,
     "metadata": {},
     "output_type": "execute_result"
    }
   ],
   "source": [
    "tf.exp(e)"
   ]
  },
  {
   "cell_type": "code",
   "execution_count": 46,
   "metadata": {},
   "outputs": [
    {
     "data": {
      "text/plain": [
       "<tf.Tensor: id=80, shape=(2, 2), dtype=int32, numpy=\n",
       "array([[84, 84],\n",
       "       [84, 84]], dtype=int32)>"
      ]
     },
     "execution_count": 46,
     "metadata": {},
     "output_type": "execute_result"
    }
   ],
   "source": [
    "x @ y # 矩阵相乘"
   ]
  },
  {
   "cell_type": "code",
   "execution_count": 47,
   "metadata": {},
   "outputs": [
    {
     "data": {
      "text/plain": [
       "<tf.Tensor: id=81, shape=(2, 2), dtype=int32, numpy=\n",
       "array([[84, 84],\n",
       "       [84, 84]], dtype=int32)>"
      ]
     },
     "execution_count": 47,
     "metadata": {},
     "output_type": "execute_result"
    }
   ],
   "source": [
    "tf.matmul(x, y)  # 矩阵相乘"
   ]
  },
  {
   "cell_type": "markdown",
   "metadata": {},
   "source": [
    "# Tensor合并与分割"
   ]
  },
  {
   "cell_type": "code",
   "execution_count": 49,
   "metadata": {},
   "outputs": [],
   "source": [
    "a = tf.ones([4,32,8])"
   ]
  },
  {
   "cell_type": "code",
   "execution_count": 50,
   "metadata": {},
   "outputs": [],
   "source": [
    "b = tf.ones([4,3,8])"
   ]
  },
  {
   "cell_type": "code",
   "execution_count": 53,
   "metadata": {},
   "outputs": [
    {
     "data": {
      "text/plain": [
       "(TensorShape([4, 32, 8]), TensorShape([4, 3, 8]), TensorShape([4, 35, 8]))"
      ]
     },
     "execution_count": 53,
     "metadata": {},
     "output_type": "execute_result"
    }
   ],
   "source": [
    "a.shape, b.shape, tf.concat([a,b], axis=1).shape # 合并"
   ]
  },
  {
   "cell_type": "code",
   "execution_count": 52,
   "metadata": {
    "scrolled": true
   },
   "outputs": [
    {
     "ename": "InvalidArgumentError",
     "evalue": "ConcatOp : Dimensions of inputs should match: shape[0] = [4,32,8] vs. shape[1] = [4,3,8] [Op:ConcatV2] name: concat",
     "output_type": "error",
     "traceback": [
      "\u001b[0;31m---------------------------------------------------------------------------\u001b[0m",
      "\u001b[0;31mInvalidArgumentError\u001b[0m                      Traceback (most recent call last)",
      "\u001b[0;32m<ipython-input-52-559ab1a7b6d6>\u001b[0m in \u001b[0;36m<module>\u001b[0;34m\u001b[0m\n\u001b[0;32m----> 1\u001b[0;31m \u001b[0mtf\u001b[0m\u001b[0;34m.\u001b[0m\u001b[0mconcat\u001b[0m\u001b[0;34m(\u001b[0m\u001b[0;34m[\u001b[0m\u001b[0ma\u001b[0m\u001b[0;34m,\u001b[0m\u001b[0mb\u001b[0m\u001b[0;34m]\u001b[0m\u001b[0;34m,\u001b[0m \u001b[0maxis\u001b[0m\u001b[0;34m=\u001b[0m\u001b[0;36m0\u001b[0m\u001b[0;34m)\u001b[0m\u001b[0;34m.\u001b[0m\u001b[0mshape\u001b[0m  \u001b[0;31m# 拼接的那个维度可以不相等，其他维度的size以定要相等\u001b[0m\u001b[0;34m\u001b[0m\u001b[0;34m\u001b[0m\u001b[0m\n\u001b[0m",
      "\u001b[0;32m~/Env/TF2.0/lib/python3.6/site-packages/tensorflow_core/python/util/dispatch.py\u001b[0m in \u001b[0;36mwrapper\u001b[0;34m(*args, **kwargs)\u001b[0m\n\u001b[1;32m    178\u001b[0m     \u001b[0;34m\"\"\"Call target, and fall back on dispatchers if there is a TypeError.\"\"\"\u001b[0m\u001b[0;34m\u001b[0m\u001b[0;34m\u001b[0m\u001b[0m\n\u001b[1;32m    179\u001b[0m     \u001b[0;32mtry\u001b[0m\u001b[0;34m:\u001b[0m\u001b[0;34m\u001b[0m\u001b[0;34m\u001b[0m\u001b[0m\n\u001b[0;32m--> 180\u001b[0;31m       \u001b[0;32mreturn\u001b[0m \u001b[0mtarget\u001b[0m\u001b[0;34m(\u001b[0m\u001b[0;34m*\u001b[0m\u001b[0margs\u001b[0m\u001b[0;34m,\u001b[0m \u001b[0;34m**\u001b[0m\u001b[0mkwargs\u001b[0m\u001b[0;34m)\u001b[0m\u001b[0;34m\u001b[0m\u001b[0;34m\u001b[0m\u001b[0m\n\u001b[0m\u001b[1;32m    181\u001b[0m     \u001b[0;32mexcept\u001b[0m \u001b[0;34m(\u001b[0m\u001b[0mTypeError\u001b[0m\u001b[0;34m,\u001b[0m \u001b[0mValueError\u001b[0m\u001b[0;34m)\u001b[0m\u001b[0;34m:\u001b[0m\u001b[0;34m\u001b[0m\u001b[0;34m\u001b[0m\u001b[0m\n\u001b[1;32m    182\u001b[0m       \u001b[0;31m# Note: convert_to_eager_tensor currently raises a ValueError, not a\u001b[0m\u001b[0;34m\u001b[0m\u001b[0;34m\u001b[0m\u001b[0;34m\u001b[0m\u001b[0m\n",
      "\u001b[0;32m~/Env/TF2.0/lib/python3.6/site-packages/tensorflow_core/python/ops/array_ops.py\u001b[0m in \u001b[0;36mconcat\u001b[0;34m(values, axis, name)\u001b[0m\n\u001b[1;32m   1429\u001b[0m           dtype=dtypes.int32).get_shape().assert_has_rank(0)\n\u001b[1;32m   1430\u001b[0m       \u001b[0;32mreturn\u001b[0m \u001b[0midentity\u001b[0m\u001b[0;34m(\u001b[0m\u001b[0mvalues\u001b[0m\u001b[0;34m[\u001b[0m\u001b[0;36m0\u001b[0m\u001b[0;34m]\u001b[0m\u001b[0;34m,\u001b[0m \u001b[0mname\u001b[0m\u001b[0;34m=\u001b[0m\u001b[0mname\u001b[0m\u001b[0;34m)\u001b[0m\u001b[0;34m\u001b[0m\u001b[0;34m\u001b[0m\u001b[0m\n\u001b[0;32m-> 1431\u001b[0;31m   \u001b[0;32mreturn\u001b[0m \u001b[0mgen_array_ops\u001b[0m\u001b[0;34m.\u001b[0m\u001b[0mconcat_v2\u001b[0m\u001b[0;34m(\u001b[0m\u001b[0mvalues\u001b[0m\u001b[0;34m=\u001b[0m\u001b[0mvalues\u001b[0m\u001b[0;34m,\u001b[0m \u001b[0maxis\u001b[0m\u001b[0;34m=\u001b[0m\u001b[0maxis\u001b[0m\u001b[0;34m,\u001b[0m \u001b[0mname\u001b[0m\u001b[0;34m=\u001b[0m\u001b[0mname\u001b[0m\u001b[0;34m)\u001b[0m\u001b[0;34m\u001b[0m\u001b[0;34m\u001b[0m\u001b[0m\n\u001b[0m\u001b[1;32m   1432\u001b[0m \u001b[0;34m\u001b[0m\u001b[0m\n\u001b[1;32m   1433\u001b[0m \u001b[0;34m\u001b[0m\u001b[0m\n",
      "\u001b[0;32m~/Env/TF2.0/lib/python3.6/site-packages/tensorflow_core/python/ops/gen_array_ops.py\u001b[0m in \u001b[0;36mconcat_v2\u001b[0;34m(values, axis, name)\u001b[0m\n\u001b[1;32m   1247\u001b[0m       \u001b[0;32melse\u001b[0m\u001b[0;34m:\u001b[0m\u001b[0;34m\u001b[0m\u001b[0;34m\u001b[0m\u001b[0m\n\u001b[1;32m   1248\u001b[0m         \u001b[0mmessage\u001b[0m \u001b[0;34m=\u001b[0m \u001b[0me\u001b[0m\u001b[0;34m.\u001b[0m\u001b[0mmessage\u001b[0m\u001b[0;34m\u001b[0m\u001b[0;34m\u001b[0m\u001b[0m\n\u001b[0;32m-> 1249\u001b[0;31m       \u001b[0m_six\u001b[0m\u001b[0;34m.\u001b[0m\u001b[0mraise_from\u001b[0m\u001b[0;34m(\u001b[0m\u001b[0m_core\u001b[0m\u001b[0;34m.\u001b[0m\u001b[0m_status_to_exception\u001b[0m\u001b[0;34m(\u001b[0m\u001b[0me\u001b[0m\u001b[0;34m.\u001b[0m\u001b[0mcode\u001b[0m\u001b[0;34m,\u001b[0m \u001b[0mmessage\u001b[0m\u001b[0;34m)\u001b[0m\u001b[0;34m,\u001b[0m \u001b[0;32mNone\u001b[0m\u001b[0;34m)\u001b[0m\u001b[0;34m\u001b[0m\u001b[0;34m\u001b[0m\u001b[0m\n\u001b[0m\u001b[1;32m   1250\u001b[0m   \u001b[0;31m# Add nodes to the TensorFlow graph.\u001b[0m\u001b[0;34m\u001b[0m\u001b[0;34m\u001b[0m\u001b[0;34m\u001b[0m\u001b[0m\n\u001b[1;32m   1251\u001b[0m   \u001b[0;32mif\u001b[0m \u001b[0;32mnot\u001b[0m \u001b[0misinstance\u001b[0m\u001b[0;34m(\u001b[0m\u001b[0mvalues\u001b[0m\u001b[0;34m,\u001b[0m \u001b[0;34m(\u001b[0m\u001b[0mlist\u001b[0m\u001b[0;34m,\u001b[0m \u001b[0mtuple\u001b[0m\u001b[0;34m)\u001b[0m\u001b[0;34m)\u001b[0m\u001b[0;34m:\u001b[0m\u001b[0;34m\u001b[0m\u001b[0;34m\u001b[0m\u001b[0m\n",
      "\u001b[0;32m~/Env/TF2.0/lib/python3.6/site-packages/six.py\u001b[0m in \u001b[0;36mraise_from\u001b[0;34m(value, from_value)\u001b[0m\n",
      "\u001b[0;31mInvalidArgumentError\u001b[0m: ConcatOp : Dimensions of inputs should match: shape[0] = [4,32,8] vs. shape[1] = [4,3,8] [Op:ConcatV2] name: concat"
     ]
    }
   ],
   "source": [
    "tf.concat([a,b], axis=0).shape  # 拼接的那个维度可以不相等，其他维度的size以定要相等"
   ]
  },
  {
   "cell_type": "code",
   "execution_count": 54,
   "metadata": {},
   "outputs": [],
   "source": [
    "s1 = tf.random.normal([4,35,8])"
   ]
  },
  {
   "cell_type": "code",
   "execution_count": 55,
   "metadata": {},
   "outputs": [],
   "source": [
    "s2 = tf.random.normal([4,35,8])"
   ]
  },
  {
   "cell_type": "code",
   "execution_count": 56,
   "metadata": {
    "scrolled": true
   },
   "outputs": [
    {
     "data": {
      "text/plain": [
       "TensorShape([8, 35, 8])"
      ]
     },
     "execution_count": 56,
     "metadata": {},
     "output_type": "execute_result"
    }
   ],
   "source": [
    "tf.concat([s1,s2], axis=0).shape"
   ]
  },
  {
   "cell_type": "code",
   "execution_count": 58,
   "metadata": {},
   "outputs": [
    {
     "data": {
      "text/plain": [
       "(TensorShape([4, 35, 8]), TensorShape([4, 35, 8]), TensorShape([2, 4, 35, 8]))"
      ]
     },
     "execution_count": 58,
     "metadata": {},
     "output_type": "execute_result"
    }
   ],
   "source": [
    "s1.shape, s2.shape, tf.stack([s1,s2],axis=0).shape # 所有的维度都要相等"
   ]
  },
  {
   "cell_type": "markdown",
   "metadata": {},
   "source": [
    "concat: 拼接的那个维度可以不相等，其他维度的size一定要想等\n",
    "stack: 所有的维度size都要相等"
   ]
  },
  {
   "cell_type": "code",
   "execution_count": 59,
   "metadata": {},
   "outputs": [],
   "source": [
    "s = tf.stack([s1,s2], axis=0)"
   ]
  },
  {
   "cell_type": "code",
   "execution_count": 60,
   "metadata": {},
   "outputs": [
    {
     "data": {
      "text/plain": [
       "TensorShape([2, 4, 35, 8])"
      ]
     },
     "execution_count": 60,
     "metadata": {},
     "output_type": "execute_result"
    }
   ],
   "source": [
    "s.shape"
   ]
  },
  {
   "cell_type": "code",
   "execution_count": 61,
   "metadata": {
    "scrolled": true
   },
   "outputs": [],
   "source": [
    "q,t =tf.unstack(s, axis=0)  # 分割"
   ]
  },
  {
   "cell_type": "code",
   "execution_count": 62,
   "metadata": {},
   "outputs": [
    {
     "data": {
      "text/plain": [
       "(TensorShape([4, 35, 8]), TensorShape([4, 35, 8]))"
      ]
     },
     "execution_count": 62,
     "metadata": {},
     "output_type": "execute_result"
    }
   ],
   "source": [
    "q.shape, t.shape"
   ]
  },
  {
   "cell_type": "code",
   "execution_count": 63,
   "metadata": {},
   "outputs": [],
   "source": [
    "res = tf.unstack(s, axis=3)"
   ]
  },
  {
   "cell_type": "code",
   "execution_count": 64,
   "metadata": {},
   "outputs": [
    {
     "data": {
      "text/plain": [
       "(TensorShape([2, 4, 35]), TensorShape([2, 4, 35]))"
      ]
     },
     "execution_count": 64,
     "metadata": {},
     "output_type": "execute_result"
    }
   ],
   "source": [
    "res[0].shape, res[7].shape # 该轴上的size是多少，就会分割成多少个Tensor"
   ]
  },
  {
   "cell_type": "code",
   "execution_count": 70,
   "metadata": {
    "scrolled": true
   },
   "outputs": [
    {
     "data": {
      "text/plain": [
       "[<tf.Tensor: id=129, shape=(2, 35, 8), dtype=float32, numpy=\n",
       " array([[[ 8.17924589e-02,  5.87956309e-01,  2.43609816e-01,\n",
       "           1.63750064e+00, -2.51478523e-01, -4.81784821e-01,\n",
       "           4.66709852e-01, -3.76912087e-01],\n",
       "         [-8.50868225e-02, -1.43982005e+00, -1.35632634e+00,\n",
       "           5.70373654e-01, -1.17467415e+00,  9.34491515e-01,\n",
       "           1.32718563e-01, -3.27396661e-01],\n",
       "         [-8.37831974e-01, -7.98908353e-01,  6.16598688e-02,\n",
       "          -4.54147935e-01, -1.66327059e+00,  2.79133528e-01,\n",
       "           1.28436708e+00,  3.86631042e-01],\n",
       "         [ 2.03361177e+00,  1.79449111e-01, -1.28538504e-01,\n",
       "          -9.34123397e-01,  2.95777261e-01,  1.22252834e+00,\n",
       "           3.44604105e-01,  9.44644451e-01],\n",
       "         [-2.17589170e-01, -4.67520118e-01, -2.46694740e-02,\n",
       "          -6.69768214e-01, -3.59951556e-02,  1.28621226e-02,\n",
       "           3.59900802e-01,  2.60804629e+00],\n",
       "         [-3.90991002e-01, -9.27353371e-03,  4.44832742e-01,\n",
       "          -1.08851743e+00, -9.97906208e-01,  4.04299617e-01,\n",
       "          -1.40308297e+00, -1.05847859e+00],\n",
       "         [ 1.42843854e+00,  9.44837391e-01, -3.38537604e-01,\n",
       "          -8.11492026e-01,  3.44027758e-01, -1.93713570e+00,\n",
       "           2.04323649e-01,  1.83599249e-01],\n",
       "         [-7.29387701e-01,  1.01098812e+00, -1.03940094e+00,\n",
       "          -1.01567173e+00, -2.35084444e-01,  6.42713487e-01,\n",
       "           6.59239650e-01,  5.07239759e-01],\n",
       "         [-3.32441419e-01,  1.01348743e-01, -1.37466967e+00,\n",
       "           2.70172298e-01, -3.26172411e-01, -2.38707095e-01,\n",
       "          -1.67743552e+00, -2.69820362e-01],\n",
       "         [ 4.16286290e-01,  1.95438612e+00,  5.95825911e-01,\n",
       "          -5.65945134e-02,  1.63079500e+00,  3.95293891e-01,\n",
       "           1.05112505e+00,  2.78990507e-01],\n",
       "         [-1.05045772e+00,  4.31963742e-01,  8.85807574e-01,\n",
       "          -1.40235162e+00,  2.13069439e+00, -1.03754628e+00,\n",
       "           4.70130175e-01,  9.42075849e-01],\n",
       "         [ 1.19982862e+00,  1.02269530e+00,  6.65896058e-01,\n",
       "          -1.22261047e+00, -3.84127170e-01, -8.19163248e-02,\n",
       "           1.39423418e+00, -1.54739761e+00],\n",
       "         [ 8.02364588e-01,  1.85747707e+00,  1.88918650e-01,\n",
       "           4.67190817e-02,  1.43467808e+00, -1.75489366e+00,\n",
       "          -1.84834695e+00, -8.28569114e-01],\n",
       "         [ 5.40905237e-01,  7.52294123e-01,  9.93745804e-01,\n",
       "           4.51597154e-01, -3.63371134e-01, -4.88287896e-01,\n",
       "          -4.01889205e-01, -1.33618891e+00],\n",
       "         [ 2.99110621e-01, -5.16231477e-01,  8.92465889e-01,\n",
       "          -1.68315396e-01, -2.48971414e-02, -1.59577206e-01,\n",
       "          -1.00589275e+00,  1.49776265e-01],\n",
       "         [ 7.81470418e-01, -8.60553622e-01,  1.11857307e+00,\n",
       "          -2.40926790e+00, -7.11684883e-01, -5.68392910e-02,\n",
       "          -1.90488011e-01,  1.52077347e-01],\n",
       "         [-1.96808264e-01, -2.24881673e+00, -3.22945809e+00,\n",
       "          -4.10461754e-01,  1.37767589e+00,  1.32297590e-01,\n",
       "          -5.51214159e-01, -4.40217733e-01],\n",
       "         [ 1.80447316e+00, -1.38966084e+00,  7.78067887e-01,\n",
       "           9.88946855e-01, -5.85291564e-01, -3.96679193e-01,\n",
       "           6.09761775e-01,  1.26980767e-01],\n",
       "         [-1.60830700e+00, -3.94866943e-01,  7.01505363e-01,\n",
       "          -1.67317653e+00, -5.65771639e-01, -1.23675430e+00,\n",
       "          -3.02355081e-01,  3.12255740e-01],\n",
       "         [ 1.83419394e+00,  2.41944999e-01,  1.35951984e+00,\n",
       "           1.16384482e+00,  7.86147892e-01, -3.63841087e-01,\n",
       "          -3.12532735e+00, -2.42361188e-01],\n",
       "         [-2.77544886e-01, -9.12049711e-01, -1.17768490e+00,\n",
       "           1.90995589e-01, -1.11887038e+00, -1.52557111e+00,\n",
       "           3.22897881e-01, -1.51271951e+00],\n",
       "         [-1.95273250e-01,  2.05747390e+00, -3.16132838e-03,\n",
       "           1.29118717e+00, -1.29757380e+00, -4.74258572e-01,\n",
       "           1.64588809e-01,  4.41405356e-01],\n",
       "         [ 4.57877845e-01, -5.34776390e-01,  1.65650058e+00,\n",
       "          -1.05000429e-01,  1.93908525e+00,  3.19345742e-01,\n",
       "           8.33281994e-01, -6.75844729e-01],\n",
       "         [ 2.98211724e-01,  1.30090904e+00, -9.96329308e-01,\n",
       "           1.18881118e+00, -2.95994401e-01, -4.26129222e-01,\n",
       "           1.36094368e+00,  8.15252662e-01],\n",
       "         [-1.12073576e+00,  7.98837185e-01,  1.00852716e+00,\n",
       "          -7.54616976e-01, -9.67526808e-02, -8.04328382e-01,\n",
       "          -9.83304501e-01, -5.32301903e-01],\n",
       "         [ 3.72626424e-01,  6.93681777e-01, -1.02247560e+00,\n",
       "          -3.51506621e-01, -7.38249779e-01, -1.02503443e+00,\n",
       "          -4.39661533e-01,  5.07135212e-01],\n",
       "         [-9.27894711e-01, -6.65283203e-01,  8.26601505e-01,\n",
       "           5.37030399e-01, -9.88973081e-01,  1.44734347e+00,\n",
       "           7.17332900e-01,  3.20384264e-01],\n",
       "         [ 2.22829080e+00,  1.39946723e+00, -1.65090573e+00,\n",
       "          -1.34694207e+00,  6.60596073e-01,  1.41593349e+00,\n",
       "          -2.69617707e-01, -1.35354757e+00],\n",
       "         [ 6.14190042e-01, -7.90121257e-01, -1.22193396e+00,\n",
       "           2.45175585e-01,  1.09138882e+00, -1.23705566e+00,\n",
       "           1.13944101e+00, -1.38419628e+00],\n",
       "         [-3.68922561e-01,  1.63590953e-01,  1.60863686e+00,\n",
       "           4.37392533e-01, -2.89280677e+00,  7.44452715e-01,\n",
       "          -3.85022253e-01, -4.17028833e-03],\n",
       "         [ 1.78249955e+00,  8.52403998e-01,  8.94859254e-01,\n",
       "           8.40264484e-02,  2.85677147e+00, -4.86153781e-01,\n",
       "           1.39180028e+00,  4.68563825e-01],\n",
       "         [-9.88022327e-01,  7.07935750e-01,  7.96702504e-01,\n",
       "           7.50166774e-02, -6.61275387e-01,  6.08901918e-01,\n",
       "          -9.61915493e-01, -1.21633720e+00],\n",
       "         [ 1.58285892e+00,  1.67107189e+00,  2.52850676e+00,\n",
       "           6.39347196e-01,  2.69107509e+00, -2.29053363e-01,\n",
       "          -8.76296580e-01,  1.61888468e+00],\n",
       "         [-3.04142445e-01, -2.06132746e+00, -6.03409171e-01,\n",
       "           1.95552364e-01,  2.30486557e-01,  1.21275926e+00,\n",
       "           1.21523941e+00,  1.79069415e-01],\n",
       "         [-2.11934090e+00,  4.80102748e-01, -1.75278747e+00,\n",
       "           1.08490741e+00,  2.87205040e-01, -1.00670373e+00,\n",
       "          -1.27363241e+00,  2.48010129e-01]],\n",
       " \n",
       "        [[ 9.05230343e-01,  1.73475236e-01,  1.21517122e+00,\n",
       "          -1.38377678e+00,  1.59877360e-01, -2.06900692e+00,\n",
       "          -1.23955369e+00,  7.79627264e-01],\n",
       "         [ 2.03911334e-01,  1.18488860e+00,  5.27343571e-01,\n",
       "          -1.27288282e+00, -1.23352863e-01,  1.01425421e+00,\n",
       "           6.04772270e-02,  1.83101699e-01],\n",
       "         [-2.98312485e-01, -3.85853089e-02,  2.52604532e+00,\n",
       "           1.41773570e+00, -4.82981175e-01,  1.06545150e+00,\n",
       "          -2.42290187e+00,  8.00146937e-01],\n",
       "         [-4.25201029e-01, -1.19930953e-02,  1.04623079e+00,\n",
       "          -2.72574842e-01,  9.57355320e-01, -1.47091198e+00,\n",
       "          -9.58456039e-01,  7.00224161e-01],\n",
       "         [ 1.00625122e+00, -6.41862512e-01,  1.71157673e-01,\n",
       "          -4.13112193e-01,  2.70184398e-01, -7.72777200e-01,\n",
       "          -2.62644768e-01, -1.64921224e-01],\n",
       "         [ 1.66437340e+00, -2.05522656e-01, -6.89203560e-01,\n",
       "          -4.21546787e-01,  1.06478119e+00, -9.93401110e-01,\n",
       "           2.00696826e+00,  9.78464067e-01],\n",
       "         [ 1.30271423e+00,  6.36547148e-01, -4.32147086e-01,\n",
       "          -5.93921304e-01,  9.75532532e-01, -2.86844403e-01,\n",
       "          -1.91007710e+00,  6.44221604e-01],\n",
       "         [-1.34770882e+00,  3.29791576e-01, -9.03747439e-01,\n",
       "           4.14446622e-01,  5.04653633e-01,  4.85636711e-01,\n",
       "           9.11152244e-01, -1.44278621e-02],\n",
       "         [-4.09048468e-01, -1.70201671e+00, -5.84807023e-02,\n",
       "           6.03848286e-02,  6.61232114e-01,  1.22326469e+00,\n",
       "          -9.47187006e-01, -7.97824323e-01],\n",
       "         [ 1.64985859e+00,  6.25628054e-01,  1.44491458e+00,\n",
       "          -7.63323784e-01, -7.09863544e-01, -7.78758168e-01,\n",
       "          -1.02372937e-01, -7.94650093e-02],\n",
       "         [-1.82923663e+00, -5.17094374e-01, -4.58768487e-01,\n",
       "          -1.35447681e+00, -1.33036506e+00, -3.04733515e-02,\n",
       "           1.95344657e-01,  8.40093851e-01],\n",
       "         [-1.10378695e+00,  4.37326670e-01, -8.17874849e-01,\n",
       "           1.38048267e+00, -1.25183213e+00, -9.17500496e-01,\n",
       "           1.61045820e-01, -1.83804393e+00],\n",
       "         [ 4.81639057e-01, -3.18636715e-01,  2.75139004e-01,\n",
       "          -7.74745271e-02, -1.04548109e+00, -3.74512732e-01,\n",
       "          -1.26597416e+00,  7.34589279e-01],\n",
       "         [-1.60314035e+00,  2.03455850e-01,  8.97110701e-01,\n",
       "           1.09264839e+00,  3.39582264e-01,  2.74749637e-01,\n",
       "           1.00026178e+00,  2.52202123e-01],\n",
       "         [-1.25760126e+00,  6.80252492e-01, -8.93714130e-01,\n",
       "          -6.67750955e-01, -1.66128933e+00, -1.29254746e+00,\n",
       "           1.06100254e-01, -6.50406957e-01],\n",
       "         [ 1.64810205e+00, -8.80259395e-01, -7.61822999e-01,\n",
       "          -6.98311210e-01,  5.82553744e-01,  3.86941671e-01,\n",
       "           6.55513287e-01, -1.10925579e+00],\n",
       "         [ 3.80630404e-01, -1.82368743e+00,  6.42822757e-02,\n",
       "          -1.52905568e-01,  4.04343545e-01, -9.74467695e-01,\n",
       "          -6.42135978e-01, -1.16018939e+00],\n",
       "         [ 1.03505599e+00, -2.76045471e-01,  1.85696936e+00,\n",
       "           2.26299331e-01, -1.86540473e+00, -1.20249307e+00,\n",
       "           6.87502027e-02, -4.97872978e-01],\n",
       "         [-8.97186697e-01, -1.08157134e+00,  7.16552973e-01,\n",
       "          -5.20125210e-01,  1.28433561e+00, -8.42148840e-01,\n",
       "           4.46859956e-01, -2.09059858e+00],\n",
       "         [ 5.86571693e-01, -6.01984635e-02,  3.42077374e-01,\n",
       "          -2.26736641e+00, -3.77419382e-01, -4.26394820e-01,\n",
       "           2.76166141e-01,  3.68162274e-01],\n",
       "         [ 1.07313327e-01,  1.21168387e+00, -2.95157403e-01,\n",
       "          -9.83562350e-01,  2.53923154e+00, -1.11366725e+00,\n",
       "          -2.91018695e-01,  1.09957409e+00],\n",
       "         [-4.73775119e-01, -2.05200091e-01,  4.38025594e-01,\n",
       "           1.65718162e+00, -1.03454244e+00, -2.32416105e+00,\n",
       "          -2.05150306e-01,  1.22810388e+00],\n",
       "         [-5.67605138e-01, -1.40751266e+00, -1.12222195e+00,\n",
       "          -3.44001025e-01, -9.41297039e-02,  6.70563459e-01,\n",
       "          -2.35981271e-01,  9.01917398e-01],\n",
       "         [ 1.57584274e+00, -2.02376819e+00, -4.81296003e-01,\n",
       "           7.74033606e-01,  8.45971465e-01, -9.66647327e-01,\n",
       "           8.66510808e-01,  2.59029210e-01],\n",
       "         [ 1.05980384e+00, -5.38290739e-01, -7.54285604e-02,\n",
       "           7.28450954e-01, -1.41401911e+00,  1.11168396e+00,\n",
       "          -1.00911129e+00,  1.11011036e-01],\n",
       "         [ 1.46668601e+00,  1.08100104e+00, -1.55018008e+00,\n",
       "           8.35863531e-01, -6.79711998e-01,  1.07731652e+00,\n",
       "          -1.46236271e-01,  4.80337381e-01],\n",
       "         [ 2.44545862e-01, -1.65199280e-01, -2.85839391e+00,\n",
       "           5.36565721e-01,  1.50859880e+00, -8.69880021e-02,\n",
       "          -6.59258187e-01, -7.54800513e-02],\n",
       "         [-3.78241777e-01, -4.11119103e-01, -2.12143451e-01,\n",
       "          -2.87507415e-01,  1.70143202e-01,  4.87512738e-01,\n",
       "          -6.94281459e-01,  2.70658278e+00],\n",
       "         [-1.16786592e-01,  3.63381296e-01,  8.74095500e-01,\n",
       "           9.78222013e-01, -3.31743240e-01, -5.01159504e-02,\n",
       "           1.25440788e+00, -2.35334086e+00],\n",
       "         [-8.58984888e-01,  1.70207894e+00, -7.80226350e-01,\n",
       "          -3.97413701e-01, -1.48671186e+00,  8.88562918e-01,\n",
       "           8.57360512e-02, -2.18015790e+00],\n",
       "         [-5.60883880e-01, -2.20001683e-01,  9.14562568e-02,\n",
       "          -2.70646662e-01, -1.53548181e+00,  2.48651505e-01,\n",
       "           5.01893044e-01, -1.03619754e+00],\n",
       "         [-1.10841501e+00, -6.20677292e-01, -6.77938610e-02,\n",
       "          -3.23892772e-01,  3.99716675e-01,  9.71289992e-01,\n",
       "          -9.53530073e-01, -1.09786928e+00],\n",
       "         [-3.49848449e-01,  3.42370212e-01, -5.03647566e-01,\n",
       "          -1.28823018e+00,  7.42701173e-01,  2.07414818e+00,\n",
       "          -6.69251457e-02, -1.11661851e-01],\n",
       "         [-1.60251856e+00, -7.18733728e-01, -9.08390582e-01,\n",
       "           8.26067328e-01, -6.12009615e-02,  5.62714815e-01,\n",
       "           5.00305951e-01, -1.30573058e+00],\n",
       "         [-9.55557525e-01,  1.25125849e+00, -1.51109052e+00,\n",
       "          -9.80934799e-01,  3.62117082e-01,  3.86351317e-01,\n",
       "           6.59397364e-01,  6.84379816e-01]]], dtype=float32)>,\n",
       " <tf.Tensor: id=130, shape=(2, 35, 8), dtype=float32, numpy=\n",
       " array([[[-9.16006923e-01,  7.49896288e-01,  1.10487366e+00,\n",
       "           1.15069783e+00,  8.29343021e-01,  5.43172657e-01,\n",
       "          -1.88145675e-02,  1.16051352e+00],\n",
       "         [-1.12329566e+00, -4.48212236e-01,  2.53467131e+00,\n",
       "          -3.56634259e-01, -1.32903409e+00,  8.14674199e-01,\n",
       "          -6.77290082e-01, -3.54653388e-01],\n",
       "         [ 1.54629779e+00, -1.36971965e-01, -2.58297682e+00,\n",
       "           4.57650810e-01, -3.04436624e-01, -1.01590455e+00,\n",
       "          -1.68300703e-01, -1.78264678e+00],\n",
       "         [ 3.31918925e-01,  2.69959010e-02, -1.22392786e+00,\n",
       "           9.86625075e-01, -3.88351351e-01, -4.88745213e-01,\n",
       "           7.26101279e-01, -1.11303842e+00],\n",
       "         [-2.66681761e-01,  2.17739820e-01, -3.95464391e-01,\n",
       "           1.11319639e-01, -1.96701154e-01, -4.56625104e-01,\n",
       "          -7.32652903e-01, -2.14348054e+00],\n",
       "         [ 1.07995367e+00, -1.10286510e+00, -3.22442740e-01,\n",
       "          -1.17786789e+00,  2.15532824e-01,  1.71872830e+00,\n",
       "           1.65063322e+00,  1.10386050e+00],\n",
       "         [-8.48447204e-01,  1.69250345e+00, -1.21360505e+00,\n",
       "           2.18807429e-01,  1.39321193e-01,  6.11878633e-01,\n",
       "          -1.15907383e+00,  5.36860466e-01],\n",
       "         [ 5.94282866e-01, -1.00711560e+00,  3.30146581e-01,\n",
       "          -1.99404991e+00,  5.76833665e-01,  1.88083336e-01,\n",
       "           7.62982905e-01,  5.00580788e-01],\n",
       "         [ 3.58992517e-01, -3.13189530e+00,  7.38086164e-01,\n",
       "          -1.77723455e+00,  6.40616357e-01, -4.06505391e-02,\n",
       "          -2.91942358e-01, -1.66238415e+00],\n",
       "         [ 1.82989192e+00, -6.01156771e-01,  4.13598120e-01,\n",
       "           2.21510351e-01, -3.93552035e-01,  1.33408272e+00,\n",
       "          -1.29226828e+00, -8.47523689e-01],\n",
       "         [ 5.30159831e-01, -1.28026056e+00,  1.26211441e+00,\n",
       "           6.43813670e-01, -4.00212079e-01,  8.35475564e-01,\n",
       "           1.67992258e+00,  7.21004665e-01],\n",
       "         [ 9.61448699e-02, -4.55514997e-01, -1.97349340e-02,\n",
       "          -8.56243372e-01,  1.43265390e+00,  2.28100225e-01,\n",
       "           1.02865957e-01, -8.55661809e-01],\n",
       "         [ 1.82333607e-02, -3.62927198e-01, -3.59439492e-01,\n",
       "          -1.15797019e+00, -3.13982815e-01, -1.06898785e+00,\n",
       "          -1.08153737e+00, -1.48400590e-01],\n",
       "         [-3.78867835e-01,  1.15865612e+00,  1.55603731e+00,\n",
       "           5.88347852e-01, -1.54044437e+00,  8.84599805e-01,\n",
       "           1.71203732e+00, -2.13580191e-01],\n",
       "         [ 1.56781268e+00, -7.41112173e-01, -8.52079988e-01,\n",
       "           1.48603395e-01,  6.64418221e-01, -7.14716017e-01,\n",
       "           3.48630607e-01,  8.01612735e-01],\n",
       "         [ 1.24937497e-01,  1.74676430e+00, -3.07347035e+00,\n",
       "           8.96682739e-01,  2.23171249e-01, -7.99888492e-01,\n",
       "           1.30785441e+00,  3.11836094e-01],\n",
       "         [ 7.07303464e-01, -8.18498671e-01,  3.55016768e-01,\n",
       "          -4.44670707e-01,  1.36284888e-01,  3.57835740e-01,\n",
       "           6.18702769e-01,  8.27225864e-01],\n",
       "         [ 8.98390949e-01,  1.70608044e+00, -8.57539058e-01,\n",
       "          -1.38349164e+00, -6.62552238e-01, -3.96926224e-01,\n",
       "          -1.40931046e+00, -8.55725825e-01],\n",
       "         [ 2.40176988e+00, -8.96604639e-03, -1.99275720e+00,\n",
       "          -4.91674691e-01,  1.56703312e-02,  3.58689010e-01,\n",
       "           9.55735564e-01, -3.18868905e-02],\n",
       "         [ 7.47477591e-01, -3.51152748e-01,  1.38254702e+00,\n",
       "          -1.44635332e+00,  5.62114358e-01,  1.35623932e+00,\n",
       "          -7.86223590e-01,  3.74215692e-02],\n",
       "         [-2.60281980e-01, -1.39671075e+00,  1.58380294e+00,\n",
       "          -9.60971713e-01,  1.48906124e+00,  7.22475052e-01,\n",
       "           2.51117766e-01,  2.22312784e+00],\n",
       "         [ 2.73273706e-01, -1.33547270e+00, -7.45642558e-02,\n",
       "          -5.24994612e-01, -2.59707451e-01,  2.19532296e-01,\n",
       "          -4.01776940e-01,  1.18333292e+00],\n",
       "         [ 9.59201396e-01, -1.44400227e+00,  5.57786882e-01,\n",
       "          -2.12236619e+00, -5.67566939e-02,  1.04047763e+00,\n",
       "           1.44654155e+00,  1.65269983e+00],\n",
       "         [-8.90957832e-01,  2.30111465e-01, -2.08289623e+00,\n",
       "           3.64853352e-01, -5.48876464e-01,  1.21402097e+00,\n",
       "           7.81520069e-01, -9.25575495e-02],\n",
       "         [-2.20307827e+00,  1.70511864e-02, -1.60141528e+00,\n",
       "           4.76983070e-01, -1.41072571e-01,  9.06313807e-02,\n",
       "           2.31565371e-01, -1.44300663e+00],\n",
       "         [-3.74683112e-01, -9.90878463e-01,  1.06068611e+00,\n",
       "          -1.26931250e+00,  2.23833656e+00,  1.34391665e+00,\n",
       "          -1.09825730e+00,  6.98713541e-01],\n",
       "         [-1.74875724e+00, -2.09244713e-01, -1.46722519e+00,\n",
       "           9.01285931e-02, -4.97672111e-01, -3.37686598e-01,\n",
       "          -5.29597282e-01,  9.93450463e-01],\n",
       "         [ 1.26567996e+00,  6.87771499e-01, -4.88078684e-01,\n",
       "          -1.73131406e+00, -1.08917022e+00,  9.11885798e-01,\n",
       "           2.88463801e-01,  2.21303031e-01],\n",
       "         [ 8.15909445e-01,  1.90267473e-01, -1.27676940e+00,\n",
       "          -1.37962759e+00,  2.30649233e+00, -3.27038020e-01,\n",
       "           8.93425465e-01, -9.23122227e-01],\n",
       "         [-2.26330137e+00,  5.77732921e-01,  1.58768833e-01,\n",
       "           4.24365133e-01,  3.02023143e-01,  7.48322785e-01,\n",
       "           3.76065522e-01, -1.01821041e+00],\n",
       "         [-2.09516263e+00,  1.32273817e+00,  1.52997553e+00,\n",
       "           5.13690352e-01,  1.71763849e+00,  2.39437246e+00,\n",
       "           1.41592741e+00,  9.42519248e-01],\n",
       "         [ 8.00342500e-01,  2.96270818e-01, -1.09711671e+00,\n",
       "           4.60702658e-01,  3.04502457e-01, -1.21793246e+00,\n",
       "          -4.45160657e-01, -1.40278414e-01],\n",
       "         [-9.28239048e-01,  8.76321971e-01, -1.30245948e+00,\n",
       "           1.82005987e-01,  3.65679234e-01, -4.62392390e-01,\n",
       "           1.71601593e+00,  8.77411842e-01],\n",
       "         [ 5.52805245e-01, -6.87959969e-01,  6.01019144e-01,\n",
       "          -5.22652149e-01,  2.24575162e-01,  7.95780599e-01,\n",
       "          -1.14379907e+00, -9.70182836e-01],\n",
       "         [-1.17917448e-01, -1.22606552e+00, -1.59700942e+00,\n",
       "          -4.61738110e-01, -9.53746364e-02,  4.65511292e-01,\n",
       "           9.91202176e-01, -1.85212612e+00]],\n",
       " \n",
       "        [[ 7.87018478e-01, -9.75771155e-03,  1.27365872e-01,\n",
       "          -1.24643497e-01,  7.68830895e-01, -1.11735809e+00,\n",
       "           1.98148620e+00, -1.09215522e+00],\n",
       "         [ 2.35925332e-01,  1.23387265e+00,  1.49386358e+00,\n",
       "           6.47839129e-01,  2.96324849e-01,  9.74308610e-01,\n",
       "          -9.53295767e-01,  1.01050235e-01],\n",
       "         [-1.28140795e+00,  1.90289235e+00,  2.02793336e+00,\n",
       "           5.05409777e-01,  7.36654997e-01,  1.29584324e+00,\n",
       "          -6.22886479e-01,  9.09213781e-01],\n",
       "         [ 8.61835420e-01, -2.84158617e-01,  8.88883352e-01,\n",
       "           1.42420971e+00, -7.27727413e-02,  4.92793113e-01,\n",
       "          -1.39159989e+00,  2.52522498e-01],\n",
       "         [ 7.36152530e-01, -1.71695173e+00, -8.66568208e-01,\n",
       "          -1.52103472e+00, -1.15133786e+00,  8.60026896e-01,\n",
       "           3.27904582e-01,  1.28332451e-01],\n",
       "         [ 2.69040912e-01, -2.30701423e+00,  2.90316194e-02,\n",
       "          -7.99032211e-01,  2.72783618e-02,  2.40141487e+00,\n",
       "          -5.90910316e-01,  1.20459247e+00],\n",
       "         [-1.28967607e+00, -1.55506372e+00,  1.67806491e-01,\n",
       "          -2.40615869e+00, -3.48210841e-01, -5.92572451e-01,\n",
       "           3.29695526e-03, -4.48870331e-01],\n",
       "         [-2.37363362e+00, -1.31396484e+00,  1.34639144e+00,\n",
       "           1.21857619e+00,  9.60062087e-01,  1.02243900e+00,\n",
       "           1.41811907e-01,  1.53492248e+00],\n",
       "         [ 2.36704081e-01, -2.91499114e+00,  1.37329381e-02,\n",
       "          -6.67960823e-01,  8.00346792e-01, -4.31190282e-02,\n",
       "           4.20270294e-01,  6.77486300e-01],\n",
       "         [-1.17940688e+00, -9.98624414e-02, -8.34457874e-01,\n",
       "           3.59816670e-01,  7.44886518e-01,  2.53823698e-01,\n",
       "           1.01278150e+00,  1.25693619e+00],\n",
       "         [-2.20157802e-01,  7.43923903e-01,  1.56209922e+00,\n",
       "          -4.86343175e-01, -6.91777229e-01,  2.04603285e-01,\n",
       "          -9.95403051e-01,  1.90227814e-02],\n",
       "         [ 2.35883772e-01,  8.44741404e-01,  6.69615388e-01,\n",
       "          -1.32195354e+00, -1.52352250e+00,  1.12993574e+00,\n",
       "           3.86347145e-01,  6.51778519e-01],\n",
       "         [ 7.99043551e-02,  2.63175875e-01,  7.36241341e-01,\n",
       "           2.19223067e-01,  1.77286768e+00, -8.37519407e-01,\n",
       "           3.52246547e+00, -1.61751413e+00],\n",
       "         [-1.20195627e-01,  4.67781126e-01, -4.73232538e-01,\n",
       "          -8.07714522e-01, -1.12692010e+00, -7.81657815e-01,\n",
       "          -5.47139347e-01,  4.56241012e-01],\n",
       "         [-9.40389037e-01, -1.21692777e-01, -7.24783421e-01,\n",
       "          -9.92647946e-01, -9.58580524e-02,  3.53267550e-01,\n",
       "          -6.18659914e-01, -1.07458889e+00],\n",
       "         [ 1.00107074e+00,  4.95102018e-01,  2.47758532e+00,\n",
       "           4.78415906e-01,  1.34783518e+00, -1.18408799e+00,\n",
       "           8.56565535e-02, -1.01966476e+00],\n",
       "         [-6.95358574e-01, -6.50982037e-02,  5.28919876e-01,\n",
       "          -1.00974846e+00,  9.69620585e-01, -1.47892261e+00,\n",
       "           7.06269264e-01,  1.24178791e+00],\n",
       "         [-7.68604353e-02, -1.42451024e+00,  1.68330204e+00,\n",
       "          -5.87711692e-01, -2.85212308e-01, -1.54559183e+00,\n",
       "           6.32066652e-02, -1.30533242e+00],\n",
       "         [ 3.08527023e-01,  4.14980412e-01, -1.97234780e-01,\n",
       "           5.23102522e-01, -5.66176958e-02,  1.26739681e+00,\n",
       "           4.30486143e-01,  1.40760696e+00],\n",
       "         [ 8.71493518e-01,  1.11285424e+00,  2.58941126e+00,\n",
       "          -3.45758319e-01,  6.52148604e-01,  9.04632509e-01,\n",
       "          -2.23754501e+00, -3.54299486e-01],\n",
       "         [-2.27655657e-02, -4.18093383e-01,  9.34744477e-02,\n",
       "          -4.28510129e-01,  1.38689125e+00,  1.16041827e+00,\n",
       "           1.00452363e+00, -5.93029559e-01],\n",
       "         [ 1.43852189e-01, -2.44537205e-01, -1.95825589e+00,\n",
       "           1.89942229e+00, -8.51677001e-01,  1.05433011e+00,\n",
       "          -2.02932402e-01, -1.00889778e+00],\n",
       "         [ 2.10579729e+00,  2.51096822e-02, -1.75368190e+00,\n",
       "           1.25858700e+00, -2.43577853e-01,  4.42793310e-01,\n",
       "           8.73835206e-01,  1.54292834e+00],\n",
       "         [-6.79397702e-01, -4.16632026e-01,  2.84187698e+00,\n",
       "           2.75112689e-01, -4.59325999e-01, -1.26387730e-01,\n",
       "           4.57259625e-01, -4.23367053e-01],\n",
       "         [-1.09919167e+00, -2.12154731e-01,  4.60724115e-01,\n",
       "          -1.02343047e+00,  1.35715203e-02,  1.41906263e-02,\n",
       "          -4.96940613e-01, -3.21034849e-01],\n",
       "         [-1.20059204e+00,  1.66379941e+00, -4.48563188e-01,\n",
       "          -2.84287602e-01, -4.72747624e-01,  9.41801846e-01,\n",
       "          -1.56733382e+00,  9.35109794e-01],\n",
       "         [-3.42258215e-01, -5.90130806e-01,  3.53468843e-02,\n",
       "          -2.57916808e-01,  1.04041004e+00, -2.91784793e-01,\n",
       "          -1.29308367e+00,  4.11377668e-01],\n",
       "         [-1.86502039e-01,  9.62403834e-01,  1.04007936e+00,\n",
       "           2.39938259e-01,  1.58086216e+00, -8.51759791e-01,\n",
       "           8.05588126e-01,  5.33879399e-01],\n",
       "         [ 1.20575440e+00, -4.33191150e-01,  1.06883252e+00,\n",
       "          -7.39552915e-01, -2.44385272e-01,  1.34890467e-01,\n",
       "          -2.18129539e+00,  4.79462028e-01],\n",
       "         [-1.17806339e+00, -7.55808234e-01,  2.14598179e+00,\n",
       "           2.45050764e+00,  2.11261079e-01, -4.48007852e-01,\n",
       "           5.09059072e-01,  9.85298812e-01],\n",
       "         [ 8.28215599e-01, -1.30433047e+00, -1.46075439e+00,\n",
       "           7.23260641e-01,  1.69077039e-01, -2.05086017e+00,\n",
       "           5.12789451e-02, -1.95503962e+00],\n",
       "         [ 9.76984262e-01,  1.30164182e+00, -5.29121161e-01,\n",
       "          -8.94806013e-02,  3.42856973e-01, -1.00621355e+00,\n",
       "          -5.94210684e-01,  4.35897678e-01],\n",
       "         [-1.29257047e+00,  5.69355071e-01, -1.47004330e+00,\n",
       "          -2.04856038e-01,  4.22621399e-01,  1.20566368e+00,\n",
       "           3.76287967e-01,  2.63515741e-01],\n",
       "         [ 5.13647676e-01, -2.17982030e+00,  7.12717533e-01,\n",
       "          -4.87251431e-01,  1.35889566e+00, -7.25481391e-01,\n",
       "           1.56309158e-01, -1.06533217e+00],\n",
       "         [ 2.75355458e-01, -1.44463527e+00,  1.58048272e-01,\n",
       "          -8.06892693e-01, -5.38832009e-01,  5.38511813e-01,\n",
       "          -1.32455900e-01,  4.96531010e-01]]], dtype=float32)>,\n",
       " <tf.Tensor: id=131, shape=(2, 35, 8), dtype=float32, numpy=\n",
       " array([[[-1.22602129e+00, -1.59874010e+00,  1.50321558e-01,\n",
       "          -1.30210638e-01,  1.14913416e+00,  6.04766905e-01,\n",
       "          -5.33863127e-01, -4.77228254e-01],\n",
       "         [-1.10064542e+00, -5.76646447e-01, -2.04387403e+00,\n",
       "           1.83561897e+00,  5.78627467e-01,  1.85413197e-01,\n",
       "           1.16971307e-01,  8.33669186e-01],\n",
       "         [-1.36748338e+00,  3.30747604e-01, -1.29781878e+00,\n",
       "           9.66254711e-01,  1.51539415e-01,  1.62053168e+00,\n",
       "          -4.69657928e-01,  5.46235859e-01],\n",
       "         [ 1.03317857e+00,  6.46672666e-01,  2.03815985e+00,\n",
       "          -3.69477415e+00,  1.78874671e+00, -2.04074979e+00,\n",
       "          -7.44833231e-01,  9.86013651e-01],\n",
       "         [-4.96949404e-01, -1.42635837e-01,  1.06693113e+00,\n",
       "          -1.64288604e+00,  1.07883441e+00, -2.84156650e-02,\n",
       "          -7.54772782e-01,  1.77759871e-01],\n",
       "         [ 2.70264959e+00,  1.37541783e+00,  1.73027110e+00,\n",
       "           1.07440078e+00,  1.88837826e+00, -3.89070868e-01,\n",
       "          -4.29694086e-01, -2.77692258e-01],\n",
       "         [ 3.69322628e-01,  1.69222701e+00, -7.95939922e-01,\n",
       "           1.83466330e-01,  3.10593814e-01, -1.21752131e+00,\n",
       "           7.94562221e-01,  8.63705754e-01],\n",
       "         [ 1.29359472e+00,  4.38525587e-01,  5.48788726e-01,\n",
       "          -9.80907083e-01, -1.79026961e+00,  1.25292528e+00,\n",
       "          -7.04832971e-01, -6.11420870e-01],\n",
       "         [-7.49634743e-01, -2.57763356e-01,  1.42439985e+00,\n",
       "          -7.59295940e-01,  1.33492732e+00,  2.45746756e+00,\n",
       "          -5.52160144e-01,  2.52063900e-01],\n",
       "         [ 1.78640299e-02, -5.65245986e-01, -3.37212265e-01,\n",
       "           1.64021647e+00, -9.85971272e-01, -1.37317705e+00,\n",
       "           2.03665471e+00, -1.49717405e-01],\n",
       "         [-4.01238769e-01, -2.23019183e-01,  1.07061946e+00,\n",
       "          -2.36717895e-01, -9.17584777e-01,  5.75320125e-01,\n",
       "          -1.29860058e-01, -1.22595322e+00],\n",
       "         [ 1.26098201e-01, -6.86677217e-01, -2.48289093e-01,\n",
       "           5.23784518e-01, -6.19421542e-01,  1.00216603e+00,\n",
       "          -3.97195041e-01,  2.74616778e-01],\n",
       "         [-9.01810765e-01,  9.64113832e-01, -1.28741014e+00,\n",
       "          -8.78709376e-01,  1.02556562e+00, -7.79218316e-01,\n",
       "           9.11145329e-01,  1.61173586e-02],\n",
       "         [-1.10328406e-01, -2.42230371e-01,  5.57935536e-01,\n",
       "           9.41621244e-01, -2.29114786e-01,  7.83649325e-01,\n",
       "          -3.50500308e-02, -1.37488687e+00],\n",
       "         [-1.91121185e+00, -4.62772071e-01, -2.41034818e+00,\n",
       "          -1.00683773e+00, -8.01042914e-01,  1.46548316e-01,\n",
       "          -6.19122148e-01, -4.08585459e-01],\n",
       "         [-3.50938797e-01,  1.52980937e-02,  2.30668473e+00,\n",
       "          -2.56866544e-01,  1.54158160e-01,  7.14830816e-01,\n",
       "           4.56894428e-01, -5.50074540e-02],\n",
       "         [-7.15256512e-01,  1.59542441e+00, -3.12503099e-01,\n",
       "           5.14806151e-01, -2.36136224e-02, -5.78385666e-02,\n",
       "           9.34951842e-01,  7.29942203e-01],\n",
       "         [ 5.69988906e-01,  4.70678687e-01, -7.78310522e-02,\n",
       "           6.06835127e-01,  8.91492188e-01,  8.85246634e-01,\n",
       "           1.26515940e-01,  1.16275334e+00],\n",
       "         [ 7.73513079e-01,  4.87308383e-01,  2.98945278e-01,\n",
       "           8.83600295e-01,  2.45102137e-01, -7.67252028e-01,\n",
       "           1.33489335e+00,  1.01330090e+00],\n",
       "         [ 1.77550495e+00, -8.60563993e-01,  1.24452913e+00,\n",
       "           2.32756186e+00,  6.09083593e-01,  3.33777577e-01,\n",
       "           2.10971475e-01, -6.75016344e-01],\n",
       "         [-8.23157787e-01,  1.25497580e+00,  1.30309165e+00,\n",
       "           3.51171255e-01,  4.23432261e-01,  2.15993047e-01,\n",
       "           1.32587266e+00,  1.46275409e-03],\n",
       "         [-7.20828474e-01, -6.39621139e-01, -1.02425420e+00,\n",
       "           1.23405898e+00, -1.42149985e+00, -1.39980316e+00,\n",
       "          -1.09307146e+00, -2.44350195e-01],\n",
       "         [-1.41958845e+00, -2.38893211e-01, -9.43673328e-02,\n",
       "          -3.30080390e-01, -6.69022381e-01, -8.88709351e-02,\n",
       "           1.10129702e+00,  6.63383901e-01],\n",
       "         [-6.38373494e-02, -9.01625931e-01,  1.80758798e+00,\n",
       "           6.59486771e-01, -7.25476265e-01, -8.41224909e-01,\n",
       "          -1.21859360e+00,  1.36609776e-02],\n",
       "         [ 2.87959427e-01,  2.28034210e+00, -5.19665956e-01,\n",
       "          -2.20129848e+00, -1.62560999e+00,  1.38415411e-01,\n",
       "           2.89859027e-01,  4.08041328e-01],\n",
       "         [-6.50727630e-01,  3.90830748e-02,  1.31928301e+00,\n",
       "          -1.38600874e+00, -9.37017560e-01, -1.82292008e+00,\n",
       "          -8.38768363e-01,  7.92007506e-01],\n",
       "         [-3.44523668e-01,  2.26007438e+00,  1.15037155e+00,\n",
       "          -1.72512397e-01,  4.53106105e-01, -4.88458931e-01,\n",
       "           1.72715306e+00,  6.53377548e-02],\n",
       "         [ 1.81840670e+00,  6.01917088e-01, -2.98298802e-02,\n",
       "           1.14018929e+00, -2.34928703e+00,  6.98944747e-01,\n",
       "          -1.76008642e-01, -3.84650469e-01],\n",
       "         [-1.70345831e+00, -1.31186926e+00,  1.22400689e+00,\n",
       "           6.40333816e-02,  6.90616608e-01, -3.43787730e-01,\n",
       "          -7.73963928e-01,  1.66976571e-01],\n",
       "         [ 1.85391963e+00, -1.06681079e-01,  4.27509576e-01,\n",
       "          -1.65174806e+00, -9.24332365e-02, -1.98272145e+00,\n",
       "          -1.41099203e+00,  4.53334451e-01],\n",
       "         [ 7.85774052e-01, -8.62011552e-01, -3.83062273e-01,\n",
       "           5.48138499e-01,  1.23392858e-01,  8.24012637e-01,\n",
       "           2.12664557e+00, -1.09628022e+00],\n",
       "         [ 1.41443932e+00, -1.84287095e+00, -1.29482353e+00,\n",
       "           3.15195066e-03,  6.42674804e-01, -8.49196851e-01,\n",
       "          -6.64049327e-01, -1.39073372e+00],\n",
       "         [ 4.52769369e-01,  1.31085718e+00,  1.12911969e-01,\n",
       "          -2.61364222e-01,  4.87885885e-02,  1.56864643e+00,\n",
       "           1.73566794e+00, -6.62561581e-02],\n",
       "         [-1.93881094e+00, -1.32582128e+00, -1.45542049e+00,\n",
       "           7.50842392e-01, -8.00022602e-01,  1.53585637e+00,\n",
       "           3.57070237e-01, -1.14629698e+00],\n",
       "         [-3.05630773e-01, -3.29914093e+00, -1.23603666e+00,\n",
       "           2.22043443e+00, -1.81395626e+00,  1.69663322e+00,\n",
       "           1.05614342e-01,  3.46317828e-01]],\n",
       " \n",
       "        [[-4.41615909e-01,  2.38561079e-01, -1.53769875e+00,\n",
       "          -6.56928658e-01,  7.65648127e-01, -1.96582603e+00,\n",
       "           6.41453385e-01,  1.31202996e+00],\n",
       "         [-1.86299121e+00,  4.39324856e-01, -1.06254733e+00,\n",
       "           6.13965273e-01,  9.81628239e-01, -1.50951612e+00,\n",
       "          -1.27141845e+00, -1.78548253e+00],\n",
       "         [-9.57758054e-02,  3.26505415e-02, -1.26380992e+00,\n",
       "          -7.04135537e-01,  1.08417578e-01,  8.26096460e-02,\n",
       "          -1.03958964e+00, -1.73639369e+00],\n",
       "         [ 1.25703979e+00,  8.15678418e-01, -1.07979405e+00,\n",
       "          -1.07528901e+00, -2.19291165e-01,  1.60478878e+00,\n",
       "          -5.31224087e-02, -1.29155219e+00],\n",
       "         [ 1.67776585e+00,  8.20368171e-01,  1.87484086e+00,\n",
       "          -4.02529724e-02,  6.32189155e-01,  3.58411600e-03,\n",
       "           1.07431710e-01, -1.16351299e-01],\n",
       "         [ 1.35175717e+00,  1.05153227e+00,  2.90498465e-01,\n",
       "          -9.92857158e-01,  1.06563292e-01, -1.63691580e+00,\n",
       "          -1.12938523e+00, -7.33306646e-01],\n",
       "         [ 6.19543016e-01,  1.86388299e-01, -3.94140542e-01,\n",
       "          -1.59187818e+00,  1.09658647e+00,  1.59017467e+00,\n",
       "           8.62156928e-01,  1.24061954e+00],\n",
       "         [-1.35185450e-01, -4.19184446e-01,  3.06057513e-01,\n",
       "          -3.07475686e-01,  5.21439195e-01,  1.45868862e+00,\n",
       "          -1.40577924e+00, -2.71011382e-01],\n",
       "         [-2.81226039e-01,  3.47702831e-01, -9.20439839e-01,\n",
       "          -4.96209741e-01,  2.55656242e-01,  3.43192399e-01,\n",
       "           2.51406580e-01,  6.07928991e-01],\n",
       "         [ 9.82924581e-01, -1.19783230e-01,  5.32095373e-01,\n",
       "           3.23084742e-01,  4.84140933e-01,  1.21519244e+00,\n",
       "          -1.65535808e-02,  1.26037806e-01],\n",
       "         [-1.17489040e+00,  3.11681080e+00,  1.01311937e-01,\n",
       "           9.54796612e-01,  5.96380353e-01,  2.93396026e-01,\n",
       "          -5.52957892e-01,  3.77723485e-01],\n",
       "         [-2.74728805e-01, -2.35460830e+00, -6.16431177e-01,\n",
       "           8.74130964e-01,  1.57137787e+00, -1.69877648e+00,\n",
       "          -4.75635350e-01,  1.91014564e+00],\n",
       "         [-1.12999845e+00, -2.01649666e-02,  5.71448684e-01,\n",
       "          -4.89990830e-01, -4.41597968e-01, -7.46855259e-01,\n",
       "          -4.92925793e-01,  4.61480349e-01],\n",
       "         [-9.22552764e-01, -1.76890194e-01,  7.87680089e-01,\n",
       "           1.73975796e-01, -9.43506360e-02, -1.03875446e+00,\n",
       "           6.71206713e-01,  2.66173899e-01],\n",
       "         [-9.06790614e-01,  1.58328104e+00,  2.27214292e-01,\n",
       "          -1.46675527e-01,  5.99156737e-01, -1.05106734e-01,\n",
       "           1.48022687e+00, -1.68269074e+00],\n",
       "         [-2.39310950e-01,  1.00451148e+00,  6.91881895e-01,\n",
       "          -6.03461683e-01, -6.81709424e-02, -6.15087926e-01,\n",
       "           1.03435278e+00,  4.31172162e-01],\n",
       "         [-1.56607449e+00, -1.30627239e+00, -1.13636267e+00,\n",
       "          -6.58406138e-01, -6.57995462e-01,  4.24103171e-01,\n",
       "           6.37097597e-01,  1.86839128e+00],\n",
       "         [ 2.49255434e-01,  3.76009375e-01, -3.65986466e-01,\n",
       "           1.13356280e+00, -3.70143503e-01,  4.96752381e-01,\n",
       "           4.07674730e-01, -1.02148628e+00],\n",
       "         [ 8.72118354e-01,  4.42818664e-02, -4.86051172e-01,\n",
       "           1.32230711e+00, -4.92373794e-01, -2.24914408e+00,\n",
       "           3.53738666e-01,  1.53035656e-01],\n",
       "         [-3.27815533e-01,  5.33808053e-01, -2.32716978e-01,\n",
       "          -1.37474132e+00, -2.03513373e-02,  1.02731442e+00,\n",
       "          -2.26084185e+00, -4.16891515e-01],\n",
       "         [ 2.97047830e+00,  2.18473268e+00,  9.79066133e-01,\n",
       "           1.84925497e+00, -1.37221456e+00,  1.92287505e+00,\n",
       "           9.58067119e-01, -1.00642073e+00],\n",
       "         [ 4.97381568e-01, -1.19808412e+00,  1.38426697e+00,\n",
       "          -9.19784427e-01,  2.34410733e-01, -2.62227631e+00,\n",
       "           1.92707634e+00,  1.15903950e+00],\n",
       "         [-1.20541111e-01,  9.81406808e-01, -1.29865813e+00,\n",
       "           1.78950298e+00,  1.66373599e+00, -1.25565362e+00,\n",
       "          -8.47057223e-01, -1.71236336e-01],\n",
       "         [ 1.48307586e+00, -1.14370954e+00,  4.33047801e-01,\n",
       "          -7.36200869e-01, -3.31770778e-01,  1.12734929e-01,\n",
       "           2.94233531e-01, -2.09905124e+00],\n",
       "         [ 1.16583192e+00, -1.45394707e+00,  1.15327740e+00,\n",
       "          -5.34312129e-01, -1.00991046e+00, -1.09036708e+00,\n",
       "           1.31952715e+00,  8.51462424e-01],\n",
       "         [ 1.48883653e+00, -3.78264859e-02,  6.49754286e-01,\n",
       "           3.85647923e-01,  2.46000573e-01, -1.11837149e+00,\n",
       "           1.32654405e+00,  7.75168300e-01],\n",
       "         [ 1.13448191e+00, -1.41651547e+00, -6.03728928e-02,\n",
       "          -7.30184019e-01, -2.17733741e+00,  1.84402898e-01,\n",
       "           1.56631932e-01,  3.49684656e-01],\n",
       "         [-9.26352918e-01,  7.20731914e-02,  7.58613467e-01,\n",
       "          -2.82383621e-01, -1.86344838e+00,  5.57547987e-01,\n",
       "           2.39188409e+00, -6.78925931e-01],\n",
       "         [ 1.32026032e-01,  9.56345722e-02, -1.41430810e-01,\n",
       "          -1.34872401e+00, -7.55108297e-01,  2.98165113e-01,\n",
       "          -1.57721132e-01,  3.13753560e-02],\n",
       "         [ 1.13825059e+00,  1.28077495e+00, -2.07160413e-01,\n",
       "           8.40959430e-01, -2.90395524e-02,  1.30655754e+00,\n",
       "           5.00522316e-01, -8.99021104e-02],\n",
       "         [-1.82285577e-01, -1.10079038e+00, -3.52618009e-01,\n",
       "           1.03965819e+00, -8.45597684e-02,  9.53546345e-01,\n",
       "           1.10283554e+00, -6.92837834e-01],\n",
       "         [ 1.18085511e-01, -1.03317535e+00, -1.00220537e+00,\n",
       "           6.14529371e-01, -4.15019810e-01,  3.40165377e-01,\n",
       "          -6.79801762e-01, -1.38642287e+00],\n",
       "         [ 4.66911703e-01, -1.61710000e+00,  6.92414403e-01,\n",
       "          -1.09170234e+00,  1.31478500e+00, -7.53670692e-01,\n",
       "           5.93083084e-01, -3.30416501e-01],\n",
       "         [ 5.33458114e-01,  1.02775657e+00,  5.29878259e-01,\n",
       "           1.76271343e+00,  9.39147115e-01,  4.27690417e-01,\n",
       "           1.73581421e-01,  1.23408675e+00],\n",
       "         [-7.10403085e-01,  1.13589764e+00,  2.08286166e-01,\n",
       "          -1.35965526e+00,  7.69547701e-01, -3.64331603e-01,\n",
       "          -4.05613661e-01, -5.74197888e-01]]], dtype=float32)>,\n",
       " <tf.Tensor: id=132, shape=(2, 35, 8), dtype=float32, numpy=\n",
       " array([[[-1.26889229e+00, -8.65431786e-01, -6.55883551e-02,\n",
       "           6.33112729e-01,  1.88273299e+00,  1.56386602e+00,\n",
       "           5.75232446e-01, -5.14378667e-01],\n",
       "         [ 6.82877153e-02, -1.87773144e+00, -1.40559196e-01,\n",
       "          -1.98649332e-01, -1.90010771e-01, -2.71931529e-01,\n",
       "           4.02076334e-01, -1.30705917e+00],\n",
       "         [-3.17809850e-01, -8.81264567e-01,  1.21806276e+00,\n",
       "          -1.76225156e-01,  9.52567309e-02, -1.16241443e+00,\n",
       "           5.78710616e-01, -3.05461466e-01],\n",
       "         [ 1.00354612e+00,  5.81465423e-01,  2.51575768e-01,\n",
       "          -1.66900110e+00,  2.80034184e-01, -2.50844181e-01,\n",
       "           5.92213094e-01, -1.12285888e+00],\n",
       "         [-5.06976187e-01,  1.23189807e+00,  1.35582954e-01,\n",
       "           9.71041739e-01,  3.65954340e-02,  1.16287768e+00,\n",
       "          -9.36145008e-01,  1.30051994e+00],\n",
       "         [ 1.96968019e-01,  8.08903992e-01, -1.32388985e+00,\n",
       "          -1.33508682e+00, -1.79541099e+00,  2.97159106e-01,\n",
       "          -4.30435598e-01, -1.02623153e+00],\n",
       "         [-2.65135139e-01, -1.33122623e+00,  1.73970973e+00,\n",
       "          -2.30838899e-02, -8.63784313e-01,  1.04789233e+00,\n",
       "           6.38707817e-01,  1.04973471e+00],\n",
       "         [-3.46134216e-01,  1.53391802e+00,  2.40031302e-01,\n",
       "          -5.24322033e-01, -2.64545202e-01, -8.12379599e-01,\n",
       "           6.56125426e-01,  9.76866931e-02],\n",
       "         [-1.95942834e-01, -2.07845256e-01, -1.82067841e-01,\n",
       "          -1.46748185e-01, -5.47153711e-01, -1.14553022e+00,\n",
       "           1.79925692e+00, -3.49536479e-01],\n",
       "         [-1.21056259e+00, -5.33304334e-01,  9.62266028e-01,\n",
       "           1.07082486e-01,  1.96962692e-02, -9.71207261e-01,\n",
       "          -1.18293262e+00,  6.46685213e-02],\n",
       "         [ 1.33805704e+00, -2.74622262e-01, -1.70423794e+00,\n",
       "          -7.72694796e-02, -1.07166755e+00, -4.32071656e-01,\n",
       "           7.77462840e-01, -1.32666841e-01],\n",
       "         [ 6.64360940e-01,  2.45547369e-01,  4.03439641e-01,\n",
       "           9.41944301e-01, -9.31028724e-01,  6.83540821e-01,\n",
       "           9.27037671e-02, -1.31038994e-01],\n",
       "         [ 4.11094517e-01, -1.27148703e-01, -5.87007284e-01,\n",
       "          -1.97274590e+00,  7.38326013e-02,  1.37393737e+00,\n",
       "           1.39674532e+00, -1.02463925e+00],\n",
       "         [-3.80548447e-01,  4.46790338e-01, -2.59319067e+00,\n",
       "          -3.26791048e-01,  9.96362418e-02,  8.49619925e-01,\n",
       "          -9.72351849e-01,  2.41203770e-01],\n",
       "         [ 7.82138884e-01,  8.15164328e-01,  6.71832502e-01,\n",
       "           2.22750261e-01, -4.27821219e-01,  1.02331448e+00,\n",
       "          -5.16066439e-02, -6.14772499e-01],\n",
       "         [-5.35336494e-01,  5.29249251e-01,  4.33517396e-01,\n",
       "          -1.54341257e+00,  7.71216571e-01,  4.31126565e-01,\n",
       "           1.01984584e+00, -7.14318693e-01],\n",
       "         [ 2.82708019e-01,  2.84488816e-02,  1.23073399e+00,\n",
       "           5.24847925e-01,  1.14924157e+00,  9.51072201e-02,\n",
       "          -1.04502714e+00,  2.64559060e-01],\n",
       "         [ 1.24868572e+00,  1.42975020e+00, -7.64561653e-01,\n",
       "           1.79983675e+00, -1.53700960e+00, -9.93820965e-01,\n",
       "          -1.39243925e+00,  1.50530052e+00],\n",
       "         [-1.50203288e+00,  2.40337014e+00, -7.65032411e-01,\n",
       "           1.92161798e+00,  5.33362329e-01,  7.64845014e-01,\n",
       "          -1.81696498e+00, -5.54839801e-03],\n",
       "         [-1.54505575e+00,  8.51089418e-01, -9.67569649e-01,\n",
       "           3.77719626e-02,  1.23358369e+00,  1.25517440e+00,\n",
       "           1.03152251e+00,  6.94223344e-01],\n",
       "         [-4.91683453e-01, -6.43766761e-01, -1.35344398e+00,\n",
       "           2.03392878e-01,  4.92100865e-01,  3.12261671e-01,\n",
       "           7.99385071e-01, -5.23690581e-01],\n",
       "         [ 1.20862794e+00, -7.73341596e-01, -1.41446888e-01,\n",
       "          -1.84412360e+00,  5.53212285e-01,  1.32804024e+00,\n",
       "          -1.69104934e+00, -5.79026282e-01],\n",
       "         [-3.41514289e-01,  6.53036058e-01,  7.98793793e-01,\n",
       "           2.07097635e-01, -2.55602568e-01,  1.43140391e-01,\n",
       "           1.20915663e+00, -9.34470713e-01],\n",
       "         [ 2.13638425e+00, -1.32113707e+00,  8.43527496e-01,\n",
       "          -8.96191776e-01, -1.64782569e-01,  7.83036649e-01,\n",
       "           1.05975378e+00,  4.72417325e-01],\n",
       "         [ 4.13396508e-01,  5.68377793e-01,  3.07661712e-01,\n",
       "           4.00980145e-01,  2.81199908e+00,  8.50007832e-01,\n",
       "           1.30139518e+00, -1.38142273e-01],\n",
       "         [ 2.56167293e-01, -2.79968113e-01, -1.91275191e+00,\n",
       "          -1.44409120e+00,  4.93540257e-01, -2.87762225e-01,\n",
       "          -5.74192517e-02, -4.19465363e-01],\n",
       "         [ 1.40395716e-01,  2.16416240e+00,  2.76149631e+00,\n",
       "          -6.34224415e-01,  6.53148413e-01,  7.02265024e-01,\n",
       "          -6.96719229e-01, -4.47682202e-01],\n",
       "         [-6.03971541e-01, -5.70451915e-01,  5.60336590e-01,\n",
       "           3.16875964e-01,  7.96729803e-01, -6.15384817e-01,\n",
       "          -2.15996003e+00, -1.15329790e+00],\n",
       "         [-1.28963247e-01,  2.06826067e+00,  7.31324077e-01,\n",
       "           1.50851643e+00, -8.49514902e-01,  6.07693374e-01,\n",
       "           6.38717029e-04, -9.94926810e-01],\n",
       "         [ 6.61779583e-01,  1.07504761e+00,  4.48003531e-01,\n",
       "          -2.58908004e-01,  7.81620681e-01, -1.87913194e-01,\n",
       "           6.32030308e-01,  2.31094503e+00],\n",
       "         [ 2.18859509e-01,  1.45698965e+00,  3.52648318e-01,\n",
       "           5.23482442e-01, -1.27193904e+00, -4.05991614e-01,\n",
       "          -1.36705554e+00,  8.58331144e-01],\n",
       "         [-8.76116931e-01, -8.60018969e-01, -2.69920588e-01,\n",
       "          -5.68323545e-02, -3.34289730e-01,  6.87308252e-01,\n",
       "           1.15280759e+00, -9.94197309e-01],\n",
       "         [-9.18962717e-01, -1.93162477e+00, -3.90663862e-01,\n",
       "           8.01075339e-01,  3.74308616e-01,  9.61801231e-01,\n",
       "           3.97497356e-01,  2.51584768e-01],\n",
       "         [-3.41256782e-02, -1.11803710e+00, -1.52032793e+00,\n",
       "           3.73804718e-01,  6.36196196e-01,  9.32429075e-01,\n",
       "           1.88872050e-02,  9.67048287e-01],\n",
       "         [ 3.66944849e-01, -1.14758170e+00, -8.95170510e-01,\n",
       "           2.97742575e-01, -1.30737281e+00,  2.33966875e+00,\n",
       "          -2.78004140e-01, -5.91739535e-01]],\n",
       " \n",
       "        [[ 1.33716273e+00, -2.42393836e-01,  4.24848348e-01,\n",
       "          -1.23017526e+00,  1.01307082e+00,  4.24092919e-01,\n",
       "           1.03017360e-01,  9.36693549e-01],\n",
       "         [ 1.26534617e+00, -8.97870719e-01,  1.06835306e+00,\n",
       "           8.62631559e-01, -5.99556193e-02, -4.07380700e-01,\n",
       "          -1.47481418e+00, -2.24922729e+00],\n",
       "         [ 4.34330463e-01,  2.76823044e-01, -4.55214351e-01,\n",
       "           5.29521585e-01, -9.90763187e-01, -2.42146134e-01,\n",
       "           2.15750718e+00, -8.91185820e-01],\n",
       "         [-4.97910678e-01,  1.91108942e-01, -2.44009471e+00,\n",
       "          -1.75815439e+00, -3.76857102e-01,  3.32893938e-01,\n",
       "          -4.01541889e-01,  1.01676202e+00],\n",
       "         [-4.72205043e-01,  6.38517439e-02, -1.00662887e+00,\n",
       "           1.12091422e+00,  1.74245119e+00,  9.14900839e-01,\n",
       "           2.21411645e-01,  5.85568130e-01],\n",
       "         [ 3.71800870e-01,  1.20332286e-01, -7.37391889e-01,\n",
       "           1.69704080e+00, -9.33301985e-01, -7.17176557e-01,\n",
       "           2.96162933e-01,  5.14514565e-01],\n",
       "         [ 3.88889574e-02, -1.46293163e-01,  2.00260901e+00,\n",
       "          -1.36052060e+00, -4.06753987e-01, -8.55171680e-01,\n",
       "           1.22712684e+00, -3.01787198e-01],\n",
       "         [ 3.08564659e-02, -1.60589290e+00,  3.64240795e-01,\n",
       "           1.02081394e+00,  2.75506765e-01, -6.02813900e-01,\n",
       "           1.32965952e-01, -7.36323476e-01],\n",
       "         [ 2.50802755e-01,  9.91109729e-01,  5.47851145e-01,\n",
       "           2.13867739e-01,  3.88016999e-01, -9.14565384e-01,\n",
       "          -3.37537736e-01,  1.36420023e+00],\n",
       "         [ 4.37086433e-01,  9.80159879e-01, -1.52596581e+00,\n",
       "          -1.04816401e+00, -2.03359157e-01,  1.63149166e+00,\n",
       "          -1.24736524e+00, -3.45845401e-01],\n",
       "         [-6.51935488e-02,  7.70171940e-01, -1.93030643e+00,\n",
       "          -7.34543085e-01,  4.85276103e-01,  6.35055006e-01,\n",
       "           9.00376379e-01,  1.02550852e+00],\n",
       "         [-1.05116475e+00,  9.77154896e-02, -9.36473966e-01,\n",
       "           4.26065177e-01,  1.09054005e+00, -1.73677400e-01,\n",
       "           1.95358157e+00,  6.21585071e-01],\n",
       "         [ 1.70172465e+00,  2.77384818e-01, -2.50317669e+00,\n",
       "          -2.58504361e-01, -2.70803303e-01,  1.33203816e+00,\n",
       "          -4.95154500e-01,  2.98691187e-02],\n",
       "         [ 5.49993329e-02, -6.03528440e-01,  7.93995559e-01,\n",
       "          -4.12280500e-01, -1.69203663e+00, -6.62980676e-01,\n",
       "          -3.45021665e-01, -2.84704232e+00],\n",
       "         [-1.46023488e+00, -7.59601831e-01,  8.07454944e-01,\n",
       "          -2.85110831e-01, -2.40950644e-01, -3.10617715e-01,\n",
       "           3.01189363e-01, -2.51973182e-01],\n",
       "         [ 7.33334959e-01, -2.37936544e+00,  3.93362463e-01,\n",
       "           1.88573468e+00,  1.57745802e+00,  9.51321721e-01,\n",
       "          -7.69297361e-01,  1.18123330e-01],\n",
       "         [ 7.96337008e-01, -1.26801217e+00, -3.54216695e-01,\n",
       "          -9.33318138e-01,  4.26847547e-01, -3.92934442e-01,\n",
       "          -1.04412901e+00,  3.37747931e-01],\n",
       "         [-1.32049978e-01,  7.71601573e-02,  2.49074638e-01,\n",
       "           2.03693196e-01, -8.20946157e-01,  1.29659629e+00,\n",
       "           6.57216758e-02, -1.09984505e+00],\n",
       "         [-6.62037909e-01,  5.33202589e-01,  1.35634253e-02,\n",
       "          -1.07686579e+00, -1.95273912e+00, -9.76876497e-01,\n",
       "          -1.51759326e+00, -4.60879862e-01],\n",
       "         [-7.56157219e-01, -6.18261218e-01,  8.42143714e-01,\n",
       "           1.14767754e+00,  6.50621712e-01, -8.43034565e-01,\n",
       "          -5.97205102e-01,  2.27070466e-01],\n",
       "         [-1.23591530e+00,  4.25966591e-01, -3.82168084e-01,\n",
       "          -6.53012753e-01,  8.99823233e-02, -4.00241107e-01,\n",
       "           1.90613829e-02, -6.92083761e-02],\n",
       "         [-2.65684705e-02, -1.08211482e+00,  6.23817854e-02,\n",
       "          -1.55559883e-01, -6.75854862e-01,  1.36307731e-01,\n",
       "          -1.46583959e-01, -1.89026356e+00],\n",
       "         [-1.52017510e+00, -1.37598738e-01,  7.26633072e-02,\n",
       "           1.15952468e+00, -1.36279702e+00, -1.63187897e+00,\n",
       "          -1.48409069e+00,  1.33936393e+00],\n",
       "         [ 8.87262404e-01,  1.03966951e+00, -7.17164343e-03,\n",
       "           4.74792600e-01, -8.11751366e-01, -1.25459421e+00,\n",
       "           1.48796842e-01, -3.42737705e-01],\n",
       "         [-1.03697717e+00,  1.10641253e+00,  4.55296516e-01,\n",
       "           1.59384799e+00,  9.33954492e-02, -1.81820774e+00,\n",
       "          -5.96244307e-03, -1.90766111e-01],\n",
       "         [-2.18825150e+00,  3.87935281e-01, -2.67913043e-02,\n",
       "          -2.50620484e-01, -4.99969155e-01,  3.59088004e-01,\n",
       "          -5.07615924e-01,  2.63783216e-01],\n",
       "         [ 1.19752407e+00,  1.00624785e-01, -5.80167472e-01,\n",
       "           1.91466615e-01, -1.30430532e+00,  2.49024972e-01,\n",
       "           5.58615290e-02, -1.86456501e-01],\n",
       "         [ 1.72770989e+00,  4.46506262e-01, -2.21106148e+00,\n",
       "           1.63205421e+00, -2.50733471e+00, -4.96186614e-02,\n",
       "           5.19546092e-01, -3.14904332e-01],\n",
       "         [ 6.64519906e-01,  1.87133744e-01, -1.72469461e+00,\n",
       "           1.46326971e+00,  1.18939435e+00,  8.54198754e-01,\n",
       "           1.47577262e+00,  1.27160490e-01],\n",
       "         [-7.11191744e-02, -1.46178007e+00, -2.32979512e+00,\n",
       "          -2.84214228e-01,  1.49097651e-01, -1.16897631e+00,\n",
       "           2.12709889e-01, -1.56421745e+00],\n",
       "         [-6.27472878e-01, -3.03942263e-01,  7.15000451e-01,\n",
       "          -2.95042276e-01, -5.34982026e-01,  1.65960819e-01,\n",
       "           9.05378520e-01, -1.34299815e+00],\n",
       "         [ 1.66506541e+00,  1.11061025e+00, -3.79186749e-01,\n",
       "           8.88690650e-01, -1.18856776e+00, -5.52029669e-01,\n",
       "           9.69237462e-02, -1.02847147e+00],\n",
       "         [-1.53807819e+00, -1.08423626e+00, -8.49006832e-01,\n",
       "           7.14482963e-01,  4.27674592e-01, -9.49204981e-01,\n",
       "           2.29298860e-01,  3.23362327e+00],\n",
       "         [ 6.72556818e-01, -4.98385251e-01, -5.83879411e-01,\n",
       "           1.19207060e+00,  6.52713776e-02, -1.01294950e-01,\n",
       "           6.82760537e-01,  4.75915074e-01],\n",
       "         [-1.24348164e+00, -1.51623595e+00, -2.33092178e-02,\n",
       "           6.30268514e-01,  3.17297518e-01, -1.03161645e+00,\n",
       "           1.56831098e+00,  2.82364070e-01]]], dtype=float32)>]"
      ]
     },
     "execution_count": 70,
     "metadata": {},
     "output_type": "execute_result"
    }
   ],
   "source": [
    "tf.unstack(s, num=4,axis=1)"
   ]
  },
  {
   "cell_type": "code",
   "execution_count": 71,
   "metadata": {},
   "outputs": [],
   "source": [
    "res = tf.split(s, axis=3, num_or_size_splits=2) # split分割"
   ]
  },
  {
   "cell_type": "code",
   "execution_count": 72,
   "metadata": {},
   "outputs": [
    {
     "data": {
      "text/plain": [
       "2"
      ]
     },
     "execution_count": 72,
     "metadata": {},
     "output_type": "execute_result"
    }
   ],
   "source": [
    "len(res)"
   ]
  },
  {
   "cell_type": "code",
   "execution_count": 73,
   "metadata": {},
   "outputs": [
    {
     "data": {
      "text/plain": [
       "(TensorShape([2, 4, 35, 4]), TensorShape([2, 4, 35, 4]))"
      ]
     },
     "execution_count": 73,
     "metadata": {},
     "output_type": "execute_result"
    }
   ],
   "source": [
    "res[0].shape, res[1].shape"
   ]
  },
  {
   "cell_type": "code",
   "execution_count": 74,
   "metadata": {},
   "outputs": [],
   "source": [
    "res = tf.split(s, axis=3, num_or_size_splits=[2,3,3])  # split可以指定分割的数量大小"
   ]
  },
  {
   "cell_type": "code",
   "execution_count": 75,
   "metadata": {},
   "outputs": [
    {
     "data": {
      "text/plain": [
       "3"
      ]
     },
     "execution_count": 75,
     "metadata": {},
     "output_type": "execute_result"
    }
   ],
   "source": [
    "len(res)"
   ]
  },
  {
   "cell_type": "code",
   "execution_count": 76,
   "metadata": {},
   "outputs": [
    {
     "data": {
      "text/plain": [
       "(TensorShape([2, 4, 35, 2]),\n",
       " TensorShape([2, 4, 35, 3]),\n",
       " TensorShape([2, 4, 35, 3]))"
      ]
     },
     "execution_count": 76,
     "metadata": {},
     "output_type": "execute_result"
    }
   ],
   "source": [
    "res[0].shape, res[1].shape, res[2].shape"
   ]
  },
  {
   "cell_type": "markdown",
   "metadata": {},
   "source": [
    "# 数据统计"
   ]
  },
  {
   "cell_type": "markdown",
   "metadata": {},
   "source": [
    "L2范数"
   ]
  },
  {
   "cell_type": "code",
   "execution_count": 3,
   "metadata": {},
   "outputs": [],
   "source": [
    "d = tf.ones([2,2])"
   ]
  },
  {
   "cell_type": "code",
   "execution_count": 2,
   "metadata": {},
   "outputs": [],
   "source": [
    "import tensorflow as tf"
   ]
  },
  {
   "cell_type": "code",
   "execution_count": 4,
   "metadata": {},
   "outputs": [
    {
     "data": {
      "text/plain": [
       "<tf.Tensor: id=7, shape=(), dtype=float32, numpy=2.0>"
      ]
     },
     "execution_count": 4,
     "metadata": {},
     "output_type": "execute_result"
    }
   ],
   "source": [
    "tf.norm(d) # d的L2范数"
   ]
  },
  {
   "cell_type": "code",
   "execution_count": 5,
   "metadata": {},
   "outputs": [
    {
     "data": {
      "text/plain": [
       "<tf.Tensor: id=11, shape=(), dtype=float32, numpy=2.0>"
      ]
     },
     "execution_count": 5,
     "metadata": {},
     "output_type": "execute_result"
    }
   ],
   "source": [
    "tf.sqrt(tf.reduce_sum(tf.square(d)))"
   ]
  },
  {
   "cell_type": "markdown",
   "metadata": {},
   "source": [
    "L1范数"
   ]
  },
  {
   "cell_type": "code",
   "execution_count": 6,
   "metadata": {},
   "outputs": [
    {
     "data": {
      "text/plain": [
       "<tf.Tensor: id=16, shape=(2,), dtype=float32, numpy=array([1.4142135, 1.4142135], dtype=float32)>"
      ]
     },
     "execution_count": 6,
     "metadata": {},
     "output_type": "execute_result"
    }
   ],
   "source": [
    "tf.norm(d,ord=2, axis=1) # 1轴上的L2范数"
   ]
  },
  {
   "cell_type": "code",
   "execution_count": 7,
   "metadata": {},
   "outputs": [
    {
     "data": {
      "text/plain": [
       "<tf.Tensor: id=20, shape=(), dtype=float32, numpy=4.0>"
      ]
     },
     "execution_count": 7,
     "metadata": {},
     "output_type": "execute_result"
    }
   ],
   "source": [
    "tf.norm(d, ord=1) # d的L1范数"
   ]
  },
  {
   "cell_type": "code",
   "execution_count": 8,
   "metadata": {},
   "outputs": [
    {
     "data": {
      "text/plain": [
       "<tf.Tensor: id=24, shape=(2,), dtype=float32, numpy=array([2., 2.], dtype=float32)>"
      ]
     },
     "execution_count": 8,
     "metadata": {},
     "output_type": "execute_result"
    }
   ],
   "source": [
    "tf.norm(d, ord=1, axis=0) # 0轴上的L1范数|"
   ]
  },
  {
   "cell_type": "markdown",
   "metadata": {},
   "source": [
    "reduce_min/max/mean"
   ]
  },
  {
   "cell_type": "code",
   "execution_count": 11,
   "metadata": {},
   "outputs": [
    {
     "data": {
      "text/plain": [
       "<tf.Tensor: id=28, shape=(2,), dtype=float32, numpy=array([2., 2.], dtype=float32)>"
      ]
     },
     "execution_count": 11,
     "metadata": {},
     "output_type": "execute_result"
    }
   ],
   "source": [
    "tf.norm(d, ord=1, axis=1)"
   ]
  },
  {
   "cell_type": "code",
   "execution_count": 12,
   "metadata": {},
   "outputs": [],
   "source": [
    "n = tf.random.normal([4,10])"
   ]
  },
  {
   "cell_type": "code",
   "execution_count": 13,
   "metadata": {},
   "outputs": [
    {
     "data": {
      "text/plain": [
       "<tf.Tensor: id=36, shape=(), dtype=float32, numpy=1.9441375>"
      ]
     },
     "execution_count": 13,
     "metadata": {},
     "output_type": "execute_result"
    }
   ],
   "source": [
    "tf.reduce_max(n) # 最大值"
   ]
  },
  {
   "cell_type": "code",
   "execution_count": 14,
   "metadata": {},
   "outputs": [
    {
     "data": {
      "text/plain": [
       "<tf.Tensor: id=38, shape=(), dtype=float32, numpy=-1.5346514>"
      ]
     },
     "execution_count": 14,
     "metadata": {},
     "output_type": "execute_result"
    }
   ],
   "source": [
    "tf.reduce_min(n) # 最小值"
   ]
  },
  {
   "cell_type": "code",
   "execution_count": 15,
   "metadata": {},
   "outputs": [
    {
     "data": {
      "text/plain": [
       "<tf.Tensor: id=40, shape=(), dtype=float32, numpy=-0.19149314>"
      ]
     },
     "execution_count": 15,
     "metadata": {},
     "output_type": "execute_result"
    }
   ],
   "source": [
    "tf.reduce_mean(n)"
   ]
  },
  {
   "cell_type": "code",
   "execution_count": 16,
   "metadata": {},
   "outputs": [
    {
     "data": {
      "text/plain": [
       "<tf.Tensor: id=42, shape=(4,), dtype=float32, numpy=array([-1.4904352 , -1.337467  , -1.5346514 , -0.80772364], dtype=float32)>"
      ]
     },
     "execution_count": 16,
     "metadata": {},
     "output_type": "execute_result"
    }
   ],
   "source": [
    "tf.reduce_min(n, axis=1)"
   ]
  },
  {
   "cell_type": "markdown",
   "metadata": {},
   "source": [
    "argmax/argmin"
   ]
  },
  {
   "cell_type": "code",
   "execution_count": 17,
   "metadata": {},
   "outputs": [],
   "source": [
    "m = tf.constant([5,2,6,9])"
   ]
  },
  {
   "cell_type": "code",
   "execution_count": 18,
   "metadata": {},
   "outputs": [
    {
     "data": {
      "text/plain": [
       "<tf.Tensor: id=45, shape=(), dtype=int64, numpy=3>"
      ]
     },
     "execution_count": 18,
     "metadata": {},
     "output_type": "execute_result"
    }
   ],
   "source": [
    "tf.argmax(m)"
   ]
  },
  {
   "cell_type": "code",
   "execution_count": 19,
   "metadata": {},
   "outputs": [
    {
     "data": {
      "text/plain": [
       "<tf.Tensor: id=47, shape=(), dtype=int64, numpy=1>"
      ]
     },
     "execution_count": 19,
     "metadata": {},
     "output_type": "execute_result"
    }
   ],
   "source": [
    "tf.argmin(m)"
   ]
  },
  {
   "cell_type": "code",
   "execution_count": 20,
   "metadata": {},
   "outputs": [],
   "source": [
    "g = tf.constant([[1,3,5,2], [2,4,6,1]])"
   ]
  },
  {
   "cell_type": "code",
   "execution_count": 21,
   "metadata": {},
   "outputs": [
    {
     "data": {
      "text/plain": [
       "<tf.Tensor: id=48, shape=(2, 4), dtype=int32, numpy=\n",
       "array([[1, 3, 5, 2],\n",
       "       [2, 4, 6, 1]], dtype=int32)>"
      ]
     },
     "execution_count": 21,
     "metadata": {},
     "output_type": "execute_result"
    }
   ],
   "source": [
    "g"
   ]
  },
  {
   "cell_type": "code",
   "execution_count": 22,
   "metadata": {},
   "outputs": [
    {
     "data": {
      "text/plain": [
       "<tf.Tensor: id=50, shape=(4,), dtype=int64, numpy=array([1, 1, 1, 0])>"
      ]
     },
     "execution_count": 22,
     "metadata": {},
     "output_type": "execute_result"
    }
   ],
   "source": [
    "tf.argmax(g, axis=0)"
   ]
  },
  {
   "cell_type": "code",
   "execution_count": 23,
   "metadata": {},
   "outputs": [
    {
     "data": {
      "text/plain": [
       "<tf.Tensor: id=52, shape=(2,), dtype=int64, numpy=array([0, 3])>"
      ]
     },
     "execution_count": 23,
     "metadata": {},
     "output_type": "execute_result"
    }
   ],
   "source": [
    "tf.argmin(g, axis=1)"
   ]
  },
  {
   "cell_type": "markdown",
   "metadata": {},
   "source": [
    "tf.equal"
   ]
  },
  {
   "cell_type": "code",
   "execution_count": 24,
   "metadata": {},
   "outputs": [],
   "source": [
    "l1 = tf.constant([1,2,3,2,5])"
   ]
  },
  {
   "cell_type": "code",
   "execution_count": 25,
   "metadata": {},
   "outputs": [],
   "source": [
    "l2 = range(5)"
   ]
  },
  {
   "cell_type": "code",
   "execution_count": 26,
   "metadata": {},
   "outputs": [
    {
     "data": {
      "text/plain": [
       "<tf.Tensor: id=55, shape=(5,), dtype=bool, numpy=array([False, False, False, False, False])>"
      ]
     },
     "execution_count": 26,
     "metadata": {},
     "output_type": "execute_result"
    }
   ],
   "source": [
    "tf.equal(l1,l2)"
   ]
  },
  {
   "cell_type": "code",
   "execution_count": 27,
   "metadata": {},
   "outputs": [
    {
     "data": {
      "text/plain": [
       "range(0, 5)"
      ]
     },
     "execution_count": 27,
     "metadata": {},
     "output_type": "execute_result"
    }
   ],
   "source": [
    "l2"
   ]
  },
  {
   "cell_type": "markdown",
   "metadata": {},
   "source": [
    "tf.unique"
   ]
  },
  {
   "cell_type": "code",
   "execution_count": 28,
   "metadata": {},
   "outputs": [
    {
     "data": {
      "text/plain": [
       "Unique(y=<tf.Tensor: id=57, shape=(4,), dtype=int32, numpy=array([5, 1, 3, 6], dtype=int32)>, idx=<tf.Tensor: id=58, shape=(6,), dtype=int32, numpy=array([0, 0, 1, 2, 3, 1], dtype=int32)>)"
      ]
     },
     "execution_count": 28,
     "metadata": {},
     "output_type": "execute_result"
    }
   ],
   "source": [
    "tf.unique([5,5,1,3,6,1])"
   ]
  },
  {
   "cell_type": "code",
   "execution_count": 29,
   "metadata": {},
   "outputs": [
    {
     "data": {
      "text/plain": [
       "Unique(y=<tf.Tensor: id=60, shape=(4,), dtype=int32, numpy=array([5, 1, 3, 6], dtype=int32)>, idx=<tf.Tensor: id=61, shape=(6,), dtype=int32, numpy=array([0, 0, 1, 2, 3, 1], dtype=int32)>)"
      ]
     },
     "execution_count": 29,
     "metadata": {},
     "output_type": "execute_result"
    }
   ],
   "source": [
    "tf.unique(tf.constant([5,5,1,3,6,1]))"
   ]
  }
 ],
 "metadata": {
  "kernelspec": {
   "display_name": "Python 3",
   "language": "python",
   "name": "python3"
  },
  "language_info": {
   "codemirror_mode": {
    "name": "ipython",
    "version": 3
   },
   "file_extension": ".py",
   "mimetype": "text/x-python",
   "name": "python",
   "nbconvert_exporter": "python",
   "pygments_lexer": "ipython3",
   "version": "3.6.5"
  }
 },
 "nbformat": 4,
 "nbformat_minor": 1
}
