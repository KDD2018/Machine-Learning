{
 "cells": [
  {
   "cell_type": "code",
   "execution_count": 1,
   "id": "d4ad68a3-2c08-48f1-a2fe-dcd1187ab4e8",
   "metadata": {},
   "outputs": [],
   "source": [
    "import torch \n",
    "from torchvision import datasets\n",
    "from torchvision.transforms import ToTensor, Lambda"
   ]
  },
  {
   "cell_type": "code",
   "execution_count": 8,
   "id": "63518099-1e61-45eb-8df5-2af8b4c481f2",
   "metadata": {},
   "outputs": [],
   "source": [
    "ds = datasets.FashionMNIST(\n",
    "    root='data',\n",
    "    train=True,\n",
    "    download=True,\n",
    "    transform=ToTensor(),\n",
    "    target_transform=Lambda(lambda y: \n",
    "                            torch.zeros(10, dtype=torch.float).scatter_(0, torch.tensor(y), value=1))\n",
    ")"
   ]
  },
  {
   "cell_type": "markdown",
   "id": "1c9a6214-92ac-44ba-912d-660cac534f6f",
   "metadata": {},
   "source": [
    "###  scatter_ which assigns a value=1 on the index as given by the label y"
   ]
  },
  {
   "cell_type": "code",
   "execution_count": 9,
   "id": "67a2850c-6ee8-4a51-85f0-befce5794d26",
   "metadata": {},
   "outputs": [
    {
     "data": {
      "text/plain": [
       "Dataset FashionMNIST\n",
       "    Number of datapoints: 60000\n",
       "    Root location: data\n",
       "    Split: Train\n",
       "    StandardTransform\n",
       "Transform: ToTensor()\n",
       "Target transform: Lambda()"
      ]
     },
     "execution_count": 9,
     "metadata": {},
     "output_type": "execute_result"
    }
   ],
   "source": [
    "ds"
   ]
  },
  {
   "cell_type": "code",
   "execution_count": 10,
   "id": "4892d7c1-aebc-486a-beba-696d3317938a",
   "metadata": {},
   "outputs": [],
   "source": [
    "from torch.utils.data import DataLoader\n",
    "data = DataLoader(ds, batch_size=2)"
   ]
  },
  {
   "cell_type": "code",
   "execution_count": 12,
   "id": "7e47b7c8-d1ec-4ff0-93a3-6abdf63b50fb",
   "metadata": {},
   "outputs": [
    {
     "name": "stdout",
     "output_type": "stream",
     "text": [
      "torch.Size([2, 1, 28, 28]) torch.Size([2, 10])\n"
     ]
    }
   ],
   "source": [
    "for X, y in data:\n",
    "    print(X.size(), y.size())\n",
    "    break"
   ]
  },
  {
   "cell_type": "markdown",
   "id": "eb4f5de4-fc59-46eb-8ef2-b13f4c7488cf",
   "metadata": {},
   "source": [
    "## Scriptable transforms\n",
    "- 通过即时运行的脚本实现图像变换"
   ]
  },
  {
   "cell_type": "code",
   "execution_count": 13,
   "id": "153b3fc8-ef94-4d4f-8ee5-55a8cb0de98e",
   "metadata": {},
   "outputs": [],
   "source": [
    "from torchvision import transforms"
   ]
  },
  {
   "cell_type": "code",
   "execution_count": 14,
   "id": "334cfd7f-ddbd-43df-b608-949ac344bc58",
   "metadata": {},
   "outputs": [],
   "source": [
    "transform = torch.nn.Sequential(\n",
    "    transforms.CenterCrop(10),\n",
    "    transforms.Normalize((0.485, 0.456, 0.406), (0.229, 0.224, 0.225))\n",
    ")\n",
    "\n",
    "scripted_transforms = torch.jit.script(transform)"
   ]
  },
  {
   "cell_type": "code",
   "execution_count": 15,
   "id": "2514d5db-da2e-4d43-a841-24c745a519d1",
   "metadata": {},
   "outputs": [
    {
     "data": {
      "text/plain": [
       "RecursiveScriptModule(\n",
       "  original_name=Sequential\n",
       "  (0): RecursiveScriptModule(original_name=CenterCrop)\n",
       "  (1): RecursiveScriptModule(original_name=Normalize)\n",
       ")"
      ]
     },
     "execution_count": 15,
     "metadata": {},
     "output_type": "execute_result"
    }
   ],
   "source": [
    "scripted_transforms"
   ]
  },
  {
   "cell_type": "markdown",
   "id": "50ac1838-0bbc-4ea8-a0c2-25aa8263f88f",
   "metadata": {},
   "source": [
    "\n",
    "- Sequential中自定义的transform必须是scriptable，即transform是作用于torch.Tensor，不能是PIL.Image 和 lanbda functions\n",
    "- Sequential中自定义的transform必须是继承自torch.nn.module"
   ]
  },
  {
   "cell_type": "markdown",
   "id": "23110c39-1c1c-4fbf-9758-4d145d8d0fd9",
   "metadata": {},
   "source": [
    "## Functional Transforms\n",
    "- 可更细致地控制transform，需要指定所有参数"
   ]
  },
  {
   "cell_type": "code",
   "execution_count": 16,
   "id": "91efb561-f904-4a51-9830-f672d4c30a5a",
   "metadata": {},
   "outputs": [],
   "source": [
    "import torchvision.transforms.functional as TF\n",
    "import random"
   ]
  },
  {
   "cell_type": "code",
   "execution_count": 17,
   "id": "af7e28c4-49f5-4d02-9ca9-5e9a909cd944",
   "metadata": {},
   "outputs": [],
   "source": [
    "class MyRotationTransform:\n",
    "    def __init__(self, angles):\n",
    "        self.angles = angles\n",
    "        \n",
    "    def __call__(self, x):\n",
    "        angle = random.choice(self.angles)\n",
    "        return TF.rotate(x, angle)"
   ]
  },
  {
   "cell_type": "code",
   "execution_count": 18,
   "id": "849d7d8c-4141-46ba-a053-56306613cd03",
   "metadata": {},
   "outputs": [],
   "source": [
    "rotation_transform = MyRotationTransform(angles=[-30, -15])"
   ]
  },
  {
   "cell_type": "code",
   "execution_count": 19,
   "id": "57a2dd2c-abf2-4c34-860e-28c155a82b80",
   "metadata": {},
   "outputs": [
    {
     "data": {
      "text/plain": [
       "<__main__.MyRotationTransform at 0x7fbe82b148b0>"
      ]
     },
     "execution_count": 19,
     "metadata": {},
     "output_type": "execute_result"
    }
   ],
   "source": [
    "rotation_transform"
   ]
  },
  {
   "cell_type": "code",
   "execution_count": null,
   "id": "833dd764-8bf1-4609-ade0-c56bce1618fc",
   "metadata": {},
   "outputs": [],
   "source": []
  }
 ],
 "metadata": {
  "kernelspec": {
   "display_name": "Python 3",
   "language": "python",
   "name": "python3"
  },
  "language_info": {
   "codemirror_mode": {
    "name": "ipython",
    "version": 3
   },
   "file_extension": ".py",
   "mimetype": "text/x-python",
   "name": "python",
   "nbconvert_exporter": "python",
   "pygments_lexer": "ipython3",
   "version": "3.8.10"
  }
 },
 "nbformat": 4,
 "nbformat_minor": 5
}
