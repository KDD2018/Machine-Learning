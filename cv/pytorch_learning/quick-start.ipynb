{
 "cells": [
  {
   "cell_type": "code",
   "execution_count": 1,
   "id": "de127669-60c0-4be2-9bf5-34443ad18e0f",
   "metadata": {},
   "outputs": [],
   "source": [
    "import torch\n",
    "from torch import nn\n",
    "from torch.utils.data import DataLoader\n",
    "from torchvision import datasets\n",
    "from torchvision.transforms import ToTensor"
   ]
  },
  {
   "cell_type": "markdown",
   "id": "d7b78353-f8b7-451f-91e2-2b8021c18913",
   "metadata": {},
   "source": [
    "## Download training and test data from open datasets"
   ]
  },
  {
   "cell_type": "code",
   "execution_count": 2,
   "id": "82623166-f22a-4f45-bd99-5de58c7f7ded",
   "metadata": {},
   "outputs": [
    {
     "name": "stdout",
     "output_type": "stream",
     "text": [
      "Downloading http://fashion-mnist.s3-website.eu-central-1.amazonaws.com/train-images-idx3-ubyte.gz\n",
      "Downloading http://fashion-mnist.s3-website.eu-central-1.amazonaws.com/train-images-idx3-ubyte.gz to data/FashionMNIST/raw/train-images-idx3-ubyte.gz\n"
     ]
    },
    {
     "name": "stderr",
     "output_type": "stream",
     "text": [
      "100%|██████████| 26421880/26421880 [00:04<00:00, 5957012.27it/s]\n"
     ]
    },
    {
     "name": "stdout",
     "output_type": "stream",
     "text": [
      "Extracting data/FashionMNIST/raw/train-images-idx3-ubyte.gz to data/FashionMNIST/raw\n",
      "\n",
      "Downloading http://fashion-mnist.s3-website.eu-central-1.amazonaws.com/train-labels-idx1-ubyte.gz\n",
      "Downloading http://fashion-mnist.s3-website.eu-central-1.amazonaws.com/train-labels-idx1-ubyte.gz to data/FashionMNIST/raw/train-labels-idx1-ubyte.gz\n"
     ]
    },
    {
     "name": "stderr",
     "output_type": "stream",
     "text": [
      "100%|██████████| 29515/29515 [00:00<00:00, 146706.47it/s]\n"
     ]
    },
    {
     "name": "stdout",
     "output_type": "stream",
     "text": [
      "Extracting data/FashionMNIST/raw/train-labels-idx1-ubyte.gz to data/FashionMNIST/raw\n",
      "\n",
      "Downloading http://fashion-mnist.s3-website.eu-central-1.amazonaws.com/t10k-images-idx3-ubyte.gz\n",
      "Downloading http://fashion-mnist.s3-website.eu-central-1.amazonaws.com/t10k-images-idx3-ubyte.gz to data/FashionMNIST/raw/t10k-images-idx3-ubyte.gz\n"
     ]
    },
    {
     "name": "stderr",
     "output_type": "stream",
     "text": [
      "100%|██████████| 4422102/4422102 [00:07<00:00, 589170.52it/s]\n"
     ]
    },
    {
     "name": "stdout",
     "output_type": "stream",
     "text": [
      "Extracting data/FashionMNIST/raw/t10k-images-idx3-ubyte.gz to data/FashionMNIST/raw\n",
      "\n",
      "Downloading http://fashion-mnist.s3-website.eu-central-1.amazonaws.com/t10k-labels-idx1-ubyte.gz\n",
      "Downloading http://fashion-mnist.s3-website.eu-central-1.amazonaws.com/t10k-labels-idx1-ubyte.gz to data/FashionMNIST/raw/t10k-labels-idx1-ubyte.gz\n"
     ]
    },
    {
     "name": "stderr",
     "output_type": "stream",
     "text": [
      "100%|██████████| 5148/5148 [00:00<00:00, 26332045.11it/s]"
     ]
    },
    {
     "name": "stdout",
     "output_type": "stream",
     "text": [
      "Extracting data/FashionMNIST/raw/t10k-labels-idx1-ubyte.gz to data/FashionMNIST/raw\n",
      "\n"
     ]
    },
    {
     "name": "stderr",
     "output_type": "stream",
     "text": [
      "\n"
     ]
    }
   ],
   "source": [
    "training_data = datasets.FashionMNIST(\n",
    "    root='data',\n",
    "    train=True,\n",
    "    download=True,\n",
    "    transform=ToTensor(),\n",
    ")\n",
    "\n",
    "test_data = datasets.FashionMNIST(\n",
    "    root='data',\n",
    "    train=False,\n",
    "    download=True,\n",
    "    transform=ToTensor(),\n",
    ")"
   ]
  },
  {
   "cell_type": "markdown",
   "id": "f9a29be6-c04f-45fe-b60d-da2cd385817a",
   "metadata": {},
   "source": [
    "## Create data loaders"
   ]
  },
  {
   "cell_type": "code",
   "execution_count": 3,
   "id": "14b8a20b-1e32-41d9-8010-8e5643e30374",
   "metadata": {},
   "outputs": [],
   "source": [
    "batch_size = 64"
   ]
  },
  {
   "cell_type": "code",
   "execution_count": 4,
   "id": "04cc190a-ec36-4d99-83be-38d3cb687448",
   "metadata": {},
   "outputs": [],
   "source": [
    "train_dataloader = DataLoader(training_data, batch_size=batch_size)\n",
    "test_dataloader = DataLoader(test_data, batch_size=batch_size)"
   ]
  },
  {
   "cell_type": "code",
   "execution_count": 5,
   "id": "3ce0a34f-5511-4bec-9b9a-33ecd5ccc68a",
   "metadata": {},
   "outputs": [
    {
     "data": {
      "text/plain": [
       "<torch.utils.data.dataloader.DataLoader at 0x7f412208b160>"
      ]
     },
     "execution_count": 5,
     "metadata": {},
     "output_type": "execute_result"
    }
   ],
   "source": [
    "train_dataloader"
   ]
  },
  {
   "cell_type": "code",
   "execution_count": 6,
   "id": "1b2efeb4-d730-45cd-bce5-c7e10e271426",
   "metadata": {},
   "outputs": [
    {
     "name": "stdout",
     "output_type": "stream",
     "text": [
      "Shape of X [N, C, H, W]: torch.Size([64, 1, 28, 28])\n",
      "Shape of y: torch.Size([64]) torch.int64\n"
     ]
    }
   ],
   "source": [
    "for X, y in test_dataloader:\n",
    "    print(f'Shape of X [N, C, H, W]: {X.shape}')\n",
    "    print(f'Shape of y: {y.shape} {y.dtype}')\n",
    "    break"
   ]
  },
  {
   "cell_type": "markdown",
   "id": "3cf343d6-c6da-4342-aa9e-a48280025324",
   "metadata": {},
   "source": [
    "## Ceating Models"
   ]
  },
  {
   "cell_type": "code",
   "execution_count": 7,
   "id": "a59b51d9-d3e3-47c0-a31f-1a8aaa815d25",
   "metadata": {},
   "outputs": [
    {
     "name": "stdout",
     "output_type": "stream",
     "text": [
      "Using cpu device\n"
     ]
    }
   ],
   "source": [
    "device = 'cuda' if torch.cuda.is_available() else 'cpu'\n",
    "print(f'Using {device} device')"
   ]
  },
  {
   "cell_type": "code",
   "execution_count": 8,
   "id": "9423d173-24b7-4612-9268-f70857c4829a",
   "metadata": {},
   "outputs": [],
   "source": [
    "# Define model\n",
    "class NeuralNetwork(nn.Module):\n",
    "    def __init__(self):\n",
    "        super(NeuralNetwork, self).__init__()\n",
    "        self.flatten = nn.Flatten()\n",
    "        self.linear_relu_stack = nn.Sequential(\n",
    "            nn.Linear(28*28, 512),\n",
    "            nn.ReLU(),\n",
    "            nn.Linear(512, 512),\n",
    "            nn.ReLU(),\n",
    "            nn.Linear(512, 10)\n",
    "        )\n",
    "        \n",
    "    def forward(self, x):\n",
    "        x = self.flatten(x)\n",
    "        logits = self.linear_relu_stack(x)\n",
    "        return logits"
   ]
  },
  {
   "cell_type": "code",
   "execution_count": 9,
   "id": "66ea857e-a72f-4f36-a44f-050a51b7831e",
   "metadata": {},
   "outputs": [
    {
     "name": "stdout",
     "output_type": "stream",
     "text": [
      "NeuralNetwork(\n",
      "  (flatten): Flatten(start_dim=1, end_dim=-1)\n",
      "  (linear_relu_stack): Sequential(\n",
      "    (0): Linear(in_features=784, out_features=512, bias=True)\n",
      "    (1): ReLU()\n",
      "    (2): Linear(in_features=512, out_features=512, bias=True)\n",
      "    (3): ReLU()\n",
      "    (4): Linear(in_features=512, out_features=10, bias=True)\n",
      "  )\n",
      ")\n"
     ]
    }
   ],
   "source": [
    "model = NeuralNetwork().to(device)\n",
    "print(model)"
   ]
  },
  {
   "cell_type": "code",
   "execution_count": 10,
   "id": "7b30d6aa-bdad-42b5-a861-ab136a6c0167",
   "metadata": {},
   "outputs": [
    {
     "data": {
      "text/plain": [
       "<bound method Module.parameters of NeuralNetwork(\n",
       "  (flatten): Flatten(start_dim=1, end_dim=-1)\n",
       "  (linear_relu_stack): Sequential(\n",
       "    (0): Linear(in_features=784, out_features=512, bias=True)\n",
       "    (1): ReLU()\n",
       "    (2): Linear(in_features=512, out_features=512, bias=True)\n",
       "    (3): ReLU()\n",
       "    (4): Linear(in_features=512, out_features=10, bias=True)\n",
       "  )\n",
       ")>"
      ]
     },
     "execution_count": 10,
     "metadata": {},
     "output_type": "execute_result"
    }
   ],
   "source": [
    "model.parameters"
   ]
  },
  {
   "cell_type": "code",
   "execution_count": 11,
   "id": "a0ebe765-394b-44cf-a06f-6dd659e1f329",
   "metadata": {},
   "outputs": [
    {
     "data": {
      "text/plain": [
       "<generator object Module.parameters at 0x7f411a7e6f20>"
      ]
     },
     "execution_count": 11,
     "metadata": {},
     "output_type": "execute_result"
    }
   ],
   "source": [
    "model.parameters()"
   ]
  },
  {
   "cell_type": "code",
   "execution_count": 13,
   "id": "3ec75d85-b7c9-4061-8c30-dff9abf0aa0d",
   "metadata": {},
   "outputs": [
    {
     "data": {
      "text/plain": [
       "6"
      ]
     },
     "execution_count": 13,
     "metadata": {},
     "output_type": "execute_result"
    }
   ],
   "source": [
    "len(list(model.parameters()))"
   ]
  },
  {
   "cell_type": "code",
   "execution_count": 14,
   "id": "c3598070-610b-4db3-9ac7-4d83f5a43f29",
   "metadata": {},
   "outputs": [
    {
     "name": "stdout",
     "output_type": "stream",
     "text": [
      "Parameter containing:\n",
      "tensor([[ 0.0033,  0.0273,  0.0095,  ..., -0.0124, -0.0133,  0.0237],\n",
      "        [-0.0136, -0.0309, -0.0330,  ...,  0.0257,  0.0227, -0.0313],\n",
      "        [-0.0228,  0.0107, -0.0223,  ..., -0.0137,  0.0195, -0.0132],\n",
      "        ...,\n",
      "        [-0.0287, -0.0035,  0.0032,  ..., -0.0113, -0.0201, -0.0093],\n",
      "        [ 0.0113, -0.0235, -0.0014,  ..., -0.0185, -0.0119,  0.0009],\n",
      "        [-0.0267, -0.0038,  0.0106,  ...,  0.0012,  0.0214, -0.0121]],\n",
      "       requires_grad=True)\n"
     ]
    }
   ],
   "source": [
    "for i in model.parameters():\n",
    "    print(i)\n",
    "    break"
   ]
  },
  {
   "cell_type": "markdown",
   "id": "0dfb2bef-9e56-4cdb-a6c1-4446de8d6529",
   "metadata": {},
   "source": [
    "## Optimizing the Model Parameters"
   ]
  },
  {
   "cell_type": "code",
   "execution_count": 15,
   "id": "3701dd5a-c963-4780-a6bf-09f98e10740f",
   "metadata": {},
   "outputs": [],
   "source": [
    "loss_fn = nn.CrossEntropyLoss()\n",
    "optimizer = torch.optim.SGD(model.parameters(), lr=1e-3)"
   ]
  },
  {
   "cell_type": "code",
   "execution_count": 19,
   "id": "56a44e84-dfe2-4eaf-8d78-7ca9c62d0840",
   "metadata": {},
   "outputs": [],
   "source": [
    "def train(dataloader, model, loss_fn, optimizer):\n",
    "    size = len(dataloader.dataset)\n",
    "    model.train()\n",
    "    for batch, (X, y) in enumerate(dataloader):\n",
    "        X, y = X.to(device), y.to(device)\n",
    "        \n",
    "        # Compute prediction error \n",
    "        pred = model(X)\n",
    "        loss = loss_fn(pred, y)\n",
    "        \n",
    "        # Backpropagation\n",
    "        optimizer.zero_grad()\n",
    "        loss.backward()\n",
    "        optimizer.step()\n",
    "        \n",
    "        if batch % 100 == 0:\n",
    "            loss, current = loss.item(), batch * len(X)\n",
    "            print(f'loss: {loss:>7f}  [{current:>5d}/{size:>5d}]')\n",
    "            "
   ]
  },
  {
   "cell_type": "code",
   "execution_count": 22,
   "id": "0088fa59-d648-4387-8562-99dc92eb627b",
   "metadata": {},
   "outputs": [],
   "source": [
    "def test(dataloader, model, loss_fn):\n",
    "    size = len(dataloader.dataset)\n",
    "    num_batches = len(dataloader)\n",
    "    model.eval()\n",
    "    test_loss, correct = 0, 0\n",
    "    with torch.no_grad():\n",
    "        for X, y in dataloader:\n",
    "            X, y = X.to(device), y.to(device)\n",
    "            pred = model(X)\n",
    "            test_loss += loss_fn(pred, y).item()\n",
    "            correct += (pred.argmax(1) == y).type(torch.float).sum().item()\n",
    "        test_loss /= num_batches\n",
    "        correct /= size\n",
    "        print(f\"Test Error: \\n Accuracy: {(100*correct):>0.1f}%, Avg loss: {test_loss:>8f} \\n\")"
   ]
  },
  {
   "cell_type": "code",
   "execution_count": 23,
   "id": "73cf9d21-0680-46bb-8121-3f6ff8704c8c",
   "metadata": {},
   "outputs": [
    {
     "name": "stdout",
     "output_type": "stream",
     "text": [
      "Epoch 1\n",
      "--------------------------------\n",
      "loss: 2.310035  [    0/60000]\n",
      "loss: 2.303258  [ 6400/60000]\n",
      "loss: 2.279186  [12800/60000]\n",
      "loss: 2.268244  [19200/60000]\n",
      "loss: 2.264480  [25600/60000]\n",
      "loss: 2.223747  [32000/60000]\n",
      "loss: 2.231352  [38400/60000]\n",
      "loss: 2.204265  [44800/60000]\n",
      "loss: 2.198878  [51200/60000]\n",
      "loss: 2.165134  [57600/60000]\n",
      "Test Error: \n",
      " Accuracy: 42.6%, Avg loss: 2.161363 \n",
      "\n",
      "Epoch 2\n",
      "--------------------------------\n",
      "loss: 2.173583  [    0/60000]\n",
      "loss: 2.167988  [ 6400/60000]\n",
      "loss: 2.114211  [12800/60000]\n",
      "loss: 2.126227  [19200/60000]\n",
      "loss: 2.089085  [25600/60000]\n",
      "loss: 2.022301  [32000/60000]\n",
      "loss: 2.047068  [38400/60000]\n",
      "loss: 1.980851  [44800/60000]\n",
      "loss: 1.976543  [51200/60000]\n",
      "loss: 1.912954  [57600/60000]\n",
      "Test Error: \n",
      " Accuracy: 59.4%, Avg loss: 1.907027 \n",
      "\n",
      "Epoch 3\n",
      "--------------------------------\n",
      "loss: 1.936014  [    0/60000]\n",
      "loss: 1.911894  [ 6400/60000]\n",
      "loss: 1.802120  [12800/60000]\n",
      "loss: 1.838289  [19200/60000]\n",
      "loss: 1.734155  [25600/60000]\n",
      "loss: 1.682503  [32000/60000]\n",
      "loss: 1.700357  [38400/60000]\n",
      "loss: 1.606765  [44800/60000]\n",
      "loss: 1.618458  [51200/60000]\n",
      "loss: 1.521469  [57600/60000]\n",
      "Test Error: \n",
      " Accuracy: 61.2%, Avg loss: 1.531844 \n",
      "\n",
      "Epoch 4\n",
      "--------------------------------\n",
      "loss: 1.595144  [    0/60000]\n",
      "loss: 1.561838  [ 6400/60000]\n",
      "loss: 1.415528  [12800/60000]\n",
      "loss: 1.484047  [19200/60000]\n",
      "loss: 1.366891  [25600/60000]\n",
      "loss: 1.358273  [32000/60000]\n",
      "loss: 1.374189  [38400/60000]\n",
      "loss: 1.299766  [44800/60000]\n",
      "loss: 1.326009  [51200/60000]\n",
      "loss: 1.233310  [57600/60000]\n",
      "Test Error: \n",
      " Accuracy: 63.9%, Avg loss: 1.253998 \n",
      "\n",
      "Epoch 5\n",
      "--------------------------------\n",
      "loss: 1.329470  [    0/60000]\n",
      "loss: 1.313225  [ 6400/60000]\n",
      "loss: 1.150493  [12800/60000]\n",
      "loss: 1.251004  [19200/60000]\n",
      "loss: 1.135159  [25600/60000]\n",
      "loss: 1.151455  [32000/60000]\n",
      "loss: 1.176112  [38400/60000]\n",
      "loss: 1.113349  [44800/60000]\n",
      "loss: 1.145943  [51200/60000]\n",
      "loss: 1.069499  [57600/60000]\n",
      "Test Error: \n",
      " Accuracy: 64.6%, Avg loss: 1.085159 \n",
      "\n",
      "Done!\n"
     ]
    }
   ],
   "source": [
    "epochs = 5\n",
    "for t in range(epochs):\n",
    "    print(f'Epoch {t+1}\\n--------------------------------')\n",
    "    train(train_dataloader, model, loss_fn, optimizer)\n",
    "    test(test_dataloader, model, loss_fn)\n",
    "print('Done!')"
   ]
  },
  {
   "cell_type": "markdown",
   "id": "3ffde3ea-4659-40e8-8308-aabd5c7d62f9",
   "metadata": {},
   "source": [
    "## Saving Models"
   ]
  },
  {
   "cell_type": "code",
   "execution_count": 24,
   "id": "69cb7a74-6b23-4a97-9dba-afb8b73dbab3",
   "metadata": {},
   "outputs": [
    {
     "name": "stdout",
     "output_type": "stream",
     "text": [
      "Saved Pytorch Model State to mymodel.pth\n"
     ]
    }
   ],
   "source": [
    "torch.save(model.state_dict(), 'mymodel.pth')\n",
    "print('Saved Pytorch Model State to mymodel.pth')"
   ]
  },
  {
   "cell_type": "markdown",
   "id": "76ce801c-25f3-4709-abee-a8d5c8a09144",
   "metadata": {},
   "source": [
    "## Loading Models"
   ]
  },
  {
   "cell_type": "code",
   "execution_count": 25,
   "id": "ab4c87a4-31df-4ded-845a-9b481ad1e992",
   "metadata": {},
   "outputs": [
    {
     "data": {
      "text/plain": [
       "<All keys matched successfully>"
      ]
     },
     "execution_count": 25,
     "metadata": {},
     "output_type": "execute_result"
    }
   ],
   "source": [
    "model = NeuralNetwork()\n",
    "model.load_state_dict(torch.load('mymodel.pth'))"
   ]
  },
  {
   "cell_type": "code",
   "execution_count": 29,
   "id": "79f5d2ea-f08a-4a14-ae21-2d920b94b4d1",
   "metadata": {},
   "outputs": [
    {
     "name": "stdout",
     "output_type": "stream",
     "text": [
      "Predicted: \"Pullover\", Actual: \"Coat\"\n"
     ]
    }
   ],
   "source": [
    "classes = [\n",
    "    \"T-shirt/top\",\n",
    "    \"Trouser\",\n",
    "    \"Pullover\",\n",
    "    \"Dress\",\n",
    "    \"Coat\",\n",
    "    \"Sandal\",\n",
    "    \"Shirt\",\n",
    "    \"Sneaker\",\n",
    "    \"Bag\",\n",
    "    \"Ankle boot\",\n",
    "]\n",
    "\n",
    "model.eval()\n",
    "x, y = test_data[10][0], test_data[10][1]\n",
    "with torch.no_grad():\n",
    "    pred = model(x)\n",
    "    predicted, actual = classes[pred[0].argmax(0)], classes[y]\n",
    "    print(f'Predicted: \"{predicted}\", Actual: \"{actual}\"')"
   ]
  },
  {
   "cell_type": "code",
   "execution_count": null,
   "id": "5715375d-24e6-4add-9f36-c0639c93680d",
   "metadata": {},
   "outputs": [],
   "source": []
  }
 ],
 "metadata": {
  "kernelspec": {
   "display_name": "Python 3",
   "language": "python",
   "name": "python3"
  },
  "language_info": {
   "codemirror_mode": {
    "name": "ipython",
    "version": 3
   },
   "file_extension": ".py",
   "mimetype": "text/x-python",
   "name": "python",
   "nbconvert_exporter": "python",
   "pygments_lexer": "ipython3",
   "version": "3.8.10"
  }
 },
 "nbformat": 4,
 "nbformat_minor": 5
}
