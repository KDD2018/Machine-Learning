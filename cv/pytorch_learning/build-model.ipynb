{
 "cells": [
  {
   "cell_type": "code",
   "execution_count": 1,
   "id": "5b9217c5-1a9b-42b3-b065-3497ceb5ada3",
   "metadata": {},
   "outputs": [],
   "source": [
    "import os\n",
    "import torch\n",
    "from torch import nn\n",
    "from torch.utils.data import DataLoader\n",
    "from torchvision import datasets, transforms"
   ]
  },
  {
   "cell_type": "markdown",
   "id": "920b3205-5b81-4626-bfcc-9eeb081d373b",
   "metadata": {},
   "source": [
    "## Get Device for Training"
   ]
  },
  {
   "cell_type": "code",
   "execution_count": 2,
   "id": "9946f418-d827-4e40-ac6c-2eb79c7a8fbc",
   "metadata": {},
   "outputs": [
    {
     "name": "stdout",
     "output_type": "stream",
     "text": [
      "Using cpu device\n"
     ]
    }
   ],
   "source": [
    "device = 'cuda' if torch.cuda.is_available() else 'cpu'\n",
    "print(f'Using {device} device')"
   ]
  },
  {
   "cell_type": "markdown",
   "id": "4bc85fdb-e8e2-4fba-90f9-6e98cf76f735",
   "metadata": {},
   "source": [
    "## Define the Class"
   ]
  },
  {
   "cell_type": "code",
   "execution_count": 4,
   "id": "f5e55fd4-40f2-4580-b4be-60880c086e6c",
   "metadata": {},
   "outputs": [],
   "source": [
    "class NeuralNetwork(nn.Module):\n",
    "    def __init__(self):\n",
    "        super(NeuralNetwork, self).__init__()\n",
    "        self.flatten = nn.Flatten()\n",
    "        self.linear_relu_stack = nn.Sequential(\n",
    "            nn.Linear(28*28, 512),\n",
    "            nn.ReLU(),\n",
    "            nn.Linear(512, 512),\n",
    "            nn.ReLU(),\n",
    "            nn.Linear(512, 10),\n",
    "        )\n",
    "        \n",
    "    def forward(self, x):\n",
    "        x = self.flatten(x)\n",
    "        logits = self.linear_relu_stack(x)\n",
    "        return logits"
   ]
  },
  {
   "cell_type": "code",
   "execution_count": 5,
   "id": "52827958-1bfc-46cc-bcc7-c37a809f2e29",
   "metadata": {},
   "outputs": [
    {
     "name": "stdout",
     "output_type": "stream",
     "text": [
      "NeuralNetwork(\n",
      "  (flatten): Flatten(start_dim=1, end_dim=-1)\n",
      "  (linear_relu_stack): Sequential(\n",
      "    (0): Linear(in_features=784, out_features=512, bias=True)\n",
      "    (1): ReLU()\n",
      "    (2): Linear(in_features=512, out_features=512, bias=True)\n",
      "    (3): ReLU()\n",
      "    (4): Linear(in_features=512, out_features=10, bias=True)\n",
      "  )\n",
      ")\n"
     ]
    }
   ],
   "source": [
    "model = NeuralNetwork().to(device)\n",
    "print(model)"
   ]
  },
  {
   "cell_type": "code",
   "execution_count": 6,
   "id": "2330e5db-105c-4492-910d-db60ee5d3f40",
   "metadata": {},
   "outputs": [
    {
     "name": "stdout",
     "output_type": "stream",
     "text": [
      "Predicted class: tensor([6])\n"
     ]
    }
   ],
   "source": [
    "X = torch.rand(1, 28, 28, device=device)\n",
    "logits = model(X)\n",
    "pred_prob = nn.Softmax(dim=1)(logits)\n",
    "y_pred = pred_prob.argmax(1)\n",
    "print(f\"Predicted class: {y_pred}\")"
   ]
  },
  {
   "cell_type": "markdown",
   "id": "70fcdc32-d93f-401f-b3a4-e16bf558b7e1",
   "metadata": {},
   "source": [
    "## Model Layers"
   ]
  },
  {
   "cell_type": "code",
   "execution_count": 7,
   "id": "6b0c76a6-7c0f-4052-b92a-1cb1c2e90012",
   "metadata": {},
   "outputs": [
    {
     "name": "stdout",
     "output_type": "stream",
     "text": [
      "torch.Size([3, 28, 28])\n"
     ]
    }
   ],
   "source": [
    "input_img = torch.rand(3, 28, 28)\n",
    "print(input_img.shape)"
   ]
  },
  {
   "cell_type": "markdown",
   "id": "b110c053-35b3-4496-b1fb-cafd01553180",
   "metadata": {},
   "source": [
    "### nn.Flatten"
   ]
  },
  {
   "cell_type": "code",
   "execution_count": 8,
   "id": "451a2c83-b50d-480f-80f8-93296d535aec",
   "metadata": {},
   "outputs": [
    {
     "name": "stdout",
     "output_type": "stream",
     "text": [
      "torch.Size([3, 784])\n"
     ]
    }
   ],
   "source": [
    "flatten = nn.Flatten()\n",
    "flat_img = flatten(input_img)\n",
    "print(flat_img.size())"
   ]
  },
  {
   "cell_type": "markdown",
   "id": "a711822d-db84-44e1-b491-22d9335f4ac4",
   "metadata": {},
   "source": [
    "### nn.Linear"
   ]
  },
  {
   "cell_type": "code",
   "execution_count": 9,
   "id": "7da38499-d1f5-45a6-94b7-3a0c070269e2",
   "metadata": {},
   "outputs": [
    {
     "name": "stdout",
     "output_type": "stream",
     "text": [
      "torch.Size([3, 20])\n"
     ]
    }
   ],
   "source": [
    "layer1 = nn.Linear(in_features=28*28, out_features=20)\n",
    "hidden1 = layer1(flat_img)\n",
    "print(hidden1.size())"
   ]
  },
  {
   "cell_type": "markdown",
   "id": "0221d862-9378-4b8e-aa73-5c7e5acb385b",
   "metadata": {},
   "source": [
    "### nn.ReLU"
   ]
  },
  {
   "cell_type": "code",
   "execution_count": 10,
   "id": "ac677f3b-270a-4c01-bc3f-a1f76e59949b",
   "metadata": {},
   "outputs": [
    {
     "name": "stdout",
     "output_type": "stream",
     "text": [
      "Before ReLU: tensor([[ 0.1424,  0.5811,  0.4463, -0.2087, -0.1117, -0.1055,  0.1156, -0.0686,\n",
      "          0.0010,  0.1516, -0.4738, -0.5436,  0.3060, -0.2149, -0.1485,  0.0808,\n",
      "         -0.3877, -0.6122, -0.5552,  0.1332],\n",
      "        [ 0.3636,  0.3867,  0.5270, -0.3928,  0.0055, -0.0426,  0.1887, -0.0724,\n",
      "         -0.1871, -0.0150, -0.6023, -0.5169,  0.3618, -0.8116, -0.1562, -0.2563,\n",
      "         -0.2968, -0.2811, -0.7538,  0.0688],\n",
      "        [-0.0444,  0.6454,  0.6043, -0.5594,  0.2712,  0.0565,  0.1708, -0.1759,\n",
      "          0.1834, -0.3160, -0.7956, -0.5366,  0.6837, -0.4280,  0.2117,  0.1508,\n",
      "         -0.3299, -0.5855, -0.4356, -0.2201]], grad_fn=<AddmmBackward0>)\n",
      "\n",
      "\n",
      "After ReLU: tensor([[0.1424, 0.5811, 0.4463, 0.0000, 0.0000, 0.0000, 0.1156, 0.0000, 0.0010,\n",
      "         0.1516, 0.0000, 0.0000, 0.3060, 0.0000, 0.0000, 0.0808, 0.0000, 0.0000,\n",
      "         0.0000, 0.1332],\n",
      "        [0.3636, 0.3867, 0.5270, 0.0000, 0.0055, 0.0000, 0.1887, 0.0000, 0.0000,\n",
      "         0.0000, 0.0000, 0.0000, 0.3618, 0.0000, 0.0000, 0.0000, 0.0000, 0.0000,\n",
      "         0.0000, 0.0688],\n",
      "        [0.0000, 0.6454, 0.6043, 0.0000, 0.2712, 0.0565, 0.1708, 0.0000, 0.1834,\n",
      "         0.0000, 0.0000, 0.0000, 0.6837, 0.0000, 0.2117, 0.1508, 0.0000, 0.0000,\n",
      "         0.0000, 0.0000]], grad_fn=<ReluBackward0>)\n"
     ]
    }
   ],
   "source": [
    "print(f\"Before ReLU: {hidden1}\\n\\n\")\n",
    "hidden1 = nn.ReLU()(hidden1)\n",
    "print(f\"After ReLU: {hidden1}\")"
   ]
  },
  {
   "cell_type": "markdown",
   "id": "d9b7d69a-7d7f-42a3-8a92-f485df7194ce",
   "metadata": {},
   "source": [
    "### nn.Sequential"
   ]
  },
  {
   "cell_type": "code",
   "execution_count": 11,
   "id": "3af3ba44-8cdc-40d5-8120-6a427772b1a1",
   "metadata": {},
   "outputs": [
    {
     "name": "stdout",
     "output_type": "stream",
     "text": [
      "logits shape: torch.Size([3, 10])\n"
     ]
    }
   ],
   "source": [
    "seq_modules = nn.Sequential(\n",
    "    flatten,\n",
    "    layer1,\n",
    "    nn.ReLU(),\n",
    "    nn.Linear(20, 10)\n",
    ")\n",
    "\n",
    "input_iamge = torch.rand(3, 28, 28)\n",
    "logits = seq_modules(input_iamge)\n",
    "print(f'logits shape: {logits.size()}')"
   ]
  },
  {
   "cell_type": "markdown",
   "id": "d6fccdb4-6c6e-4546-b886-e06400c417e6",
   "metadata": {},
   "source": [
    "### nn.Softmax"
   ]
  },
  {
   "cell_type": "code",
   "execution_count": 12,
   "id": "fcbba74c-e808-45b5-b85a-63801aefe897",
   "metadata": {},
   "outputs": [
    {
     "name": "stdout",
     "output_type": "stream",
     "text": [
      "torch.Size([3, 10])\n"
     ]
    }
   ],
   "source": [
    "softmax = nn.Softmax(dim=1)\n",
    "pred_probab = softmax(logits)\n",
    "print(pred_probab.shape)"
   ]
  },
  {
   "cell_type": "markdown",
   "id": "5e9d5f77-647d-48f6-8324-7dd37795b3de",
   "metadata": {},
   "source": [
    "## Model Parameters"
   ]
  },
  {
   "cell_type": "code",
   "execution_count": 13,
   "id": "58748095-d589-4a45-a3a1-6280270f7708",
   "metadata": {},
   "outputs": [
    {
     "name": "stdout",
     "output_type": "stream",
     "text": [
      "Model structure:\n",
      " NeuralNetwork(\n",
      "  (flatten): Flatten(start_dim=1, end_dim=-1)\n",
      "  (linear_relu_stack): Sequential(\n",
      "    (0): Linear(in_features=784, out_features=512, bias=True)\n",
      "    (1): ReLU()\n",
      "    (2): Linear(in_features=512, out_features=512, bias=True)\n",
      "    (3): ReLU()\n",
      "    (4): Linear(in_features=512, out_features=10, bias=True)\n",
      "  )\n",
      ")\n",
      "\n",
      "\n",
      "Layer: linear_relu_stack.0.weight | Size: torch.Size([512, 784]) | Values : tensor([[-0.0227, -0.0050,  0.0127,  ...,  0.0348, -0.0121,  0.0065],\n",
      "        [ 0.0316,  0.0167, -0.0131,  ...,  0.0241,  0.0205,  0.0224]],\n",
      "       grad_fn=<SliceBackward0>) \n",
      "\n",
      "Layer: linear_relu_stack.0.bias | Size: torch.Size([512]) | Values : tensor([ 0.0083, -0.0056], grad_fn=<SliceBackward0>) \n",
      "\n",
      "Layer: linear_relu_stack.2.weight | Size: torch.Size([512, 512]) | Values : tensor([[-0.0439,  0.0161,  0.0302,  ..., -0.0214,  0.0083,  0.0127],\n",
      "        [-0.0256,  0.0267, -0.0392,  ...,  0.0266,  0.0067,  0.0418]],\n",
      "       grad_fn=<SliceBackward0>) \n",
      "\n",
      "Layer: linear_relu_stack.2.bias | Size: torch.Size([512]) | Values : tensor([-0.0267,  0.0067], grad_fn=<SliceBackward0>) \n",
      "\n",
      "Layer: linear_relu_stack.4.weight | Size: torch.Size([10, 512]) | Values : tensor([[ 0.0129, -0.0398, -0.0109,  ..., -0.0272,  0.0264,  0.0339],\n",
      "        [ 0.0318,  0.0412, -0.0264,  ...,  0.0222, -0.0041,  0.0177]],\n",
      "       grad_fn=<SliceBackward0>) \n",
      "\n",
      "Layer: linear_relu_stack.4.bias | Size: torch.Size([10]) | Values : tensor([ 0.0002, -0.0019], grad_fn=<SliceBackward0>) \n",
      "\n"
     ]
    }
   ],
   "source": [
    "print(f\"Model structure:\\n {model}\\n\\n\")\n",
    "\n",
    "for name, param in model.named_parameters():\n",
    "    print(f\"Layer: {name} | Size: {param.size()} | Values : {param[:2]} \\n\")"
   ]
  },
  {
   "cell_type": "code",
   "execution_count": null,
   "id": "ca14cba2-2504-43b4-bf50-52bc1facf28d",
   "metadata": {},
   "outputs": [],
   "source": []
  }
 ],
 "metadata": {
  "kernelspec": {
   "display_name": "Python 3",
   "language": "python",
   "name": "python3"
  },
  "language_info": {
   "codemirror_mode": {
    "name": "ipython",
    "version": 3
   },
   "file_extension": ".py",
   "mimetype": "text/x-python",
   "name": "python",
   "nbconvert_exporter": "python",
   "pygments_lexer": "ipython3",
   "version": "3.8.10"
  }
 },
 "nbformat": 4,
 "nbformat_minor": 5
}
