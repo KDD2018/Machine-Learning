{
 "cells": [
  {
   "cell_type": "code",
   "execution_count": 1,
   "metadata": {
    "scrolled": true
   },
   "outputs": [
    {
     "name": "stderr",
     "output_type": "stream",
     "text": [
      "/home/kdd/.local/lib/python3.6/site-packages/tensorflow/python/framework/dtypes.py:516: FutureWarning: Passing (type, 1) or '1type' as a synonym of type is deprecated; in a future version of numpy, it will be understood as (type, (1,)) / '(1,)type'.\n",
      "  _np_qint8 = np.dtype([(\"qint8\", np.int8, 1)])\n",
      "/home/kdd/.local/lib/python3.6/site-packages/tensorflow/python/framework/dtypes.py:517: FutureWarning: Passing (type, 1) or '1type' as a synonym of type is deprecated; in a future version of numpy, it will be understood as (type, (1,)) / '(1,)type'.\n",
      "  _np_quint8 = np.dtype([(\"quint8\", np.uint8, 1)])\n",
      "/home/kdd/.local/lib/python3.6/site-packages/tensorflow/python/framework/dtypes.py:518: FutureWarning: Passing (type, 1) or '1type' as a synonym of type is deprecated; in a future version of numpy, it will be understood as (type, (1,)) / '(1,)type'.\n",
      "  _np_qint16 = np.dtype([(\"qint16\", np.int16, 1)])\n",
      "/home/kdd/.local/lib/python3.6/site-packages/tensorflow/python/framework/dtypes.py:519: FutureWarning: Passing (type, 1) or '1type' as a synonym of type is deprecated; in a future version of numpy, it will be understood as (type, (1,)) / '(1,)type'.\n",
      "  _np_quint16 = np.dtype([(\"quint16\", np.uint16, 1)])\n",
      "/home/kdd/.local/lib/python3.6/site-packages/tensorflow/python/framework/dtypes.py:520: FutureWarning: Passing (type, 1) or '1type' as a synonym of type is deprecated; in a future version of numpy, it will be understood as (type, (1,)) / '(1,)type'.\n",
      "  _np_qint32 = np.dtype([(\"qint32\", np.int32, 1)])\n",
      "/home/kdd/.local/lib/python3.6/site-packages/tensorflow/python/framework/dtypes.py:525: FutureWarning: Passing (type, 1) or '1type' as a synonym of type is deprecated; in a future version of numpy, it will be understood as (type, (1,)) / '(1,)type'.\n",
      "  np_resource = np.dtype([(\"resource\", np.ubyte, 1)])\n",
      "/home/kdd/.local/lib/python3.6/site-packages/tensorboard/compat/tensorflow_stub/dtypes.py:541: FutureWarning: Passing (type, 1) or '1type' as a synonym of type is deprecated; in a future version of numpy, it will be understood as (type, (1,)) / '(1,)type'.\n",
      "  _np_qint8 = np.dtype([(\"qint8\", np.int8, 1)])\n",
      "/home/kdd/.local/lib/python3.6/site-packages/tensorboard/compat/tensorflow_stub/dtypes.py:542: FutureWarning: Passing (type, 1) or '1type' as a synonym of type is deprecated; in a future version of numpy, it will be understood as (type, (1,)) / '(1,)type'.\n",
      "  _np_quint8 = np.dtype([(\"quint8\", np.uint8, 1)])\n",
      "/home/kdd/.local/lib/python3.6/site-packages/tensorboard/compat/tensorflow_stub/dtypes.py:543: FutureWarning: Passing (type, 1) or '1type' as a synonym of type is deprecated; in a future version of numpy, it will be understood as (type, (1,)) / '(1,)type'.\n",
      "  _np_qint16 = np.dtype([(\"qint16\", np.int16, 1)])\n",
      "/home/kdd/.local/lib/python3.6/site-packages/tensorboard/compat/tensorflow_stub/dtypes.py:544: FutureWarning: Passing (type, 1) or '1type' as a synonym of type is deprecated; in a future version of numpy, it will be understood as (type, (1,)) / '(1,)type'.\n",
      "  _np_quint16 = np.dtype([(\"quint16\", np.uint16, 1)])\n",
      "/home/kdd/.local/lib/python3.6/site-packages/tensorboard/compat/tensorflow_stub/dtypes.py:545: FutureWarning: Passing (type, 1) or '1type' as a synonym of type is deprecated; in a future version of numpy, it will be understood as (type, (1,)) / '(1,)type'.\n",
      "  _np_qint32 = np.dtype([(\"qint32\", np.int32, 1)])\n",
      "/home/kdd/.local/lib/python3.6/site-packages/tensorboard/compat/tensorflow_stub/dtypes.py:550: FutureWarning: Passing (type, 1) or '1type' as a synonym of type is deprecated; in a future version of numpy, it will be understood as (type, (1,)) / '(1,)type'.\n",
      "  np_resource = np.dtype([(\"resource\", np.ubyte, 1)])\n"
     ]
    },
    {
     "name": "stdout",
     "output_type": "stream",
     "text": [
      "2.0.0-beta1\n",
      "sys.version_info(major=3, minor=6, micro=5, releaselevel='final', serial=0)\n",
      "matplotlib 3.0.3\n",
      "numpy 1.18.1\n",
      "pandas 0.24.1\n",
      "sklearn 0.21.2\n",
      "tensorflow 2.0.0-beta1\n",
      "tensorflow.python.keras.api._v2.keras 2.2.4-tf\n"
     ]
    }
   ],
   "source": [
    "import matplotlib as mpl\n",
    "import matplotlib.pyplot as plt\n",
    "%matplotlib inline\n",
    "import numpy as np\n",
    "import sklearn\n",
    "import pandas as pd\n",
    "import os\n",
    "import sys\n",
    "import time\n",
    "import tensorflow as tf\n",
    "from tensorflow import keras\n",
    "from sklearn.datasets import fetch_california_housing\n",
    "\n",
    "print(tf.__version__)\n",
    "print(sys.version_info)\n",
    "for module in mpl, np, pd, sklearn, tf, keras:\n",
    "    print(module.__name__, module.__version__)"
   ]
  },
  {
   "cell_type": "code",
   "execution_count": 2,
   "metadata": {},
   "outputs": [
    {
     "data": {
      "text/plain": [
       "[b'machine leraning', b'docker', b'spark']"
      ]
     },
     "execution_count": 2,
     "metadata": {},
     "output_type": "execute_result"
    }
   ],
   "source": [
    "# tfrecord 文件格式\n",
    "# -> tf.train.Example\n",
    "#    -> tf.train.Features -> {'key': tf.train.Feature}\n",
    "#       -> tf.train.Feature -> tf.train.ByteList/FloatList/Int64List\n",
    "favorite_books = [name.encode('utf-8') for name in ['machine leraning', 'docker', 'spark']]\n",
    "favorite_books"
   ]
  },
  {
   "cell_type": "code",
   "execution_count": 4,
   "metadata": {},
   "outputs": [
    {
     "name": "stdout",
     "output_type": "stream",
     "text": [
      "value: \"machine leraning\"\n",
      "value: \"docker\"\n",
      "value: \"spark\"\n",
      "\n"
     ]
    }
   ],
   "source": [
    "# 字符串\n",
    "favorite_books_bytelist = tf.train.BytesList(value=favorite_books)\n",
    "print(favorite_books_bytelist)"
   ]
  },
  {
   "cell_type": "code",
   "execution_count": 5,
   "metadata": {},
   "outputs": [
    {
     "name": "stdout",
     "output_type": "stream",
     "text": [
      "value: 1.0\n",
      "value: 2.0\n",
      "value: 3.0\n",
      "\n"
     ]
    }
   ],
   "source": [
    "# 浮点\n",
    "hours_floatlist = tf.train.FloatList(value=[1,2,3])\n",
    "print(hours_floatlist)"
   ]
  },
  {
   "cell_type": "code",
   "execution_count": 6,
   "metadata": {},
   "outputs": [
    {
     "name": "stdout",
     "output_type": "stream",
     "text": [
      "value: 45\n",
      "value: 3\n",
      "value: 2\n",
      "\n"
     ]
    }
   ],
   "source": [
    "# 整型\n",
    "age_int64list = tf.train.Int64List(value=[45,3,2])\n",
    "print(age_int64list)"
   ]
  },
  {
   "cell_type": "code",
   "execution_count": 7,
   "metadata": {},
   "outputs": [
    {
     "name": "stdout",
     "output_type": "stream",
     "text": [
      "feature {\n",
      "  key: \"age\"\n",
      "  value {\n",
      "    int64_list {\n",
      "      value: 45\n",
      "      value: 3\n",
      "      value: 2\n",
      "    }\n",
      "  }\n",
      "}\n",
      "feature {\n",
      "  key: \"favorite_books\"\n",
      "  value {\n",
      "    bytes_list {\n",
      "      value: \"machine leraning\"\n",
      "      value: \"docker\"\n",
      "      value: \"spark\"\n",
      "    }\n",
      "  }\n",
      "}\n",
      "feature {\n",
      "  key: \"hours\"\n",
      "  value {\n",
      "    float_list {\n",
      "      value: 1.0\n",
      "      value: 2.0\n",
      "      value: 3.0\n",
      "    }\n",
      "  }\n",
      "}\n",
      "\n"
     ]
    }
   ],
   "source": [
    "features = tf.train.Features(\n",
    "    feature = {\n",
    "        'favorite_books': tf.train.Feature(bytes_list=favorite_books_bytelist),\n",
    "        'hours': tf.train.Feature(float_list=hours_floatlist),\n",
    "        'age': tf.train.Feature(int64_list=age_int64list)\n",
    "    }\n",
    ")\n",
    "\n",
    "print(features) # features内部是feature 字典"
   ]
  },
  {
   "cell_type": "code",
   "execution_count": 8,
   "metadata": {},
   "outputs": [
    {
     "name": "stdout",
     "output_type": "stream",
     "text": [
      "features {\n",
      "  feature {\n",
      "    key: \"age\"\n",
      "    value {\n",
      "      int64_list {\n",
      "        value: 45\n",
      "        value: 3\n",
      "        value: 2\n",
      "      }\n",
      "    }\n",
      "  }\n",
      "  feature {\n",
      "    key: \"favorite_books\"\n",
      "    value {\n",
      "      bytes_list {\n",
      "        value: \"machine leraning\"\n",
      "        value: \"docker\"\n",
      "        value: \"spark\"\n",
      "      }\n",
      "    }\n",
      "  }\n",
      "  feature {\n",
      "    key: \"hours\"\n",
      "    value {\n",
      "      float_list {\n",
      "        value: 1.0\n",
      "        value: 2.0\n",
      "        value: 3.0\n",
      "      }\n",
      "    }\n",
      "  }\n",
      "}\n",
      "\n"
     ]
    }
   ],
   "source": [
    "example = tf.train.Example(features=features)\n",
    "print(example) # 一个Example内部是features"
   ]
  },
  {
   "cell_type": "code",
   "execution_count": 9,
   "metadata": {},
   "outputs": [
    {
     "name": "stdout",
     "output_type": "stream",
     "text": [
      "b'\\nb\\n5\\n\\x0efavorite_books\\x12#\\n!\\n\\x10machine leraning\\n\\x06docker\\n\\x05spark\\n\\x0e\\n\\x03age\\x12\\x07\\x1a\\x05\\n\\x03-\\x03\\x02\\n\\x19\\n\\x05hours\\x12\\x10\\x12\\x0e\\n\\x0c\\x00\\x00\\x80?\\x00\\x00\\x00@\\x00\\x00@@'\n"
     ]
    }
   ],
   "source": [
    "#　将Example序列化\n",
    "serialized_example = example.SerializeToString()\n",
    "print(serialized_example)"
   ]
  },
  {
   "cell_type": "code",
   "execution_count": 10,
   "metadata": {},
   "outputs": [
    {
     "name": "stdout",
     "output_type": "stream",
     "text": [
      "tfrecords/test_20200124.tfrecords\n"
     ]
    }
   ],
   "source": [
    "output_dir = 'tfrecords'\n",
    "if not os.path.exists(output_dir):\n",
    "    os.mkdir(output_dir)\n",
    "file_name = 'test_20200124.tfrecords'\n",
    "file_name_path = os.path.join(output_dir, file_name)\n",
    "print(file_name_path)\n",
    "\n",
    "# 通过ｔｆ.io.TFRecordWriter将数据写入tfrecords\n",
    "with tf.io.TFRecordWriter(file_name_path) as writer:\n",
    "    for i in range(3):\n",
    "        writer.write(serialized_example)"
   ]
  },
  {
   "cell_type": "code",
   "execution_count": 11,
   "metadata": {},
   "outputs": [],
   "source": [
    "# 通过tf.data.TFRecordDataset读取tfrecords文件\n",
    "dataset = tf.data.TFRecordDataset(filenames=file_name_path)"
   ]
  },
  {
   "cell_type": "code",
   "execution_count": 12,
   "metadata": {},
   "outputs": [
    {
     "name": "stdout",
     "output_type": "stream",
     "text": [
      "<TFRecordDatasetV2 shapes: (), types: tf.string>\n"
     ]
    }
   ],
   "source": [
    "print(dataset)"
   ]
  },
  {
   "cell_type": "code",
   "execution_count": 13,
   "metadata": {},
   "outputs": [
    {
     "name": "stdout",
     "output_type": "stream",
     "text": [
      "tf.Tensor(b'\\nb\\n5\\n\\x0efavorite_books\\x12#\\n!\\n\\x10machine leraning\\n\\x06docker\\n\\x05spark\\n\\x0e\\n\\x03age\\x12\\x07\\x1a\\x05\\n\\x03-\\x03\\x02\\n\\x19\\n\\x05hours\\x12\\x10\\x12\\x0e\\n\\x0c\\x00\\x00\\x80?\\x00\\x00\\x00@\\x00\\x00@@', shape=(), dtype=string)\n",
      "tf.Tensor(b'\\nb\\n5\\n\\x0efavorite_books\\x12#\\n!\\n\\x10machine leraning\\n\\x06docker\\n\\x05spark\\n\\x0e\\n\\x03age\\x12\\x07\\x1a\\x05\\n\\x03-\\x03\\x02\\n\\x19\\n\\x05hours\\x12\\x10\\x12\\x0e\\n\\x0c\\x00\\x00\\x80?\\x00\\x00\\x00@\\x00\\x00@@', shape=(), dtype=string)\n",
      "tf.Tensor(b'\\nb\\n5\\n\\x0efavorite_books\\x12#\\n!\\n\\x10machine leraning\\n\\x06docker\\n\\x05spark\\n\\x0e\\n\\x03age\\x12\\x07\\x1a\\x05\\n\\x03-\\x03\\x02\\n\\x19\\n\\x05hours\\x12\\x10\\x12\\x0e\\n\\x0c\\x00\\x00\\x80?\\x00\\x00\\x00@\\x00\\x00@@', shape=(), dtype=string)\n"
     ]
    }
   ],
   "source": [
    "for serialized_example_tensor in dataset:\n",
    "    print(serialized_example_tensor)"
   ]
  },
  {
   "cell_type": "code",
   "execution_count": 15,
   "metadata": {
    "scrolled": true
   },
   "outputs": [
    {
     "name": "stdout",
     "output_type": "stream",
     "text": [
      "{'age': <tensorflow.python.framework.sparse_tensor.SparseTensor object at 0x7f4ab43c2fd0>, 'favorite_books': <tensorflow.python.framework.sparse_tensor.SparseTensor object at 0x7f4ab433ff98>, 'hours': <tensorflow.python.framework.sparse_tensor.SparseTensor object at 0x7f4ab435bba8>}\n",
      "{'age': <tensorflow.python.framework.sparse_tensor.SparseTensor object at 0x7f4ab435be48>, 'favorite_books': <tensorflow.python.framework.sparse_tensor.SparseTensor object at 0x7f4ab435bf28>, 'hours': <tensorflow.python.framework.sparse_tensor.SparseTensor object at 0x7f4ab435bd68>}\n",
      "{'age': <tensorflow.python.framework.sparse_tensor.SparseTensor object at 0x7f4ab43c2780>, 'favorite_books': <tensorflow.python.framework.sparse_tensor.SparseTensor object at 0x7f4ab43c2710>, 'hours': <tensorflow.python.framework.sparse_tensor.SparseTensor object at 0x7f4ab435b7f0>}\n"
     ]
    }
   ],
   "source": [
    "# 设置feature类型\n",
    "expected_features = {\n",
    "    'favorite_books': tf.io.VarLenFeature(dtype=tf.string),\n",
    "    'hours': tf.io.VarLenFeature(dtype=tf.float32),\n",
    "    'age': tf.io.VarLenFeature(dtype=tf.int64)\n",
    "}\n",
    "dataset = tf.data.TFRecordDataset(filenames=file_name_path)\n",
    "for serialized_example_tensor in dataset:\n",
    "    example = tf.io.parse_single_example(serialized_example_tensor, expected_features) # 解析Example\n",
    "    print(example)"
   ]
  },
  {
   "cell_type": "code",
   "execution_count": 17,
   "metadata": {
    "scrolled": true
   },
   "outputs": [
    {
     "name": "stdout",
     "output_type": "stream",
     "text": [
      "tf.Tensor(b'machine leraning', shape=(), dtype=string)\n",
      "tf.Tensor(b'docker', shape=(), dtype=string)\n",
      "tf.Tensor(b'spark', shape=(), dtype=string)\n",
      "tf.Tensor(b'machine leraning', shape=(), dtype=string)\n",
      "tf.Tensor(b'docker', shape=(), dtype=string)\n",
      "tf.Tensor(b'spark', shape=(), dtype=string)\n",
      "tf.Tensor(b'machine leraning', shape=(), dtype=string)\n",
      "tf.Tensor(b'docker', shape=(), dtype=string)\n",
      "tf.Tensor(b'spark', shape=(), dtype=string)\n"
     ]
    }
   ],
   "source": [
    "for serialized_example_tensor in dataset:\n",
    "    example = tf.io.parse_single_example(serialized_example_tensor, expected_features)\n",
    "    books = tf.sparse.to_dense(example['favorite_books'], default_value=b'')\n",
    "    for book in books:\n",
    "        print(book)"
   ]
  },
  {
   "cell_type": "code",
   "execution_count": 19,
   "metadata": {},
   "outputs": [
    {
     "name": "stdout",
     "output_type": "stream",
     "text": [
      "machine leraning\n",
      "docker\n",
      "spark\n",
      "machine leraning\n",
      "docker\n",
      "spark\n",
      "machine leraning\n",
      "docker\n",
      "spark\n"
     ]
    }
   ],
   "source": [
    "for serialized_example_tensor in dataset:\n",
    "    example = tf.io.parse_single_example(serialized_example_tensor, expected_features)\n",
    "    books = tf.sparse.to_dense(example['favorite_books'], default_value=b'')  # 转为dense tensor\n",
    "    for book in books:\n",
    "        print(book.numpy().decode('utf-8'))"
   ]
  },
  {
   "cell_type": "code",
   "execution_count": 20,
   "metadata": {},
   "outputs": [
    {
     "name": "stdout",
     "output_type": "stream",
     "text": [
      "favorite_books: \n",
      "<tf.Tensor: id=379, shape=(3,), dtype=string, numpy=array([b'machine leraning', b'docker', b'spark'], dtype=object)>\n",
      "hours:\n",
      "<tf.Tensor: id=382, shape=(3,), dtype=float32, numpy=array([1., 2., 3.], dtype=float32)>\n",
      "age: \n",
      "<tf.Tensor: id=385, shape=(3,), dtype=int64, numpy=array([45,  3,  2])>\n",
      "favorite_books: \n",
      "<tf.Tensor: id=398, shape=(3,), dtype=string, numpy=array([b'machine leraning', b'docker', b'spark'], dtype=object)>\n",
      "hours:\n",
      "<tf.Tensor: id=401, shape=(3,), dtype=float32, numpy=array([1., 2., 3.], dtype=float32)>\n",
      "age: \n",
      "<tf.Tensor: id=404, shape=(3,), dtype=int64, numpy=array([45,  3,  2])>\n",
      "favorite_books: \n",
      "<tf.Tensor: id=417, shape=(3,), dtype=string, numpy=array([b'machine leraning', b'docker', b'spark'], dtype=object)>\n",
      "hours:\n",
      "<tf.Tensor: id=420, shape=(3,), dtype=float32, numpy=array([1., 2., 3.], dtype=float32)>\n",
      "age: \n",
      "<tf.Tensor: id=423, shape=(3,), dtype=int64, numpy=array([45,  3,  2])>\n"
     ]
    }
   ],
   "source": [
    "import pprint\n",
    "for serialized_example_tensor in dataset:\n",
    "    example = tf.io.parse_single_example(serialized_example_tensor, expected_features)\n",
    "    books = tf.sparse.to_dense(example['favorite_books'], default_value=b'')\n",
    "    print('favorite_books: ')\n",
    "    pprint.pprint(books)\n",
    "    hours = tf.sparse.to_dense(example['hours'])\n",
    "    print('hours:')\n",
    "    pprint.pprint(hours)\n",
    "    age = tf.sparse.to_dense(example['age'])\n",
    "    print('age: ')\n",
    "    pprint.pprint(age)"
   ]
  },
  {
   "cell_type": "code",
   "execution_count": 21,
   "metadata": {},
   "outputs": [],
   "source": [
    "# 存为压缩文件\n",
    "file_name_zip_path = file_name_path + '.zip'\n",
    "options = tf.io.TFRecordOptions(compression_type='GZIP')\n",
    "with tf.io.TFRecordWriter(file_name_zip_path, options) as writer:\n",
    "    for i in range(3):\n",
    "        writer.write(serialized_example)"
   ]
  },
  {
   "cell_type": "code",
   "execution_count": null,
   "metadata": {},
   "outputs": [],
   "source": [
    "# 读取压缩文件\n",
    "dataset_zip = tf.data.TFRecordDataset(filenames=file_name_zip_path, compression_type='GZIP')\n",
    "for serialized_example_tensor in dataset_zip:\n",
    "    example = tf.io.parse_single_example(serialized_example_tensor, expected_features) # 解析Example\n",
    "    print(example)"
   ]
  }
 ],
 "metadata": {
  "kernelspec": {
   "display_name": "Python 3",
   "language": "python",
   "name": "python3"
  },
  "language_info": {
   "codemirror_mode": {
    "name": "ipython",
    "version": 3
   },
   "file_extension": ".py",
   "mimetype": "text/x-python",
   "name": "python",
   "nbconvert_exporter": "python",
   "pygments_lexer": "ipython3",
   "version": "3.6.5"
  }
 },
 "nbformat": 4,
 "nbformat_minor": 4
}
