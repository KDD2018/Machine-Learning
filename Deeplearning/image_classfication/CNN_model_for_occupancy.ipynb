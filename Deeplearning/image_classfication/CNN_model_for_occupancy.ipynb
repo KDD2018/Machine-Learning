{
 "cells": [
  {
   "cell_type": "code",
   "execution_count": 1,
   "metadata": {},
   "outputs": [],
   "source": [
    "import numpy\n",
    "import os\n",
    "import tensorflow as tf\n",
    "from tensorflow.keras.preprocessing.image import ImageDataGenerator\n",
    "from tensorflow.keras.callbacks import ModelCheckpoint, LearningRateScheduler, TensorBoard, EarlyStopping"
   ]
  },
  {
   "cell_type": "markdown",
   "metadata": {},
   "source": [
    "### 1. Load Test and Train Files"
   ]
  },
  {
   "cell_type": "code",
   "execution_count": 2,
   "metadata": {},
   "outputs": [
    {
     "name": "stdout",
     "output_type": "stream",
     "text": [
      "381 164\n"
     ]
    }
   ],
   "source": [
    "files_train = 0\n",
    "files_validation = 0\n",
    "\n",
    "cwd = os.getcwd()\n",
    "folder = 'train_data/train'\n",
    "for sub_folder in os.listdir(folder):\n",
    "    path, dirs, files = next(os.walk(os.path.join(folder,sub_folder)))\n",
    "    files_train += len(files)\n",
    "\n",
    "\n",
    "folder = 'train_data/test'\n",
    "for sub_folder in os.listdir(folder):\n",
    "    path, dirs, files = next(os.walk(os.path.join(folder,sub_folder)))\n",
    "    files_validation += len(files)\n",
    "\n",
    "print(files_train,files_validation)"
   ]
  },
  {
   "cell_type": "markdown",
   "metadata": {},
   "source": [
    "### 2. Set key parameters"
   ]
  },
  {
   "cell_type": "code",
   "execution_count": 3,
   "metadata": {},
   "outputs": [],
   "source": [
    "img_width, img_height = 48, 48\n",
    "train_data_dir = \"train_data/train\"\n",
    "validation_data_dir = \"train_data/test\"\n",
    "nb_train_samples = files_train\n",
    "nb_validation_samples = files_validation\n",
    "batch_size = 32\n",
    "epochs = 15\n",
    "num_classes = 2"
   ]
  },
  {
   "cell_type": "markdown",
   "metadata": {},
   "source": [
    "### 3. Build model on top of a trained VGG"
   ]
  },
  {
   "cell_type": "code",
   "execution_count": 4,
   "metadata": {},
   "outputs": [],
   "source": [
    "model = tf.keras.applications.VGG16(weights = \"imagenet\", include_top=False, input_shape = (img_width, img_height, 3))\n",
    "# Freeze the layers which you don't want to train. Here I am freezing the first 5 layers.\n",
    "for layer in model.layers[:10]:\n",
    "    layer.trainable = False"
   ]
  },
  {
   "cell_type": "code",
   "execution_count": 6,
   "metadata": {},
   "outputs": [],
   "source": [
    "x = model.output\n",
    "x = tf.keras.layers.Flatten()(x)\n",
    "x = tf.keras.layers.Dense(512, activation=\"relu\")(x)\n",
    "x = tf.keras.layers.Dropout(0.5)(x)\n",
    "x = tf.keras.layers.Dense(256, activation=\"relu\")(x)\n",
    "x = tf.keras.layers.Dropout(0.5)(x)\n",
    "predictions = tf.keras.layers.Dense(num_classes, activation=\"softmax\")(x)\n",
    "\n",
    "# creating the final model\n",
    "model_final = tf.keras.Model(inputs = model.input, outputs = predictions)\n",
    "\n",
    "# compile the model\n",
    "model_final.compile(loss = \"categorical_crossentropy\", \n",
    "                    optimizer = tf.keras.optimizers.SGD(lr=0.0001, momentum=0.9), \n",
    "                    metrics=[\"accuracy\"]) # See learning rate is very low"
   ]
  },
  {
   "cell_type": "code",
   "execution_count": 7,
   "metadata": {},
   "outputs": [
    {
     "name": "stdout",
     "output_type": "stream",
     "text": [
      "Found 381 images belonging to 2 classes.\n",
      "Found 164 images belonging to 2 classes.\n"
     ]
    }
   ],
   "source": [
    "# Initiate the train and test generators with data Augumentation\n",
    "train_datagen = ImageDataGenerator(rescale = 1./255, \n",
    "                                   horizontal_flip = True, \n",
    "                                   fill_mode = \"nearest\", \n",
    "                                   zoom_range = 0.1, \n",
    "                                   width_shift_range = 0.1, \n",
    "                                   height_shift_range=0.1, \n",
    "                                   rotation_range=5)\n",
    "test_datagen = ImageDataGenerator(rescale = 1./255, \n",
    "                                  horizontal_flip = True, \n",
    "                                  fill_mode = \"nearest\", \n",
    "                                  zoom_range = 0.1, \n",
    "                                  width_shift_range = 0.1, \n",
    "                                  height_shift_range=0.1, \n",
    "                                  rotation_range=5)\n",
    "\n",
    "train_generator = train_datagen.flow_from_directory(train_data_dir, \n",
    "                                                    target_size = (img_height, img_width), \n",
    "                                                    batch_size = batch_size, \n",
    "                                                    class_mode = \"categorical\")\n",
    "validation_generator = test_datagen.flow_from_directory(validation_data_dir, \n",
    "                                                        target_size = (img_height, img_width),\n",
    "                                                        class_mode = \"categorical\")"
   ]
  },
  {
   "cell_type": "code",
   "execution_count": 8,
   "metadata": {},
   "outputs": [],
   "source": [
    "# Save the model according to the conditions\n",
    "checkpoint = ModelCheckpoint(\"car1.h5\", monitor='val_accuracy', verbose=1, save_best_only=True, save_weights_only=False, mode='max')\n",
    "early = EarlyStopping(monitor='val_accuracy', min_delta=0, patience=10, verbose=1, mode='max')"
   ]
  },
  {
   "cell_type": "code",
   "execution_count": 9,
   "metadata": {
    "collapsed": true,
    "jupyter": {
     "outputs_hidden": true
    }
   },
   "outputs": [
    {
     "name": "stdout",
     "output_type": "stream",
     "text": [
      "WARNING:tensorflow:sample_weight modes were coerced from\n",
      "  ...\n",
      "    to  \n",
      "  ['...']\n",
      "WARNING:tensorflow:sample_weight modes were coerced from\n",
      "  ...\n",
      "    to  \n",
      "  ['...']\n",
      "Train for 11 steps, validate for 5 steps\n",
      "Epoch 1/15\n",
      "10/11 [==========================>...] - ETA: 0s - loss: 0.9504 - accuracy: 0.4069\n",
      "Epoch 00001: val_accuracy improved from -inf to 0.78125, saving model to car1.h5\n",
      "11/11 [==============================] - 7s 618ms/step - loss: 0.9316 - accuracy: 0.4269 - val_loss: 0.6216 - val_accuracy: 0.7812\n",
      "Epoch 2/15\n",
      "10/11 [==========================>...] - ETA: 0s - loss: 0.6708 - accuracy: 0.6246\n",
      "Epoch 00002: val_accuracy did not improve from 0.78125\n",
      "11/11 [==============================] - 6s 523ms/step - loss: 0.6568 - accuracy: 0.6390 - val_loss: 0.4848 - val_accuracy: 0.7625\n",
      "Epoch 3/15\n",
      "10/11 [==========================>...] - ETA: 0s - loss: 0.5459 - accuracy: 0.7319\n",
      "Epoch 00003: val_accuracy did not improve from 0.78125\n",
      "11/11 [==============================] - 6s 539ms/step - loss: 0.5460 - accuracy: 0.7364 - val_loss: 0.4606 - val_accuracy: 0.7625\n",
      "Epoch 4/15\n",
      "10/11 [==========================>...] - ETA: 0s - loss: 0.4905 - accuracy: 0.7855\n",
      "Epoch 00004: val_accuracy did not improve from 0.78125\n",
      "11/11 [==============================] - 6s 552ms/step - loss: 0.4860 - accuracy: 0.7851 - val_loss: 0.4184 - val_accuracy: 0.7625\n",
      "Epoch 5/15\n",
      "10/11 [==========================>...] - ETA: 0s - loss: 0.4328 - accuracy: 0.7937\n",
      "Epoch 00005: val_accuracy did not improve from 0.78125\n",
      "11/11 [==============================] - 6s 549ms/step - loss: 0.4152 - accuracy: 0.8080 - val_loss: 0.3748 - val_accuracy: 0.7750\n",
      "Epoch 6/15\n",
      "10/11 [==========================>...] - ETA: 0s - loss: 0.4139 - accuracy: 0.8013\n",
      "Epoch 00006: val_accuracy improved from 0.78125 to 0.85625, saving model to car1.h5\n",
      "11/11 [==============================] - 6s 569ms/step - loss: 0.4121 - accuracy: 0.8052 - val_loss: 0.3295 - val_accuracy: 0.8562\n",
      "Epoch 7/15\n",
      "10/11 [==========================>...] - ETA: 0s - loss: 0.3500 - accuracy: 0.8549\n",
      "Epoch 00007: val_accuracy improved from 0.85625 to 0.87500, saving model to car1.h5\n",
      "11/11 [==============================] - 6s 556ms/step - loss: 0.3453 - accuracy: 0.8510 - val_loss: 0.2859 - val_accuracy: 0.8750\n",
      "Epoch 8/15\n",
      "10/11 [==========================>...] - ETA: 0s - loss: 0.3133 - accuracy: 0.8801\n",
      "Epoch 00008: val_accuracy improved from 0.87500 to 0.88125, saving model to car1.h5\n",
      "11/11 [==============================] - 6s 573ms/step - loss: 0.3105 - accuracy: 0.8854 - val_loss: 0.2696 - val_accuracy: 0.8813\n",
      "Epoch 9/15\n",
      "10/11 [==========================>...] - ETA: 0s - loss: 0.2760 - accuracy: 0.9148\n",
      "Epoch 00009: val_accuracy improved from 0.88125 to 0.89375, saving model to car1.h5\n",
      "11/11 [==============================] - 6s 570ms/step - loss: 0.2717 - accuracy: 0.9198 - val_loss: 0.2391 - val_accuracy: 0.8938\n",
      "Epoch 10/15\n",
      "10/11 [==========================>...] - ETA: 0s - loss: 0.2455 - accuracy: 0.9117\n",
      "Epoch 00010: val_accuracy improved from 0.89375 to 0.91875, saving model to car1.h5\n",
      "11/11 [==============================] - 6s 567ms/step - loss: 0.2405 - accuracy: 0.9140 - val_loss: 0.2227 - val_accuracy: 0.9187\n",
      "Epoch 11/15\n",
      "10/11 [==========================>...] - ETA: 0s - loss: 0.2316 - accuracy: 0.9125\n",
      "Epoch 00011: val_accuracy improved from 0.91875 to 0.93125, saving model to car1.h5\n",
      "11/11 [==============================] - 6s 585ms/step - loss: 0.2271 - accuracy: 0.9148 - val_loss: 0.1887 - val_accuracy: 0.9312\n",
      "Epoch 12/15\n",
      "10/11 [==========================>...] - ETA: 0s - loss: 0.1688 - accuracy: 0.9464\n",
      "Epoch 00012: val_accuracy did not improve from 0.93125\n",
      "11/11 [==============================] - 7s 591ms/step - loss: 0.1698 - accuracy: 0.9456 - val_loss: 0.2035 - val_accuracy: 0.9125\n",
      "Epoch 13/15\n",
      "10/11 [==========================>...] - ETA: 0s - loss: 0.1746 - accuracy: 0.9558\n",
      "Epoch 00013: val_accuracy did not improve from 0.93125\n",
      "11/11 [==============================] - 6s 542ms/step - loss: 0.1732 - accuracy: 0.9570 - val_loss: 0.2083 - val_accuracy: 0.9187\n",
      "Epoch 14/15\n",
      "10/11 [==========================>...] - ETA: 0s - loss: 0.1576 - accuracy: 0.9558\n",
      "Epoch 00014: val_accuracy did not improve from 0.93125\n",
      "11/11 [==============================] - 6s 535ms/step - loss: 0.1593 - accuracy: 0.9513 - val_loss: 0.1885 - val_accuracy: 0.9250\n",
      "Epoch 15/15\n",
      "10/11 [==========================>...] - ETA: 0s - loss: 0.1649 - accuracy: 0.9406\n",
      "Epoch 00015: val_accuracy did not improve from 0.93125\n",
      "11/11 [==============================] - 6s 547ms/step - loss: 0.1636 - accuracy: 0.9398 - val_loss: 0.1938 - val_accuracy: 0.9187\n"
     ]
    }
   ],
   "source": [
    "### Start training!\n",
    "\n",
    "history_object = model_final.fit(train_generator, \n",
    "                                 steps_per_epoch= nb_train_samples // batch_size, \n",
    "                                 epochs = epochs, \n",
    "                                 validation_data = validation_generator, \n",
    "                                 validation_steps = nb_validation_samples // batch_size,\n",
    "                                 callbacks = [checkpoint, early])"
   ]
  },
  {
   "cell_type": "code",
   "execution_count": 10,
   "metadata": {},
   "outputs": [
    {
     "name": "stdout",
     "output_type": "stream",
     "text": [
      "dict_keys(['loss', 'accuracy', 'val_loss', 'val_accuracy'])\n"
     ]
    },
    {
     "data": {
      "image/png": "[encoded data removed]",
      "text/plain": [
       "<Figure size 432x288 with 1 Axes>"
      ]
     },
     "metadata": {
      "needs_background": "light"
     },
     "output_type": "display_data"
    }
   ],
   "source": [
    "import matplotlib.pyplot as plt\n",
    "print(history_object.history.keys())\n",
    "plt.plot(history_object.history['accuracy'])\n",
    "plt.plot(history_object.history['val_accuracy'])\n",
    "plt.title('model accuracy')\n",
    "plt.ylabel('accuracy')\n",
    "plt.xlabel('epoch')\n",
    "plt.legend(['train', 'test'], loc='upper left')\n",
    "plt.show()"
   ]
  },
  {
   "cell_type": "code",
   "execution_count": 11,
   "metadata": {},
   "outputs": [
    {
     "data": {
      "image/png": "[encoded data removed]",
      "text/plain": [
       "<Figure size 432x288 with 1 Axes>"
      ]
     },
     "metadata": {
      "needs_background": "light"
     },
     "output_type": "display_data"
    }
   ],
   "source": [
    "plt.plot(history_object.history['loss'])\n",
    "plt.plot(history_object.history['val_loss'])\n",
    "plt.title('model loss')\n",
    "plt.ylabel('loss')\n",
    "plt.xlabel('epoch')\n",
    "plt.legend(['train', 'test'], loc='upper left')\n",
    "plt.show()"
   ]
  },
  {
   "cell_type": "code",
   "execution_count": null,
   "metadata": {},
   "outputs": [],
   "source": []
  }
 ],
 "metadata": {
  "kernelspec": {
   "display_name": "Python 3",
   "language": "python",
   "name": "python3"
  },
  "language_info": {
   "codemirror_mode": {
    "name": "ipython",
    "version": 3
   },
   "file_extension": ".py",
   "mimetype": "text/x-python",
   "name": "python",
   "nbconvert_exporter": "python",
   "pygments_lexer": "ipython3",
   "version": "3.7.7"
  }
 },
 "nbformat": 4,
 "nbformat_minor": 4
}
