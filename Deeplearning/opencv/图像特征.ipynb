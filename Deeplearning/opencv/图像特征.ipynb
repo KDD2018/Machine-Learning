{
 "cells": [
  {
   "cell_type": "code",
   "execution_count": 166,
   "metadata": {},
   "outputs": [],
   "source": [
    "import cv2 as cv\n",
    "import numpy as np"
   ]
  },
  {
   "cell_type": "code",
   "execution_count": 167,
   "metadata": {},
   "outputs": [],
   "source": [
    "def show_cv(name, img):\n",
    "    cv.imshow(name, img)\n",
    "    cv.waitKey(0)\n",
    "    cv.destroyAllWindows()"
   ]
  },
  {
   "cell_type": "code",
   "execution_count": 168,
   "metadata": {},
   "outputs": [
    {
     "name": "stdout",
     "output_type": "stream",
     "text": [
      "(368, 583, 3)\n"
     ]
    }
   ],
   "source": [
    "img = cv.imread('./images/credit_card_01.png')\n",
    "print(img.shape)\n",
    "show_cv('source', img)"
   ]
  },
  {
   "cell_type": "markdown",
   "metadata": {},
   "source": [
    "## 角点检测"
   ]
  },
  {
   "cell_type": "markdown",
   "metadata": {},
   "source": [
    "#### cv2.cornerHarris() \n",
    "- img： 数据类型为 ﬂoat32 的入图像\n",
    "- blockSize： 角点检测中指定区域的大小\n",
    "- ksize： Sobel求导中使用的窗口大小 \n",
    "- k： 取值参数为 [0,04,0.06]"
   ]
  },
  {
   "cell_type": "code",
   "execution_count": 169,
   "metadata": {},
   "outputs": [
    {
     "name": "stdout",
     "output_type": "stream",
     "text": [
      "(368, 583)\n"
     ]
    }
   ],
   "source": [
    "gray_img = cv.cvtColor(img, cv.COLOR_BGR2GRAY)\n",
    "dst = cv.cornerHarris(gray_img, blockSize=2, ksize=3, k=0.04)\n",
    "print(dst.shape)"
   ]
  },
  {
   "cell_type": "code",
   "execution_count": 170,
   "metadata": {},
   "outputs": [],
   "source": [
    "img[dst>0.01*dst.max()]=[0,255,0]\n",
    "show_cv('corner', img)"
   ]
  },
  {
   "cell_type": "code",
   "execution_count": 171,
   "metadata": {},
   "outputs": [
    {
     "data": {
      "text/plain": [
       "(1098, 1417, 3)"
      ]
     },
     "execution_count": 171,
     "metadata": {},
     "output_type": "execute_result"
    }
   ],
   "source": [
    "cad = cv.imread('./images/cad.png')\n",
    "cad.shape"
   ]
  },
  {
   "cell_type": "code",
   "execution_count": 172,
   "metadata": {},
   "outputs": [],
   "source": [
    "show_cv('cad', cad)"
   ]
  },
  {
   "cell_type": "code",
   "execution_count": 173,
   "metadata": {},
   "outputs": [],
   "source": [
    "cad_gray = cv.cvtColor(cad, cv.COLOR_BGR2GRAY)\n",
    "show_cv('gray', cad_gray)"
   ]
  },
  {
   "cell_type": "code",
   "execution_count": 174,
   "metadata": {},
   "outputs": [],
   "source": [
    "# THRESH_BINARY: 超过阈值部分取maxval，否则取0\n",
    "ret, th1 = cv.threshold(cad_gray, 40, 255, cv.THRESH_BINARY)\n",
    "show_cv('ret', th1)"
   ]
  },
  {
   "cell_type": "code",
   "execution_count": 175,
   "metadata": {
    "jupyter": {
     "source_hidden": true
    }
   },
   "outputs": [],
   "source": [
    "# 再膨胀一次\n",
    "kernel = np.ones((3, 3), np.uint8)\n",
    "dilate = cv.dilate(th1, kernel, iterations=1)\n",
    "# show_cv('dilate', dilate)\n",
    "# 先腐蚀一次\n",
    "\n",
    "close = cv.erode(dilate, np.ones((2, 2), np.uint8), iterations=2)\n",
    "show_cv('eros', close)"
   ]
  },
  {
   "cell_type": "code",
   "execution_count": 176,
   "metadata": {},
   "outputs": [],
   "source": [
    "# 闭运算：先膨胀， 再腐蚀\n",
    "kernel = np.ones((3, 3), np.uint8)\n",
    "close = cv.morphologyEx(th1, cv.MORPH_CLOSE, kernel)\n",
    "show_cv('close', close)"
   ]
  },
  {
   "cell_type": "code",
   "execution_count": 177,
   "metadata": {},
   "outputs": [
    {
     "name": "stdout",
     "output_type": "stream",
     "text": [
      "(1098, 1417)\n"
     ]
    }
   ],
   "source": [
    "dst = cv.cornerHarris(close, blockSize=2, ksize=3, k=0.04)\n",
    "print(dst.shape)"
   ]
  },
  {
   "cell_type": "code",
   "execution_count": 162,
   "metadata": {},
   "outputs": [],
   "source": [
    "cad[dst>0.05*dst.max()]=[0,0,255]\n",
    "show_cv('corner', cad)"
   ]
  },
  {
   "cell_type": "code",
   "execution_count": 163,
   "metadata": {},
   "outputs": [
    {
     "data": {
      "text/plain": [
       "True"
      ]
     },
     "execution_count": 163,
     "metadata": {},
     "output_type": "execute_result"
    }
   ],
   "source": [
    "cv.imwrite('./corner.png', cad)"
   ]
  },
  {
   "cell_type": "code",
   "execution_count": 133,
   "metadata": {
    "collapsed": true,
    "jupyter": {
     "outputs_hidden": true,
     "source_hidden": true
    }
   },
   "outputs": [
    {
     "data": {
      "text/plain": [
       "array([[False, False, False, ..., False, False, False],\n",
       "       [False, False, False, ..., False, False, False],\n",
       "       [False, False, False, ..., False, False, False],\n",
       "       ...,\n",
       "       [False, False, False, ..., False, False, False],\n",
       "       [False, False, False, ..., False, False, False],\n",
       "       [False, False, False, ..., False, False, False]])"
      ]
     },
     "execution_count": 133,
     "metadata": {},
     "output_type": "execute_result"
    }
   ],
   "source": [
    "cad[:,:,2]==255"
   ]
  },
  {
   "cell_type": "code",
   "execution_count": 164,
   "metadata": {},
   "outputs": [],
   "source": [
    "coord = np.argwhere(cad[:,:,2]==255)"
   ]
  },
  {
   "cell_type": "code",
   "execution_count": 165,
   "metadata": {},
   "outputs": [],
   "source": [
    "import pandas as pd\n",
    "pd.DataFrame(coord, columns=['x', 'y']).to_csv('./coord.csv', index=False, encoding='utf-8')"
   ]
  },
  {
   "cell_type": "code",
   "execution_count": 138,
   "metadata": {},
   "outputs": [
    {
     "data": {
      "text/plain": [
       "255"
      ]
     },
     "execution_count": 138,
     "metadata": {},
     "output_type": "execute_result"
    }
   ],
   "source": [
    "cad[:,:,2][22,864]"
   ]
  },
  {
   "cell_type": "code",
   "execution_count": null,
   "metadata": {},
   "outputs": [],
   "source": []
  }
 ],
 "metadata": {
  "kernelspec": {
   "display_name": "Python 3",
   "language": "python",
   "name": "python3"
  },
  "language_info": {
   "codemirror_mode": {
    "name": "ipython",
    "version": 3
   },
   "file_extension": ".py",
   "mimetype": "text/x-python",
   "name": "python",
   "nbconvert_exporter": "python",
   "pygments_lexer": "ipython3",
   "version": "3.7.7"
  }
 },
 "nbformat": 4,
 "nbformat_minor": 4
}
