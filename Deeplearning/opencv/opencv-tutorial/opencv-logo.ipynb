{
 "cells": [
  {
   "cell_type": "code",
   "execution_count": 1,
   "metadata": {},
   "outputs": [],
   "source": [
    "import cv2 as cv\n",
    "import numpy as np"
   ]
  },
  {
   "cell_type": "code",
   "execution_count": 2,
   "metadata": {},
   "outputs": [],
   "source": [
    "def show_cv(name, img):\n",
    "    cv.imshow(name, img)\n",
    "    cv.waitKey(0)\n",
    "    cv.destroyAllWindows()"
   ]
  },
  {
   "cell_type": "code",
   "execution_count": 3,
   "metadata": {},
   "outputs": [
    {
     "data": {
      "text/plain": [
       "(794, 600, 3)"
      ]
     },
     "execution_count": 3,
     "metadata": {},
     "output_type": "execute_result"
    }
   ],
   "source": [
    "logo = cv.imread('images/logo.png')\n",
    "logo.shape"
   ]
  },
  {
   "cell_type": "code",
   "execution_count": 4,
   "metadata": {},
   "outputs": [],
   "source": [
    "show_cv('Logo', logo)"
   ]
  },
  {
   "cell_type": "code",
   "execution_count": 5,
   "metadata": {},
   "outputs": [],
   "source": [
    "img = np.zeros((794, 600, 3), np.uint8)"
   ]
  },
  {
   "cell_type": "code",
   "execution_count": 6,
   "metadata": {},
   "outputs": [
    {
     "data": {
      "text/plain": [
       "True"
      ]
     },
     "execution_count": 6,
     "metadata": {},
     "output_type": "execute_result"
    }
   ],
   "source": [
    "# 上外圆\n",
    "img = cv.circle(img, (300, 142), 142, (0, 0, 255), -1)\n",
    "# 上内圆\n",
    "img = cv.circle(img, (300, 142), 60, (0, 0, 0), -1)\n",
    "# 圆弧扇形\n",
    "img = cv.ellipse(img, (300, 142), (142, 142), 0, 60, 120, 0, -1)\n",
    "\n",
    "# 左外圆\n",
    "img = cv.circle(img, (142, 416), 142, (0, 255, 0), -1)\n",
    "# 左内圆\n",
    "img = cv.circle(img, (142, 416), 60, (0, 0, 0), -1)\n",
    "# 圆弧扇形\n",
    "img = cv.ellipse(img, (142, 416), (142, 142), 0, 300, 360, 0, -1)\n",
    "\n",
    "# 右外圆\n",
    "img = cv.circle(img, (458, 416), 142, (255, 0, 0), -1)\n",
    "# 右内圆\n",
    "img = cv.circle(img, (458, 416), 60, (0, 0, 0), -1)\n",
    "# 圆弧扇形\n",
    "img = cv.ellipse(img, (458, 416), (142, 142), 0, 240, 300, 0, -1)\n",
    "\n",
    "# 添加opencv字样\n",
    "font = cv.FONT_HERSHEY_SCRIPT_COMPLEX\n",
    "cv.putText(img, 'OpenCV', (20,720), font, 5,(255,255,255), 15, cv.LINE_AA)\n",
    "show_cv('img', img)\n",
    "cv.imwrite('opencv.png', img)"
   ]
  },
  {
   "cell_type": "code",
   "execution_count": null,
   "metadata": {},
   "outputs": [],
   "source": []
  }
 ],
 "metadata": {
  "kernelspec": {
   "display_name": "Python 3",
   "language": "python",
   "name": "python3"
  },
  "language_info": {
   "codemirror_mode": {
    "name": "ipython",
    "version": 3
   },
   "file_extension": ".py",
   "mimetype": "text/x-python",
   "name": "python",
   "nbconvert_exporter": "python",
   "pygments_lexer": "ipython3",
   "version": "3.7.7"
  }
 },
 "nbformat": 4,
 "nbformat_minor": 4
}
