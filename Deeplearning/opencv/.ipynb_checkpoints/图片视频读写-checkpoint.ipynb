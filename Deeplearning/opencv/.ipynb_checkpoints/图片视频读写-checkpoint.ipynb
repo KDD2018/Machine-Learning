{
 "cells": [
  {
   "cell_type": "code",
   "execution_count": 33,
   "metadata": {},
   "outputs": [],
   "source": [
    "import cv2\n",
    "import matplotlib.pyplot as plt\n",
    "import numpy as np\n",
    "%matplotlib inline"
   ]
  },
  {
   "cell_type": "markdown",
   "metadata": {},
   "source": [
    "# 读取显示图片"
   ]
  },
  {
   "cell_type": "code",
   "execution_count": 34,
   "metadata": {},
   "outputs": [],
   "source": [
    "img = cv2.imread('/home/kdd/Pictures/1.jpg')"
   ]
  },
  {
   "cell_type": "code",
   "execution_count": 35,
   "metadata": {},
   "outputs": [
    {
     "data": {
      "text/plain": [
       "(720, 1080, 3)"
      ]
     },
     "execution_count": 35,
     "metadata": {},
     "output_type": "execute_result"
    }
   ],
   "source": [
    "img.shape"
   ]
  },
  {
   "cell_type": "code",
   "execution_count": 36,
   "metadata": {},
   "outputs": [
    {
     "data": {
      "text/plain": [
       "dtype('uint8')"
      ]
     },
     "execution_count": 36,
     "metadata": {},
     "output_type": "execute_result"
    }
   ],
   "source": [
    "img.dtype"
   ]
  },
  {
   "cell_type": "code",
   "execution_count": 37,
   "metadata": {},
   "outputs": [],
   "source": [
    "cv2.imshow('1', img)\n",
    "cv2.waitKey(10000) # 等待时间\n",
    "cv2.destroyAllWindows()"
   ]
  },
  {
   "cell_type": "code",
   "execution_count": 38,
   "metadata": {},
   "outputs": [],
   "source": [
    "def cv_show(name, img):\n",
    "    cv2.imshow(name, img)\n",
    "    cv2.waitKey(0) # 按任意键关闭窗口\n",
    "    cv2.destroyAllWindows()"
   ]
  },
  {
   "cell_type": "code",
   "execution_count": 39,
   "metadata": {},
   "outputs": [
    {
     "data": {
      "text/plain": [
       "(720, 1080)"
      ]
     },
     "execution_count": 39,
     "metadata": {},
     "output_type": "execute_result"
    }
   ],
   "source": [
    "# 转灰度图\n",
    "img1 = cv2.imread('/home/kdd/Pictures/1.jpg', cv2.IMREAD_GRAYSCALE)\n",
    "img1.shape"
   ]
  },
  {
   "cell_type": "code",
   "execution_count": 40,
   "metadata": {},
   "outputs": [],
   "source": [
    "cv_show('grey1', img1)"
   ]
  },
  {
   "cell_type": "code",
   "execution_count": 41,
   "metadata": {},
   "outputs": [
    {
     "data": {
      "text/plain": [
       "numpy.ndarray"
      ]
     },
     "execution_count": 41,
     "metadata": {},
     "output_type": "execute_result"
    }
   ],
   "source": [
    "type(img1)"
   ]
  },
  {
   "cell_type": "code",
   "execution_count": 42,
   "metadata": {},
   "outputs": [
    {
     "data": {
      "text/plain": [
       "777600"
      ]
     },
     "execution_count": 42,
     "metadata": {},
     "output_type": "execute_result"
    }
   ],
   "source": [
    "img1.size"
   ]
  },
  {
   "cell_type": "code",
   "execution_count": 43,
   "metadata": {},
   "outputs": [
    {
     "data": {
      "text/plain": [
       "2332800"
      ]
     },
     "execution_count": 43,
     "metadata": {},
     "output_type": "execute_result"
    }
   ],
   "source": [
    "img.size"
   ]
  },
  {
   "cell_type": "code",
   "execution_count": 52,
   "metadata": {},
   "outputs": [],
   "source": [
    "cv_show('bridge', img)"
   ]
  },
  {
   "cell_type": "markdown",
   "metadata": {},
   "source": [
    "# 图片截取和通道提取、合并"
   ]
  },
  {
   "cell_type": "code",
   "execution_count": 45,
   "metadata": {},
   "outputs": [],
   "source": [
    "# 截取\n",
    "brg = img[0:250, 0:540]\n",
    "cv_show('brg', brg)"
   ]
  },
  {
   "cell_type": "code",
   "execution_count": 49,
   "metadata": {},
   "outputs": [],
   "source": [
    "# 通道提取\n",
    "b, g, r = cv2.split(img)"
   ]
  },
  {
   "cell_type": "code",
   "execution_count": 50,
   "metadata": {},
   "outputs": [
    {
     "data": {
      "text/plain": [
       "((720, 1080), (720, 1080), (720, 1080))"
      ]
     },
     "execution_count": 50,
     "metadata": {},
     "output_type": "execute_result"
    }
   ],
   "source": [
    "b.shape, g.shape, r.shape"
   ]
  },
  {
   "cell_type": "code",
   "execution_count": 53,
   "metadata": {},
   "outputs": [],
   "source": [
    "cv_show('B', b)"
   ]
  },
  {
   "cell_type": "code",
   "execution_count": 59,
   "metadata": {},
   "outputs": [],
   "source": [
    "cur_img = img.copy()\n",
    "#cv_show('copy', cur_img)\n",
    "cur_img[:, :, 0] = 0\n",
    "cur_img[:, :, 2] = 0\n",
    "cv_show('G', cur_img)"
   ]
  },
  {
   "cell_type": "code",
   "execution_count": 60,
   "metadata": {},
   "outputs": [],
   "source": [
    "cur_img1 = img.copy()\n",
    "#cv_show('copy', cur_img)\n",
    "cur_img1[:, :, 0] = 0\n",
    "cur_img1[:, :, 1] = 0\n",
    "cv_show('R', cur_img1)"
   ]
  },
  {
   "cell_type": "code",
   "execution_count": 61,
   "metadata": {},
   "outputs": [],
   "source": [
    "cur_img2 = img.copy()\n",
    "#cv_show('copy', cur_img)\n",
    "cur_img2[:, :, 1] = 0\n",
    "cur_img2[:, :, 2] = 0\n",
    "cv_show('B', cur_img2)"
   ]
  },
  {
   "cell_type": "markdown",
   "metadata": {},
   "source": [
    "# 读取显示视频"
   ]
  },
  {
   "cell_type": "code",
   "execution_count": 46,
   "metadata": {},
   "outputs": [],
   "source": [
    "video = cv2.VideoCapture('/home/kdd/Videos/dde-introduction.mp4')"
   ]
  },
  {
   "cell_type": "code",
   "execution_count": 47,
   "metadata": {},
   "outputs": [],
   "source": [
    "if video.isOpened():\n",
    "    opened, frame = video.read()\n",
    "else:\n",
    "    opened = False"
   ]
  },
  {
   "cell_type": "code",
   "execution_count": 48,
   "metadata": {},
   "outputs": [],
   "source": [
    "while opened:\n",
    "    rel, frame = video.read()\n",
    "    if frame is None:\n",
    "        break\n",
    "    if rel == True:\n",
    "        gray = cv2.cvtColor(frame, cv2.COLOR_BGR2BGRA)\n",
    "        cv2.imshow('res', gray)\n",
    "        if cv2.waitKey(1) & 0xFF == 27:  # 27表示ESC退出键\n",
    "            break\n",
    "\n",
    "video.release()\n",
    "cv2.destroyAllWindows()"
   ]
  },
  {
   "cell_type": "markdown",
   "metadata": {},
   "source": [
    "# 图像边界填充"
   ]
  },
  {
   "cell_type": "code",
   "execution_count": 64,
   "metadata": {},
   "outputs": [],
   "source": [
    "img = cv2.cvtColor(img, cv2.COLOR_BGR2RGB)"
   ]
  },
  {
   "cell_type": "code",
   "execution_count": 65,
   "metadata": {},
   "outputs": [],
   "source": [
    "top_size, bottom_size, left_size, right_size = (50, 50, 50, 50)\n",
    "# BORDER_REPLICATE: 复制法， 复制最边缘像素\n",
    "replicate = cv2.copyMakeBorder(img, top_size, bottom_size, left_size, right_size, borderType=cv2.BORDER_REPLICATE)\n",
    "# BORDER_REFLECT: 反射法， 对感兴趣的图像中的像素在两边进行复制，如: bcda|adcb|bcda\n",
    "reflect = cv2.copyMakeBorder(img, top_size, bottom_size, left_size, right_size, borderType=cv2.BORDER_REFLECT)\n",
    "# BORDER_REFLECT_101: 反射法， edcb|abcde|dcba\n",
    "reflect101 = cv2.copyMakeBorder(img, top_size, bottom_size, left_size, right_size, borderType=cv2.BORDER_REFLECT_101)\n",
    "# BORDER_WRAP: 外包装法， abcds|abcds|abcds\n",
    "wrap = cv2. copyMakeBorder(img, top_size, bottom_size, left_size, right_size, borderType=cv2.BORDER_WRAP)\n",
    "# BORDER_CONSTANT: 常数值填充\n",
    "constant = cv2.copyMakeBorder(img, top_size, bottom_size, left_size, right_size, borderType=cv2.BORDER_CONSTANT, value=0)"
   ]
  },
  {
   "cell_type": "code",
   "execution_count": 66,
   "metadata": {},
   "outputs": [
    {
     "data": {
      "image/png": "[encoded data removed]",
      "text/plain": [
       "<Figure size 432x288 with 6 Axes>"
      ]
     },
     "metadata": {
      "needs_background": "light"
     },
     "output_type": "display_data"
    }
   ],
   "source": [
    "plt.subplot(231), plt.imshow(img, 'gray'), plt.title('Original')\n",
    "plt.subplot(232), plt.imshow(replicate, 'gray'), plt.title('Replicate')\n",
    "plt.subplot(233), plt.imshow(reflect, 'gray'), plt.title('Reflect')\n",
    "plt.subplot(234), plt.imshow(reflect101, 'gray'), plt.title('Reflect_101')\n",
    "plt.subplot(235), plt.imshow(wrap, 'gray'), plt.title('Wrap')\n",
    "plt.subplot(236), plt.imshow(constant, 'gray'), plt.title('Constant')\n",
    "plt.show()"
   ]
  },
  {
   "cell_type": "markdown",
   "metadata": {},
   "source": [
    "# 数值计算"
   ]
  },
  {
   "cell_type": "code",
   "execution_count": 68,
   "metadata": {},
   "outputs": [],
   "source": [
    "img2 = cv2.imread('/home/kdd/Pictures/2.jpg')"
   ]
  },
  {
   "cell_type": "code",
   "execution_count": 69,
   "metadata": {},
   "outputs": [],
   "source": [
    "cv_show('2', img2)"
   ]
  },
  {
   "cell_type": "code",
   "execution_count": 70,
   "metadata": {},
   "outputs": [
    {
     "data": {
      "text/plain": [
       "array([[140, 141, 142, ..., 109, 109, 109],\n",
       "       [140, 141, 142, ..., 109, 109, 109],\n",
       "       [140, 141, 142, ..., 109, 109, 109],\n",
       "       [141, 141, 142, ..., 110, 110, 110],\n",
       "       [142, 142, 141, ..., 110, 110, 110]], dtype=uint8)"
      ]
     },
     "execution_count": 70,
     "metadata": {},
     "output_type": "execute_result"
    }
   ],
   "source": [
    "img2[:5, :, 0]"
   ]
  },
  {
   "cell_type": "code",
   "execution_count": 71,
   "metadata": {},
   "outputs": [
    {
     "data": {
      "text/plain": [
       "array([[150, 151, 152, ..., 119, 119, 119],\n",
       "       [150, 151, 152, ..., 119, 119, 119],\n",
       "       [150, 151, 152, ..., 119, 119, 119],\n",
       "       [151, 151, 152, ..., 120, 120, 120],\n",
       "       [152, 152, 151, ..., 120, 120, 120]], dtype=uint8)"
      ]
     },
     "execution_count": 71,
     "metadata": {},
     "output_type": "execute_result"
    }
   ],
   "source": [
    "img2_10 = img2 + 10\n",
    "img2_10[:5, :, 0]"
   ]
  },
  {
   "cell_type": "code",
   "execution_count": 72,
   "metadata": {},
   "outputs": [
    {
     "data": {
      "text/plain": [
       "array([[ 34,  36,  38, ..., 228, 228, 228],\n",
       "       [ 34,  36,  38, ..., 228, 228, 228],\n",
       "       [ 34,  36,  38, ..., 228, 228, 228],\n",
       "       [ 36,  36,  38, ..., 230, 230, 230],\n",
       "       [ 38,  38,  36, ..., 230, 230, 230]], dtype=uint8)"
      ]
     },
     "execution_count": 72,
     "metadata": {},
     "output_type": "execute_result"
    }
   ],
   "source": [
    "# %256 取余 \n",
    "(img2 + img2_10)[:5, :, 0]"
   ]
  },
  {
   "cell_type": "code",
   "execution_count": 73,
   "metadata": {},
   "outputs": [
    {
     "data": {
      "text/plain": [
       "array([[255, 255, 255, ..., 228, 228, 228],\n",
       "       [255, 255, 255, ..., 228, 228, 228],\n",
       "       [255, 255, 255, ..., 228, 228, 228],\n",
       "       [255, 255, 255, ..., 230, 230, 230],\n",
       "       [255, 255, 255, ..., 230, 230, 230]], dtype=uint8)"
      ]
     },
     "execution_count": 73,
     "metadata": {},
     "output_type": "execute_result"
    }
   ],
   "source": [
    "# 像素值大于255的取255\n",
    "cv2.add(img2, img2_10)[:5, :, 0]"
   ]
  },
  {
   "cell_type": "code",
   "execution_count": null,
   "metadata": {},
   "outputs": [],
   "source": []
  }
 ],
 "metadata": {
  "kernelspec": {
   "display_name": "Python 3",
   "language": "python",
   "name": "python3"
  },
  "language_info": {
   "codemirror_mode": {
    "name": "ipython",
    "version": 3
   },
   "file_extension": ".py",
   "mimetype": "text/x-python",
   "name": "python",
   "nbconvert_exporter": "python",
   "pygments_lexer": "ipython3",
   "version": "3.7.7"
  }
 },
 "nbformat": 4,
 "nbformat_minor": 4
}
