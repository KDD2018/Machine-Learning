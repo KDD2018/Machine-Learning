{
 "cells": [
  {
   "cell_type": "code",
   "execution_count": 2,
   "metadata": {},
   "outputs": [],
   "source": [
    "import tensorflow as tf\n",
    "import os\n",
    "import numpy as np\n",
    "import  matplotlib.pyplot as plt\n",
    "from tensorflow import keras"
   ]
  },
  {
   "cell_type": "code",
   "execution_count": 3,
   "metadata": {},
   "outputs": [],
   "source": [
    "cifar10 = tf.keras.datasets.cifar10\n",
    "(x_train, y_train), (x_test, y_test) = cifar10.load_data()\n",
    "x_train, x_test = x_train / 255.0, x_test / 255.0"
   ]
  },
  {
   "cell_type": "code",
   "execution_count": 5,
   "metadata": {},
   "outputs": [],
   "source": [
    "class AlexNet8(keras.Model):\n",
    "    def __init__(self):\n",
    "        super(AlexNet8, self).__init__()\n",
    "        self.c1 = keras.layers.Conv2D(filters=96, kernel_size=(3, 3))\n",
    "        self.b1 = keras.layers.BatchNormalization()\n",
    "        self.a1 = keras.layers.Activation('relu')\n",
    "        self.p1 = keras.layers.MaxPool2D(pool_size=(3, 3), strides=2)\n",
    "        \n",
    "        self.c2 = keras.layers.Conv2D(filters=256, kernel_size=(3, 3))\n",
    "        self.b2 = keras.layers.BatchNormalization()\n",
    "        self.a2 = keras.layers.Activation('relu')\n",
    "        self.p2 = keras.layers.MaxPool2D(pool_size=(3, 3), strides=2)\n",
    "        \n",
    "        self.c3 = keras.layers.Conv2D(filters=384, kernel_size=(3, 3), padding='same', activation='relu')\n",
    "        self.c4 = keras.layers.Conv2D(filters=384, kernel_size=(3, 3), padding='same', activation='relu')\n",
    "        self.c5 = keras.layers.Conv2D(filters=256, kernel_size=(3, 3), padding='same', activation='relu')\n",
    "        self.p3 = keras.layers.MaxPool2D(pool_size=(3, 3), strides=2)\n",
    "        \n",
    "        self.flatten = keras.layers.Flatten()\n",
    "        self.fc1 = keras.layers.Dense(2048, activation='relu')\n",
    "        self.dr1 = keras.layers.Dropout(0.5)\n",
    "        self.fc2 = keras.layers.Dense(2048, activation='relu')\n",
    "        self.dr2 = keras.layers.Dropout(0.5)\n",
    "        self.fc3 = keras.layers.Dense(10, activation='softmax')\n",
    "        \n",
    "    def call(self, x):\n",
    "        x = self.c1(x)\n",
    "        x = self.b1(x)\n",
    "        x = self.a1(x)\n",
    "        x = self.p1(x)\n",
    "        \n",
    "        x = self.c2(x)\n",
    "        x = self.b2(x)\n",
    "        x = self.a2(x)\n",
    "        x = self.p2(x)\n",
    "        \n",
    "        x = self.c3(x)\n",
    "        x = self.c4(x)\n",
    "        x = self.c5(x)\n",
    "        x = self.p3(x)\n",
    "        \n",
    "        x = self.flatten(x)\n",
    "        x = self.fc1(x)\n",
    "        x = self.dr1(x)\n",
    "        x = self.fc2(x)\n",
    "        x = self.dr2(x)\n",
    "        y = self.fc3(x)\n",
    "        return y "
   ]
  },
  {
   "cell_type": "code",
   "execution_count": 6,
   "metadata": {},
   "outputs": [],
   "source": [
    "model = AlexNet8()\n",
    "model.compile(optimizer='adam',\n",
    "              loss=keras.losses.SparseCategoricalCrossentropy(from_logits=False),\n",
    "              metrics=['sparse_categorical_accuracy'])\n"
   ]
  },
  {
   "cell_type": "code",
   "execution_count": null,
   "metadata": {},
   "outputs": [],
   "source": [
    "history = model.fit(x_train, y_train, batch_size=32, epochs=5,\n",
    "                    validation=(x_test, y_test), validation_freq=1）"
   ]
  },
  {
   "cell_type": "code",
   "execution_count": null,
   "metadata": {},
   "outputs": [],
   "source": [
    "acc = history.history['sparse_categorical_accuracy']\n",
    "val_acc = history.history['val_sparse_categorical_accuracy']\n",
    "loss = history.history['loss']\n",
    "val_loss = history.history['val_loss']\n",
    "\n",
    "plt.subplot(1, 2, 1)\n",
    "plt.plot(acc, label='Training Accuracy')\n",
    "plt.plot(val_acc, label='Validation Accuracy')\n",
    "plt.title('Training and Validation Accuracy')\n",
    "plt.legend()\n",
    "\n",
    "plt.subplot(1, 2, 2)\n",
    "plt.plot(loss, label='Training Loss')\n",
    "plt.plot(val_loss, label='Validation Loss')\n",
    "plt.title('Training and Validation Loss')\n",
    "plt.legend()\n",
    "plt.show()"
   ]
  }
 ],
 "metadata": {
  "kernelspec": {
   "display_name": "Python 3",
   "language": "python",
   "name": "python3"
  },
  "language_info": {
   "codemirror_mode": {
    "name": "ipython",
    "version": 3
   },
   "file_extension": ".py",
   "mimetype": "text/x-python",
   "name": "python",
   "nbconvert_exporter": "python",
   "pygments_lexer": "ipython3",
   "version": "3.8.2"
  }
 },
 "nbformat": 4,
 "nbformat_minor": 4
}
