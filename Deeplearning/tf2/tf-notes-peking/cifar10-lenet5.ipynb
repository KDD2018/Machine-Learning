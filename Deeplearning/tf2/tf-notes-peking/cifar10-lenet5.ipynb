{
 "cells": [
  {
   "cell_type": "code",
   "execution_count": 21,
   "metadata": {},
   "outputs": [],
   "source": [
    "import tensorflow as tf\n",
    "import numpy as np\n",
    "import matplotlib.pyplot as plt\n",
    "from tensorflow import keras\n",
    "import os"
   ]
  },
  {
   "cell_type": "code",
   "execution_count": 22,
   "metadata": {},
   "outputs": [],
   "source": [
    "cifar10 = tf.keras.datasets.cifar10\n",
    "(x_train, y_train), (x_test, y_test) = cifar10.load_data()"
   ]
  },
  {
   "cell_type": "code",
   "execution_count": 23,
   "metadata": {},
   "outputs": [],
   "source": [
    "x_train, x_test = x_train / 255.0, x_test / 255.0"
   ]
  },
  {
   "cell_type": "code",
   "execution_count": null,
   "metadata": {},
   "outputs": [],
   "source": [
    "class LeNet5(tf.keras.Model):\n",
    "    def __init__(self):\n",
    "        super(LeNet5, self).__init__()\n",
    "        self.c1 = keras.layers.Conv2D(filters=6, kernel_size=(5, 5), activation='relu')\n",
    "        self.p1 = keras.layers.MaxPool2D(pool_size=(2, 2), strides=2)\n",
    "        self.c2 = keras.layers.Conv2D(filters=16, kernel_size=(5, 5), activation='relu')\n",
    "        self.p2 = keras.layers.MaxPool2D(pool_size=(2, 2), strides=2)\n",
    "        self.flatten = keras.layers.Flatten()\n",
    "        self.d1 = keras.layers.Dense(120, activation='relu')\n",
    "        self.d2 = keras.layers.Dense(84, activation='relu')\n",
    "        self.d3 = keras.layers.Dense(10, activation='softmax')\n",
    "        \n",
    "    def call(self, x):\n",
    "        x = self.c1(x)\n",
    "        x = self.p1(x)\n",
    "        \n",
    "        x = self.c2(x)\n",
    "        x = self.p2(x)\n",
    "        \n",
    "        x = self.flatten(x)\n",
    "        x = self.d1(x)\n",
    "        x = self.d2(x)\n",
    "        y = self.d3(x)\n",
    "        return y\n",
    "        \n",
    "model = LeNet5()"
   ]
  },
  {
   "cell_type": "code",
   "execution_count": 25,
   "metadata": {},
   "outputs": [],
   "source": [
    "model = tf.keras.Sequential([\n",
    "    keras.layers.Conv2D(filters=6, kernel_size=(5, 5), activation='relu'),\n",
    "    keras.layers.MaxPool2D(pool_size=(2, 2), strides=2),\n",
    "    keras.layers.Conv2D(filters=16, kernel_size=(5, 5), activation='relu'),\n",
    "    keras.layers.MaxPool2D(pool_size=(2, 2), strides=2),\n",
    "    keras.layers.Flatten(),\n",
    "    keras.layers.Dense(120, activation='relu'),\n",
    "    keras.layers.Dense(84, activation='relu'),\n",
    "    keras.layers.Dense(10, activation='softmax')\n",
    "])"
   ]
  },
  {
   "cell_type": "code",
   "execution_count": 26,
   "metadata": {},
   "outputs": [],
   "source": [
    "model.compile(optimizer='adam',\n",
    "              loss=keras.losses.SparseCategoricalCrossentropy(from_logits=False),\n",
    "              metrics=['sparse_categorical_accuracy'])"
   ]
  },
  {
   "cell_type": "code",
   "execution_count": 27,
   "metadata": {},
   "outputs": [
    {
     "name": "stdout",
     "output_type": "stream",
     "text": [
      "Train on 50000 samples, validate on 10000 samples\n",
      "Epoch 1/30\n",
      "50000/50000 [==============================] - 30s 604us/sample - loss: 1.6580 - sparse_categorical_accuracy: 0.3950 - val_loss: 1.4452 - val_sparse_categorical_accuracy: 0.4759\n",
      "Epoch 2/30\n",
      "50000/50000 [==============================] - 25s 491us/sample - loss: 1.3766 - sparse_categorical_accuracy: 0.5059 - val_loss: 1.3331 - val_sparse_categorical_accuracy: 0.5187\n",
      "Epoch 3/30\n",
      "50000/50000 [==============================] - 29s 572us/sample - loss: 1.2526 - sparse_categorical_accuracy: 0.5517 - val_loss: 1.2418 - val_sparse_categorical_accuracy: 0.5520\n",
      "Epoch 4/30\n",
      "50000/50000 [==============================] - 27s 549us/sample - loss: 1.1640 - sparse_categorical_accuracy: 0.5877 - val_loss: 1.1876 - val_sparse_categorical_accuracy: 0.5740\n",
      "Epoch 5/30\n",
      "50000/50000 [==============================] - 29s 583us/sample - loss: 1.0997 - sparse_categorical_accuracy: 0.6106 - val_loss: 1.2157 - val_sparse_categorical_accuracy: 0.5686\n",
      "Epoch 6/30\n",
      "50000/50000 [==============================] - 32s 631us/sample - loss: 1.0508 - sparse_categorical_accuracy: 0.6282 - val_loss: 1.1404 - val_sparse_categorical_accuracy: 0.5970\n",
      "Epoch 7/30\n",
      "50000/50000 [==============================] - 26s 519us/sample - loss: 0.9988 - sparse_categorical_accuracy: 0.6453 - val_loss: 1.1421 - val_sparse_categorical_accuracy: 0.6023\n",
      "Epoch 8/30\n",
      "50000/50000 [==============================] - 25s 499us/sample - loss: 0.9615 - sparse_categorical_accuracy: 0.6576 - val_loss: 1.1859 - val_sparse_categorical_accuracy: 0.5916\n",
      "Epoch 9/30\n",
      "50000/50000 [==============================] - 31s 625us/sample - loss: 0.9214 - sparse_categorical_accuracy: 0.6729 - val_loss: 1.1017 - val_sparse_categorical_accuracy: 0.6175\n",
      "Epoch 10/30\n",
      "50000/50000 [==============================] - 21s 427us/sample - loss: 0.8815 - sparse_categorical_accuracy: 0.6867 - val_loss: 1.1083 - val_sparse_categorical_accuracy: 0.6165\n",
      "Epoch 11/30\n",
      "50000/50000 [==============================] - 25s 492us/sample - loss: 0.8474 - sparse_categorical_accuracy: 0.7004 - val_loss: 1.1352 - val_sparse_categorical_accuracy: 0.6153\n",
      "Epoch 12/30\n",
      "50000/50000 [==============================] - 26s 514us/sample - loss: 0.8215 - sparse_categorical_accuracy: 0.7089 - val_loss: 1.1562 - val_sparse_categorical_accuracy: 0.6098\n",
      "Epoch 13/30\n",
      "50000/50000 [==============================] - 24s 475us/sample - loss: 0.7979 - sparse_categorical_accuracy: 0.7146 - val_loss: 1.1452 - val_sparse_categorical_accuracy: 0.6177\n",
      "Epoch 14/30\n",
      "50000/50000 [==============================] - 23s 464us/sample - loss: 0.7646 - sparse_categorical_accuracy: 0.7263 - val_loss: 1.1209 - val_sparse_categorical_accuracy: 0.6251\n",
      "Epoch 15/30\n",
      "50000/50000 [==============================] - 24s 480us/sample - loss: 0.7419 - sparse_categorical_accuracy: 0.7353 - val_loss: 1.1860 - val_sparse_categorical_accuracy: 0.6174\n",
      "Epoch 16/30\n",
      "50000/50000 [==============================] - 28s 570us/sample - loss: 0.7210 - sparse_categorical_accuracy: 0.7418 - val_loss: 1.1936 - val_sparse_categorical_accuracy: 0.6103\n",
      "Epoch 17/30\n",
      "50000/50000 [==============================] - 27s 536us/sample - loss: 0.6961 - sparse_categorical_accuracy: 0.7503 - val_loss: 1.2314 - val_sparse_categorical_accuracy: 0.6143\n",
      "Epoch 18/30\n",
      "50000/50000 [==============================] - 20s 394us/sample - loss: 0.6727 - sparse_categorical_accuracy: 0.7616 - val_loss: 1.2654 - val_sparse_categorical_accuracy: 0.6117\n",
      "Epoch 19/30\n",
      "50000/50000 [==============================] - 31s 613us/sample - loss: 0.6557 - sparse_categorical_accuracy: 0.7646 - val_loss: 1.2774 - val_sparse_categorical_accuracy: 0.6148\n",
      "Epoch 20/30\n",
      "50000/50000 [==============================] - 27s 534us/sample - loss: 0.6314 - sparse_categorical_accuracy: 0.7747 - val_loss: 1.2722 - val_sparse_categorical_accuracy: 0.6107\n",
      "Epoch 21/30\n",
      "50000/50000 [==============================] - 29s 575us/sample - loss: 0.6141 - sparse_categorical_accuracy: 0.7787 - val_loss: 1.3412 - val_sparse_categorical_accuracy: 0.6089\n",
      "Epoch 22/30\n",
      "50000/50000 [==============================] - 30s 607us/sample - loss: 0.5923 - sparse_categorical_accuracy: 0.7862 - val_loss: 1.4077 - val_sparse_categorical_accuracy: 0.5950\n",
      "Epoch 23/30\n",
      "50000/50000 [==============================] - 30s 608us/sample - loss: 0.5760 - sparse_categorical_accuracy: 0.7943 - val_loss: 1.3658 - val_sparse_categorical_accuracy: 0.6071\n",
      "Epoch 24/30\n",
      "50000/50000 [==============================] - 22s 449us/sample - loss: 0.5608 - sparse_categorical_accuracy: 0.7973 - val_loss: 1.4724 - val_sparse_categorical_accuracy: 0.5990\n",
      "Epoch 25/30\n",
      "50000/50000 [==============================] - 26s 519us/sample - loss: 0.5407 - sparse_categorical_accuracy: 0.8033 - val_loss: 1.4801 - val_sparse_categorical_accuracy: 0.5991\n",
      "Epoch 26/30\n",
      "50000/50000 [==============================] - 16s 314us/sample - loss: 0.5261 - sparse_categorical_accuracy: 0.8080 - val_loss: 1.5393 - val_sparse_categorical_accuracy: 0.5929\n",
      "Epoch 27/30\n",
      "50000/50000 [==============================] - 24s 472us/sample - loss: 0.5167 - sparse_categorical_accuracy: 0.8134 - val_loss: 1.5716 - val_sparse_categorical_accuracy: 0.5969\n",
      "Epoch 28/30\n",
      "50000/50000 [==============================] - 23s 465us/sample - loss: 0.5023 - sparse_categorical_accuracy: 0.8193 - val_loss: 1.6084 - val_sparse_categorical_accuracy: 0.5961\n",
      "Epoch 29/30\n",
      "50000/50000 [==============================] - 30s 602us/sample - loss: 0.4893 - sparse_categorical_accuracy: 0.8241 - val_loss: 1.6031 - val_sparse_categorical_accuracy: 0.5992\n",
      "Epoch 30/30\n",
      "50000/50000 [==============================] - 27s 541us/sample - loss: 0.4714 - sparse_categorical_accuracy: 0.8297 - val_loss: 1.6946 - val_sparse_categorical_accuracy: 0.5926\n"
     ]
    }
   ],
   "source": [
    "history = model.fit(x_train, y_train, batch_size=32, epochs=30, validation_data=(x_test, y_test), validation_freq=1)"
   ]
  },
  {
   "cell_type": "code",
   "execution_count": 28,
   "metadata": {},
   "outputs": [
    {
     "data": {
      "image/png": "[encoded data removed]",
      "text/plain": [
       "<Figure size 432x288 with 2 Axes>"
      ]
     },
     "metadata": {
      "needs_background": "light"
     },
     "output_type": "display_data"
    }
   ],
   "source": [
    "# 显示训练集和验证集的acc和loss曲线\n",
    "acc = history.history['sparse_categorical_accuracy']\n",
    "val_acc = history.history['val_sparse_categorical_accuracy']\n",
    "loss = history.history['loss']\n",
    "val_loss = history.history['val_loss']\n",
    "\n",
    "plt.subplot(1, 2, 1)\n",
    "plt.plot(acc, label='Training Accuracy')\n",
    "plt.plot(val_acc, label='Validation Accuracy')\n",
    "plt.title('Training and Validation Accuracy')\n",
    "plt.legend()\n",
    "\n",
    "plt.subplot(1, 2, 2)\n",
    "plt.plot(loss, label='Training Loss')\n",
    "plt.plot(val_loss, label='Validation Loss')\n",
    "plt.title('Training and Validation Loss')\n",
    "plt.legend()\n",
    "plt.show()"
   ]
  },
  {
   "cell_type": "code",
   "execution_count": null,
   "metadata": {},
   "outputs": [],
   "source": []
  }
 ],
 "metadata": {
  "kernelspec": {
   "display_name": "Python 3",
   "language": "python",
   "name": "python3"
  },
  "language_info": {
   "codemirror_mode": {
    "name": "ipython",
    "version": 3
   },
   "file_extension": ".py",
   "mimetype": "text/x-python",
   "name": "python",
   "nbconvert_exporter": "python",
   "pygments_lexer": "ipython3",
   "version": "3.7.7"
  }
 },
 "nbformat": 4,
 "nbformat_minor": 4
}
