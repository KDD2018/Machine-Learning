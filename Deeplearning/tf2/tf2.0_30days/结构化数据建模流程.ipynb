{
 "cells": [
  {
   "cell_type": "code",
   "execution_count": 1,
   "metadata": {},
   "outputs": [],
   "source": [
    "import numpy as np\n",
    "import pandas as pd\n",
    "import matplotlib.pyplot as plt\n",
    "import tensorflow as tf\n",
    "from tensorflow import keras\n",
    "%matplotlib inline\n",
    "%config InlineBackend.figure_format='png'"
   ]
  },
  {
   "cell_type": "markdown",
   "metadata": {},
   "source": [
    "# 准备数据"
   ]
  },
  {
   "cell_type": "code",
   "execution_count": 2,
   "metadata": {},
   "outputs": [
    {
     "data": {
      "text/html": [
       "<div>\n",
       "<style scoped>\n",
       "    .dataframe tbody tr th:only-of-type {\n",
       "        vertical-align: middle;\n",
       "    }\n",
       "\n",
       "    .dataframe tbody tr th {\n",
       "        vertical-align: top;\n",
       "    }\n",
       "\n",
       "    .dataframe thead th {\n",
       "        text-align: right;\n",
       "    }\n",
       "</style>\n",
       "<table border=\"1\" class=\"dataframe\">\n",
       "  <thead>\n",
       "    <tr style=\"text-align: right;\">\n",
       "      <th></th>\n",
       "      <th>PassengerId</th>\n",
       "      <th>Survived</th>\n",
       "      <th>Pclass</th>\n",
       "      <th>Name</th>\n",
       "      <th>Sex</th>\n",
       "      <th>Age</th>\n",
       "      <th>SibSp</th>\n",
       "      <th>Parch</th>\n",
       "      <th>Ticket</th>\n",
       "      <th>Fare</th>\n",
       "      <th>Cabin</th>\n",
       "      <th>Embarked</th>\n",
       "    </tr>\n",
       "  </thead>\n",
       "  <tbody>\n",
       "    <tr>\n",
       "      <th>0</th>\n",
       "      <td>493</td>\n",
       "      <td>0</td>\n",
       "      <td>1</td>\n",
       "      <td>Molson, Mr. Harry Markland</td>\n",
       "      <td>male</td>\n",
       "      <td>55.0</td>\n",
       "      <td>0</td>\n",
       "      <td>0</td>\n",
       "      <td>113787</td>\n",
       "      <td>30.5000</td>\n",
       "      <td>C30</td>\n",
       "      <td>S</td>\n",
       "    </tr>\n",
       "    <tr>\n",
       "      <th>1</th>\n",
       "      <td>53</td>\n",
       "      <td>1</td>\n",
       "      <td>1</td>\n",
       "      <td>Harper, Mrs. Henry Sleeper (Myna Haxtun)</td>\n",
       "      <td>female</td>\n",
       "      <td>49.0</td>\n",
       "      <td>1</td>\n",
       "      <td>0</td>\n",
       "      <td>PC 17572</td>\n",
       "      <td>76.7292</td>\n",
       "      <td>D33</td>\n",
       "      <td>C</td>\n",
       "    </tr>\n",
       "    <tr>\n",
       "      <th>2</th>\n",
       "      <td>388</td>\n",
       "      <td>1</td>\n",
       "      <td>2</td>\n",
       "      <td>Buss, Miss. Kate</td>\n",
       "      <td>female</td>\n",
       "      <td>36.0</td>\n",
       "      <td>0</td>\n",
       "      <td>0</td>\n",
       "      <td>27849</td>\n",
       "      <td>13.0000</td>\n",
       "      <td>NaN</td>\n",
       "      <td>S</td>\n",
       "    </tr>\n",
       "    <tr>\n",
       "      <th>3</th>\n",
       "      <td>192</td>\n",
       "      <td>0</td>\n",
       "      <td>2</td>\n",
       "      <td>Carbines, Mr. William</td>\n",
       "      <td>male</td>\n",
       "      <td>19.0</td>\n",
       "      <td>0</td>\n",
       "      <td>0</td>\n",
       "      <td>28424</td>\n",
       "      <td>13.0000</td>\n",
       "      <td>NaN</td>\n",
       "      <td>S</td>\n",
       "    </tr>\n",
       "    <tr>\n",
       "      <th>4</th>\n",
       "      <td>687</td>\n",
       "      <td>0</td>\n",
       "      <td>3</td>\n",
       "      <td>Panula, Mr. Jaako Arnold</td>\n",
       "      <td>male</td>\n",
       "      <td>14.0</td>\n",
       "      <td>4</td>\n",
       "      <td>1</td>\n",
       "      <td>3101295</td>\n",
       "      <td>39.6875</td>\n",
       "      <td>NaN</td>\n",
       "      <td>S</td>\n",
       "    </tr>\n",
       "    <tr>\n",
       "      <th>5</th>\n",
       "      <td>16</td>\n",
       "      <td>1</td>\n",
       "      <td>2</td>\n",
       "      <td>Hewlett, Mrs. (Mary D Kingcome)</td>\n",
       "      <td>female</td>\n",
       "      <td>55.0</td>\n",
       "      <td>0</td>\n",
       "      <td>0</td>\n",
       "      <td>248706</td>\n",
       "      <td>16.0000</td>\n",
       "      <td>NaN</td>\n",
       "      <td>S</td>\n",
       "    </tr>\n",
       "    <tr>\n",
       "      <th>6</th>\n",
       "      <td>228</td>\n",
       "      <td>0</td>\n",
       "      <td>3</td>\n",
       "      <td>Lovell, Mr. John Hall (\"Henry\")</td>\n",
       "      <td>male</td>\n",
       "      <td>20.5</td>\n",
       "      <td>0</td>\n",
       "      <td>0</td>\n",
       "      <td>A/5 21173</td>\n",
       "      <td>7.2500</td>\n",
       "      <td>NaN</td>\n",
       "      <td>S</td>\n",
       "    </tr>\n",
       "    <tr>\n",
       "      <th>7</th>\n",
       "      <td>884</td>\n",
       "      <td>0</td>\n",
       "      <td>2</td>\n",
       "      <td>Banfield, Mr. Frederick James</td>\n",
       "      <td>male</td>\n",
       "      <td>28.0</td>\n",
       "      <td>0</td>\n",
       "      <td>0</td>\n",
       "      <td>C.A./SOTON 34068</td>\n",
       "      <td>10.5000</td>\n",
       "      <td>NaN</td>\n",
       "      <td>S</td>\n",
       "    </tr>\n",
       "    <tr>\n",
       "      <th>8</th>\n",
       "      <td>168</td>\n",
       "      <td>0</td>\n",
       "      <td>3</td>\n",
       "      <td>Skoog, Mrs. William (Anna Bernhardina Karlsson)</td>\n",
       "      <td>female</td>\n",
       "      <td>45.0</td>\n",
       "      <td>1</td>\n",
       "      <td>4</td>\n",
       "      <td>347088</td>\n",
       "      <td>27.9000</td>\n",
       "      <td>NaN</td>\n",
       "      <td>S</td>\n",
       "    </tr>\n",
       "    <tr>\n",
       "      <th>9</th>\n",
       "      <td>752</td>\n",
       "      <td>1</td>\n",
       "      <td>3</td>\n",
       "      <td>Moor, Master. Meier</td>\n",
       "      <td>male</td>\n",
       "      <td>6.0</td>\n",
       "      <td>0</td>\n",
       "      <td>1</td>\n",
       "      <td>392096</td>\n",
       "      <td>12.4750</td>\n",
       "      <td>E121</td>\n",
       "      <td>S</td>\n",
       "    </tr>\n",
       "  </tbody>\n",
       "</table>\n",
       "</div>"
      ],
      "text/plain": [
       "   PassengerId  Survived  Pclass  \\\n",
       "0          493         0       1   \n",
       "1           53         1       1   \n",
       "2          388         1       2   \n",
       "3          192         0       2   \n",
       "4          687         0       3   \n",
       "5           16         1       2   \n",
       "6          228         0       3   \n",
       "7          884         0       2   \n",
       "8          168         0       3   \n",
       "9          752         1       3   \n",
       "\n",
       "                                              Name     Sex   Age  SibSp  \\\n",
       "0                       Molson, Mr. Harry Markland    male  55.0      0   \n",
       "1         Harper, Mrs. Henry Sleeper (Myna Haxtun)  female  49.0      1   \n",
       "2                                 Buss, Miss. Kate  female  36.0      0   \n",
       "3                            Carbines, Mr. William    male  19.0      0   \n",
       "4                         Panula, Mr. Jaako Arnold    male  14.0      4   \n",
       "5                 Hewlett, Mrs. (Mary D Kingcome)   female  55.0      0   \n",
       "6                  Lovell, Mr. John Hall (\"Henry\")    male  20.5      0   \n",
       "7                    Banfield, Mr. Frederick James    male  28.0      0   \n",
       "8  Skoog, Mrs. William (Anna Bernhardina Karlsson)  female  45.0      1   \n",
       "9                              Moor, Master. Meier    male   6.0      0   \n",
       "\n",
       "   Parch            Ticket     Fare Cabin Embarked  \n",
       "0      0            113787  30.5000   C30        S  \n",
       "1      0          PC 17572  76.7292   D33        C  \n",
       "2      0             27849  13.0000   NaN        S  \n",
       "3      0             28424  13.0000   NaN        S  \n",
       "4      1           3101295  39.6875   NaN        S  \n",
       "5      0            248706  16.0000   NaN        S  \n",
       "6      0         A/5 21173   7.2500   NaN        S  \n",
       "7      0  C.A./SOTON 34068  10.5000   NaN        S  \n",
       "8      4            347088  27.9000   NaN        S  \n",
       "9      1            392096  12.4750  E121        S  "
      ]
     },
     "execution_count": 2,
     "metadata": {},
     "output_type": "execute_result"
    }
   ],
   "source": [
    "dftrain_raw = pd.read_csv('/home/share/data/titanic/train.csv')\n",
    "dftest_raw = pd.read_csv('/home/share/data/titanic/test.csv')\n",
    "dftrain_raw.head(10)"
   ]
  },
  {
   "cell_type": "markdown",
   "metadata": {},
   "source": [
    "## 字段说明：\n",
    "- Survived:0代表死亡，1代表存活【y标签】\n",
    "- Pclass:乘客所持票类，有三种值(1,2,3) 【转换成onehot编码】\n",
    "- Name:乘客姓名 【舍去】\n",
    "- Sex:乘客性别 【转换成bool特征】\n",
    "- Age:乘客年龄(有缺失) 【数值特征，添加“年龄是否缺失”作为辅助特征】\n",
    "- SibSp:乘客兄弟姐妹/配偶的个数(整数值) 【数值特征】\n",
    "- Parch:乘客父母/孩子的个数(整数值)【数值特征】\n",
    "- Ticket:票号(字符串)【舍去】\n",
    "- Fare:乘客所持票的价格(浮点数，0-500不等) 【数值特征】\n",
    "- Cabin:乘客所在船舱(有缺失) 【添加“所在船舱是否缺失”作为辅助特征】\n",
    "- Embarked:乘客登船港口:S、C、Q(有缺失)【转换成onehot编码，四维度 S,C,Q,nan】"
   ]
  },
  {
   "cell_type": "markdown",
   "metadata": {},
   "source": [
    "## LABEL分布情况"
   ]
  },
  {
   "cell_type": "code",
   "execution_count": 3,
   "metadata": {},
   "outputs": [
    {
     "data": {
      "image/png": "[encoded data removed]",
      "text/plain": [
       "<Figure size 864x576 with 1 Axes>"
      ]
     },
     "metadata": {
      "needs_background": "light"
     },
     "output_type": "display_data"
    }
   ],
   "source": [
    "ax = dftrain_raw['Survived'].value_counts().plot(kind='bar', figsize=(12, 8), fontsize=15, rot=0)\n",
    "ax.set_ylabel('Counts', fontsize=15)\n",
    "ax.set_xlabel('Survived', fontsize=15)\n",
    "plt.show()"
   ]
  },
  {
   "cell_type": "markdown",
   "metadata": {},
   "source": [
    "## 年龄分布情况"
   ]
  },
  {
   "cell_type": "code",
   "execution_count": 4,
   "metadata": {},
   "outputs": [
    {
     "data": {
      "image/png": "[encoded data removed]",
      "text/plain": [
       "<Figure size 864x576 with 1 Axes>"
      ]
     },
     "metadata": {
      "needs_background": "light"
     },
     "output_type": "display_data"
    }
   ],
   "source": [
    "ax = dftrain_raw['Age'].plot(kind='hist', bins=20, color='purple', figsize=(12, 8), fontsize=15)\n",
    "ax.set_ylabel('Frequency', fontsize=15)\n",
    "ax.set_xlabel('Age', fontsize=15)\n",
    "plt.show()"
   ]
  },
  {
   "cell_type": "markdown",
   "metadata": {},
   "source": [
    "## 年龄个label的相关性"
   ]
  },
  {
   "cell_type": "code",
   "execution_count": 5,
   "metadata": {},
   "outputs": [
    {
     "data": {
      "image/png": "[encoded data removed]",
      "text/plain": [
       "<Figure size 864x576 with 1 Axes>"
      ]
     },
     "metadata": {
      "needs_background": "light"
     },
     "output_type": "display_data"
    }
   ],
   "source": [
    "ax = dftrain_raw.query('Survived==0')['Age'].plot(kind='density', figsize=(12,8), fontsize=15)\n",
    "dftrain_raw.query('Survived==1')['Age'].plot(kind='density', figsize=(12,8), fontsize=15)\n",
    "ax.legend(['Survived==0', 'Survived==1'], fontsize=12)\n",
    "ax.set_ylabel('Density', fontsize=15)\n",
    "ax.set_xlabel('Age', fontsize=15)\n",
    "plt.show()"
   ]
  },
  {
   "cell_type": "code",
   "execution_count": 6,
   "metadata": {},
   "outputs": [
    {
     "data": {
      "text/html": [
       "<div>\n",
       "<style scoped>\n",
       "    .dataframe tbody tr th:only-of-type {\n",
       "        vertical-align: middle;\n",
       "    }\n",
       "\n",
       "    .dataframe tbody tr th {\n",
       "        vertical-align: top;\n",
       "    }\n",
       "\n",
       "    .dataframe thead th {\n",
       "        text-align: right;\n",
       "    }\n",
       "</style>\n",
       "<table border=\"1\" class=\"dataframe\">\n",
       "  <thead>\n",
       "    <tr style=\"text-align: right;\">\n",
       "      <th></th>\n",
       "      <th>PassengerId</th>\n",
       "      <th>Survived</th>\n",
       "      <th>Pclass</th>\n",
       "      <th>Name</th>\n",
       "      <th>Sex</th>\n",
       "      <th>Age</th>\n",
       "      <th>SibSp</th>\n",
       "      <th>Parch</th>\n",
       "      <th>Ticket</th>\n",
       "      <th>Fare</th>\n",
       "      <th>Cabin</th>\n",
       "      <th>Embarked</th>\n",
       "    </tr>\n",
       "  </thead>\n",
       "  <tbody>\n",
       "    <tr>\n",
       "      <th>0</th>\n",
       "      <td>493</td>\n",
       "      <td>0</td>\n",
       "      <td>1</td>\n",
       "      <td>Molson, Mr. Harry Markland</td>\n",
       "      <td>male</td>\n",
       "      <td>55.0</td>\n",
       "      <td>0</td>\n",
       "      <td>0</td>\n",
       "      <td>113787</td>\n",
       "      <td>30.5000</td>\n",
       "      <td>C30</td>\n",
       "      <td>S</td>\n",
       "    </tr>\n",
       "    <tr>\n",
       "      <th>3</th>\n",
       "      <td>192</td>\n",
       "      <td>0</td>\n",
       "      <td>2</td>\n",
       "      <td>Carbines, Mr. William</td>\n",
       "      <td>male</td>\n",
       "      <td>19.0</td>\n",
       "      <td>0</td>\n",
       "      <td>0</td>\n",
       "      <td>28424</td>\n",
       "      <td>13.0000</td>\n",
       "      <td>NaN</td>\n",
       "      <td>S</td>\n",
       "    </tr>\n",
       "    <tr>\n",
       "      <th>4</th>\n",
       "      <td>687</td>\n",
       "      <td>0</td>\n",
       "      <td>3</td>\n",
       "      <td>Panula, Mr. Jaako Arnold</td>\n",
       "      <td>male</td>\n",
       "      <td>14.0</td>\n",
       "      <td>4</td>\n",
       "      <td>1</td>\n",
       "      <td>3101295</td>\n",
       "      <td>39.6875</td>\n",
       "      <td>NaN</td>\n",
       "      <td>S</td>\n",
       "    </tr>\n",
       "    <tr>\n",
       "      <th>6</th>\n",
       "      <td>228</td>\n",
       "      <td>0</td>\n",
       "      <td>3</td>\n",
       "      <td>Lovell, Mr. John Hall (\"Henry\")</td>\n",
       "      <td>male</td>\n",
       "      <td>20.5</td>\n",
       "      <td>0</td>\n",
       "      <td>0</td>\n",
       "      <td>A/5 21173</td>\n",
       "      <td>7.2500</td>\n",
       "      <td>NaN</td>\n",
       "      <td>S</td>\n",
       "    </tr>\n",
       "    <tr>\n",
       "      <th>7</th>\n",
       "      <td>884</td>\n",
       "      <td>0</td>\n",
       "      <td>2</td>\n",
       "      <td>Banfield, Mr. Frederick James</td>\n",
       "      <td>male</td>\n",
       "      <td>28.0</td>\n",
       "      <td>0</td>\n",
       "      <td>0</td>\n",
       "      <td>C.A./SOTON 34068</td>\n",
       "      <td>10.5000</td>\n",
       "      <td>NaN</td>\n",
       "      <td>S</td>\n",
       "    </tr>\n",
       "    <tr>\n",
       "      <th>...</th>\n",
       "      <td>...</td>\n",
       "      <td>...</td>\n",
       "      <td>...</td>\n",
       "      <td>...</td>\n",
       "      <td>...</td>\n",
       "      <td>...</td>\n",
       "      <td>...</td>\n",
       "      <td>...</td>\n",
       "      <td>...</td>\n",
       "      <td>...</td>\n",
       "      <td>...</td>\n",
       "      <td>...</td>\n",
       "    </tr>\n",
       "    <tr>\n",
       "      <th>706</th>\n",
       "      <td>19</td>\n",
       "      <td>0</td>\n",
       "      <td>3</td>\n",
       "      <td>Vander Planke, Mrs. Julius (Emelia Maria Vande...</td>\n",
       "      <td>female</td>\n",
       "      <td>31.0</td>\n",
       "      <td>1</td>\n",
       "      <td>0</td>\n",
       "      <td>345763</td>\n",
       "      <td>18.0000</td>\n",
       "      <td>NaN</td>\n",
       "      <td>S</td>\n",
       "    </tr>\n",
       "    <tr>\n",
       "      <th>708</th>\n",
       "      <td>65</td>\n",
       "      <td>0</td>\n",
       "      <td>1</td>\n",
       "      <td>Stewart, Mr. Albert A</td>\n",
       "      <td>male</td>\n",
       "      <td>NaN</td>\n",
       "      <td>0</td>\n",
       "      <td>0</td>\n",
       "      <td>PC 17605</td>\n",
       "      <td>27.7208</td>\n",
       "      <td>NaN</td>\n",
       "      <td>C</td>\n",
       "    </tr>\n",
       "    <tr>\n",
       "      <th>709</th>\n",
       "      <td>130</td>\n",
       "      <td>0</td>\n",
       "      <td>3</td>\n",
       "      <td>Ekstrom, Mr. Johan</td>\n",
       "      <td>male</td>\n",
       "      <td>45.0</td>\n",
       "      <td>0</td>\n",
       "      <td>0</td>\n",
       "      <td>347061</td>\n",
       "      <td>6.9750</td>\n",
       "      <td>NaN</td>\n",
       "      <td>S</td>\n",
       "    </tr>\n",
       "    <tr>\n",
       "      <th>710</th>\n",
       "      <td>21</td>\n",
       "      <td>0</td>\n",
       "      <td>2</td>\n",
       "      <td>Fynney, Mr. Joseph J</td>\n",
       "      <td>male</td>\n",
       "      <td>35.0</td>\n",
       "      <td>0</td>\n",
       "      <td>0</td>\n",
       "      <td>239865</td>\n",
       "      <td>26.0000</td>\n",
       "      <td>NaN</td>\n",
       "      <td>S</td>\n",
       "    </tr>\n",
       "    <tr>\n",
       "      <th>711</th>\n",
       "      <td>476</td>\n",
       "      <td>0</td>\n",
       "      <td>1</td>\n",
       "      <td>Clifford, Mr. George Quincy</td>\n",
       "      <td>male</td>\n",
       "      <td>NaN</td>\n",
       "      <td>0</td>\n",
       "      <td>0</td>\n",
       "      <td>110465</td>\n",
       "      <td>52.0000</td>\n",
       "      <td>A14</td>\n",
       "      <td>S</td>\n",
       "    </tr>\n",
       "  </tbody>\n",
       "</table>\n",
       "<p>433 rows × 12 columns</p>\n",
       "</div>"
      ],
      "text/plain": [
       "     PassengerId  Survived  Pclass  \\\n",
       "0            493         0       1   \n",
       "3            192         0       2   \n",
       "4            687         0       3   \n",
       "6            228         0       3   \n",
       "7            884         0       2   \n",
       "..           ...       ...     ...   \n",
       "706           19         0       3   \n",
       "708           65         0       1   \n",
       "709          130         0       3   \n",
       "710           21         0       2   \n",
       "711          476         0       1   \n",
       "\n",
       "                                                  Name     Sex   Age  SibSp  \\\n",
       "0                           Molson, Mr. Harry Markland    male  55.0      0   \n",
       "3                                Carbines, Mr. William    male  19.0      0   \n",
       "4                             Panula, Mr. Jaako Arnold    male  14.0      4   \n",
       "6                      Lovell, Mr. John Hall (\"Henry\")    male  20.5      0   \n",
       "7                        Banfield, Mr. Frederick James    male  28.0      0   \n",
       "..                                                 ...     ...   ...    ...   \n",
       "706  Vander Planke, Mrs. Julius (Emelia Maria Vande...  female  31.0      1   \n",
       "708                              Stewart, Mr. Albert A    male   NaN      0   \n",
       "709                                 Ekstrom, Mr. Johan    male  45.0      0   \n",
       "710                               Fynney, Mr. Joseph J    male  35.0      0   \n",
       "711                        Clifford, Mr. George Quincy    male   NaN      0   \n",
       "\n",
       "     Parch            Ticket     Fare Cabin Embarked  \n",
       "0        0            113787  30.5000   C30        S  \n",
       "3        0             28424  13.0000   NaN        S  \n",
       "4        1           3101295  39.6875   NaN        S  \n",
       "6        0         A/5 21173   7.2500   NaN        S  \n",
       "7        0  C.A./SOTON 34068  10.5000   NaN        S  \n",
       "..     ...               ...      ...   ...      ...  \n",
       "706      0            345763  18.0000   NaN        S  \n",
       "708      0          PC 17605  27.7208   NaN        C  \n",
       "709      0            347061   6.9750   NaN        S  \n",
       "710      0            239865  26.0000   NaN        S  \n",
       "711      0            110465  52.0000   A14        S  \n",
       "\n",
       "[433 rows x 12 columns]"
      ]
     },
     "execution_count": 6,
     "metadata": {},
     "output_type": "execute_result"
    }
   ],
   "source": [
    "dftrain_raw.query('Survived==0')"
   ]
  },
  {
   "cell_type": "markdown",
   "metadata": {},
   "source": [
    "## 预处理"
   ]
  },
  {
   "cell_type": "code",
   "execution_count": 9,
   "metadata": {},
   "outputs": [],
   "source": [
    "def preprocessing(dfdata):\n",
    "    dfresult = pd.DataFrame()\n",
    "    #Pclass one-hot编码\n",
    "    dfPclass = pd.get_dummies(dfdata['Pclass'])\n",
    "    dfPclass.columns = ['Pclass_' + str(x) for x in dfPclass.columns]\n",
    "    dfresult = pd.concat([dfresult, dfPclass], axis=1)\n",
    "    \n",
    "    # sex one-hot编码\n",
    "    dfSex = pd.get_dummies(dfdata['Sex'])\n",
    "    dfresult = pd.concat([dfresult, dfSex], axis=1)\n",
    "    \n",
    "    # Age 缺失值处理\n",
    "    dfresult['Age'] = dfdata['Age'].fillna(0)\n",
    "    dfresult['Age_null'] = pd.isna(dfdata[\"Age\"]).astype('int32')\n",
    "    \n",
    "    # SibSp, Parch, Fare\n",
    "    dfresult['SibSp'] = dfdata['SibSp']\n",
    "    dfresult['Parch'] = dfdata['Parch']\n",
    "    dfresult['Fare'] = dfdata['Fare']\n",
    "    \n",
    "    # Carbin\n",
    "    dfresult['Cabin_null'] = pd.isna(dfdata['Cabin']).astype('int32')\n",
    "    \n",
    "    # Embarked\n",
    "    dfEmbarked = pd.get_dummies(dfdata['Embarked'], dummy_na=True)\n",
    "    dfEmbarked.columns = ['Embarked_' + str(x) for x in dfEmbarked.columns]\n",
    "    dfresult = pd.concat([dfresult, dfEmbarked], axis=1)\n",
    "    \n",
    "    return dfresult"
   ]
  },
  {
   "cell_type": "code",
   "execution_count": 10,
   "metadata": {},
   "outputs": [
    {
     "data": {
      "text/plain": [
       "((712, 15), (179, 15))"
      ]
     },
     "execution_count": 10,
     "metadata": {},
     "output_type": "execute_result"
    }
   ],
   "source": [
    "x_train = preprocessing(dftrain_raw)\n",
    "y_train = dftrain_raw['Survived'].values\n",
    "\n",
    "x_test = preprocessing(dftest_raw)\n",
    "y_test = dftest_raw['Survived'].values\n",
    "\n",
    "x_train.shape, x_test.shape"
   ]
  },
  {
   "cell_type": "markdown",
   "metadata": {},
   "source": [
    "# 定义模型"
   ]
  },
  {
   "cell_type": "code",
   "execution_count": 11,
   "metadata": {},
   "outputs": [
    {
     "name": "stdout",
     "output_type": "stream",
     "text": [
      "Model: \"sequential\"\n",
      "_________________________________________________________________\n",
      "Layer (type)                 Output Shape              Param #   \n",
      "=================================================================\n",
      "dense (Dense)                (None, 20)                320       \n",
      "_________________________________________________________________\n",
      "dense_1 (Dense)              (None, 10)                210       \n",
      "_________________________________________________________________\n",
      "dense_2 (Dense)              (None, 1)                 11        \n",
      "=================================================================\n",
      "Total params: 541\n",
      "Trainable params: 541\n",
      "Non-trainable params: 0\n",
      "_________________________________________________________________\n"
     ]
    }
   ],
   "source": [
    "model = tf.keras.Sequential([\n",
    "    keras.layers.Dense(20, activation='relu', input_shape=(15,)),\n",
    "    keras.layers.Dense(10, activation='relu'),\n",
    "    keras.layers.Dense(1, activation='sigmoid')\n",
    "])\n",
    "model.summary()"
   ]
  },
  {
   "cell_type": "markdown",
   "metadata": {},
   "source": [
    "# 训练模型"
   ]
  },
  {
   "cell_type": "code",
   "execution_count": 12,
   "metadata": {
    "collapsed": true,
    "jupyter": {
     "outputs_hidden": true
    }
   },
   "outputs": [
    {
     "name": "stdout",
     "output_type": "stream",
     "text": [
      "Epoch 1/50\n",
      "WARNING:tensorflow:From /home/kdd/.local/lib/python3.8/site-packages/tensorflow/python/ops/resource_variable_ops.py:1813: calling BaseResourceVariable.__init__ (from tensorflow.python.ops.resource_variable_ops) with constraint is deprecated and will be removed in a future version.\n",
      "Instructions for updating:\n",
      "If using Keras pass *_constraint arguments to layers.\n",
      "9/9 [==============================] - 1s 93ms/step - loss: 1.1458 - auc: 0.3222 - val_loss: 0.9950 - val_auc: 0.3752\n",
      "Epoch 2/50\n",
      "9/9 [==============================] - 0s 12ms/step - loss: 0.9232 - auc: 0.3583 - val_loss: 0.8060 - val_auc: 0.4154\n",
      "Epoch 3/50\n",
      "9/9 [==============================] - 0s 13ms/step - loss: 0.7383 - auc: 0.4549 - val_loss: 0.6737 - val_auc: 0.5781\n",
      "Epoch 4/50\n",
      "9/9 [==============================] - 0s 12ms/step - loss: 0.6447 - auc: 0.6890 - val_loss: 0.6457 - val_auc: 0.6671\n",
      "Epoch 5/50\n",
      "9/9 [==============================] - 0s 13ms/step - loss: 0.6342 - auc: 0.6994 - val_loss: 0.6437 - val_auc: 0.6609\n",
      "Epoch 6/50\n",
      "9/9 [==============================] - 0s 13ms/step - loss: 0.6252 - auc: 0.6974 - val_loss: 0.6350 - val_auc: 0.6628\n",
      "Epoch 7/50\n",
      "9/9 [==============================] - 1s 64ms/step - loss: 0.6151 - auc: 0.7041 - val_loss: 0.6313 - val_auc: 0.6660\n",
      "Epoch 8/50\n",
      "9/9 [==============================] - 0s 13ms/step - loss: 0.6109 - auc: 0.7108 - val_loss: 0.6293 - val_auc: 0.6713\n",
      "Epoch 9/50\n",
      "9/9 [==============================] - 0s 14ms/step - loss: 0.6070 - auc: 0.7180 - val_loss: 0.6283 - val_auc: 0.6790\n",
      "Epoch 10/50\n",
      "9/9 [==============================] - 0s 13ms/step - loss: 0.6031 - auc: 0.7226 - val_loss: 0.6267 - val_auc: 0.6808\n",
      "Epoch 11/50\n",
      "9/9 [==============================] - 0s 13ms/step - loss: 0.5994 - auc: 0.7265 - val_loss: 0.6250 - val_auc: 0.6793\n",
      "Epoch 12/50\n",
      "9/9 [==============================] - 0s 13ms/step - loss: 0.5961 - auc: 0.7309 - val_loss: 0.6234 - val_auc: 0.6828\n",
      "Epoch 13/50\n",
      "9/9 [==============================] - 0s 12ms/step - loss: 0.5940 - auc: 0.7349 - val_loss: 0.6215 - val_auc: 0.6842\n",
      "Epoch 14/50\n",
      "9/9 [==============================] - 0s 19ms/step - loss: 0.5903 - auc: 0.7395 - val_loss: 0.6196 - val_auc: 0.6885\n",
      "Epoch 15/50\n",
      "9/9 [==============================] - 0s 19ms/step - loss: 0.5872 - auc: 0.7446 - val_loss: 0.6178 - val_auc: 0.6887\n",
      "Epoch 16/50\n",
      "9/9 [==============================] - 0s 15ms/step - loss: 0.5850 - auc: 0.7496 - val_loss: 0.6161 - val_auc: 0.6917\n",
      "Epoch 17/50\n",
      "9/9 [==============================] - 0s 15ms/step - loss: 0.5799 - auc: 0.7550 - val_loss: 0.6144 - val_auc: 0.6977\n",
      "Epoch 18/50\n",
      "9/9 [==============================] - 0s 12ms/step - loss: 0.5781 - auc: 0.7577 - val_loss: 0.6129 - val_auc: 0.7025\n",
      "Epoch 19/50\n",
      "9/9 [==============================] - 0s 14ms/step - loss: 0.5745 - auc: 0.7671 - val_loss: 0.6107 - val_auc: 0.7094\n",
      "Epoch 20/50\n",
      "9/9 [==============================] - 0s 13ms/step - loss: 0.5715 - auc: 0.7690 - val_loss: 0.6089 - val_auc: 0.7096\n",
      "Epoch 21/50\n",
      "9/9 [==============================] - 0s 14ms/step - loss: 0.5697 - auc: 0.7727 - val_loss: 0.6071 - val_auc: 0.7130\n",
      "Epoch 22/50\n",
      "9/9 [==============================] - 0s 12ms/step - loss: 0.5661 - auc: 0.7768 - val_loss: 0.6057 - val_auc: 0.7173\n",
      "Epoch 23/50\n",
      "9/9 [==============================] - 0s 12ms/step - loss: 0.5636 - auc: 0.7827 - val_loss: 0.6025 - val_auc: 0.7185\n",
      "Epoch 24/50\n",
      "9/9 [==============================] - 0s 13ms/step - loss: 0.5590 - auc: 0.7870 - val_loss: 0.5997 - val_auc: 0.7235\n",
      "Epoch 25/50\n",
      "9/9 [==============================] - 0s 14ms/step - loss: 0.5570 - auc: 0.7893 - val_loss: 0.5974 - val_auc: 0.7255\n",
      "Epoch 26/50\n",
      "9/9 [==============================] - 0s 12ms/step - loss: 0.5535 - auc: 0.7929 - val_loss: 0.5963 - val_auc: 0.7298\n",
      "Epoch 27/50\n",
      "9/9 [==============================] - 0s 12ms/step - loss: 0.5508 - auc: 0.8007 - val_loss: 0.5918 - val_auc: 0.7359\n",
      "Epoch 28/50\n",
      "9/9 [==============================] - 0s 13ms/step - loss: 0.5446 - auc: 0.8077 - val_loss: 0.5888 - val_auc: 0.7410\n",
      "Epoch 29/50\n",
      "9/9 [==============================] - 0s 12ms/step - loss: 0.5408 - auc: 0.8122 - val_loss: 0.5869 - val_auc: 0.7443\n",
      "Epoch 30/50\n",
      "9/9 [==============================] - 0s 12ms/step - loss: 0.5380 - auc: 0.8140 - val_loss: 0.5826 - val_auc: 0.7441\n",
      "Epoch 31/50\n",
      "9/9 [==============================] - 0s 12ms/step - loss: 0.5351 - auc: 0.8195 - val_loss: 0.5823 - val_auc: 0.7494\n",
      "Epoch 32/50\n",
      "9/9 [==============================] - 0s 14ms/step - loss: 0.5307 - auc: 0.8243 - val_loss: 0.5789 - val_auc: 0.7484\n",
      "Epoch 33/50\n",
      "9/9 [==============================] - 0s 12ms/step - loss: 0.5280 - auc: 0.8230 - val_loss: 0.5762 - val_auc: 0.7491\n",
      "Epoch 34/50\n",
      "9/9 [==============================] - 0s 12ms/step - loss: 0.5234 - auc: 0.8287 - val_loss: 0.5740 - val_auc: 0.7529\n",
      "Epoch 35/50\n",
      "9/9 [==============================] - 0s 14ms/step - loss: 0.5187 - auc: 0.8322 - val_loss: 0.5706 - val_auc: 0.7549\n",
      "Epoch 36/50\n",
      "9/9 [==============================] - 0s 12ms/step - loss: 0.5171 - auc: 0.8306 - val_loss: 0.5690 - val_auc: 0.7559\n",
      "Epoch 37/50\n",
      "9/9 [==============================] - 0s 12ms/step - loss: 0.5109 - auc: 0.8346 - val_loss: 0.5665 - val_auc: 0.7602\n",
      "Epoch 38/50\n",
      "9/9 [==============================] - 0s 12ms/step - loss: 0.5086 - auc: 0.8436 - val_loss: 0.5680 - val_auc: 0.7624\n",
      "Epoch 39/50\n",
      "9/9 [==============================] - 0s 12ms/step - loss: 0.5042 - auc: 0.8434 - val_loss: 0.5632 - val_auc: 0.7610\n",
      "Epoch 40/50\n",
      "9/9 [==============================] - 0s 12ms/step - loss: 0.4991 - auc: 0.8442 - val_loss: 0.5614 - val_auc: 0.7632\n",
      "Epoch 41/50\n",
      "9/9 [==============================] - 0s 13ms/step - loss: 0.4971 - auc: 0.8483 - val_loss: 0.5598 - val_auc: 0.7639\n",
      "Epoch 42/50\n",
      "9/9 [==============================] - 0s 12ms/step - loss: 0.4930 - auc: 0.8521 - val_loss: 0.5591 - val_auc: 0.7645\n",
      "Epoch 43/50\n",
      "9/9 [==============================] - 0s 13ms/step - loss: 0.4876 - auc: 0.8543 - val_loss: 0.5567 - val_auc: 0.7651\n",
      "Epoch 44/50\n",
      "9/9 [==============================] - 0s 14ms/step - loss: 0.4850 - auc: 0.8551 - val_loss: 0.5553 - val_auc: 0.7643\n",
      "Epoch 45/50\n",
      "9/9 [==============================] - 0s 13ms/step - loss: 0.4818 - auc: 0.8595 - val_loss: 0.5562 - val_auc: 0.7669\n",
      "Epoch 46/50\n",
      "9/9 [==============================] - 0s 12ms/step - loss: 0.4779 - auc: 0.8582 - val_loss: 0.5545 - val_auc: 0.7666\n",
      "Epoch 47/50\n",
      "9/9 [==============================] - 0s 12ms/step - loss: 0.4781 - auc: 0.8619 - val_loss: 0.5533 - val_auc: 0.7665\n",
      "Epoch 48/50\n",
      "9/9 [==============================] - 0s 13ms/step - loss: 0.4693 - auc: 0.8630 - val_loss: 0.5515 - val_auc: 0.7675\n",
      "Epoch 49/50\n",
      "9/9 [==============================] - 0s 13ms/step - loss: 0.4684 - auc: 0.8656 - val_loss: 0.5521 - val_auc: 0.7696\n",
      "Epoch 50/50\n",
      "9/9 [==============================] - 0s 12ms/step - loss: 0.4621 - auc: 0.8699 - val_loss: 0.5472 - val_auc: 0.7693\n"
     ]
    }
   ],
   "source": [
    "model.compile(optimizer='adam',\n",
    "              loss='binary_crossentropy',\n",
    "              metrics=['AUC'])\n",
    "history = model.fit(x_train, y_train, batch_size=64, epochs=50, validation_split=0.2)"
   ]
  },
  {
   "cell_type": "markdown",
   "metadata": {},
   "source": [
    "# 评估模型"
   ]
  },
  {
   "cell_type": "code",
   "execution_count": 13,
   "metadata": {},
   "outputs": [],
   "source": [
    "def plot_metric(history, metric):\n",
    "    train_metrics = history.history[metric]\n",
    "    val_metrics = history.history['val_'+metric]\n",
    "    epochs = range(1, len(train_metrics)+1)\n",
    "    plt.plot(epochs, train_metrics, 'bo--')\n",
    "    plt.plot(epochs, val_metrics, 'ro-')\n",
    "    plt.title('Training and validation '+ metric)\n",
    "    plt.xlabel(\"Epochs\")\n",
    "    plt.ylabel(metric)\n",
    "    plt.legend([\"train_\"+metric, 'val_'+metric])\n",
    "    plt.show()"
   ]
  },
  {
   "cell_type": "code",
   "execution_count": 14,
   "metadata": {},
   "outputs": [
    {
     "data": {
      "image/png": "[encoded data removed]",
      "text/plain": [
       "<Figure size 432x288 with 1 Axes>"
      ]
     },
     "metadata": {
      "needs_background": "light"
     },
     "output_type": "display_data"
    }
   ],
   "source": [
    "plot_metric(history, 'loss')"
   ]
  },
  {
   "cell_type": "code",
   "execution_count": 16,
   "metadata": {},
   "outputs": [
    {
     "data": {
      "image/png": "[encoded data removed]",
      "text/plain": [
       "<Figure size 432x288 with 1 Axes>"
      ]
     },
     "metadata": {
      "needs_background": "light"
     },
     "output_type": "display_data"
    }
   ],
   "source": [
    "plot_metric(history, 'auc')"
   ]
  },
  {
   "cell_type": "code",
   "execution_count": 17,
   "metadata": {},
   "outputs": [
    {
     "name": "stdout",
     "output_type": "stream",
     "text": [
      "6/6 [==============================] - 0s 3ms/step - loss: 0.4624 - auc: 0.8537\n"
     ]
    },
    {
     "data": {
      "text/plain": [
       "[0.46239161491394043, 0.8537219762802124]"
      ]
     },
     "execution_count": 17,
     "metadata": {},
     "output_type": "execute_result"
    }
   ],
   "source": [
    "model.evaluate(x_test, y_test)"
   ]
  },
  {
   "cell_type": "markdown",
   "metadata": {},
   "source": [
    "# 使用模型"
   ]
  },
  {
   "cell_type": "code",
   "execution_count": 20,
   "metadata": {},
   "outputs": [
    {
     "data": {
      "text/plain": [
       "array([[0.18185207],\n",
       "       [0.49824357],\n",
       "       [0.35315686],\n",
       "       [0.8533662 ],\n",
       "       [0.4566709 ],\n",
       "       [0.59249943],\n",
       "       [0.10811058],\n",
       "       [0.6854962 ],\n",
       "       [0.51915324],\n",
       "       [0.14688002]], dtype=float32)"
      ]
     },
     "execution_count": 20,
     "metadata": {},
     "output_type": "execute_result"
    }
   ],
   "source": [
    "model.predict(x_test[0:10])\n",
    "# model(tf.constant(x_test[0:10].values, dtype=tf.float32)"
   ]
  },
  {
   "cell_type": "code",
   "execution_count": 21,
   "metadata": {},
   "outputs": [
    {
     "name": "stdout",
     "output_type": "stream",
     "text": [
      "WARNING:tensorflow:From <ipython-input-21-a161a0a6b51e>:1: Sequential.predict_classes (from tensorflow.python.keras.engine.sequential) is deprecated and will be removed after 2021-01-01.\n",
      "Instructions for updating:\n",
      "Please use instead:* `np.argmax(model.predict(x), axis=-1)`,   if your model does multi-class classification   (e.g. if it uses a `softmax` last-layer activation).* `(model.predict(x) > 0.5).astype(\"int32\")`,   if your model does binary classification   (e.g. if it uses a `sigmoid` last-layer activation).\n"
     ]
    },
    {
     "data": {
      "text/plain": [
       "array([[0],\n",
       "       [0],\n",
       "       [0],\n",
       "       [1],\n",
       "       [0],\n",
       "       [1],\n",
       "       [0],\n",
       "       [1],\n",
       "       [1],\n",
       "       [0]], dtype=int32)"
      ]
     },
     "execution_count": 21,
     "metadata": {},
     "output_type": "execute_result"
    }
   ],
   "source": [
    "model.predict_classes(x_test[0:10])"
   ]
  },
  {
   "cell_type": "code",
   "execution_count": 26,
   "metadata": {},
   "outputs": [
    {
     "data": {
      "text/plain": [
       "array([[0],\n",
       "       [0],\n",
       "       [0],\n",
       "       [1],\n",
       "       [0],\n",
       "       [1],\n",
       "       [0],\n",
       "       [1],\n",
       "       [1],\n",
       "       [0]], dtype=int32)"
      ]
     },
     "execution_count": 26,
     "metadata": {},
     "output_type": "execute_result"
    }
   ],
   "source": [
    "# np.argmax(model.predict(x_test[0:10]), axis=-1) #多分类\n",
    "(model.predict(x_test[0:10]) >0.5).astype('int32')"
   ]
  },
  {
   "cell_type": "markdown",
   "metadata": {},
   "source": [
    "# 保存模型"
   ]
  },
  {
   "cell_type": "markdown",
   "metadata": {},
   "source": [
    "## Keras方式保存"
   ]
  },
  {
   "cell_type": "markdown",
   "metadata": {},
   "source": [
    "### 保存模型结构及权重"
   ]
  },
  {
   "cell_type": "code",
   "execution_count": 29,
   "metadata": {},
   "outputs": [],
   "source": [
    "\n",
    "model.save('../logs/keras_model.h5')\n",
    "del model"
   ]
  },
  {
   "cell_type": "code",
   "execution_count": 30,
   "metadata": {},
   "outputs": [
    {
     "name": "stdout",
     "output_type": "stream",
     "text": [
      "6/6 [==============================] - 0s 3ms/step - loss: 0.4624 - auc: 0.8537\n"
     ]
    },
    {
     "data": {
      "text/plain": [
       "[0.46239161491394043, 0.8537219762802124]"
      ]
     },
     "execution_count": 30,
     "metadata": {},
     "output_type": "execute_result"
    }
   ],
   "source": [
    "model = tf.keras.models.load_model('../logs/keras_model.h5')\n",
    "model.evaluate(x_test, y_test)"
   ]
  },
  {
   "cell_type": "markdown",
   "metadata": {},
   "source": [
    "### 分别保存模型结构和权重"
   ]
  },
  {
   "cell_type": "code",
   "execution_count": 31,
   "metadata": {},
   "outputs": [],
   "source": [
    "# 保存模型结构\n",
    "json_str = model.to_json()\n",
    "# 保存模型权重\n",
    "model.save_weights('../logs/keras_model_weight.h5')"
   ]
  },
  {
   "cell_type": "code",
   "execution_count": 32,
   "metadata": {},
   "outputs": [
    {
     "name": "stdout",
     "output_type": "stream",
     "text": [
      "6/6 [==============================] - 0s 3ms/step - loss: 0.4624 - auc: 0.8537\n"
     ]
    },
    {
     "data": {
      "text/plain": [
       "[0.46239161491394043, 0.8537219762802124]"
      ]
     },
     "execution_count": 32,
     "metadata": {},
     "output_type": "execute_result"
    }
   ],
   "source": [
    "# 恢复模型结构\n",
    "model_json = tf.keras.models.model_from_json(json_str)\n",
    "model_json.compile(optimizer='adam',\n",
    "                   loss='binary_crossentropy',\n",
    "                  metrics=['AUC'])\n",
    "# 加载权重\n",
    "model_json.load_weights('../logs/keras_model_weight.h5')\n",
    "model_json.evaluate(x_test, y_test)"
   ]
  },
  {
   "cell_type": "markdown",
   "metadata": {},
   "source": [
    "## Tensorflow原生方式保存"
   ]
  },
  {
   "cell_type": "code",
   "execution_count": 33,
   "metadata": {},
   "outputs": [
    {
     "name": "stdout",
     "output_type": "stream",
     "text": [
      "INFO:tensorflow:Assets written to: ../logs/tf_model_savemodel/assets\n",
      "export saved model\n"
     ]
    }
   ],
   "source": [
    "model.save('../logs/tf_model_savemodel', save_format='tf')\n",
    "print('export saved model')"
   ]
  },
  {
   "cell_type": "code",
   "execution_count": 34,
   "metadata": {},
   "outputs": [
    {
     "name": "stdout",
     "output_type": "stream",
     "text": [
      "6/6 [==============================] - 0s 3ms/step - loss: 0.4624 - auc: 0.8537\n"
     ]
    },
    {
     "data": {
      "text/plain": [
       "[0.46239161491394043, 0.8537219762802124]"
      ]
     },
     "execution_count": 34,
     "metadata": {},
     "output_type": "execute_result"
    }
   ],
   "source": [
    "model_tf = tf.keras.models.load_model('../logs/tf_model_savemodel/')\n",
    "model_tf.evaluate(x_test, y_test)"
   ]
  },
  {
   "cell_type": "code",
   "execution_count": null,
   "metadata": {},
   "outputs": [],
   "source": []
  }
 ],
 "metadata": {
  "kernelspec": {
   "display_name": "Python 3",
   "language": "python",
   "name": "python3"
  },
  "language_info": {
   "codemirror_mode": {
    "name": "ipython",
    "version": 3
   },
   "file_extension": ".py",
   "mimetype": "text/x-python",
   "name": "python",
   "nbconvert_exporter": "python",
   "pygments_lexer": "ipython3",
   "version": "3.7.7"
  }
 },
 "nbformat": 4,
 "nbformat_minor": 4
}
