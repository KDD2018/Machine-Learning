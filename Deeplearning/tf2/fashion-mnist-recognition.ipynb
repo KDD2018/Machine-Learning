{
 "cells": [
  {
   "cell_type": "code",
   "execution_count": 1,
   "metadata": {},
   "outputs": [
    {
     "name": "stdout",
     "output_type": "stream",
     "text": [
      "2.1.0\n",
      "sys.version_info(major=3, minor=7, micro=7, releaselevel='final', serial=0)\n",
      "matplotlib 3.1.3\n",
      "numpy 1.18.1\n",
      "pandas 1.0.3\n",
      "sklearn 0.22.1\n",
      "tensorflow_core.python.keras.api._v2.keras 2.2.4-tf\n"
     ]
    }
   ],
   "source": [
    "import matplotlib as mpl\n",
    "import matplotlib.pyplot as plt\n",
    "%matplotlib inline\n",
    "import numpy as np\n",
    "import sklearn \n",
    "import pandas as pd\n",
    "import os\n",
    "import sys\n",
    "import time\n",
    "import tensorflow as tf\n",
    "from tensorflow import keras\n",
    "import pathlib\n",
    "\n",
    "print(tf.__version__)\n",
    "print(sys.version_info)\n",
    "for module in mpl, np, pd, sklearn, keras:\n",
    "    print(module.__name__, module.__version__)"
   ]
  },
  {
   "cell_type": "code",
   "execution_count": null,
   "metadata": {},
   "outputs": [],
   "source": [
    "fashion_train = '/home/kdd/python/fashion_image_label/fashion_train_jpg_60000/'\n",
    "fashion_test = '/home/kdd/python/fashion_image_label/fashion_test_jpg_10000/'\n",
    "fashion_train_label = '/home/kdd/python/fashion_image_label/fashion_train_jpg_60000.txt'\n",
    "fashion_test_label = '/home/kdd/python/fashion_image_label/fashion_test_jpg_10000.txt'"
   ]
  },
  {
   "cell_type": "code",
   "execution_count": 3,
   "metadata": {},
   "outputs": [],
   "source": [
    "data_dir = '/home/kdd/python/fashion_image_label/'"
   ]
  },
  {
   "cell_type": "code",
   "execution_count": 4,
   "metadata": {},
   "outputs": [
    {
     "data": {
      "text/plain": [
       "PosixPath('/home/kdd/python/fashion_image_label')"
      ]
     },
     "execution_count": 4,
     "metadata": {},
     "output_type": "execute_result"
    }
   ],
   "source": [
    "data_dir = pathlib.Path(data_dir)\n",
    "data_dir"
   ]
  },
  {
   "cell_type": "code",
   "execution_count": 6,
   "metadata": {},
   "outputs": [
    {
     "name": "stdout",
     "output_type": "stream",
     "text": [
      "/home/kdd/python/fashion_image_label/fashion_test_jpg_10000.txt\n",
      "/home/kdd/python/fashion_image_label/fashion_train_jpg_60000\n",
      "/home/kdd/python/fashion_image_label/fashion_train_jpg_60000.txt\n",
      "/home/kdd/python/fashion_image_label/fashion_test_jpg_10000\n"
     ]
    }
   ],
   "source": [
    "for i in data_dir.glob('*'):\n",
    "    print(i)"
   ]
  },
  {
   "cell_type": "code",
   "execution_count": 14,
   "metadata": {},
   "outputs": [
    {
     "data": {
      "text/plain": [
       "60000"
      ]
     },
     "execution_count": 14,
     "metadata": {},
     "output_type": "execute_result"
    }
   ],
   "source": [
    "len(list(data_dir.glob('fashion_train_jpg_60000/*')))"
   ]
  },
  {
   "cell_type": "code",
   "execution_count": 16,
   "metadata": {},
   "outputs": [
    {
     "name": "stdout",
     "output_type": "stream",
     "text": [
      "/home/kdd/python/fashion_image_label/fashion_train_jpg_60000/43650_7.jpg\n",
      "/home/kdd/python/fashion_image_label/fashion_train_jpg_60000/43050_6.jpg\n",
      "/home/kdd/python/fashion_image_label/fashion_train_jpg_60000/41841_1.jpg\n",
      "/home/kdd/python/fashion_image_label/fashion_train_jpg_60000/32955_4.jpg\n",
      "/home/kdd/python/fashion_image_label/fashion_train_jpg_60000/32928_9.jpg\n"
     ]
    }
   ],
   "source": [
    "for i in list(data_dir.glob('fashion_train_jpg_60000/*'))[:5]:\n",
    "    print(i)"
   ]
  },
  {
   "cell_type": "code",
   "execution_count": 17,
   "metadata": {},
   "outputs": [
    {
     "name": "stdout",
     "output_type": "stream",
     "text": [
      "/home/kdd/python/fashion_image_label/fashion_test_jpg_10000.txt\n",
      "/home/kdd/python/fashion_image_label/fashion_train_jpg_60000.txt\n"
     ]
    }
   ],
   "source": [
    "for i in data_dir.glob('*.txt'):\n",
    "    print(i)"
   ]
  },
  {
   "cell_type": "code",
   "execution_count": 20,
   "metadata": {},
   "outputs": [
    {
     "data": {
      "text/plain": [
       "['1_9.jpg 9\\n', '2_0.jpg 0\\n', '3_0.jpg 0\\n', '4_3.jpg 3\\n', '5_0.jpg 0\\n']"
      ]
     },
     "execution_count": 20,
     "metadata": {},
     "output_type": "execute_result"
    }
   ],
   "source": [
    "(data_dir/'fashion_train_jpg_60000.txt').open(encoding='utf-8').readlines()[:5]"
   ]
  },
  {
   "cell_type": "code",
   "execution_count": 21,
   "metadata": {},
   "outputs": [],
   "source": [
    "label_info = (data_dir/'fashion_train_jpg_60000.txt').open(encoding='utf-8').readlines()"
   ]
  },
  {
   "cell_type": "code",
   "execution_count": 30,
   "metadata": {},
   "outputs": [
    {
     "name": "stdout",
     "output_type": "stream",
     "text": [
      "9\n",
      "0\n",
      "0\n",
      "3\n",
      "0\n"
     ]
    }
   ],
   "source": [
    "for i in label_info[:5]:\n",
    "    print(i.split()[-1])"
   ]
  },
  {
   "cell_type": "code",
   "execution_count": 31,
   "metadata": {},
   "outputs": [],
   "source": [
    "labels = [item.split()[-1] for item in label_info]"
   ]
  },
  {
   "cell_type": "code",
   "execution_count": 32,
   "metadata": {},
   "outputs": [
    {
     "data": {
      "text/plain": [
       "['9', '0', '0', '3', '0']"
      ]
     },
     "execution_count": 32,
     "metadata": {},
     "output_type": "execute_result"
    }
   ],
   "source": [
    "labels[:5]"
   ]
  },
  {
   "cell_type": "code",
   "execution_count": null,
   "metadata": {},
   "outputs": [],
   "source": [
    "def get_image_path_list(images_path):\n",
    "    return [os.path.join(images_path, filename) for filename in os.listdir(images_path)]"
   ]
  },
  {
   "cell_type": "code",
   "execution_count": null,
   "metadata": {},
   "outputs": [],
   "source": [
    "images_train_path_list = get_image_path_list(fashion_train)\n",
    "images_test_path_list = get_image_path_list(fashion_test)"
   ]
  },
  {
   "cell_type": "code",
   "execution_count": null,
   "metadata": {},
   "outputs": [],
   "source": [
    "file_dataset = tf.data.Dataset.list_files(images_train_path_list)"
   ]
  },
  {
   "cell_type": "code",
   "execution_count": null,
   "metadata": {},
   "outputs": [],
   "source": []
  }
 ],
 "metadata": {
  "kernelspec": {
   "display_name": "Python 3",
   "language": "python",
   "name": "python3"
  },
  "language_info": {
   "codemirror_mode": {
    "name": "ipython",
    "version": 3
   },
   "file_extension": ".py",
   "mimetype": "text/x-python",
   "name": "python",
   "nbconvert_exporter": "python",
   "pygments_lexer": "ipython3",
   "version": "3.7.7"
  }
 },
 "nbformat": 4,
 "nbformat_minor": 4
}
