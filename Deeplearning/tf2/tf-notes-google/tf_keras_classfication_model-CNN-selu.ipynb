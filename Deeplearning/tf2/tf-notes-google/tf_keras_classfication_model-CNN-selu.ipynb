{
 "cells": [
  {
   "cell_type": "code",
   "execution_count": 91,
   "metadata": {
    "scrolled": true
   },
   "outputs": [
    {
     "name": "stdout",
     "output_type": "stream",
     "text": [
      "2.1.0\n",
      "sys.version_info(major=3, minor=7, micro=7, releaselevel='final', serial=0)\n",
      "matplotlib 3.1.3\n",
      "numpy 1.18.1\n",
      "pandas 1.0.3\n",
      "sklearn 0.22.1\n",
      "tensorflow 2.1.0\n",
      "tensorflow_core.keras 2.2.4-tf\n"
     ]
    }
   ],
   "source": [
    "import matplotlib as mpl\n",
    "import matplotlib.pyplot as plt\n",
    "%matplotlib inline\n",
    "import numpy as np\n",
    "import sklearn\n",
    "import pandas as pd\n",
    "import os\n",
    "import sys\n",
    "import time\n",
    "import tensorflow as tf\n",
    "from tensorflow import keras\n",
    "\n",
    "print(tf.__version__)\n",
    "print(sys.version_info)\n",
    "for module in mpl, np, pd, sklearn, tf, keras:\n",
    "    print(module.__name__, module.__version__)"
   ]
  },
  {
   "cell_type": "code",
   "execution_count": 92,
   "metadata": {},
   "outputs": [],
   "source": [
    "fashion_mnist = keras.datasets.fashion_mnist\n",
    "(x_train_all, y_train_all), (x_test, y_test) = fashion_mnist.load_data()"
   ]
  },
  {
   "cell_type": "code",
   "execution_count": 93,
   "metadata": {
    "scrolled": true
   },
   "outputs": [
    {
     "name": "stdout",
     "output_type": "stream",
     "text": [
      "(60000, 28, 28) (60000,)\n",
      "(55000, 28, 28) (55000,)\n",
      "(5000, 28, 28) (5000,)\n",
      "(10000, 28, 28) (10000,)\n"
     ]
    }
   ],
   "source": [
    "x_valid, x_train = x_train_all[:5000], x_train_all[5000:]\n",
    "y_valid, y_train = y_train_all[:5000], y_train_all[5000:]\n",
    "print(x_train_all.shape, y_train_all.shape)\n",
    "print(x_train.shape, y_train.shape)\n",
    "print(x_valid.shape, y_valid.shape)\n",
    "print(x_test.shape, y_test.shape)"
   ]
  },
  {
   "cell_type": "code",
   "execution_count": 94,
   "metadata": {},
   "outputs": [],
   "source": [
    "from sklearn.preprocessing import StandardScaler\n",
    "scaler = StandardScaler()\n",
    "x_train_scaled = scaler.fit_transform(x_train.astype(np.float32).reshape(-1,1)).reshape(-1, 28, 28, 1)\n",
    "x_valid_scaled = scaler.transform(x_valid.astype(np.float32).reshape(-1,1)).reshape(-1, 28, 28, 1)\n",
    "x_test_scaled = scaler.transform(x_test.astype(np.float32).reshape(-1,1)).reshape(-1, 28, 28, 1)"
   ]
  },
  {
   "cell_type": "code",
   "execution_count": 95,
   "metadata": {},
   "outputs": [],
   "source": [
    "def make_dataset(images, labels, shuffle=True, batch_size=32):\n",
    "    '''从内存中的tensor构造dateset'''\n",
    "    dataset = tf.data.Dataset.from_tensor_slices((images, labels))\n",
    "    if shuffle:\n",
    "        dataset = dataset.shuffle(buffer_size=len(images))\n",
    "    dataset = dataset.repeat().batch(batch_size)\n",
    "    return dataset"
   ]
  },
  {
   "cell_type": "code",
   "execution_count": 96,
   "metadata": {},
   "outputs": [],
   "source": [
    "batch_size = 32\n",
    "train_dataset = make_dataset(x_train_scaled, y_train, batch_size=batch_size)\n",
    "valid_dataset = make_dataset(x_valid_scaled, y_valid, batch_size=batch_size)\n",
    "test_dataset = make_dataset(x_test_scaled, y_test, batch_size=batch_size)"
   ]
  },
  {
   "cell_type": "code",
   "execution_count": 97,
   "metadata": {},
   "outputs": [],
   "source": [
    "\n",
    "model = keras.models.Sequential()\n",
    "# 经过3次卷积(2层3*3的卷积核)池化(1层)操作\n",
    "model.add(keras.layers.Conv2D(filters=32, kernel_size=5, padding='same',\n",
    "                              activation='selu', input_shape=(28, 28, 1)))\n",
    "model.add(keras.layers.Conv2D(filters=32, kernel_size=5, padding='same', activation='selu'))\n",
    "model.add(keras.layers.MaxPool2D(pool_size=2))\n",
    "# model.add(keras.layers.BatchNormalization())\n",
    "# model.add(keras.layers.Activation('selu'))\n",
    "\n",
    "model.add(keras.layers.Conv2D(filters=64, kernel_size=3, padding='same', activation='selu'))\n",
    "model.add(keras.layers.Conv2D(filters=64, kernel_size=3, padding='same', activation='selu'))\n",
    "model.add(keras.layers.MaxPool2D(pool_size=2))\n",
    "# model.add(keras.layers.BatchNormalization())\n",
    "# model.add(keras.layers.Activation('selu'))\n",
    "\n",
    "# model.add(keras.layers.Conv2D(filters=128, kernel_size=3, padding='same'))\n",
    "# model.add(keras.layers.Conv2D(filters=128, kernel_size=3, padding='same'))\n",
    "# model.add(keras.layers.MaxPool2D(pool_size=2))\n",
    "# model.add(keras.layers.BatchNormalization())\n",
    "# model.add(keras.layers.Activation('selu'))\n",
    "          \n",
    "model.add(keras.layers.Flatten())\n",
    "model.add(keras.layers.Dense(64, activation='selu'))\n",
    "model.add(keras.layers.AlphaDropout(rate=0.5))\n",
    "\n",
    "model.add(keras.layers.Dense(10, activation='softmax'))\n",
    "\n",
    "model.compile(loss='sparse_categorical_crossentropy', optimizer='sgd', metrics=['sparse_categorical_accuracy'])"
   ]
  },
  {
   "cell_type": "code",
   "execution_count": 98,
   "metadata": {
    "scrolled": true
   },
   "outputs": [
    {
     "name": "stdout",
     "output_type": "stream",
     "text": [
      "Model: \"sequential_8\"\n",
      "_________________________________________________________________\n",
      "Layer (type)                 Output Shape              Param #   \n",
      "=================================================================\n",
      "conv2d_44 (Conv2D)           (None, 28, 28, 32)        832       \n",
      "_________________________________________________________________\n",
      "conv2d_45 (Conv2D)           (None, 28, 28, 32)        25632     \n",
      "_________________________________________________________________\n",
      "max_pooling2d_22 (MaxPooling (None, 14, 14, 32)        0         \n",
      "_________________________________________________________________\n",
      "conv2d_46 (Conv2D)           (None, 14, 14, 64)        18496     \n",
      "_________________________________________________________________\n",
      "conv2d_47 (Conv2D)           (None, 14, 14, 64)        36928     \n",
      "_________________________________________________________________\n",
      "max_pooling2d_23 (MaxPooling (None, 7, 7, 64)          0         \n",
      "_________________________________________________________________\n",
      "flatten_8 (Flatten)          (None, 3136)              0         \n",
      "_________________________________________________________________\n",
      "dense_16 (Dense)             (None, 64)                200768    \n",
      "_________________________________________________________________\n",
      "alpha_dropout_5 (AlphaDropou (None, 64)                0         \n",
      "_________________________________________________________________\n",
      "dense_17 (Dense)             (None, 10)                650       \n",
      "=================================================================\n",
      "Total params: 283,306\n",
      "Trainable params: 283,306\n",
      "Non-trainable params: 0\n",
      "_________________________________________________________________\n"
     ]
    }
   ],
   "source": [
    "model.summary()"
   ]
  },
  {
   "cell_type": "code",
   "execution_count": 99,
   "metadata": {
    "scrolled": true
   },
   "outputs": [
    {
     "name": "stdout",
     "output_type": "stream",
     "text": [
      "Train for 1718 steps, validate for 156 steps\n",
      "Epoch 1/10\n",
      "1718/1718 [==============================] - 88s 51ms/step - loss: 0.6923 - sparse_categorical_accuracy: 0.7502 - val_loss: 0.5028 - val_sparse_categorical_accuracy: 0.8590\n",
      "Epoch 2/10\n",
      "1718/1718 [==============================] - 86s 50ms/step - loss: 0.4759 - sparse_categorical_accuracy: 0.8308 - val_loss: 0.4997 - val_sparse_categorical_accuracy: 0.8686\n",
      "Epoch 3/10\n",
      "1718/1718 [==============================] - 90s 53ms/step - loss: 0.4169 - sparse_categorical_accuracy: 0.8505 - val_loss: 0.4068 - val_sparse_categorical_accuracy: 0.8836\n",
      "Epoch 4/10\n",
      "1718/1718 [==============================] - 89s 52ms/step - loss: 0.3793 - sparse_categorical_accuracy: 0.8637 - val_loss: 0.4128 - val_sparse_categorical_accuracy: 0.8930\n",
      "Epoch 5/10\n",
      "1718/1718 [==============================] - 88s 51ms/step - loss: 0.3509 - sparse_categorical_accuracy: 0.8748 - val_loss: 0.4049 - val_sparse_categorical_accuracy: 0.8952\n",
      "Epoch 6/10\n",
      "1718/1718 [==============================] - 93s 54ms/step - loss: 0.3307 - sparse_categorical_accuracy: 0.8830 - val_loss: 0.3797 - val_sparse_categorical_accuracy: 0.9004\n",
      "Epoch 7/10\n",
      "1718/1718 [==============================] - 97s 57ms/step - loss: 0.3136 - sparse_categorical_accuracy: 0.8869 - val_loss: 0.3743 - val_sparse_categorical_accuracy: 0.9046\n",
      "Epoch 8/10\n",
      "1718/1718 [==============================] - 102s 59ms/step - loss: 0.2994 - sparse_categorical_accuracy: 0.8917 - val_loss: 0.3737 - val_sparse_categorical_accuracy: 0.9077\n",
      "Epoch 9/10\n",
      "1718/1718 [==============================] - 88s 51ms/step - loss: 0.2875 - sparse_categorical_accuracy: 0.8957 - val_loss: 0.3528 - val_sparse_categorical_accuracy: 0.9109\n",
      "Epoch 10/10\n",
      "1718/1718 [==============================] - 90s 52ms/step - loss: 0.2742 - sparse_categorical_accuracy: 0.9010 - val_loss: 0.3639 - val_sparse_categorical_accuracy: 0.9107\n"
     ]
    }
   ],
   "source": [
    "log_dir = './logs'\n",
    "if not os.path.exists(log_dir):\n",
    "    os.mkdir(log_dir)\n",
    "model_file = os.path.join(log_dir, 'fashion_mnist_model.h5')    \n",
    "\n",
    "callbacks = [\n",
    "    keras.callbacks.TensorBoard(log_dir),\n",
    "    keras.callbacks.ModelCheckpoint(model_file, save_best_only=True),\n",
    "    keras.callbacks.EarlyStopping(patience=5, min_delta=1e-3)\n",
    "]\n",
    "history = model.fit(train_dataset, epochs=10,\n",
    "                    validation_data=valid_dataset,\n",
    "                    steps_per_epoch=len(x_train_scaled) // batch_size,\n",
    "                    validation_steps = len(x_valid_scaled) // batch_size,\n",
    "                    callbacks=callbacks)"
   ]
  },
  {
   "cell_type": "code",
   "execution_count": null,
   "metadata": {},
   "outputs": [],
   "source": [
    "def plot_learning_curves(history):\n",
    "    pd.DataFrame(history.history).plot(figsize=(8, 5))\n",
    "    plt.grid(True)\n",
    "    plt.gca().set_ylim(0,1)\n",
    "    plt.show()\n",
    "    \n",
    "plot_learning_curves(history)"
   ]
  },
  {
   "cell_type": "code",
   "execution_count": null,
   "metadata": {
    "scrolled": true
   },
   "outputs": [],
   "source": [
    "model.evaluate(test_dataset, steps=len(x_test_scaled) // batch_size)"
   ]
  },
  {
   "cell_type": "code",
   "execution_count": null,
   "metadata": {},
   "outputs": [],
   "source": []
  }
 ],
 "metadata": {
  "kernelspec": {
   "display_name": "Python 3",
   "language": "python",
   "name": "python3"
  },
  "language_info": {
   "codemirror_mode": {
    "name": "ipython",
    "version": 3
   },
   "file_extension": ".py",
   "mimetype": "text/x-python",
   "name": "python",
   "nbconvert_exporter": "python",
   "pygments_lexer": "ipython3",
   "version": "3.8.2"
  }
 },
 "nbformat": 4,
 "nbformat_minor": 4
}
