{
 "cells": [
  {
   "cell_type": "code",
   "execution_count": 1,
   "metadata": {},
   "outputs": [],
   "source": [
    "import pathlib\n",
    "import matplotlib.pyplot as plt\n",
    "import pandas as pd\n",
    "import numpy as np\n",
    "import tensorflow as tf\n",
    "\n",
    "np.set_printoptions(precision=4)"
   ]
  },
  {
   "cell_type": "markdown",
   "metadata": {},
   "source": [
    "# Consuming NumPy arrays"
   ]
  },
  {
   "cell_type": "code",
   "execution_count": 2,
   "metadata": {},
   "outputs": [
    {
     "name": "stdout",
     "output_type": "stream",
     "text": [
      "Downloading data from https://storage.googleapis.com/tensorflow/tf-keras-datasets/train-labels-idx1-ubyte.gz\n",
      "32768/29515 [=================================] - 0s 6us/step\n",
      "Downloading data from https://storage.googleapis.com/tensorflow/tf-keras-datasets/train-images-idx3-ubyte.gz\n",
      "26427392/26421880 [==============================] - 11s 0us/step\n",
      "Downloading data from https://storage.googleapis.com/tensorflow/tf-keras-datasets/t10k-labels-idx1-ubyte.gz\n",
      "8192/5148 [===============================================] - 0s 23us/step\n",
      "Downloading data from https://storage.googleapis.com/tensorflow/tf-keras-datasets/t10k-images-idx3-ubyte.gz\n",
      "4423680/4422102 [==============================] - 4s 1us/step\n"
     ]
    }
   ],
   "source": [
    "train, test = tf.keras.datasets.fashion_mnist.load_data()"
   ]
  },
  {
   "cell_type": "code",
   "execution_count": 3,
   "metadata": {},
   "outputs": [
    {
     "data": {
      "text/plain": [
       "<TensorSliceDataset shapes: ((28, 28), ()), types: (tf.float64, tf.uint8)>"
      ]
     },
     "execution_count": 3,
     "metadata": {},
     "output_type": "execute_result"
    }
   ],
   "source": [
    "images, labels = train\n",
    "images = images / 255\n",
    "dataset = tf.data.Dataset.from_tensor_slices((images, labels))\n",
    "dataset"
   ]
  },
  {
   "cell_type": "markdown",
   "metadata": {},
   "source": [
    "# Consuming Python generators"
   ]
  },
  {
   "cell_type": "code",
   "execution_count": 5,
   "metadata": {},
   "outputs": [
    {
     "name": "stdout",
     "output_type": "stream",
     "text": [
      "0\n",
      "1\n",
      "2\n",
      "3\n",
      "4\n"
     ]
    }
   ],
   "source": [
    "def count(stop):\n",
    "    i = 0\n",
    "    while i < stop:\n",
    "        yield i \n",
    "        i += 1\n",
    "        \n",
    "for n in count(5):\n",
    "    print(n)"
   ]
  },
  {
   "cell_type": "code",
   "execution_count": 6,
   "metadata": {},
   "outputs": [],
   "source": [
    "ds_counter = tf.data.Dataset.from_generator(count, args=[25], output_types=tf.int32,\n",
    "                                           output_shapes=())"
   ]
  },
  {
   "cell_type": "code",
   "execution_count": 7,
   "metadata": {},
   "outputs": [
    {
     "data": {
      "text/plain": [
       "<DatasetV1Adapter shapes: (), types: tf.int32>"
      ]
     },
     "execution_count": 7,
     "metadata": {},
     "output_type": "execute_result"
    }
   ],
   "source": [
    "ds_counter"
   ]
  },
  {
   "cell_type": "code",
   "execution_count": 22,
   "metadata": {
    "scrolled": true
   },
   "outputs": [
    {
     "name": "stdout",
     "output_type": "stream",
     "text": [
      "tf.Tensor(0, shape=(), dtype=int32)\n",
      "tf.Tensor(1, shape=(), dtype=int32)\n",
      "tf.Tensor(2, shape=(), dtype=int32)\n",
      "tf.Tensor(3, shape=(), dtype=int32)\n",
      "tf.Tensor(4, shape=(), dtype=int32)\n",
      "tf.Tensor(5, shape=(), dtype=int32)\n",
      "tf.Tensor(6, shape=(), dtype=int32)\n",
      "tf.Tensor(7, shape=(), dtype=int32)\n",
      "tf.Tensor(8, shape=(), dtype=int32)\n",
      "tf.Tensor(9, shape=(), dtype=int32)\n",
      "tf.Tensor(10, shape=(), dtype=int32)\n",
      "tf.Tensor(11, shape=(), dtype=int32)\n",
      "tf.Tensor(12, shape=(), dtype=int32)\n",
      "tf.Tensor(13, shape=(), dtype=int32)\n",
      "tf.Tensor(14, shape=(), dtype=int32)\n",
      "tf.Tensor(15, shape=(), dtype=int32)\n",
      "tf.Tensor(16, shape=(), dtype=int32)\n",
      "tf.Tensor(17, shape=(), dtype=int32)\n",
      "tf.Tensor(18, shape=(), dtype=int32)\n",
      "tf.Tensor(19, shape=(), dtype=int32)\n",
      "tf.Tensor(20, shape=(), dtype=int32)\n",
      "tf.Tensor(21, shape=(), dtype=int32)\n",
      "tf.Tensor(22, shape=(), dtype=int32)\n",
      "tf.Tensor(23, shape=(), dtype=int32)\n",
      "tf.Tensor(24, shape=(), dtype=int32)\n"
     ]
    }
   ],
   "source": [
    "for elem in ds_counter:\n",
    "    print(elem)"
   ]
  },
  {
   "cell_type": "code",
   "execution_count": 9,
   "metadata": {},
   "outputs": [
    {
     "name": "stdout",
     "output_type": "stream",
     "text": [
      "tf.Tensor([0 1 2 3 4 5 6 7 8 9], shape=(10,), dtype=int32)\n",
      "tf.Tensor([10 11 12 13 14 15 16 17 18 19], shape=(10,), dtype=int32)\n",
      "tf.Tensor([20 21 22 23 24  0  1  2  3  4], shape=(10,), dtype=int32)\n",
      "tf.Tensor([ 5  6  7  8  9 10 11 12 13 14], shape=(10,), dtype=int32)\n",
      "tf.Tensor([15 16 17 18 19 20 21 22 23 24], shape=(10,), dtype=int32)\n",
      "tf.Tensor([0 1 2 3 4 5 6 7 8 9], shape=(10,), dtype=int32)\n",
      "tf.Tensor([10 11 12 13 14 15 16 17 18 19], shape=(10,), dtype=int32)\n",
      "tf.Tensor([20 21 22 23 24  0  1  2  3  4], shape=(10,), dtype=int32)\n",
      "tf.Tensor([ 5  6  7  8  9 10 11 12 13 14], shape=(10,), dtype=int32)\n",
      "tf.Tensor([15 16 17 18 19 20 21 22 23 24], shape=(10,), dtype=int32)\n"
     ]
    }
   ],
   "source": [
    "for count_batch in ds_counter.repeat().batch(10).take(10):\n",
    "    print(count_batch)"
   ]
  },
  {
   "cell_type": "code",
   "execution_count": 10,
   "metadata": {},
   "outputs": [
    {
     "name": "stdout",
     "output_type": "stream",
     "text": [
      "0 : [-0.56    1.2436  0.7768 -2.1896  0.0036 -0.3936 -2.6946]\n",
      "1 : [-1.1122  0.1062 -0.5636 -1.0245  1.1748 -1.7622]\n",
      "2 : [-0.4525  1.0608  0.554  -1.1803 -0.1201]\n",
      "3 : [ 0.3459  1.5821 -0.32    0.7202  0.9405  0.3511]\n",
      "4 : [-0.5042  0.2978 -1.2583]\n",
      "5 : [1.1729 0.271 ]\n",
      "6 : [ 1.9046 -1.1391 -1.3059  0.9148 -0.8085  0.5448]\n"
     ]
    }
   ],
   "source": [
    "def gen_series():\n",
    "    i = 0\n",
    "    while True:\n",
    "        size = np.random.randint(0, 10)\n",
    "        yield i, np.random.normal(size=(size, ))\n",
    "        i += 1\n",
    "        \n",
    "for i, series in gen_series():\n",
    "    print(i, ':', str(series))\n",
    "    if i > 5:\n",
    "        break"
   ]
  },
  {
   "cell_type": "code",
   "execution_count": 11,
   "metadata": {},
   "outputs": [
    {
     "data": {
      "text/plain": [
       "<DatasetV1Adapter shapes: ((), (None,)), types: (tf.int32, tf.float32)>"
      ]
     },
     "execution_count": 11,
     "metadata": {},
     "output_type": "execute_result"
    }
   ],
   "source": [
    "ds_series = tf.data.Dataset.from_generator(gen_series, output_types=(tf.int32, tf.float32),\n",
    "                                          output_shapes=((), (None, )))\n",
    "ds_series"
   ]
  },
  {
   "cell_type": "code",
   "execution_count": 24,
   "metadata": {
    "scrolled": true
   },
   "outputs": [
    {
     "name": "stdout",
     "output_type": "stream",
     "text": [
      "tf.Tensor([10  5  3 14 23  9  6 19 13 18], shape=(10,), dtype=int32)\n",
      "\n",
      "tf.Tensor(\n",
      "[[-1.2637e+00 -4.6112e-01  5.3356e-01  0.0000e+00  0.0000e+00  0.0000e+00\n",
      "   0.0000e+00  0.0000e+00]\n",
      " [ 0.0000e+00  0.0000e+00  0.0000e+00  0.0000e+00  0.0000e+00  0.0000e+00\n",
      "   0.0000e+00  0.0000e+00]\n",
      " [ 1.0740e+00 -2.2690e+00  1.3360e+00  2.8628e-01  1.2178e-01  6.5742e-01\n",
      "   1.5435e+00  0.0000e+00]\n",
      " [-2.1882e-01 -8.1412e-01  4.1117e-01  1.8360e+00  1.4760e+00 -2.4949e-01\n",
      "  -4.5227e-01  2.2881e-01]\n",
      " [-1.1185e+00 -1.2708e-01  1.6763e+00 -3.5133e-01  0.0000e+00  0.0000e+00\n",
      "   0.0000e+00  0.0000e+00]\n",
      " [ 1.3825e+00 -1.3103e+00 -1.8914e-01 -3.7303e-01 -1.1709e+00 -1.0490e+00\n",
      "   0.0000e+00  0.0000e+00]\n",
      " [ 1.8520e+00  2.7720e+00 -3.6823e-01  0.0000e+00  0.0000e+00  0.0000e+00\n",
      "   0.0000e+00  0.0000e+00]\n",
      " [ 6.3447e-01 -8.0602e-02 -1.2788e-01 -3.8301e-01  8.0167e-01  2.4919e-01\n",
      "  -4.3623e-01  1.8926e+00]\n",
      " [ 6.6198e-01  8.4682e-01  2.0716e-04  1.1194e+00 -2.0580e+00  9.0461e-01\n",
      "   0.0000e+00  0.0000e+00]\n",
      " [ 2.3872e+00 -3.3848e-01  3.2550e-01  6.5323e-02 -7.6065e-01 -1.1034e+00\n",
      "   4.6458e-02  4.3675e-01]], shape=(10, 8), dtype=float32)\n"
     ]
    }
   ],
   "source": [
    "ds_series_batch = ds_series.shuffle(20).padded_batch(10,padded_shapes=((), (None, ))) # 必须指定padded_shapes\n",
    "ids, sequence_batch = next(iter(ds_series_batch))\n",
    "print(ids)\n",
    "print()\n",
    "print(sequence_batch)"
   ]
  },
  {
   "cell_type": "markdown",
   "metadata": {},
   "source": [
    "# Consuming TFRecord data"
   ]
  },
  {
   "cell_type": "code",
   "execution_count": 26,
   "metadata": {},
   "outputs": [
    {
     "name": "stdout",
     "output_type": "stream",
     "text": [
      "Downloading data from https://storage.googleapis.com/download.tensorflow.org/data/fsns-20160927/testdata/fsns-00000-of-00001\n",
      "7905280/7904079 [==============================] - 34s 4us/step\n"
     ]
    }
   ],
   "source": [
    "fsns_test_file = tf.keras.utils.get_file('fsns.tfrec',\n",
    "                                        \"https://storage.googleapis.com/download.tensorflow.org/data/fsns-20160927/testdata/fsns-00000-of-00001\")"
   ]
  },
  {
   "cell_type": "code",
   "execution_count": 27,
   "metadata": {},
   "outputs": [
    {
     "data": {
      "text/plain": [
       "'/home/kdd/.keras/datasets/fsns.tfrec'"
      ]
     },
     "execution_count": 27,
     "metadata": {},
     "output_type": "execute_result"
    }
   ],
   "source": [
    "fsns_test_file"
   ]
  },
  {
   "cell_type": "code",
   "execution_count": 28,
   "metadata": {},
   "outputs": [
    {
     "data": {
      "text/plain": [
       "<TFRecordDatasetV2 shapes: (), types: tf.string>"
      ]
     },
     "execution_count": 28,
     "metadata": {},
     "output_type": "execute_result"
    }
   ],
   "source": [
    "dataset = tf.data.TFRecordDataset(filenames=[fsns_test_file])\n",
    "dataset"
   ]
  },
  {
   "cell_type": "code",
   "execution_count": 34,
   "metadata": {},
   "outputs": [],
   "source": [
    "raw_example = next(iter(dataset))\n",
    "parsed = tf.train.Example.FromString(raw_example.numpy())"
   ]
  },
  {
   "cell_type": "code",
   "execution_count": 35,
   "metadata": {},
   "outputs": [
    {
     "data": {
      "text/plain": [
       "bytes_list {\n",
       "  value: \"Rue Perreyon\"\n",
       "}"
      ]
     },
     "execution_count": 35,
     "metadata": {},
     "output_type": "execute_result"
    }
   ],
   "source": [
    "parsed.features.feature['image/text']"
   ]
  },
  {
   "cell_type": "markdown",
   "metadata": {},
   "source": [
    "# Batching dataset elements"
   ]
  },
  {
   "cell_type": "code",
   "execution_count": 36,
   "metadata": {},
   "outputs": [
    {
     "data": {
      "text/plain": [
       "<RangeDataset shapes: (), types: tf.int64>"
      ]
     },
     "execution_count": 36,
     "metadata": {},
     "output_type": "execute_result"
    }
   ],
   "source": [
    "inc_dataset = tf.data.Dataset.range(100)\n",
    "inc_dataset"
   ]
  },
  {
   "cell_type": "code",
   "execution_count": 37,
   "metadata": {},
   "outputs": [
    {
     "name": "stdout",
     "output_type": "stream",
     "text": [
      "tf.Tensor(0, shape=(), dtype=int64)\n",
      "tf.Tensor(1, shape=(), dtype=int64)\n",
      "tf.Tensor(2, shape=(), dtype=int64)\n",
      "tf.Tensor(3, shape=(), dtype=int64)\n",
      "tf.Tensor(4, shape=(), dtype=int64)\n"
     ]
    }
   ],
   "source": [
    "for elem in inc_dataset.take(5):\n",
    "    print(elem)"
   ]
  },
  {
   "cell_type": "code",
   "execution_count": 38,
   "metadata": {},
   "outputs": [],
   "source": [
    "dec_dataset = tf.data.Dataset.range(0, -100, -1)"
   ]
  },
  {
   "cell_type": "code",
   "execution_count": 39,
   "metadata": {},
   "outputs": [
    {
     "name": "stdout",
     "output_type": "stream",
     "text": [
      "tf.Tensor(0, shape=(), dtype=int64)\n",
      "tf.Tensor(-1, shape=(), dtype=int64)\n",
      "tf.Tensor(-2, shape=(), dtype=int64)\n",
      "tf.Tensor(-3, shape=(), dtype=int64)\n",
      "tf.Tensor(-4, shape=(), dtype=int64)\n"
     ]
    }
   ],
   "source": [
    "for elem in dec_dataset.take(5):\n",
    "    print(elem)"
   ]
  },
  {
   "cell_type": "code",
   "execution_count": 40,
   "metadata": {},
   "outputs": [
    {
     "name": "stdout",
     "output_type": "stream",
     "text": [
      "(<tf.Tensor: id=314, shape=(), dtype=int64, numpy=0>, <tf.Tensor: id=315, shape=(), dtype=int64, numpy=0>)\n",
      "(<tf.Tensor: id=316, shape=(), dtype=int64, numpy=1>, <tf.Tensor: id=317, shape=(), dtype=int64, numpy=-1>)\n",
      "(<tf.Tensor: id=318, shape=(), dtype=int64, numpy=2>, <tf.Tensor: id=319, shape=(), dtype=int64, numpy=-2>)\n",
      "(<tf.Tensor: id=320, shape=(), dtype=int64, numpy=3>, <tf.Tensor: id=321, shape=(), dtype=int64, numpy=-3>)\n",
      "(<tf.Tensor: id=322, shape=(), dtype=int64, numpy=4>, <tf.Tensor: id=323, shape=(), dtype=int64, numpy=-4>)\n"
     ]
    }
   ],
   "source": [
    "dataset= tf.data.Dataset.zip((inc_dataset, dec_dataset))\n",
    "for elem in dataset.take(5):\n",
    "    print(elem)"
   ]
  },
  {
   "cell_type": "code",
   "execution_count": 42,
   "metadata": {},
   "outputs": [
    {
     "name": "stdout",
     "output_type": "stream",
     "text": [
      "(<tf.Tensor: id=354, shape=(4,), dtype=int64, numpy=array([0, 1, 2, 3])>, <tf.Tensor: id=355, shape=(4,), dtype=int64, numpy=array([ 0, -1, -2, -3])>)\n",
      "\n",
      "[array([0, 1, 2, 3]), array([ 0, -1, -2, -3])]\n",
      "(<tf.Tensor: id=356, shape=(4,), dtype=int64, numpy=array([4, 5, 6, 7])>, <tf.Tensor: id=357, shape=(4,), dtype=int64, numpy=array([-4, -5, -6, -7])>)\n",
      "\n",
      "[array([4, 5, 6, 7]), array([-4, -5, -6, -7])]\n",
      "(<tf.Tensor: id=358, shape=(4,), dtype=int64, numpy=array([ 8,  9, 10, 11])>, <tf.Tensor: id=359, shape=(4,), dtype=int64, numpy=array([ -8,  -9, -10, -11])>)\n",
      "\n",
      "[array([ 8,  9, 10, 11]), array([ -8,  -9, -10, -11])]\n",
      "(<tf.Tensor: id=360, shape=(4,), dtype=int64, numpy=array([12, 13, 14, 15])>, <tf.Tensor: id=361, shape=(4,), dtype=int64, numpy=array([-12, -13, -14, -15])>)\n",
      "\n",
      "[array([12, 13, 14, 15]), array([-12, -13, -14, -15])]\n",
      "(<tf.Tensor: id=362, shape=(4,), dtype=int64, numpy=array([16, 17, 18, 19])>, <tf.Tensor: id=363, shape=(4,), dtype=int64, numpy=array([-16, -17, -18, -19])>)\n",
      "\n",
      "[array([16, 17, 18, 19]), array([-16, -17, -18, -19])]\n"
     ]
    }
   ],
   "source": [
    "batched_dataset = dataset.batch(4)\n",
    "for batch in batched_dataset.take(5):\n",
    "    print(batch)\n",
    "    print()\n",
    "    print([arr.numpy() for arr in batch])"
   ]
  },
  {
   "cell_type": "code",
   "execution_count": 43,
   "metadata": {},
   "outputs": [
    {
     "data": {
      "text/plain": [
       "<BatchDataset shapes: ((None,), (None,)), types: (tf.int64, tf.int64)>"
      ]
     },
     "execution_count": 43,
     "metadata": {},
     "output_type": "execute_result"
    }
   ],
   "source": [
    "batched_dataset"
   ]
  },
  {
   "cell_type": "code",
   "execution_count": 44,
   "metadata": {},
   "outputs": [
    {
     "data": {
      "text/plain": [
       "<BatchDataset shapes: ((7,), (7,)), types: (tf.int64, tf.int64)>"
      ]
     },
     "execution_count": 44,
     "metadata": {},
     "output_type": "execute_result"
    }
   ],
   "source": [
    "dataset.batch(7, drop_remainder=True) # 忽略最后一个批次"
   ]
  },
  {
   "cell_type": "code",
   "execution_count": 47,
   "metadata": {},
   "outputs": [
    {
     "name": "stdout",
     "output_type": "stream",
     "text": [
      "tf.Tensor([], shape=(0,), dtype=int64)\n",
      "tf.Tensor([1], shape=(1,), dtype=int64)\n",
      "tf.Tensor([2 2], shape=(2,), dtype=int64)\n",
      "tf.Tensor([3 3 3], shape=(3,), dtype=int64)\n",
      "tf.Tensor([4 4 4 4], shape=(4,), dtype=int64)\n"
     ]
    }
   ],
   "source": [
    "# batching tensors with padding\n",
    "dataset = tf.data.Dataset.range(100)\n",
    "dataset = dataset.map(lambda x: tf.fill([tf.cast(x, tf.int32)], x))\n",
    "for elem in dataset.take(5):\n",
    "    print(elem)"
   ]
  },
  {
   "cell_type": "code",
   "execution_count": 48,
   "metadata": {},
   "outputs": [],
   "source": [
    "dataset = dataset.padded_batch(4, padded_shapes=(None, ))"
   ]
  },
  {
   "cell_type": "code",
   "execution_count": 51,
   "metadata": {},
   "outputs": [
    {
     "name": "stdout",
     "output_type": "stream",
     "text": [
      "tf.Tensor(\n",
      "[[0 0 0]\n",
      " [1 0 0]\n",
      " [2 2 0]\n",
      " [3 3 3]], shape=(4, 3), dtype=int64)\n",
      "\n",
      "tf.Tensor(\n",
      "[[4 4 4 4 0 0 0]\n",
      " [5 5 5 5 5 0 0]\n",
      " [6 6 6 6 6 6 0]\n",
      " [7 7 7 7 7 7 7]], shape=(4, 7), dtype=int64)\n",
      "\n",
      "tf.Tensor(\n",
      "[[ 8  8  8  8  8  8  8  8  0  0  0]\n",
      " [ 9  9  9  9  9  9  9  9  9  0  0]\n",
      " [10 10 10 10 10 10 10 10 10 10  0]\n",
      " [11 11 11 11 11 11 11 11 11 11 11]], shape=(4, 11), dtype=int64)\n",
      "\n"
     ]
    }
   ],
   "source": [
    "for batch in dataset.take(3):\n",
    "    print(batch)\n",
    "    print()"
   ]
  },
  {
   "cell_type": "code",
   "execution_count": 2,
   "metadata": {},
   "outputs": [],
   "source": [
    "titanic_file = tf.keras.utils.get_file('train.csv',\n",
    "                                      \"https://storage.googleapis.com/tf-datasets/titanic/train.csv\")"
   ]
  },
  {
   "cell_type": "code",
   "execution_count": 3,
   "metadata": {},
   "outputs": [],
   "source": [
    "titanic_lines = tf.data.TextLineDataset(titanic_file)"
   ]
  },
  {
   "cell_type": "code",
   "execution_count": 54,
   "metadata": {},
   "outputs": [
    {
     "name": "stdout",
     "output_type": "stream",
     "text": [
      "tf.Tensor(b'survived,sex,age,n_siblings_spouses,parch,fare,class,deck,embark_town,alone', shape=(), dtype=string)\n",
      "tf.Tensor(b'0,male,22.0,1,0,7.25,Third,unknown,Southampton,n', shape=(), dtype=string)\n",
      "tf.Tensor(b'1,female,38.0,1,0,71.2833,First,C,Cherbourg,n', shape=(), dtype=string)\n"
     ]
    }
   ],
   "source": [
    "for elem in titanic_lines.take(3):\n",
    "    print(elem)"
   ]
  },
  {
   "cell_type": "code",
   "execution_count": 66,
   "metadata": {},
   "outputs": [],
   "source": [
    "def plot_batch_sizes(ds):\n",
    "    batch_sizes = [batch.shape[0] for batch in ds]\n",
    "    plt.bar(range(len(batch_sizes)), batch_sizes)\n",
    "    plt.xlabel('Batch number')\n",
    "    plt.ylabel('Batch size')\n",
    "    for x, y in zip(range(len(batch_sizes)), batch_sizes):\n",
    "        plt.text(x, y+1, '%.0f'%y, ha='center')"
   ]
  },
  {
   "cell_type": "code",
   "execution_count": 67,
   "metadata": {},
   "outputs": [
    {
     "data": {
      "image/png": "[encoded data removed]",
      "text/plain": [
       "<Figure size 432x288 with 1 Axes>"
      ]
     },
     "metadata": {
      "needs_background": "light"
     },
     "output_type": "display_data"
    }
   ],
   "source": [
    "titanic_batches = titanic_lines.repeat(3).batch(128)\n",
    "plot_batch_sizes(titanic_batches)"
   ]
  },
  {
   "cell_type": "code",
   "execution_count": 68,
   "metadata": {},
   "outputs": [
    {
     "data": {
      "image/png": "[encoded data removed]",
      "text/plain": [
       "<Figure size 432x288 with 1 Axes>"
      ]
     },
     "metadata": {
      "needs_background": "light"
     },
     "output_type": "display_data"
    }
   ],
   "source": [
    "titanic_batches = titanic_lines.batch(128).repeat(3)\n",
    "plot_batch_sizes(titanic_batches)"
   ]
  },
  {
   "cell_type": "code",
   "execution_count": 70,
   "metadata": {
    "scrolled": true
   },
   "outputs": [
    {
     "name": "stdout",
     "output_type": "stream",
     "text": [
      "(128,)\n",
      "(128,)\n",
      "(128,)\n",
      "(128,)\n",
      "(116,)\n",
      "End of epoch:  0\n",
      "(128,)\n",
      "(128,)\n",
      "(128,)\n",
      "(128,)\n",
      "(116,)\n",
      "End of epoch:  1\n",
      "(128,)\n",
      "(128,)\n",
      "(128,)\n",
      "(128,)\n",
      "(116,)\n",
      "End of epoch:  2\n"
     ]
    }
   ],
   "source": [
    "epochs = 3\n",
    "dataset = titanic_lines.batch(128)\n",
    "for epoch in range(epochs):\n",
    "    for batch in dataset:\n",
    "        print(batch.shape)\n",
    "    print('End of epoch: ', epoch)"
   ]
  },
  {
   "cell_type": "code",
   "execution_count": 4,
   "metadata": {},
   "outputs": [
    {
     "name": "stdout",
     "output_type": "stream",
     "text": [
      "tf.Tensor(0, shape=(), dtype=int64) tf.Tensor(b'survived,sex,age,n_siblings_spouses,parch,fare,class,deck,embark_town,alone', shape=(), dtype=string)\n",
      "\n",
      "tf.Tensor(1, shape=(), dtype=int64) tf.Tensor(b'0,male,22.0,1,0,7.25,Third,unknown,Southampton,n', shape=(), dtype=string)\n",
      "\n",
      "tf.Tensor(2, shape=(), dtype=int64) tf.Tensor(b'1,female,38.0,1,0,71.2833,First,C,Cherbourg,n', shape=(), dtype=string)\n",
      "\n"
     ]
    }
   ],
   "source": [
    "# randomly shuffling input data\n",
    "lines = tf.data.TextLineDataset(titanic_file)\n",
    "counter = tf.data.experimental.Counter()\n",
    "\n",
    "dataset = tf.data.Dataset.zip((counter, lines))\n",
    "for c, l in dataset.take(3):\n",
    "    print(c, l)\n",
    "    print()"
   ]
  },
  {
   "cell_type": "code",
   "execution_count": 5,
   "metadata": {},
   "outputs": [
    {
     "data": {
      "text/plain": [
       "<BatchDataset shapes: ((None,), (None,)), types: (tf.int64, tf.string)>"
      ]
     },
     "execution_count": 5,
     "metadata": {},
     "output_type": "execute_result"
    }
   ],
   "source": [
    "dataset = dataset.shuffle(buffer_size=100)\n",
    "dataset = dataset.batch(20)\n",
    "dataset"
   ]
  },
  {
   "cell_type": "code",
   "execution_count": 6,
   "metadata": {},
   "outputs": [
    {
     "name": "stdout",
     "output_type": "stream",
     "text": [
      "tf.Tensor(\n",
      "[ 84  76  54 101   2  31  72   9  56  81  50   3  51  77  94  79  74   0\n",
      "  75  26], shape=(20,), dtype=int64)\n"
     ]
    }
   ],
   "source": [
    "n, line_batch = next(iter(dataset))\n",
    "print(n)"
   ]
  },
  {
   "cell_type": "code",
   "execution_count": 7,
   "metadata": {
    "scrolled": true
   },
   "outputs": [
    {
     "name": "stdout",
     "output_type": "stream",
     "text": [
      "Here are the item ID's near the epoch boundary:\n",
      "\n",
      "[519 594 589 518 626 530 622 367 425 541]\n",
      "[450 603 515 596 503 516 578 493 580 621]\n",
      "[532 627 468 513 599 522 571 565]\n",
      "[82 81  8 75 99 20 37  9 96  5]\n",
      "[107  95  57  14 103  98  35  17  63  90]\n"
     ]
    }
   ],
   "source": [
    "dataset = tf.data.Dataset.zip((counter, lines))\n",
    "shuffled = dataset.shuffle(buffer_size=100).batch(10).repeat(2)\n",
    "print(\"Here are the item ID's near the epoch boundary:\\n\")\n",
    "for n, line_batch in shuffled.skip(60).take(5):\n",
    "    print(n.numpy())"
   ]
  },
  {
   "cell_type": "code",
   "execution_count": 8,
   "metadata": {
    "scrolled": true
   },
   "outputs": [
    {
     "name": "stdout",
     "output_type": "stream",
     "text": [
      "(<tf.Tensor: id=108, shape=(10,), dtype=int64, numpy=array([34, 24, 63, 38, 27, 77, 87, 28, 76, 36])>, <tf.Tensor: id=109, shape=(10,), dtype=string, numpy=\n",
      "array([b'0,male,28.0,0,0,7.8958,Third,unknown,Cherbourg,y',\n",
      "       b'0,male,40.0,0,0,27.7208,First,unknown,Cherbourg,y',\n",
      "       b'1,female,30.0,0,0,12.475,Third,unknown,Southampton,y',\n",
      "       b'0,male,28.0,2,0,21.6792,Third,unknown,Cherbourg,n',\n",
      "       b'0,male,66.0,0,0,10.5,Second,unknown,Southampton,y',\n",
      "       b'1,female,34.0,0,1,23.0,Second,unknown,Southampton,n',\n",
      "       b'0,male,47.0,0,0,52.0,First,C,Southampton,y',\n",
      "       b'0,male,28.0,1,0,82.1708,First,unknown,Cherbourg,n',\n",
      "       b'1,male,23.0,0,1,63.3583,First,D,Cherbourg,n',\n",
      "       b'0,male,28.0,0,0,8.05,Third,unknown,Southampton,y'], dtype=object)>)\n",
      "(<tf.Tensor: id=110, shape=(10,), dtype=int64, numpy=array([95, 60, 73, 26, 68, 13, 79, 40, 92, 12])>, <tf.Tensor: id=111, shape=(10,), dtype=string, numpy=\n",
      "array([b'0,male,28.0,0,0,8.05,Third,unknown,Southampton,y',\n",
      "       b'0,male,28.0,0,0,7.8958,Third,unknown,Southampton,y',\n",
      "       b'0,male,59.0,0,0,7.25,Third,unknown,Southampton,y',\n",
      "       b'1,female,28.0,0,0,7.75,Third,unknown,Queenstown,y',\n",
      "       b'0,male,16.0,1,3,34.375,Third,unknown,Southampton,n',\n",
      "       b'0,male,2.0,4,1,29.125,Third,unknown,Queenstown,n',\n",
      "       b'0,female,28.0,0,0,7.8958,Third,unknown,Southampton,y',\n",
      "       b'0,male,7.0,4,1,39.6875,Third,unknown,Southampton,n',\n",
      "       b'0,male,70.5,0,0,7.75,Third,unknown,Queenstown,y',\n",
      "       b'0,female,14.0,0,0,7.8542,Third,unknown,Southampton,y'],\n",
      "      dtype=object)>)\n"
     ]
    }
   ],
   "source": [
    "for elem in shuffled.take(2):\n",
    "    print(elem)"
   ]
  },
  {
   "cell_type": "code",
   "execution_count": 9,
   "metadata": {},
   "outputs": [
    {
     "data": {
      "text/plain": [
       "<matplotlib.legend.Legend at 0x7f84883620b8>"
      ]
     },
     "execution_count": 9,
     "metadata": {},
     "output_type": "execute_result"
    },
    {
     "data": {
      "image/png": "[encoded data removed]",
      "text/plain": [
       "<Figure size 432x288 with 1 Axes>"
      ]
     },
     "metadata": {
      "needs_background": "light"
     },
     "output_type": "display_data"
    }
   ],
   "source": [
    "shuffle_repeat = [n.numpy().mean() for n, line_batch in shuffled]\n",
    "plt.plot(shuffle_repeat, label='shuffle().repeat()')\n",
    "plt.ylabel('Mean item ID')\n",
    "plt.legend()"
   ]
  },
  {
   "cell_type": "code",
   "execution_count": 10,
   "metadata": {},
   "outputs": [
    {
     "name": "stdout",
     "output_type": "stream",
     "text": [
      "Here are the item ID's near the epoch boundary:\n",
      "\n",
      "[499 620 603 606 485 609 588   3   8 591]\n",
      "[ 20 615 572  11  18 621 614  27 366 444]\n",
      "[552   9   4 358  36 449 535  40  42 562]\n",
      "[568  44 507 504 602 578  43  46 600 534]\n",
      "[505  33  35 530 583  12 546 490 479 593]\n",
      "[489  55 574  22 570 613  71 383 498  56]\n",
      "[ 17 525 597  52  57 622  72 557  75 619]\n",
      "[ 70  69 482  87  41 611 595  58 450  30]\n",
      "[ 39  86   2  67  29 559 556  51  13 107]\n",
      "[ 21 448 392  26  15   7 462  54  60 564]\n",
      "[617 118 122  16  92 470  99 115 284  89]\n",
      "[624 461 108  50  83  32 114 134 125 126]\n",
      "[117 138 140 607  97  62 301  81 149 106]\n",
      "[144  37  84 148 541 111  34 145 136 130]\n",
      "[129 150 142   0  95 105 162 116  63 168]\n"
     ]
    }
   ],
   "source": [
    "dataset = tf.data.Dataset.zip((counter, lines))\n",
    "shuffled = dataset.repeat(2).shuffle(buffer_size=100).batch(10)\n",
    "print(\"Here are the item ID's near the epoch boundary:\\n\")\n",
    "for n, line_batch in shuffled.skip(55).take(15):\n",
    "    print(n.numpy())"
   ]
  },
  {
   "cell_type": "code",
   "execution_count": 11,
   "metadata": {},
   "outputs": [
    {
     "data": {
      "text/plain": [
       "<matplotlib.legend.Legend at 0x7f846c526c18>"
      ]
     },
     "execution_count": 11,
     "metadata": {},
     "output_type": "execute_result"
    },
    {
     "data": {
      "image/png": "[encoded data removed]",
      "text/plain": [
       "<Figure size 432x288 with 1 Axes>"
      ]
     },
     "metadata": {
      "needs_background": "light"
     },
     "output_type": "display_data"
    }
   ],
   "source": [
    "repeat_shuffle = [n.numpy().mean() for n, line_batch in shuffled]\n",
    "plt.plot(shuffle_repeat, label='shuffle().reapt()')\n",
    "plt.plot(repeat_shuffle, label='repeat().shuffle()')\n",
    "plt.ylabel('Mean item ID')\n",
    "plt.legend()"
   ]
  },
  {
   "cell_type": "code",
   "execution_count": null,
   "metadata": {},
   "outputs": [],
   "source": []
  }
 ],
 "metadata": {
  "kernelspec": {
   "display_name": "Python 3",
   "language": "python",
   "name": "python3"
  },
  "language_info": {
   "codemirror_mode": {
    "name": "ipython",
    "version": 3
   },
   "file_extension": ".py",
   "mimetype": "text/x-python",
   "name": "python",
   "nbconvert_exporter": "python",
   "pygments_lexer": "ipython3",
   "version": "3.7.7"
  }
 },
 "nbformat": 4,
 "nbformat_minor": 4
}
