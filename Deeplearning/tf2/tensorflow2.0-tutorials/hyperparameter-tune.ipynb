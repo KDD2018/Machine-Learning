{
 "cells": [
  {
   "cell_type": "code",
   "execution_count": 1,
   "metadata": {},
   "outputs": [],
   "source": [
    "import tensorflow as tf\n",
    "from tensorflow import keras\n",
    "import kerastuner as kt\n",
    "import IPython"
   ]
  },
  {
   "cell_type": "code",
   "execution_count": 2,
   "metadata": {},
   "outputs": [],
   "source": [
    "(img_train, label_train), (img_test, label_test) = keras.datasets.fashion_mnist.load_data()"
   ]
  },
  {
   "cell_type": "code",
   "execution_count": 3,
   "metadata": {},
   "outputs": [],
   "source": [
    "img_train = img_train.astype('float32') / 255.0\n",
    "img_test = img_test.astype('float32') / 255.0"
   ]
  },
  {
   "cell_type": "markdown",
   "metadata": {},
   "source": [
    "## Define the model"
   ]
  },
  {
   "cell_type": "markdown",
   "metadata": {},
   "source": [
    "### define the Hypermodel through two approches:\n",
    "- By using a model builder function\n",
    "- By subclassing the HyperModel class of the Keras Tuner API"
   ]
  },
  {
   "cell_type": "code",
   "execution_count": 4,
   "metadata": {},
   "outputs": [],
   "source": [
    "def model_builder(hp):\n",
    "    model = tf.keras.Sequential()\n",
    "    model.add(keras.layers.Flatten(input_shape=(28, 28)))\n",
    "    \n",
    "    # Tune the number of units in the first dense layer\n",
    "    # Choose an optimal value between 32-512\n",
    "    hp_units = hp.Int('units', min_value=32, max_value=512, step=32)\n",
    "    model.add(keras.layers.Dense(units=hp_units, activation='relu'))\n",
    "    model.add(keras.layers.Dense(10))\n",
    "    \n",
    "    # Tune the learning rate for the optimizer\n",
    "    # Choose an optimal value from 0.01, 0.001 or 0.0001\n",
    "    hp_learning_rate = hp.Choice('learning_rate', values=[1e-2, 1e-3, 1e-4])\n",
    "    model.compile(optimizer=keras.optimizers.Adam(learning_rate=hp_learning_rate),\n",
    "                  loss=keras.losses.SparseCategoricalCrossentropy(from_logits=True),\n",
    "                  metrics=['accuracy'])\n",
    "    return model"
   ]
  },
  {
   "cell_type": "markdown",
   "metadata": {},
   "source": [
    "## Instantiate tuner and perform hypertuning"
   ]
  },
  {
   "cell_type": "markdown",
   "metadata": {},
   "source": [
    "## Keras four Tuner\n",
    "- RandomSearch\n",
    "- BayesianOptimization\n",
    "- HyperBand\n",
    "- sklearn"
   ]
  },
  {
   "cell_type": "code",
   "execution_count": 5,
   "metadata": {},
   "outputs": [],
   "source": [
    "tuner = kt.Hyperband(model_builder, objective='val_accuracy', max_epochs=10, factor=3, directory='../logs/', project_name='intro_tk_kt')"
   ]
  },
  {
   "cell_type": "code",
   "execution_count": 8,
   "metadata": {},
   "outputs": [],
   "source": [
    "class ClearTrainingOutput(tf.keras.callbacks.Callback):\n",
    "    def on_train_end(*args, **kwargs):\n",
    "        IPython.display.clear_output(wait=True)"
   ]
  },
  {
   "cell_type": "code",
   "execution_count": 9,
   "metadata": {},
   "outputs": [
    {
     "data": {
      "text/html": [
       "<span style=\"color:#4527A0\"><h1 style=\"font-size:18px\">Trial complete</h1></span>"
      ],
      "text/plain": [
       "<IPython.core.display.HTML object>"
      ]
     },
     "metadata": {},
     "output_type": "display_data"
    },
    {
     "data": {
      "text/html": [
       "<span style=\"color:#4527A0\"><h1 style=\"font-size:18px\">Trial summary</h1></span>"
      ],
      "text/plain": [
       "<IPython.core.display.HTML object>"
      ]
     },
     "metadata": {},
     "output_type": "display_data"
    },
    {
     "data": {
      "text/html": [
       "<span style=\"color:cyan\"> |-Trial ID: 15e4a510cfa2c64c0306bbe61b6c4879</span>"
      ],
      "text/plain": [
       "<IPython.core.display.HTML object>"
      ]
     },
     "metadata": {},
     "output_type": "display_data"
    },
    {
     "data": {
      "text/html": [
       "<span style=\"color:cyan\"> |-Score: 0.8518000245094299</span>"
      ],
      "text/plain": [
       "<IPython.core.display.HTML object>"
      ]
     },
     "metadata": {},
     "output_type": "display_data"
    },
    {
     "data": {
      "text/html": [
       "<span style=\"color:cyan\"> |-Best step: 0</span>"
      ],
      "text/plain": [
       "<IPython.core.display.HTML object>"
      ]
     },
     "metadata": {},
     "output_type": "display_data"
    },
    {
     "data": {
      "text/html": [
       "<span style=\"color:#7E57C2\"><h2 style=\"font-size:16px\">Hyperparameters:</h2></span>"
      ],
      "text/plain": [
       "<IPython.core.display.HTML object>"
      ]
     },
     "metadata": {},
     "output_type": "display_data"
    },
    {
     "data": {
      "text/html": [
       "<span style=\"color:cyan\"> |-learning_rate: 0.01</span>"
      ],
      "text/plain": [
       "<IPython.core.display.HTML object>"
      ]
     },
     "metadata": {},
     "output_type": "display_data"
    },
    {
     "data": {
      "text/html": [
       "<span style=\"color:blue\"> |-tuner/bracket: 0</span>"
      ],
      "text/plain": [
       "<IPython.core.display.HTML object>"
      ]
     },
     "metadata": {},
     "output_type": "display_data"
    },
    {
     "data": {
      "text/html": [
       "<span style=\"color:cyan\"> |-tuner/epochs: 10</span>"
      ],
      "text/plain": [
       "<IPython.core.display.HTML object>"
      ]
     },
     "metadata": {},
     "output_type": "display_data"
    },
    {
     "data": {
      "text/html": [
       "<span style=\"color:blue\"> |-tuner/initial_epoch: 0</span>"
      ],
      "text/plain": [
       "<IPython.core.display.HTML object>"
      ]
     },
     "metadata": {},
     "output_type": "display_data"
    },
    {
     "data": {
      "text/html": [
       "<span style=\"color:cyan\"> |-tuner/round: 0</span>"
      ],
      "text/plain": [
       "<IPython.core.display.HTML object>"
      ]
     },
     "metadata": {},
     "output_type": "display_data"
    },
    {
     "data": {
      "text/html": [
       "<span style=\"color:blue\"> |-units: 192</span>"
      ],
      "text/plain": [
       "<IPython.core.display.HTML object>"
      ]
     },
     "metadata": {},
     "output_type": "display_data"
    },
    {
     "name": "stdout",
     "output_type": "stream",
     "text": [
      "INFO:tensorflow:Oracle triggered exit\n"
     ]
    }
   ],
   "source": [
    "tuner.search(img_train, label_train, epochs=10, validation_data=(img_test, label_test), callbacks=[ClearTrainingOutput()])"
   ]
  },
  {
   "cell_type": "code",
   "execution_count": 16,
   "metadata": {},
   "outputs": [],
   "source": [
    "best_hps = tuner.get_best_hyperparameters(num_trials=1)[0]"
   ]
  },
  {
   "cell_type": "code",
   "execution_count": 17,
   "metadata": {},
   "outputs": [
    {
     "data": {
      "text/plain": [
       "384"
      ]
     },
     "execution_count": 17,
     "metadata": {},
     "output_type": "execute_result"
    }
   ],
   "source": [
    "best_hps.get('units')"
   ]
  },
  {
   "cell_type": "code",
   "execution_count": 18,
   "metadata": {},
   "outputs": [
    {
     "data": {
      "text/plain": [
       "0.001"
      ]
     },
     "execution_count": 18,
     "metadata": {},
     "output_type": "execute_result"
    }
   ],
   "source": [
    "best_hps.get('learning_rate')"
   ]
  },
  {
   "cell_type": "code",
   "execution_count": 19,
   "metadata": {},
   "outputs": [],
   "source": [
    "model = tuner.hypermodel.build(best_hps)"
   ]
  },
  {
   "cell_type": "code",
   "execution_count": 20,
   "metadata": {
    "collapsed": true,
    "jupyter": {
     "outputs_hidden": true
    }
   },
   "outputs": [
    {
     "name": "stdout",
     "output_type": "stream",
     "text": [
      "Train on 60000 samples, validate on 10000 samples\n",
      "Epoch 1/10\n",
      "60000/60000 [==============================] - ETA: 6:03 - loss: 2.3575 - accuracy: 0.09 - ETA: 28s - loss: 1.4173 - accuracy: 0.5234 - ETA: 18s - loss: 1.1824 - accuracy: 0.586 - ETA: 15s - loss: 1.0852 - accuracy: 0.617 - ETA: 13s - loss: 1.0238 - accuracy: 0.642 - ETA: 11s - loss: 0.9566 - accuracy: 0.665 - ETA: 11s - loss: 0.9096 - accuracy: 0.684 - ETA: 11s - loss: 0.8811 - accuracy: 0.694 - ETA: 11s - loss: 0.8505 - accuracy: 0.706 - ETA: 11s - loss: 0.8342 - accuracy: 0.711 - ETA: 10s - loss: 0.8204 - accuracy: 0.714 - ETA: 10s - loss: 0.8067 - accuracy: 0.719 - ETA: 10s - loss: 0.7911 - accuracy: 0.724 - ETA: 10s - loss: 0.7784 - accuracy: 0.729 - ETA: 10s - loss: 0.7657 - accuracy: 0.735 - ETA: 10s - loss: 0.7570 - accuracy: 0.741 - ETA: 9s - loss: 0.7470 - accuracy: 0.744 - ETA: 9s - loss: 0.7421 - accuracy: 0.74 - ETA: 9s - loss: 0.7307 - accuracy: 0.74 - ETA: 9s - loss: 0.7236 - accuracy: 0.75 - ETA: 9s - loss: 0.7102 - accuracy: 0.75 - ETA: 9s - loss: 0.7009 - accuracy: 0.75 - ETA: 9s - loss: 0.6912 - accuracy: 0.76 - ETA: 8s - loss: 0.6871 - accuracy: 0.76 - ETA: 8s - loss: 0.6749 - accuracy: 0.76 - ETA: 8s - loss: 0.6676 - accuracy: 0.77 - ETA: 8s - loss: 0.6661 - accuracy: 0.77 - ETA: 8s - loss: 0.6641 - accuracy: 0.77 - ETA: 8s - loss: 0.6597 - accuracy: 0.77 - ETA: 8s - loss: 0.6553 - accuracy: 0.77 - ETA: 8s - loss: 0.6503 - accuracy: 0.77 - ETA: 8s - loss: 0.6470 - accuracy: 0.77 - ETA: 7s - loss: 0.6442 - accuracy: 0.77 - ETA: 7s - loss: 0.6402 - accuracy: 0.78 - ETA: 7s - loss: 0.6347 - accuracy: 0.78 - ETA: 7s - loss: 0.6322 - accuracy: 0.78 - ETA: 7s - loss: 0.6315 - accuracy: 0.78 - ETA: 7s - loss: 0.6294 - accuracy: 0.78 - ETA: 7s - loss: 0.6257 - accuracy: 0.78 - ETA: 7s - loss: 0.6227 - accuracy: 0.78 - ETA: 7s - loss: 0.6198 - accuracy: 0.78 - ETA: 7s - loss: 0.6161 - accuracy: 0.78 - ETA: 7s - loss: 0.6124 - accuracy: 0.78 - ETA: 7s - loss: 0.6091 - accuracy: 0.79 - ETA: 7s - loss: 0.6070 - accuracy: 0.79 - ETA: 7s - loss: 0.6033 - accuracy: 0.79 - ETA: 7s - loss: 0.5998 - accuracy: 0.79 - ETA: 7s - loss: 0.5964 - accuracy: 0.79 - ETA: 6s - loss: 0.5938 - accuracy: 0.79 - ETA: 6s - loss: 0.5916 - accuracy: 0.79 - ETA: 6s - loss: 0.5898 - accuracy: 0.79 - ETA: 6s - loss: 0.5872 - accuracy: 0.79 - ETA: 6s - loss: 0.5857 - accuracy: 0.79 - ETA: 6s - loss: 0.5828 - accuracy: 0.79 - ETA: 6s - loss: 0.5812 - accuracy: 0.79 - ETA: 6s - loss: 0.5793 - accuracy: 0.79 - ETA: 6s - loss: 0.5759 - accuracy: 0.79 - ETA: 6s - loss: 0.5747 - accuracy: 0.80 - ETA: 6s - loss: 0.5725 - accuracy: 0.80 - ETA: 6s - loss: 0.5712 - accuracy: 0.80 - ETA: 6s - loss: 0.5701 - accuracy: 0.80 - ETA: 6s - loss: 0.5675 - accuracy: 0.80 - ETA: 6s - loss: 0.5658 - accuracy: 0.80 - ETA: 6s - loss: 0.5646 - accuracy: 0.80 - ETA: 5s - loss: 0.5625 - accuracy: 0.80 - ETA: 5s - loss: 0.5618 - accuracy: 0.80 - ETA: 5s - loss: 0.5608 - accuracy: 0.80 - ETA: 5s - loss: 0.5595 - accuracy: 0.80 - ETA: 5s - loss: 0.5582 - accuracy: 0.80 - ETA: 5s - loss: 0.5572 - accuracy: 0.80 - ETA: 5s - loss: 0.5561 - accuracy: 0.80 - ETA: 5s - loss: 0.5544 - accuracy: 0.80 - ETA: 5s - loss: 0.5545 - accuracy: 0.80 - ETA: 5s - loss: 0.5534 - accuracy: 0.80 - ETA: 5s - loss: 0.5516 - accuracy: 0.80 - ETA: 5s - loss: 0.5514 - accuracy: 0.80 - ETA: 5s - loss: 0.5495 - accuracy: 0.80 - ETA: 5s - loss: 0.5476 - accuracy: 0.80 - ETA: 5s - loss: 0.5463 - accuracy: 0.80 - ETA: 5s - loss: 0.5447 - accuracy: 0.81 - ETA: 4s - loss: 0.5436 - accuracy: 0.81 - ETA: 4s - loss: 0.5418 - accuracy: 0.81 - ETA: 4s - loss: 0.5406 - accuracy: 0.81 - ETA: 4s - loss: 0.5393 - accuracy: 0.81 - ETA: 4s - loss: 0.5378 - accuracy: 0.81 - ETA: 4s - loss: 0.5369 - accuracy: 0.81 - ETA: 4s - loss: 0.5350 - accuracy: 0.81 - ETA: 4s - loss: 0.5344 - accuracy: 0.81 - ETA: 4s - loss: 0.5341 - accuracy: 0.81 - ETA: 4s - loss: 0.5323 - accuracy: 0.81 - ETA: 4s - loss: 0.5320 - accuracy: 0.81 - ETA: 4s - loss: 0.5316 - accuracy: 0.81 - ETA: 4s - loss: 0.5307 - accuracy: 0.81 - ETA: 4s - loss: 0.5296 - accuracy: 0.81 - ETA: 4s - loss: 0.5286 - accuracy: 0.81 - ETA: 4s - loss: 0.5274 - accuracy: 0.81 - ETA: 3s - loss: 0.5256 - accuracy: 0.81 - ETA: 3s - loss: 0.5249 - accuracy: 0.81 - ETA: 3s - loss: 0.5234 - accuracy: 0.81 - ETA: 3s - loss: 0.5223 - accuracy: 0.81 - ETA: 3s - loss: 0.5224 - accuracy: 0.81 - ETA: 3s - loss: 0.5225 - accuracy: 0.81 - ETA: 3s - loss: 0.5217 - accuracy: 0.81 - ETA: 3s - loss: 0.5212 - accuracy: 0.81 - ETA: 3s - loss: 0.5209 - accuracy: 0.81 - ETA: 3s - loss: 0.5194 - accuracy: 0.81 - ETA: 3s - loss: 0.5177 - accuracy: 0.81 - ETA: 3s - loss: 0.5169 - accuracy: 0.81 - ETA: 3s - loss: 0.5154 - accuracy: 0.81 - ETA: 3s - loss: 0.5138 - accuracy: 0.82 - ETA: 2s - loss: 0.5137 - accuracy: 0.82 - ETA: 2s - loss: 0.5128 - accuracy: 0.82 - ETA: 2s - loss: 0.5113 - accuracy: 0.82 - ETA: 2s - loss: 0.5105 - accuracy: 0.82 - ETA: 2s - loss: 0.5102 - accuracy: 0.82 - ETA: 2s - loss: 0.5090 - accuracy: 0.82 - ETA: 2s - loss: 0.5079 - accuracy: 0.82 - ETA: 2s - loss: 0.5078 - accuracy: 0.82 - ETA: 2s - loss: 0.5075 - accuracy: 0.82 - ETA: 2s - loss: 0.5061 - accuracy: 0.82 - ETA: 2s - loss: 0.5053 - accuracy: 0.82 - ETA: 2s - loss: 0.5040 - accuracy: 0.82 - ETA: 2s - loss: 0.5036 - accuracy: 0.82 - ETA: 2s - loss: 0.5032 - accuracy: 0.82 - ETA: 2s - loss: 0.5028 - accuracy: 0.82 - ETA: 2s - loss: 0.5021 - accuracy: 0.82 - ETA: 2s - loss: 0.5018 - accuracy: 0.82 - ETA: 2s - loss: 0.5013 - accuracy: 0.82 - ETA: 2s - loss: 0.5011 - accuracy: 0.82 - ETA: 2s - loss: 0.5009 - accuracy: 0.82 - ETA: 2s - loss: 0.5002 - accuracy: 0.82 - ETA: 2s - loss: 0.4995 - accuracy: 0.82 - ETA: 1s - loss: 0.4989 - accuracy: 0.82 - ETA: 1s - loss: 0.4985 - accuracy: 0.82 - ETA: 1s - loss: 0.4983 - accuracy: 0.82 - ETA: 1s - loss: 0.4976 - accuracy: 0.82 - ETA: 1s - loss: 0.4971 - accuracy: 0.82 - ETA: 1s - loss: 0.4964 - accuracy: 0.82 - ETA: 1s - loss: 0.4959 - accuracy: 0.82 - ETA: 1s - loss: 0.4951 - accuracy: 0.82 - ETA: 1s - loss: 0.4946 - accuracy: 0.82 - ETA: 1s - loss: 0.4938 - accuracy: 0.82 - ETA: 1s - loss: 0.4931 - accuracy: 0.82 - ETA: 1s - loss: 0.4925 - accuracy: 0.82 - ETA: 1s - loss: 0.4922 - accuracy: 0.82 - ETA: 1s - loss: 0.4925 - accuracy: 0.82 - ETA: 1s - loss: 0.4919 - accuracy: 0.82 - ETA: 1s - loss: 0.4915 - accuracy: 0.82 - ETA: 1s - loss: 0.4907 - accuracy: 0.82 - ETA: 1s - loss: 0.4903 - accuracy: 0.82 - ETA: 1s - loss: 0.4896 - accuracy: 0.82 - ETA: 1s - loss: 0.4887 - accuracy: 0.82 - ETA: 1s - loss: 0.4880 - accuracy: 0.82 - ETA: 1s - loss: 0.4872 - accuracy: 0.82 - ETA: 1s - loss: 0.4866 - accuracy: 0.82 - ETA: 0s - loss: 0.4862 - accuracy: 0.82 - ETA: 0s - loss: 0.4853 - accuracy: 0.83 - ETA: 0s - loss: 0.4848 - accuracy: 0.83 - ETA: 0s - loss: 0.4845 - accuracy: 0.83 - ETA: 0s - loss: 0.4837 - accuracy: 0.83 - ETA: 0s - loss: 0.4831 - accuracy: 0.83 - ETA: 0s - loss: 0.4823 - accuracy: 0.83 - ETA: 0s - loss: 0.4814 - accuracy: 0.83 - ETA: 0s - loss: 0.4808 - accuracy: 0.83 - ETA: 0s - loss: 0.4801 - accuracy: 0.83 - ETA: 0s - loss: 0.4793 - accuracy: 0.83 - ETA: 0s - loss: 0.4791 - accuracy: 0.83 - ETA: 0s - loss: 0.4783 - accuracy: 0.83 - ETA: 0s - loss: 0.4774 - accuracy: 0.83 - ETA: 0s - loss: 0.4779 - accuracy: 0.83 - ETA: 0s - loss: 0.4775 - accuracy: 0.83 - ETA: 0s - loss: 0.4768 - accuracy: 0.83 - ETA: 0s - loss: 0.4764 - accuracy: 0.83 - ETA: 0s - loss: 0.4764 - accuracy: 0.83 - 10s 168us/sample - loss: 0.4763 - accuracy: 0.8328 - val_loss: 0.4156 - val_accuracy: 0.8470\n",
      "Epoch 2/10\n",
      "60000/60000 [==============================] - ETA: 7s - loss: 0.3542 - accuracy: 0.90 - ETA: 8s - loss: 0.3336 - accuracy: 0.88 - ETA: 7s - loss: 0.3452 - accuracy: 0.87 - ETA: 8s - loss: 0.3391 - accuracy: 0.87 - ETA: 8s - loss: 0.3487 - accuracy: 0.87 - ETA: 8s - loss: 0.3612 - accuracy: 0.86 - ETA: 8s - loss: 0.3594 - accuracy: 0.87 - ETA: 8s - loss: 0.3605 - accuracy: 0.87 - ETA: 8s - loss: 0.3690 - accuracy: 0.87 - ETA: 8s - loss: 0.3721 - accuracy: 0.86 - ETA: 8s - loss: 0.3696 - accuracy: 0.86 - ETA: 8s - loss: 0.3703 - accuracy: 0.86 - ETA: 8s - loss: 0.3684 - accuracy: 0.86 - ETA: 8s - loss: 0.3660 - accuracy: 0.86 - ETA: 8s - loss: 0.3646 - accuracy: 0.87 - ETA: 8s - loss: 0.3679 - accuracy: 0.86 - ETA: 8s - loss: 0.3662 - accuracy: 0.86 - ETA: 8s - loss: 0.3656 - accuracy: 0.86 - ETA: 8s - loss: 0.3590 - accuracy: 0.87 - ETA: 7s - loss: 0.3575 - accuracy: 0.87 - ETA: 7s - loss: 0.3582 - accuracy: 0.86 - ETA: 7s - loss: 0.3575 - accuracy: 0.87 - ETA: 7s - loss: 0.3597 - accuracy: 0.87 - ETA: 7s - loss: 0.3616 - accuracy: 0.86 - ETA: 7s - loss: 0.3610 - accuracy: 0.87 - ETA: 7s - loss: 0.3618 - accuracy: 0.87 - ETA: 7s - loss: 0.3616 - accuracy: 0.87 - ETA: 7s - loss: 0.3637 - accuracy: 0.86 - ETA: 7s - loss: 0.3656 - accuracy: 0.86 - ETA: 7s - loss: 0.3640 - accuracy: 0.86 - ETA: 7s - loss: 0.3629 - accuracy: 0.86 - ETA: 7s - loss: 0.3679 - accuracy: 0.86 - ETA: 7s - loss: 0.3667 - accuracy: 0.86 - ETA: 7s - loss: 0.3670 - accuracy: 0.86 - ETA: 7s - loss: 0.3659 - accuracy: 0.86 - ETA: 7s - loss: 0.3650 - accuracy: 0.86 - ETA: 7s - loss: 0.3631 - accuracy: 0.86 - ETA: 7s - loss: 0.3624 - accuracy: 0.86 - ETA: 7s - loss: 0.3614 - accuracy: 0.86 - ETA: 7s - loss: 0.3618 - accuracy: 0.86 - ETA: 7s - loss: 0.3622 - accuracy: 0.86 - ETA: 7s - loss: 0.3622 - accuracy: 0.86 - ETA: 7s - loss: 0.3639 - accuracy: 0.86 - ETA: 7s - loss: 0.3656 - accuracy: 0.86 - ETA: 6s - loss: 0.3672 - accuracy: 0.86 - ETA: 6s - loss: 0.3666 - accuracy: 0.86 - ETA: 6s - loss: 0.3661 - accuracy: 0.86 - ETA: 6s - loss: 0.3666 - accuracy: 0.86 - ETA: 6s - loss: 0.3668 - accuracy: 0.86 - ETA: 6s - loss: 0.3663 - accuracy: 0.86 - ETA: 6s - loss: 0.3680 - accuracy: 0.86 - ETA: 6s - loss: 0.3694 - accuracy: 0.86 - ETA: 6s - loss: 0.3711 - accuracy: 0.86 - ETA: 6s - loss: 0.3698 - accuracy: 0.86 - ETA: 6s - loss: 0.3709 - accuracy: 0.86 - ETA: 6s - loss: 0.3709 - accuracy: 0.86 - ETA: 6s - loss: 0.3711 - accuracy: 0.86 - ETA: 6s - loss: 0.3702 - accuracy: 0.86 - ETA: 6s - loss: 0.3697 - accuracy: 0.86 - ETA: 6s - loss: 0.3686 - accuracy: 0.86 - ETA: 6s - loss: 0.3698 - accuracy: 0.86 - ETA: 6s - loss: 0.3706 - accuracy: 0.86 - ETA: 6s - loss: 0.3697 - accuracy: 0.86 - ETA: 6s - loss: 0.3696 - accuracy: 0.86 - ETA: 6s - loss: 0.3700 - accuracy: 0.86 - ETA: 6s - loss: 0.3715 - accuracy: 0.86 - ETA: 6s - loss: 0.3719 - accuracy: 0.86 - ETA: 6s - loss: 0.3727 - accuracy: 0.86 - ETA: 6s - loss: 0.3714 - accuracy: 0.86 - ETA: 5s - loss: 0.3709 - accuracy: 0.86 - ETA: 5s - loss: 0.3713 - accuracy: 0.86 - ETA: 5s - loss: 0.3712 - accuracy: 0.86 - ETA: 5s - loss: 0.3720 - accuracy: 0.86 - ETA: 5s - loss: 0.3729 - accuracy: 0.86 - ETA: 5s - loss: 0.3733 - accuracy: 0.86 - ETA: 5s - loss: 0.3731 - accuracy: 0.86 - ETA: 5s - loss: 0.3731 - accuracy: 0.86 - ETA: 5s - loss: 0.3730 - accuracy: 0.86 - ETA: 5s - loss: 0.3716 - accuracy: 0.86 - ETA: 5s - loss: 0.3710 - accuracy: 0.86 - ETA: 5s - loss: 0.3701 - accuracy: 0.86 - ETA: 5s - loss: 0.3699 - accuracy: 0.86 - ETA: 5s - loss: 0.3698 - accuracy: 0.86 - ETA: 5s - loss: 0.3700 - accuracy: 0.86 - ETA: 5s - loss: 0.3700 - accuracy: 0.86 - ETA: 5s - loss: 0.3705 - accuracy: 0.86 - ETA: 5s - loss: 0.3705 - accuracy: 0.86 - ETA: 5s - loss: 0.3704 - accuracy: 0.86 - ETA: 5s - loss: 0.3709 - accuracy: 0.86 - ETA: 4s - loss: 0.3702 - accuracy: 0.86 - ETA: 4s - loss: 0.3698 - accuracy: 0.86 - ETA: 4s - loss: 0.3703 - accuracy: 0.86 - ETA: 4s - loss: 0.3697 - accuracy: 0.86 - ETA: 4s - loss: 0.3691 - accuracy: 0.86 - ETA: 4s - loss: 0.3692 - accuracy: 0.86 - ETA: 4s - loss: 0.3688 - accuracy: 0.86 - ETA: 4s - loss: 0.3695 - accuracy: 0.86 - ETA: 4s - loss: 0.3693 - accuracy: 0.86 - ETA: 4s - loss: 0.3689 - accuracy: 0.86 - ETA: 4s - loss: 0.3687 - accuracy: 0.86 - ETA: 4s - loss: 0.3698 - accuracy: 0.86 - ETA: 4s - loss: 0.3702 - accuracy: 0.86 - ETA: 4s - loss: 0.3702 - accuracy: 0.86 - ETA: 4s - loss: 0.3702 - accuracy: 0.86 - ETA: 4s - loss: 0.3697 - accuracy: 0.86 - ETA: 4s - loss: 0.3694 - accuracy: 0.86 - ETA: 3s - loss: 0.3691 - accuracy: 0.86 - ETA: 3s - loss: 0.3687 - accuracy: 0.86 - ETA: 3s - loss: 0.3690 - accuracy: 0.86 - ETA: 3s - loss: 0.3692 - accuracy: 0.86 - ETA: 3s - loss: 0.3688 - accuracy: 0.86 - ETA: 3s - loss: 0.3686 - accuracy: 0.86 - ETA: 3s - loss: 0.3682 - accuracy: 0.86 - ETA: 3s - loss: 0.3677 - accuracy: 0.86 - ETA: 3s - loss: 0.3673 - accuracy: 0.86 - ETA: 3s - loss: 0.3669 - accuracy: 0.86 - ETA: 3s - loss: 0.3671 - accuracy: 0.86 - ETA: 3s - loss: 0.3666 - accuracy: 0.86 - ETA: 3s - loss: 0.3663 - accuracy: 0.86 - ETA: 3s - loss: 0.3662 - accuracy: 0.86 - ETA: 3s - loss: 0.3660 - accuracy: 0.86 - ETA: 3s - loss: 0.3657 - accuracy: 0.86 - ETA: 3s - loss: 0.3657 - accuracy: 0.86 - ETA: 3s - loss: 0.3660 - accuracy: 0.86 - ETA: 3s - loss: 0.3664 - accuracy: 0.86 - ETA: 3s - loss: 0.3662 - accuracy: 0.86 - ETA: 2s - loss: 0.3658 - accuracy: 0.86 - ETA: 2s - loss: 0.3661 - accuracy: 0.86 - ETA: 2s - loss: 0.3667 - accuracy: 0.86 - ETA: 2s - loss: 0.3668 - accuracy: 0.86 - ETA: 2s - loss: 0.3668 - accuracy: 0.86 - ETA: 2s - loss: 0.3667 - accuracy: 0.86 - ETA: 2s - loss: 0.3663 - accuracy: 0.86 - ETA: 2s - loss: 0.3659 - accuracy: 0.86 - ETA: 2s - loss: 0.3664 - accuracy: 0.86 - ETA: 2s - loss: 0.3664 - accuracy: 0.86 - ETA: 2s - loss: 0.3665 - accuracy: 0.86 - ETA: 2s - loss: 0.3662 - accuracy: 0.86 - ETA: 2s - loss: 0.3659 - accuracy: 0.86 - ETA: 2s - loss: 0.3660 - accuracy: 0.86 - ETA: 2s - loss: 0.3661 - accuracy: 0.86 - ETA: 2s - loss: 0.3660 - accuracy: 0.86 - ETA: 2s - loss: 0.3655 - accuracy: 0.86 - ETA: 2s - loss: 0.3650 - accuracy: 0.86 - ETA: 2s - loss: 0.3654 - accuracy: 0.86 - ETA: 2s - loss: 0.3653 - accuracy: 0.86 - ETA: 2s - loss: 0.3656 - accuracy: 0.86 - ETA: 2s - loss: 0.3653 - accuracy: 0.86 - ETA: 1s - loss: 0.3650 - accuracy: 0.86 - ETA: 1s - loss: 0.3652 - accuracy: 0.86 - ETA: 1s - loss: 0.3648 - accuracy: 0.86 - ETA: 1s - loss: 0.3645 - accuracy: 0.86 - ETA: 1s - loss: 0.3640 - accuracy: 0.86 - ETA: 1s - loss: 0.3637 - accuracy: 0.86 - ETA: 1s - loss: 0.3639 - accuracy: 0.86 - ETA: 1s - loss: 0.3634 - accuracy: 0.86 - ETA: 1s - loss: 0.3629 - accuracy: 0.86 - ETA: 1s - loss: 0.3630 - accuracy: 0.86 - ETA: 1s - loss: 0.3630 - accuracy: 0.86 - ETA: 1s - loss: 0.3629 - accuracy: 0.86 - ETA: 1s - loss: 0.3634 - accuracy: 0.86 - ETA: 1s - loss: 0.3633 - accuracy: 0.86 - ETA: 1s - loss: 0.3637 - accuracy: 0.86 - ETA: 1s - loss: 0.3637 - accuracy: 0.86 - ETA: 1s - loss: 0.3635 - accuracy: 0.86 - ETA: 1s - loss: 0.3631 - accuracy: 0.86 - ETA: 1s - loss: 0.3636 - accuracy: 0.86 - ETA: 1s - loss: 0.3639 - accuracy: 0.86 - ETA: 1s - loss: 0.3636 - accuracy: 0.86 - ETA: 1s - loss: 0.3632 - accuracy: 0.86 - ETA: 0s - loss: 0.3630 - accuracy: 0.86 - ETA: 0s - loss: 0.3631 - accuracy: 0.86 - ETA: 0s - loss: 0.3632 - accuracy: 0.86 - ETA: 0s - loss: 0.3634 - accuracy: 0.86 - ETA: 0s - loss: 0.3633 - accuracy: 0.86 - ETA: 0s - loss: 0.3630 - accuracy: 0.86 - ETA: 0s - loss: 0.3629 - accuracy: 0.86 - ETA: 0s - loss: 0.3628 - accuracy: 0.86 - ETA: 0s - loss: 0.3628 - accuracy: 0.86 - ETA: 0s - loss: 0.3626 - accuracy: 0.86 - ETA: 0s - loss: 0.3622 - accuracy: 0.86 - ETA: 0s - loss: 0.3622 - accuracy: 0.86 - ETA: 0s - loss: 0.3621 - accuracy: 0.86 - ETA: 0s - loss: 0.3622 - accuracy: 0.86 - ETA: 0s - loss: 0.3621 - accuracy: 0.86 - ETA: 0s - loss: 0.3618 - accuracy: 0.86 - ETA: 0s - loss: 0.3617 - accuracy: 0.86 - ETA: 0s - loss: 0.3619 - accuracy: 0.86 - ETA: 0s - loss: 0.3618 - accuracy: 0.86 - ETA: 0s - loss: 0.3619 - accuracy: 0.86 - ETA: 0s - loss: 0.3620 - accuracy: 0.86 - 11s 180us/sample - loss: 0.3621 - accuracy: 0.8677 - val_loss: 0.3624 - val_accuracy: 0.8675\n",
      "Epoch 3/10\n",
      "60000/60000 [==============================] - ETA: 9s - loss: 0.1822 - accuracy: 0.90 - ETA: 8s - loss: 0.2583 - accuracy: 0.89 - ETA: 8s - loss: 0.2825 - accuracy: 0.89 - ETA: 9s - loss: 0.2825 - accuracy: 0.89 - ETA: 8s - loss: 0.2952 - accuracy: 0.88 - ETA: 8s - loss: 0.2980 - accuracy: 0.88 - ETA: 8s - loss: 0.3021 - accuracy: 0.88 - ETA: 9s - loss: 0.3060 - accuracy: 0.88 - ETA: 9s - loss: 0.3070 - accuracy: 0.88 - ETA: 9s - loss: 0.3134 - accuracy: 0.87 - ETA: 9s - loss: 0.3165 - accuracy: 0.87 - ETA: 9s - loss: 0.3148 - accuracy: 0.87 - ETA: 9s - loss: 0.3138 - accuracy: 0.87 - ETA: 9s - loss: 0.3118 - accuracy: 0.87 - ETA: 9s - loss: 0.3048 - accuracy: 0.88 - ETA: 9s - loss: 0.3010 - accuracy: 0.88 - ETA: 9s - loss: 0.3068 - accuracy: 0.88 - ETA: 9s - loss: 0.3085 - accuracy: 0.88 - ETA: 9s - loss: 0.3095 - accuracy: 0.88 - ETA: 9s - loss: 0.3085 - accuracy: 0.88 - ETA: 9s - loss: 0.3100 - accuracy: 0.88 - ETA: 9s - loss: 0.3116 - accuracy: 0.88 - ETA: 9s - loss: 0.3100 - accuracy: 0.88 - ETA: 9s - loss: 0.3087 - accuracy: 0.88 - ETA: 9s - loss: 0.3100 - accuracy: 0.88 - ETA: 9s - loss: 0.3102 - accuracy: 0.88 - ETA: 9s - loss: 0.3099 - accuracy: 0.88 - ETA: 9s - loss: 0.3094 - accuracy: 0.88 - ETA: 8s - loss: 0.3126 - accuracy: 0.88 - ETA: 8s - loss: 0.3122 - accuracy: 0.88 - ETA: 8s - loss: 0.3182 - accuracy: 0.88 - ETA: 8s - loss: 0.3176 - accuracy: 0.88 - ETA: 8s - loss: 0.3171 - accuracy: 0.88 - ETA: 8s - loss: 0.3175 - accuracy: 0.88 - ETA: 8s - loss: 0.3206 - accuracy: 0.88 - ETA: 8s - loss: 0.3215 - accuracy: 0.88 - ETA: 8s - loss: 0.3212 - accuracy: 0.88 - ETA: 8s - loss: 0.3224 - accuracy: 0.88 - ETA: 8s - loss: 0.3229 - accuracy: 0.88 - ETA: 8s - loss: 0.3226 - accuracy: 0.88 - ETA: 8s - loss: 0.3242 - accuracy: 0.88 - ETA: 8s - loss: 0.3278 - accuracy: 0.87 - ETA: 8s - loss: 0.3292 - accuracy: 0.87 - ETA: 8s - loss: 0.3291 - accuracy: 0.87 - ETA: 8s - loss: 0.3301 - accuracy: 0.87 - ETA: 8s - loss: 0.3294 - accuracy: 0.87 - ETA: 8s - loss: 0.3275 - accuracy: 0.87 - ETA: 7s - loss: 0.3258 - accuracy: 0.87 - ETA: 7s - loss: 0.3233 - accuracy: 0.88 - ETA: 7s - loss: 0.3227 - accuracy: 0.88 - ETA: 7s - loss: 0.3228 - accuracy: 0.88 - ETA: 7s - loss: 0.3235 - accuracy: 0.88 - ETA: 7s - loss: 0.3228 - accuracy: 0.88 - ETA: 7s - loss: 0.3227 - accuracy: 0.88 - ETA: 7s - loss: 0.3212 - accuracy: 0.88 - ETA: 7s - loss: 0.3200 - accuracy: 0.88 - ETA: 7s - loss: 0.3213 - accuracy: 0.88 - ETA: 7s - loss: 0.3212 - accuracy: 0.88 - ETA: 7s - loss: 0.3209 - accuracy: 0.88 - ETA: 7s - loss: 0.3222 - accuracy: 0.88 - ETA: 7s - loss: 0.3230 - accuracy: 0.87 - ETA: 7s - loss: 0.3234 - accuracy: 0.87 - ETA: 7s - loss: 0.3241 - accuracy: 0.87 - ETA: 7s - loss: 0.3247 - accuracy: 0.87 - ETA: 7s - loss: 0.3243 - accuracy: 0.87 - ETA: 7s - loss: 0.3240 - accuracy: 0.87 - ETA: 6s - loss: 0.3241 - accuracy: 0.87 - ETA: 6s - loss: 0.3242 - accuracy: 0.87 - ETA: 6s - loss: 0.3245 - accuracy: 0.87 - ETA: 6s - loss: 0.3251 - accuracy: 0.87 - ETA: 6s - loss: 0.3253 - accuracy: 0.87 - ETA: 6s - loss: 0.3264 - accuracy: 0.87 - ETA: 6s - loss: 0.3256 - accuracy: 0.87 - ETA: 6s - loss: 0.3255 - accuracy: 0.87 - ETA: 6s - loss: 0.3262 - accuracy: 0.87 - ETA: 6s - loss: 0.3267 - accuracy: 0.87 - ETA: 6s - loss: 0.3259 - accuracy: 0.87 - ETA: 6s - loss: 0.3257 - accuracy: 0.87 - ETA: 6s - loss: 0.3261 - accuracy: 0.87 - ETA: 6s - loss: 0.3254 - accuracy: 0.87 - ETA: 6s - loss: 0.3262 - accuracy: 0.87 - ETA: 6s - loss: 0.3259 - accuracy: 0.87 - ETA: 6s - loss: 0.3256 - accuracy: 0.88 - ETA: 6s - loss: 0.3258 - accuracy: 0.87 - ETA: 5s - loss: 0.3255 - accuracy: 0.88 - ETA: 5s - loss: 0.3248 - accuracy: 0.88 - ETA: 5s - loss: 0.3247 - accuracy: 0.88 - ETA: 5s - loss: 0.3248 - accuracy: 0.88 - ETA: 5s - loss: 0.3248 - accuracy: 0.88 - ETA: 5s - loss: 0.3246 - accuracy: 0.88 - ETA: 5s - loss: 0.3254 - accuracy: 0.88 - ETA: 5s - loss: 0.3256 - accuracy: 0.88 - ETA: 5s - loss: 0.3265 - accuracy: 0.87 - ETA: 5s - loss: 0.3266 - accuracy: 0.87 - ETA: 5s - loss: 0.3267 - accuracy: 0.87 - ETA: 5s - loss: 0.3277 - accuracy: 0.87 - ETA: 5s - loss: 0.3273 - accuracy: 0.87 - ETA: 5s - loss: 0.3274 - accuracy: 0.87 - ETA: 5s - loss: 0.3275 - accuracy: 0.87 - ETA: 5s - loss: 0.3271 - accuracy: 0.87 - ETA: 4s - loss: 0.3263 - accuracy: 0.87 - ETA: 4s - loss: 0.3265 - accuracy: 0.87 - ETA: 4s - loss: 0.3268 - accuracy: 0.87 - ETA: 4s - loss: 0.3278 - accuracy: 0.87 - ETA: 4s - loss: 0.3275 - accuracy: 0.87 - ETA: 4s - loss: 0.3273 - accuracy: 0.87 - ETA: 4s - loss: 0.3272 - accuracy: 0.87 - ETA: 4s - loss: 0.3272 - accuracy: 0.87 - ETA: 4s - loss: 0.3275 - accuracy: 0.87 - ETA: 4s - loss: 0.3279 - accuracy: 0.87 - ETA: 4s - loss: 0.3280 - accuracy: 0.87 - ETA: 4s - loss: 0.3276 - accuracy: 0.87 - ETA: 4s - loss: 0.3276 - accuracy: 0.87 - ETA: 4s - loss: 0.3276 - accuracy: 0.87 - ETA: 4s - loss: 0.3275 - accuracy: 0.87 - ETA: 3s - loss: 0.3271 - accuracy: 0.87 - ETA: 3s - loss: 0.3275 - accuracy: 0.87 - ETA: 3s - loss: 0.3276 - accuracy: 0.87 - ETA: 3s - loss: 0.3278 - accuracy: 0.87 - ETA: 3s - loss: 0.3277 - accuracy: 0.87 - ETA: 3s - loss: 0.3276 - accuracy: 0.87 - ETA: 3s - loss: 0.3274 - accuracy: 0.87 - ETA: 3s - loss: 0.3272 - accuracy: 0.87 - ETA: 3s - loss: 0.3264 - accuracy: 0.88 - ETA: 3s - loss: 0.3262 - accuracy: 0.87 - ETA: 3s - loss: 0.3262 - accuracy: 0.87 - ETA: 3s - loss: 0.3261 - accuracy: 0.88 - ETA: 3s - loss: 0.3259 - accuracy: 0.88 - ETA: 3s - loss: 0.3258 - accuracy: 0.88 - ETA: 2s - loss: 0.3258 - accuracy: 0.88 - ETA: 2s - loss: 0.3256 - accuracy: 0.88 - ETA: 2s - loss: 0.3256 - accuracy: 0.88 - ETA: 2s - loss: 0.3257 - accuracy: 0.88 - ETA: 2s - loss: 0.3256 - accuracy: 0.88 - ETA: 2s - loss: 0.3255 - accuracy: 0.88 - ETA: 2s - loss: 0.3257 - accuracy: 0.88 - ETA: 2s - loss: 0.3252 - accuracy: 0.88 - ETA: 2s - loss: 0.3248 - accuracy: 0.88 - ETA: 2s - loss: 0.3247 - accuracy: 0.88 - ETA: 2s - loss: 0.3245 - accuracy: 0.88 - ETA: 2s - loss: 0.3247 - accuracy: 0.88 - ETA: 2s - loss: 0.3249 - accuracy: 0.88 - ETA: 2s - loss: 0.3247 - accuracy: 0.88 - ETA: 2s - loss: 0.3243 - accuracy: 0.88 - ETA: 2s - loss: 0.3240 - accuracy: 0.88 - ETA: 2s - loss: 0.3239 - accuracy: 0.88 - ETA: 2s - loss: 0.3235 - accuracy: 0.88 - ETA: 2s - loss: 0.3237 - accuracy: 0.88 - ETA: 2s - loss: 0.3236 - accuracy: 0.88 - ETA: 1s - loss: 0.3235 - accuracy: 0.88 - ETA: 1s - loss: 0.3237 - accuracy: 0.88 - ETA: 1s - loss: 0.3238 - accuracy: 0.88 - ETA: 1s - loss: 0.3234 - accuracy: 0.88 - ETA: 1s - loss: 0.3233 - accuracy: 0.88 - ETA: 1s - loss: 0.3230 - accuracy: 0.88 - ETA: 1s - loss: 0.3232 - accuracy: 0.88 - ETA: 1s - loss: 0.3231 - accuracy: 0.88 - ETA: 1s - loss: 0.3233 - accuracy: 0.88 - ETA: 1s - loss: 0.3231 - accuracy: 0.88 - ETA: 1s - loss: 0.3230 - accuracy: 0.88 - ETA: 1s - loss: 0.3231 - accuracy: 0.88 - ETA: 1s - loss: 0.3229 - accuracy: 0.88 - ETA: 1s - loss: 0.3231 - accuracy: 0.88 - ETA: 1s - loss: 0.3232 - accuracy: 0.88 - ETA: 1s - loss: 0.3232 - accuracy: 0.88 - ETA: 1s - loss: 0.3235 - accuracy: 0.88 - ETA: 1s - loss: 0.3236 - accuracy: 0.88 - ETA: 1s - loss: 0.3231 - accuracy: 0.88 - ETA: 1s - loss: 0.3231 - accuracy: 0.88 - ETA: 0s - loss: 0.3235 - accuracy: 0.88 - ETA: 0s - loss: 0.3236 - accuracy: 0.88 - ETA: 0s - loss: 0.3237 - accuracy: 0.88 - ETA: 0s - loss: 0.3242 - accuracy: 0.88 - ETA: 0s - loss: 0.3238 - accuracy: 0.88 - ETA: 0s - loss: 0.3238 - accuracy: 0.88 - ETA: 0s - loss: 0.3239 - accuracy: 0.88 - ETA: 0s - loss: 0.3234 - accuracy: 0.88 - ETA: 0s - loss: 0.3232 - accuracy: 0.88 - ETA: 0s - loss: 0.3231 - accuracy: 0.88 - ETA: 0s - loss: 0.3226 - accuracy: 0.88 - ETA: 0s - loss: 0.3225 - accuracy: 0.88 - ETA: 0s - loss: 0.3223 - accuracy: 0.88 - ETA: 0s - loss: 0.3225 - accuracy: 0.88 - ETA: 0s - loss: 0.3225 - accuracy: 0.88 - ETA: 0s - loss: 0.3227 - accuracy: 0.88 - ETA: 0s - loss: 0.3231 - accuracy: 0.88 - 11s 178us/sample - loss: 0.3235 - accuracy: 0.8805 - val_loss: 0.3797 - val_accuracy: 0.8638\n",
      "Epoch 4/10\n",
      "60000/60000 [==============================] - ETA: 8s - loss: 0.3692 - accuracy: 0.81 - ETA: 9s - loss: 0.2978 - accuracy: 0.90 - ETA: 9s - loss: 0.2684 - accuracy: 0.91 - ETA: 8s - loss: 0.2758 - accuracy: 0.90 - ETA: 8s - loss: 0.2766 - accuracy: 0.90 - ETA: 8s - loss: 0.2793 - accuracy: 0.90 - ETA: 8s - loss: 0.2963 - accuracy: 0.89 - ETA: 7s - loss: 0.3048 - accuracy: 0.89 - ETA: 7s - loss: 0.2984 - accuracy: 0.89 - ETA: 7s - loss: 0.3031 - accuracy: 0.88 - ETA: 7s - loss: 0.3026 - accuracy: 0.88 - ETA: 7s - loss: 0.3060 - accuracy: 0.88 - ETA: 7s - loss: 0.3060 - accuracy: 0.88 - ETA: 7s - loss: 0.3045 - accuracy: 0.88 - ETA: 7s - loss: 0.3042 - accuracy: 0.88 - ETA: 7s - loss: 0.3061 - accuracy: 0.88 - ETA: 7s - loss: 0.3070 - accuracy: 0.88 - ETA: 7s - loss: 0.3052 - accuracy: 0.88 - ETA: 7s - loss: 0.3074 - accuracy: 0.88 - ETA: 7s - loss: 0.3078 - accuracy: 0.88 - ETA: 7s - loss: 0.3088 - accuracy: 0.88 - ETA: 7s - loss: 0.3089 - accuracy: 0.88 - ETA: 6s - loss: 0.3090 - accuracy: 0.88 - ETA: 6s - loss: 0.3064 - accuracy: 0.88 - ETA: 6s - loss: 0.3061 - accuracy: 0.88 - ETA: 6s - loss: 0.3070 - accuracy: 0.88 - ETA: 6s - loss: 0.3081 - accuracy: 0.88 - ETA: 6s - loss: 0.3105 - accuracy: 0.88 - ETA: 6s - loss: 0.3129 - accuracy: 0.88 - ETA: 6s - loss: 0.3128 - accuracy: 0.88 - ETA: 6s - loss: 0.3113 - accuracy: 0.88 - ETA: 6s - loss: 0.3130 - accuracy: 0.88 - ETA: 6s - loss: 0.3151 - accuracy: 0.88 - ETA: 6s - loss: 0.3152 - accuracy: 0.88 - ETA: 6s - loss: 0.3141 - accuracy: 0.88 - ETA: 6s - loss: 0.3134 - accuracy: 0.88 - ETA: 6s - loss: 0.3135 - accuracy: 0.88 - ETA: 6s - loss: 0.3127 - accuracy: 0.88 - ETA: 6s - loss: 0.3127 - accuracy: 0.88 - ETA: 6s - loss: 0.3119 - accuracy: 0.88 - ETA: 6s - loss: 0.3108 - accuracy: 0.88 - ETA: 6s - loss: 0.3109 - accuracy: 0.88 - ETA: 6s - loss: 0.3102 - accuracy: 0.88 - ETA: 6s - loss: 0.3099 - accuracy: 0.88 - ETA: 6s - loss: 0.3105 - accuracy: 0.88 - ETA: 6s - loss: 0.3086 - accuracy: 0.88 - ETA: 6s - loss: 0.3088 - accuracy: 0.88 - ETA: 6s - loss: 0.3093 - accuracy: 0.88 - ETA: 6s - loss: 0.3100 - accuracy: 0.88 - ETA: 5s - loss: 0.3088 - accuracy: 0.88 - ETA: 5s - loss: 0.3078 - accuracy: 0.88 - ETA: 5s - loss: 0.3065 - accuracy: 0.88 - ETA: 5s - loss: 0.3051 - accuracy: 0.88 - ETA: 5s - loss: 0.3055 - accuracy: 0.88 - ETA: 5s - loss: 0.3053 - accuracy: 0.88 - ETA: 5s - loss: 0.3050 - accuracy: 0.88 - ETA: 5s - loss: 0.3057 - accuracy: 0.88 - ETA: 5s - loss: 0.3052 - accuracy: 0.88 - ETA: 5s - loss: 0.3049 - accuracy: 0.88 - ETA: 5s - loss: 0.3054 - accuracy: 0.88 - ETA: 5s - loss: 0.3053 - accuracy: 0.88 - ETA: 5s - loss: 0.3049 - accuracy: 0.88 - ETA: 5s - loss: 0.3050 - accuracy: 0.88 - ETA: 5s - loss: 0.3043 - accuracy: 0.88 - ETA: 5s - loss: 0.3036 - accuracy: 0.88 - ETA: 5s - loss: 0.3029 - accuracy: 0.88 - ETA: 5s - loss: 0.3015 - accuracy: 0.88 - ETA: 5s - loss: 0.3014 - accuracy: 0.88 - ETA: 5s - loss: 0.3003 - accuracy: 0.88 - ETA: 4s - loss: 0.2992 - accuracy: 0.88 - ETA: 4s - loss: 0.2989 - accuracy: 0.88 - ETA: 4s - loss: 0.2988 - accuracy: 0.88 - ETA: 4s - loss: 0.2993 - accuracy: 0.88 - ETA: 4s - loss: 0.2988 - accuracy: 0.88 - ETA: 4s - loss: 0.2998 - accuracy: 0.88 - ETA: 4s - loss: 0.3006 - accuracy: 0.88 - ETA: 4s - loss: 0.2990 - accuracy: 0.88 - ETA: 4s - loss: 0.2984 - accuracy: 0.88 - ETA: 4s - loss: 0.2977 - accuracy: 0.88 - ETA: 4s - loss: 0.2981 - accuracy: 0.88 - ETA: 4s - loss: 0.2981 - accuracy: 0.88 - ETA: 4s - loss: 0.2982 - accuracy: 0.88 - ETA: 4s - loss: 0.2979 - accuracy: 0.88 - ETA: 4s - loss: 0.2980 - accuracy: 0.88 - ETA: 4s - loss: 0.2981 - accuracy: 0.88 - ETA: 4s - loss: 0.2981 - accuracy: 0.88 - ETA: 4s - loss: 0.2979 - accuracy: 0.88 - ETA: 4s - loss: 0.2980 - accuracy: 0.88 - ETA: 4s - loss: 0.2984 - accuracy: 0.88 - ETA: 4s - loss: 0.2989 - accuracy: 0.88 - ETA: 4s - loss: 0.2991 - accuracy: 0.88 - ETA: 4s - loss: 0.2987 - accuracy: 0.88 - ETA: 4s - loss: 0.2976 - accuracy: 0.88 - ETA: 4s - loss: 0.2980 - accuracy: 0.88 - ETA: 4s - loss: 0.2982 - accuracy: 0.88 - ETA: 4s - loss: 0.2981 - accuracy: 0.88 - ETA: 4s - loss: 0.2983 - accuracy: 0.88 - ETA: 4s - loss: 0.2992 - accuracy: 0.88 - ETA: 4s - loss: 0.2987 - accuracy: 0.88 - ETA: 4s - loss: 0.2986 - accuracy: 0.88 - ETA: 4s - loss: 0.2985 - accuracy: 0.88 - ETA: 3s - loss: 0.2990 - accuracy: 0.88 - ETA: 3s - loss: 0.2992 - accuracy: 0.88 - ETA: 3s - loss: 0.2993 - accuracy: 0.88 - ETA: 3s - loss: 0.2992 - accuracy: 0.88 - ETA: 3s - loss: 0.2995 - accuracy: 0.88 - ETA: 3s - loss: 0.2993 - accuracy: 0.88 - ETA: 3s - loss: 0.2992 - accuracy: 0.88 - ETA: 3s - loss: 0.2999 - accuracy: 0.88 - ETA: 3s - loss: 0.3004 - accuracy: 0.88 - ETA: 3s - loss: 0.3009 - accuracy: 0.88 - ETA: 3s - loss: 0.3006 - accuracy: 0.88 - ETA: 3s - loss: 0.2998 - accuracy: 0.88 - ETA: 3s - loss: 0.2999 - accuracy: 0.88 - ETA: 3s - loss: 0.2996 - accuracy: 0.88 - ETA: 3s - loss: 0.2997 - accuracy: 0.88 - ETA: 3s - loss: 0.2995 - accuracy: 0.88 - ETA: 2s - loss: 0.2994 - accuracy: 0.88 - ETA: 2s - loss: 0.2992 - accuracy: 0.88 - ETA: 2s - loss: 0.2994 - accuracy: 0.88 - ETA: 2s - loss: 0.2994 - accuracy: 0.88 - ETA: 2s - loss: 0.2995 - accuracy: 0.88 - ETA: 2s - loss: 0.2992 - accuracy: 0.88 - ETA: 2s - loss: 0.2999 - accuracy: 0.88 - ETA: 2s - loss: 0.3005 - accuracy: 0.88 - ETA: 2s - loss: 0.3005 - accuracy: 0.88 - ETA: 2s - loss: 0.3001 - accuracy: 0.88 - ETA: 2s - loss: 0.3004 - accuracy: 0.88 - ETA: 2s - loss: 0.3003 - accuracy: 0.88 - ETA: 2s - loss: 0.3001 - accuracy: 0.88 - ETA: 2s - loss: 0.3004 - accuracy: 0.88 - ETA: 2s - loss: 0.3004 - accuracy: 0.88 - ETA: 2s - loss: 0.3005 - accuracy: 0.88 - ETA: 2s - loss: 0.3003 - accuracy: 0.88 - ETA: 1s - loss: 0.3000 - accuracy: 0.88 - ETA: 1s - loss: 0.3002 - accuracy: 0.88 - ETA: 1s - loss: 0.3001 - accuracy: 0.88 - ETA: 1s - loss: 0.2998 - accuracy: 0.88 - ETA: 1s - loss: 0.2999 - accuracy: 0.88 - ETA: 1s - loss: 0.2998 - accuracy: 0.88 - ETA: 1s - loss: 0.2996 - accuracy: 0.88 - ETA: 1s - loss: 0.2992 - accuracy: 0.88 - ETA: 1s - loss: 0.2987 - accuracy: 0.88 - ETA: 1s - loss: 0.2991 - accuracy: 0.88 - ETA: 1s - loss: 0.2992 - accuracy: 0.88 - ETA: 1s - loss: 0.2991 - accuracy: 0.88 - ETA: 1s - loss: 0.2983 - accuracy: 0.88 - ETA: 1s - loss: 0.2981 - accuracy: 0.88 - ETA: 1s - loss: 0.2983 - accuracy: 0.88 - ETA: 1s - loss: 0.2984 - accuracy: 0.88 - ETA: 0s - loss: 0.2988 - accuracy: 0.88 - ETA: 0s - loss: 0.2988 - accuracy: 0.88 - ETA: 0s - loss: 0.2991 - accuracy: 0.88 - ETA: 0s - loss: 0.2994 - accuracy: 0.88 - ETA: 0s - loss: 0.2996 - accuracy: 0.88 - ETA: 0s - loss: 0.2999 - accuracy: 0.88 - ETA: 0s - loss: 0.2993 - accuracy: 0.88 - ETA: 0s - loss: 0.2997 - accuracy: 0.88 - ETA: 0s - loss: 0.2996 - accuracy: 0.88 - ETA: 0s - loss: 0.2998 - accuracy: 0.88 - ETA: 0s - loss: 0.2998 - accuracy: 0.88 - ETA: 0s - loss: 0.2995 - accuracy: 0.88 - ETA: 0s - loss: 0.2996 - accuracy: 0.88 - ETA: 0s - loss: 0.2998 - accuracy: 0.88 - ETA: 0s - loss: 0.2995 - accuracy: 0.88 - ETA: 0s - loss: 0.2993 - accuracy: 0.88 - ETA: 0s - loss: 0.2991 - accuracy: 0.88 - ETA: 0s - loss: 0.2991 - accuracy: 0.88 - 9s 158us/sample - loss: 0.2991 - accuracy: 0.8892 - val_loss: 0.4176 - val_accuracy: 0.8493\n",
      "Epoch 5/10\n",
      "60000/60000 [==============================] - ETA: 10s - loss: 0.2902 - accuracy: 0.906 - ETA: 9s - loss: 0.2529 - accuracy: 0.906 - ETA: 9s - loss: 0.2922 - accuracy: 0.88 - ETA: 9s - loss: 0.2930 - accuracy: 0.89 - ETA: 8s - loss: 0.2742 - accuracy: 0.89 - ETA: 8s - loss: 0.2676 - accuracy: 0.89 - ETA: 8s - loss: 0.2628 - accuracy: 0.89 - ETA: 9s - loss: 0.2718 - accuracy: 0.89 - ETA: 8s - loss: 0.2686 - accuracy: 0.89 - ETA: 8s - loss: 0.2659 - accuracy: 0.89 - ETA: 8s - loss: 0.2668 - accuracy: 0.90 - ETA: 8s - loss: 0.2695 - accuracy: 0.90 - ETA: 8s - loss: 0.2704 - accuracy: 0.90 - ETA: 8s - loss: 0.2711 - accuracy: 0.90 - ETA: 8s - loss: 0.2674 - accuracy: 0.90 - ETA: 8s - loss: 0.2651 - accuracy: 0.90 - ETA: 9s - loss: 0.2664 - accuracy: 0.90 - ETA: 8s - loss: 0.2719 - accuracy: 0.89 - ETA: 8s - loss: 0.2750 - accuracy: 0.89 - ETA: 8s - loss: 0.2732 - accuracy: 0.89 - ETA: 8s - loss: 0.2711 - accuracy: 0.89 - ETA: 8s - loss: 0.2710 - accuracy: 0.89 - ETA: 8s - loss: 0.2716 - accuracy: 0.89 - ETA: 8s - loss: 0.2726 - accuracy: 0.89 - ETA: 8s - loss: 0.2719 - accuracy: 0.89 - ETA: 8s - loss: 0.2718 - accuracy: 0.89 - ETA: 8s - loss: 0.2725 - accuracy: 0.89 - ETA: 8s - loss: 0.2722 - accuracy: 0.89 - ETA: 8s - loss: 0.2715 - accuracy: 0.89 - ETA: 7s - loss: 0.2732 - accuracy: 0.89 - ETA: 7s - loss: 0.2740 - accuracy: 0.89 - ETA: 7s - loss: 0.2735 - accuracy: 0.89 - ETA: 7s - loss: 0.2733 - accuracy: 0.89 - ETA: 7s - loss: 0.2748 - accuracy: 0.89 - ETA: 7s - loss: 0.2757 - accuracy: 0.89 - ETA: 7s - loss: 0.2752 - accuracy: 0.89 - ETA: 7s - loss: 0.2754 - accuracy: 0.89 - ETA: 7s - loss: 0.2758 - accuracy: 0.89 - ETA: 7s - loss: 0.2762 - accuracy: 0.89 - ETA: 7s - loss: 0.2752 - accuracy: 0.89 - ETA: 7s - loss: 0.2755 - accuracy: 0.89 - ETA: 7s - loss: 0.2777 - accuracy: 0.89 - ETA: 7s - loss: 0.2778 - accuracy: 0.89 - ETA: 7s - loss: 0.2776 - accuracy: 0.89 - ETA: 7s - loss: 0.2762 - accuracy: 0.89 - ETA: 6s - loss: 0.2740 - accuracy: 0.89 - ETA: 6s - loss: 0.2765 - accuracy: 0.89 - ETA: 6s - loss: 0.2773 - accuracy: 0.89 - ETA: 6s - loss: 0.2776 - accuracy: 0.89 - ETA: 6s - loss: 0.2772 - accuracy: 0.89 - ETA: 6s - loss: 0.2771 - accuracy: 0.89 - ETA: 6s - loss: 0.2775 - accuracy: 0.89 - ETA: 6s - loss: 0.2791 - accuracy: 0.89 - ETA: 6s - loss: 0.2800 - accuracy: 0.89 - ETA: 6s - loss: 0.2796 - accuracy: 0.89 - ETA: 6s - loss: 0.2792 - accuracy: 0.89 - ETA: 6s - loss: 0.2802 - accuracy: 0.89 - ETA: 6s - loss: 0.2799 - accuracy: 0.89 - ETA: 6s - loss: 0.2805 - accuracy: 0.89 - ETA: 6s - loss: 0.2793 - accuracy: 0.89 - ETA: 6s - loss: 0.2791 - accuracy: 0.89 - ETA: 6s - loss: 0.2794 - accuracy: 0.89 - ETA: 6s - loss: 0.2802 - accuracy: 0.89 - ETA: 6s - loss: 0.2811 - accuracy: 0.89 - ETA: 6s - loss: 0.2812 - accuracy: 0.89 - ETA: 6s - loss: 0.2813 - accuracy: 0.89 - ETA: 6s - loss: 0.2822 - accuracy: 0.89 - ETA: 5s - loss: 0.2817 - accuracy: 0.89 - ETA: 5s - loss: 0.2823 - accuracy: 0.89 - ETA: 5s - loss: 0.2821 - accuracy: 0.89 - ETA: 5s - loss: 0.2814 - accuracy: 0.89 - ETA: 5s - loss: 0.2817 - accuracy: 0.89 - ETA: 5s - loss: 0.2823 - accuracy: 0.89 - ETA: 5s - loss: 0.2826 - accuracy: 0.89 - ETA: 5s - loss: 0.2821 - accuracy: 0.89 - ETA: 5s - loss: 0.2824 - accuracy: 0.89 - ETA: 5s - loss: 0.2828 - accuracy: 0.89 - ETA: 5s - loss: 0.2828 - accuracy: 0.89 - ETA: 5s - loss: 0.2825 - accuracy: 0.89 - ETA: 5s - loss: 0.2828 - accuracy: 0.89 - ETA: 5s - loss: 0.2833 - accuracy: 0.89 - ETA: 5s - loss: 0.2829 - accuracy: 0.89 - ETA: 5s - loss: 0.2828 - accuracy: 0.89 - ETA: 5s - loss: 0.2832 - accuracy: 0.89 - ETA: 5s - loss: 0.2825 - accuracy: 0.89 - ETA: 5s - loss: 0.2823 - accuracy: 0.89 - ETA: 5s - loss: 0.2814 - accuracy: 0.89 - ETA: 4s - loss: 0.2816 - accuracy: 0.89 - ETA: 4s - loss: 0.2825 - accuracy: 0.89 - ETA: 4s - loss: 0.2825 - accuracy: 0.89 - ETA: 4s - loss: 0.2825 - accuracy: 0.89 - ETA: 4s - loss: 0.2827 - accuracy: 0.89 - ETA: 4s - loss: 0.2825 - accuracy: 0.89 - ETA: 4s - loss: 0.2826 - accuracy: 0.89 - ETA: 4s - loss: 0.2831 - accuracy: 0.89 - ETA: 4s - loss: 0.2831 - accuracy: 0.89 - ETA: 4s - loss: 0.2832 - accuracy: 0.89 - ETA: 4s - loss: 0.2834 - accuracy: 0.89 - ETA: 4s - loss: 0.2829 - accuracy: 0.89 - ETA: 4s - loss: 0.2826 - accuracy: 0.89 - ETA: 4s - loss: 0.2825 - accuracy: 0.89 - ETA: 4s - loss: 0.2823 - accuracy: 0.89 - ETA: 4s - loss: 0.2820 - accuracy: 0.89 - ETA: 4s - loss: 0.2823 - accuracy: 0.89 - ETA: 3s - loss: 0.2827 - accuracy: 0.89 - ETA: 3s - loss: 0.2827 - accuracy: 0.89 - ETA: 3s - loss: 0.2827 - accuracy: 0.89 - ETA: 3s - loss: 0.2825 - accuracy: 0.89 - ETA: 3s - loss: 0.2821 - accuracy: 0.89 - ETA: 3s - loss: 0.2825 - accuracy: 0.89 - ETA: 3s - loss: 0.2824 - accuracy: 0.89 - ETA: 3s - loss: 0.2827 - accuracy: 0.89 - ETA: 3s - loss: 0.2824 - accuracy: 0.89 - ETA: 3s - loss: 0.2821 - accuracy: 0.89 - ETA: 3s - loss: 0.2820 - accuracy: 0.89 - ETA: 3s - loss: 0.2821 - accuracy: 0.89 - ETA: 3s - loss: 0.2821 - accuracy: 0.89 - ETA: 3s - loss: 0.2823 - accuracy: 0.89 - ETA: 3s - loss: 0.2829 - accuracy: 0.89 - ETA: 3s - loss: 0.2825 - accuracy: 0.89 - ETA: 3s - loss: 0.2823 - accuracy: 0.89 - ETA: 2s - loss: 0.2826 - accuracy: 0.89 - ETA: 2s - loss: 0.2827 - accuracy: 0.89 - ETA: 2s - loss: 0.2824 - accuracy: 0.89 - ETA: 2s - loss: 0.2823 - accuracy: 0.89 - ETA: 2s - loss: 0.2827 - accuracy: 0.89 - ETA: 2s - loss: 0.2820 - accuracy: 0.89 - ETA: 2s - loss: 0.2821 - accuracy: 0.89 - ETA: 2s - loss: 0.2818 - accuracy: 0.89 - ETA: 2s - loss: 0.2821 - accuracy: 0.89 - ETA: 2s - loss: 0.2823 - accuracy: 0.89 - ETA: 2s - loss: 0.2829 - accuracy: 0.89 - ETA: 2s - loss: 0.2829 - accuracy: 0.89 - ETA: 2s - loss: 0.2826 - accuracy: 0.89 - ETA: 1s - loss: 0.2821 - accuracy: 0.89 - ETA: 1s - loss: 0.2821 - accuracy: 0.89 - ETA: 1s - loss: 0.2825 - accuracy: 0.89 - ETA: 1s - loss: 0.2826 - accuracy: 0.89 - ETA: 1s - loss: 0.2826 - accuracy: 0.89 - ETA: 1s - loss: 0.2827 - accuracy: 0.89 - ETA: 1s - loss: 0.2831 - accuracy: 0.89 - ETA: 1s - loss: 0.2832 - accuracy: 0.89 - ETA: 1s - loss: 0.2827 - accuracy: 0.89 - ETA: 1s - loss: 0.2826 - accuracy: 0.89 - ETA: 1s - loss: 0.2827 - accuracy: 0.89 - ETA: 1s - loss: 0.2821 - accuracy: 0.89 - ETA: 1s - loss: 0.2816 - accuracy: 0.89 - ETA: 1s - loss: 0.2820 - accuracy: 0.89 - ETA: 1s - loss: 0.2818 - accuracy: 0.89 - ETA: 0s - loss: 0.2822 - accuracy: 0.89 - ETA: 0s - loss: 0.2822 - accuracy: 0.89 - ETA: 0s - loss: 0.2818 - accuracy: 0.89 - ETA: 0s - loss: 0.2820 - accuracy: 0.89 - ETA: 0s - loss: 0.2820 - accuracy: 0.89 - ETA: 0s - loss: 0.2824 - accuracy: 0.89 - ETA: 0s - loss: 0.2824 - accuracy: 0.89 - ETA: 0s - loss: 0.2824 - accuracy: 0.89 - ETA: 0s - loss: 0.2822 - accuracy: 0.89 - ETA: 0s - loss: 0.2820 - accuracy: 0.89 - ETA: 0s - loss: 0.2817 - accuracy: 0.89 - ETA: 0s - loss: 0.2817 - accuracy: 0.89 - ETA: 0s - loss: 0.2816 - accuracy: 0.89 - ETA: 0s - loss: 0.2819 - accuracy: 0.89 - ETA: 0s - loss: 0.2817 - accuracy: 0.89 - ETA: 0s - loss: 0.2817 - accuracy: 0.89 - ETA: 0s - loss: 0.2817 - accuracy: 0.89 - ETA: 0s - loss: 0.2816 - accuracy: 0.89 - ETA: 0s - loss: 0.2812 - accuracy: 0.89 - ETA: 0s - loss: 0.2813 - accuracy: 0.89 - ETA: 0s - loss: 0.2814 - accuracy: 0.89 - 10s 162us/sample - loss: 0.2813 - accuracy: 0.8951 - val_loss: 0.3644 - val_accuracy: 0.8698\n",
      "Epoch 6/10\n",
      "60000/60000 [==============================] - ETA: 12s - loss: 0.1653 - accuracy: 0.937 - ETA: 8s - loss: 0.2895 - accuracy: 0.888 - ETA: 8s - loss: 0.2660 - accuracy: 0.90 - ETA: 7s - loss: 0.2843 - accuracy: 0.89 - ETA: 7s - loss: 0.2757 - accuracy: 0.89 - ETA: 7s - loss: 0.2764 - accuracy: 0.89 - ETA: 7s - loss: 0.2714 - accuracy: 0.90 - ETA: 7s - loss: 0.2693 - accuracy: 0.90 - ETA: 7s - loss: 0.2751 - accuracy: 0.89 - ETA: 7s - loss: 0.2764 - accuracy: 0.90 - ETA: 7s - loss: 0.2747 - accuracy: 0.90 - ETA: 7s - loss: 0.2748 - accuracy: 0.90 - ETA: 7s - loss: 0.2776 - accuracy: 0.89 - ETA: 7s - loss: 0.2741 - accuracy: 0.90 - ETA: 7s - loss: 0.2683 - accuracy: 0.90 - ETA: 7s - loss: 0.2679 - accuracy: 0.90 - ETA: 7s - loss: 0.2662 - accuracy: 0.90 - ETA: 7s - loss: 0.2661 - accuracy: 0.90 - ETA: 7s - loss: 0.2635 - accuracy: 0.90 - ETA: 7s - loss: 0.2645 - accuracy: 0.90 - ETA: 7s - loss: 0.2648 - accuracy: 0.90 - ETA: 7s - loss: 0.2640 - accuracy: 0.90 - ETA: 7s - loss: 0.2601 - accuracy: 0.90 - ETA: 7s - loss: 0.2580 - accuracy: 0.90 - ETA: 6s - loss: 0.2558 - accuracy: 0.90 - ETA: 6s - loss: 0.2559 - accuracy: 0.90 - ETA: 6s - loss: 0.2560 - accuracy: 0.90 - ETA: 6s - loss: 0.2582 - accuracy: 0.90 - ETA: 6s - loss: 0.2581 - accuracy: 0.90 - ETA: 6s - loss: 0.2580 - accuracy: 0.90 - ETA: 6s - loss: 0.2583 - accuracy: 0.90 - ETA: 6s - loss: 0.2597 - accuracy: 0.90 - ETA: 6s - loss: 0.2594 - accuracy: 0.90 - ETA: 6s - loss: 0.2599 - accuracy: 0.90 - ETA: 6s - loss: 0.2595 - accuracy: 0.90 - ETA: 6s - loss: 0.2611 - accuracy: 0.90 - ETA: 6s - loss: 0.2603 - accuracy: 0.90 - ETA: 6s - loss: 0.2611 - accuracy: 0.90 - ETA: 6s - loss: 0.2603 - accuracy: 0.90 - ETA: 6s - loss: 0.2607 - accuracy: 0.90 - ETA: 6s - loss: 0.2589 - accuracy: 0.90 - ETA: 6s - loss: 0.2594 - accuracy: 0.90 - ETA: 6s - loss: 0.2592 - accuracy: 0.90 - ETA: 6s - loss: 0.2608 - accuracy: 0.90 - ETA: 6s - loss: 0.2610 - accuracy: 0.90 - ETA: 6s - loss: 0.2612 - accuracy: 0.90 - ETA: 5s - loss: 0.2612 - accuracy: 0.90 - ETA: 5s - loss: 0.2612 - accuracy: 0.90 - ETA: 5s - loss: 0.2611 - accuracy: 0.90 - ETA: 5s - loss: 0.2616 - accuracy: 0.90 - ETA: 5s - loss: 0.2618 - accuracy: 0.90 - ETA: 5s - loss: 0.2609 - accuracy: 0.90 - ETA: 5s - loss: 0.2610 - accuracy: 0.90 - ETA: 5s - loss: 0.2612 - accuracy: 0.90 - ETA: 5s - loss: 0.2607 - accuracy: 0.90 - ETA: 5s - loss: 0.2602 - accuracy: 0.90 - ETA: 5s - loss: 0.2610 - accuracy: 0.90 - ETA: 5s - loss: 0.2615 - accuracy: 0.90 - ETA: 5s - loss: 0.2611 - accuracy: 0.90 - ETA: 5s - loss: 0.2613 - accuracy: 0.90 - ETA: 5s - loss: 0.2622 - accuracy: 0.90 - ETA: 5s - loss: 0.2624 - accuracy: 0.90 - ETA: 5s - loss: 0.2627 - accuracy: 0.90 - ETA: 5s - loss: 0.2624 - accuracy: 0.90 - ETA: 5s - loss: 0.2625 - accuracy: 0.90 - ETA: 4s - loss: 0.2629 - accuracy: 0.90 - ETA: 4s - loss: 0.2626 - accuracy: 0.90 - ETA: 4s - loss: 0.2629 - accuracy: 0.90 - ETA: 4s - loss: 0.2626 - accuracy: 0.90 - ETA: 4s - loss: 0.2616 - accuracy: 0.90 - ETA: 4s - loss: 0.2617 - accuracy: 0.90 - ETA: 4s - loss: 0.2621 - accuracy: 0.90 - ETA: 4s - loss: 0.2611 - accuracy: 0.90 - ETA: 4s - loss: 0.2613 - accuracy: 0.90 - ETA: 4s - loss: 0.2609 - accuracy: 0.90 - ETA: 4s - loss: 0.2609 - accuracy: 0.90 - ETA: 4s - loss: 0.2616 - accuracy: 0.90 - ETA: 4s - loss: 0.2621 - accuracy: 0.90 - ETA: 4s - loss: 0.2619 - accuracy: 0.90 - ETA: 4s - loss: 0.2621 - accuracy: 0.90 - ETA: 4s - loss: 0.2615 - accuracy: 0.90 - ETA: 4s - loss: 0.2618 - accuracy: 0.90 - ETA: 4s - loss: 0.2622 - accuracy: 0.90 - ETA: 4s - loss: 0.2622 - accuracy: 0.90 - ETA: 4s - loss: 0.2616 - accuracy: 0.90 - ETA: 4s - loss: 0.2616 - accuracy: 0.90 - ETA: 4s - loss: 0.2622 - accuracy: 0.90 - ETA: 3s - loss: 0.2622 - accuracy: 0.90 - ETA: 3s - loss: 0.2624 - accuracy: 0.90 - ETA: 3s - loss: 0.2630 - accuracy: 0.90 - ETA: 3s - loss: 0.2631 - accuracy: 0.90 - ETA: 3s - loss: 0.2633 - accuracy: 0.90 - ETA: 3s - loss: 0.2631 - accuracy: 0.90 - ETA: 3s - loss: 0.2629 - accuracy: 0.90 - ETA: 3s - loss: 0.2628 - accuracy: 0.90 - ETA: 3s - loss: 0.2626 - accuracy: 0.90 - ETA: 3s - loss: 0.2627 - accuracy: 0.90 - ETA: 3s - loss: 0.2623 - accuracy: 0.90 - ETA: 3s - loss: 0.2622 - accuracy: 0.90 - ETA: 3s - loss: 0.2616 - accuracy: 0.90 - ETA: 3s - loss: 0.2630 - accuracy: 0.90 - ETA: 3s - loss: 0.2632 - accuracy: 0.90 - ETA: 3s - loss: 0.2626 - accuracy: 0.90 - ETA: 3s - loss: 0.2632 - accuracy: 0.90 - ETA: 3s - loss: 0.2632 - accuracy: 0.90 - ETA: 2s - loss: 0.2636 - accuracy: 0.90 - ETA: 2s - loss: 0.2646 - accuracy: 0.90 - ETA: 2s - loss: 0.2646 - accuracy: 0.90 - ETA: 2s - loss: 0.2649 - accuracy: 0.90 - ETA: 2s - loss: 0.2655 - accuracy: 0.90 - ETA: 2s - loss: 0.2651 - accuracy: 0.90 - ETA: 2s - loss: 0.2645 - accuracy: 0.90 - ETA: 2s - loss: 0.2646 - accuracy: 0.90 - ETA: 2s - loss: 0.2646 - accuracy: 0.90 - ETA: 2s - loss: 0.2649 - accuracy: 0.90 - ETA: 2s - loss: 0.2654 - accuracy: 0.90 - ETA: 2s - loss: 0.2650 - accuracy: 0.90 - ETA: 2s - loss: 0.2652 - accuracy: 0.90 - ETA: 2s - loss: 0.2647 - accuracy: 0.90 - ETA: 2s - loss: 0.2651 - accuracy: 0.90 - ETA: 2s - loss: 0.2660 - accuracy: 0.90 - ETA: 2s - loss: 0.2665 - accuracy: 0.90 - ETA: 1s - loss: 0.2663 - accuracy: 0.90 - ETA: 1s - loss: 0.2661 - accuracy: 0.90 - ETA: 1s - loss: 0.2661 - accuracy: 0.90 - ETA: 1s - loss: 0.2662 - accuracy: 0.90 - ETA: 1s - loss: 0.2661 - accuracy: 0.90 - ETA: 1s - loss: 0.2664 - accuracy: 0.90 - ETA: 1s - loss: 0.2666 - accuracy: 0.90 - ETA: 1s - loss: 0.2660 - accuracy: 0.90 - ETA: 1s - loss: 0.2660 - accuracy: 0.90 - ETA: 1s - loss: 0.2660 - accuracy: 0.90 - ETA: 1s - loss: 0.2658 - accuracy: 0.90 - ETA: 1s - loss: 0.2656 - accuracy: 0.90 - ETA: 1s - loss: 0.2657 - accuracy: 0.90 - ETA: 1s - loss: 0.2655 - accuracy: 0.90 - ETA: 1s - loss: 0.2654 - accuracy: 0.90 - ETA: 1s - loss: 0.2653 - accuracy: 0.90 - ETA: 1s - loss: 0.2654 - accuracy: 0.90 - ETA: 1s - loss: 0.2656 - accuracy: 0.90 - ETA: 0s - loss: 0.2656 - accuracy: 0.90 - ETA: 0s - loss: 0.2659 - accuracy: 0.90 - ETA: 0s - loss: 0.2659 - accuracy: 0.90 - ETA: 0s - loss: 0.2657 - accuracy: 0.90 - ETA: 0s - loss: 0.2657 - accuracy: 0.90 - ETA: 0s - loss: 0.2658 - accuracy: 0.90 - ETA: 0s - loss: 0.2663 - accuracy: 0.90 - ETA: 0s - loss: 0.2661 - accuracy: 0.90 - ETA: 0s - loss: 0.2662 - accuracy: 0.90 - ETA: 0s - loss: 0.2664 - accuracy: 0.90 - ETA: 0s - loss: 0.2666 - accuracy: 0.90 - ETA: 0s - loss: 0.2664 - accuracy: 0.90 - ETA: 0s - loss: 0.2664 - accuracy: 0.90 - ETA: 0s - loss: 0.2666 - accuracy: 0.90 - ETA: 0s - loss: 0.2668 - accuracy: 0.90 - ETA: 0s - loss: 0.2670 - accuracy: 0.90 - ETA: 0s - loss: 0.2668 - accuracy: 0.90 - ETA: 0s - loss: 0.2663 - accuracy: 0.90 - ETA: 0s - loss: 0.2666 - accuracy: 0.90 - 9s 150us/sample - loss: 0.2666 - accuracy: 0.9005 - val_loss: 0.3373 - val_accuracy: 0.8773\n",
      "Epoch 7/10\n",
      "60000/60000 [==============================] - ETA: 7s - loss: 0.4280 - accuracy: 0.90 - ETA: 9s - loss: 0.2123 - accuracy: 0.92 - ETA: 7s - loss: 0.2285 - accuracy: 0.90 - ETA: 7s - loss: 0.2423 - accuracy: 0.91 - ETA: 7s - loss: 0.2470 - accuracy: 0.90 - ETA: 8s - loss: 0.2490 - accuracy: 0.90 - ETA: 8s - loss: 0.2435 - accuracy: 0.91 - ETA: 8s - loss: 0.2487 - accuracy: 0.91 - ETA: 7s - loss: 0.2496 - accuracy: 0.91 - ETA: 8s - loss: 0.2558 - accuracy: 0.90 - ETA: 7s - loss: 0.2538 - accuracy: 0.90 - ETA: 7s - loss: 0.2516 - accuracy: 0.90 - ETA: 7s - loss: 0.2488 - accuracy: 0.90 - ETA: 7s - loss: 0.2515 - accuracy: 0.90 - ETA: 7s - loss: 0.2538 - accuracy: 0.90 - ETA: 7s - loss: 0.2505 - accuracy: 0.90 - ETA: 6s - loss: 0.2496 - accuracy: 0.90 - ETA: 6s - loss: 0.2491 - accuracy: 0.90 - ETA: 6s - loss: 0.2495 - accuracy: 0.90 - ETA: 6s - loss: 0.2500 - accuracy: 0.90 - ETA: 6s - loss: 0.2492 - accuracy: 0.90 - ETA: 6s - loss: 0.2502 - accuracy: 0.90 - ETA: 6s - loss: 0.2511 - accuracy: 0.90 - ETA: 6s - loss: 0.2496 - accuracy: 0.90 - ETA: 6s - loss: 0.2519 - accuracy: 0.90 - ETA: 6s - loss: 0.2516 - accuracy: 0.90 - ETA: 6s - loss: 0.2516 - accuracy: 0.90 - ETA: 6s - loss: 0.2493 - accuracy: 0.90 - ETA: 6s - loss: 0.2507 - accuracy: 0.90 - ETA: 6s - loss: 0.2533 - accuracy: 0.90 - ETA: 6s - loss: 0.2530 - accuracy: 0.90 - ETA: 6s - loss: 0.2525 - accuracy: 0.90 - ETA: 6s - loss: 0.2532 - accuracy: 0.90 - ETA: 6s - loss: 0.2556 - accuracy: 0.90 - ETA: 6s - loss: 0.2557 - accuracy: 0.90 - ETA: 6s - loss: 0.2556 - accuracy: 0.90 - ETA: 6s - loss: 0.2546 - accuracy: 0.90 - ETA: 6s - loss: 0.2554 - accuracy: 0.90 - ETA: 6s - loss: 0.2536 - accuracy: 0.90 - ETA: 6s - loss: 0.2533 - accuracy: 0.90 - ETA: 6s - loss: 0.2537 - accuracy: 0.90 - ETA: 5s - loss: 0.2531 - accuracy: 0.90 - ETA: 5s - loss: 0.2528 - accuracy: 0.90 - ETA: 5s - loss: 0.2550 - accuracy: 0.90 - ETA: 5s - loss: 0.2541 - accuracy: 0.90 - ETA: 5s - loss: 0.2546 - accuracy: 0.90 - ETA: 5s - loss: 0.2542 - accuracy: 0.90 - ETA: 5s - loss: 0.2547 - accuracy: 0.90 - ETA: 5s - loss: 0.2548 - accuracy: 0.90 - ETA: 5s - loss: 0.2545 - accuracy: 0.90 - ETA: 5s - loss: 0.2540 - accuracy: 0.90 - ETA: 5s - loss: 0.2531 - accuracy: 0.90 - ETA: 5s - loss: 0.2526 - accuracy: 0.90 - ETA: 5s - loss: 0.2520 - accuracy: 0.90 - ETA: 5s - loss: 0.2515 - accuracy: 0.90 - ETA: 5s - loss: 0.2516 - accuracy: 0.90 - ETA: 5s - loss: 0.2519 - accuracy: 0.90 - ETA: 5s - loss: 0.2522 - accuracy: 0.90 - ETA: 5s - loss: 0.2519 - accuracy: 0.90 - ETA: 5s - loss: 0.2516 - accuracy: 0.90 - ETA: 5s - loss: 0.2513 - accuracy: 0.90 - ETA: 5s - loss: 0.2511 - accuracy: 0.90 - ETA: 5s - loss: 0.2510 - accuracy: 0.90 - ETA: 5s - loss: 0.2513 - accuracy: 0.90 - ETA: 5s - loss: 0.2512 - accuracy: 0.90 - ETA: 4s - loss: 0.2518 - accuracy: 0.90 - ETA: 4s - loss: 0.2521 - accuracy: 0.90 - ETA: 4s - loss: 0.2520 - accuracy: 0.90 - ETA: 4s - loss: 0.2520 - accuracy: 0.90 - ETA: 4s - loss: 0.2522 - accuracy: 0.90 - ETA: 4s - loss: 0.2519 - accuracy: 0.90 - ETA: 4s - loss: 0.2510 - accuracy: 0.90 - ETA: 4s - loss: 0.2516 - accuracy: 0.90 - ETA: 4s - loss: 0.2510 - accuracy: 0.90 - ETA: 4s - loss: 0.2505 - accuracy: 0.90 - ETA: 4s - loss: 0.2502 - accuracy: 0.90 - ETA: 4s - loss: 0.2498 - accuracy: 0.90 - ETA: 4s - loss: 0.2490 - accuracy: 0.90 - ETA: 4s - loss: 0.2500 - accuracy: 0.90 - ETA: 4s - loss: 0.2498 - accuracy: 0.90 - ETA: 4s - loss: 0.2497 - accuracy: 0.90 - ETA: 4s - loss: 0.2502 - accuracy: 0.90 - ETA: 4s - loss: 0.2503 - accuracy: 0.90 - ETA: 4s - loss: 0.2507 - accuracy: 0.90 - ETA: 4s - loss: 0.2507 - accuracy: 0.90 - ETA: 4s - loss: 0.2507 - accuracy: 0.90 - ETA: 4s - loss: 0.2505 - accuracy: 0.90 - ETA: 3s - loss: 0.2503 - accuracy: 0.90 - ETA: 3s - loss: 0.2497 - accuracy: 0.90 - ETA: 3s - loss: 0.2503 - accuracy: 0.90 - ETA: 3s - loss: 0.2502 - accuracy: 0.90 - ETA: 3s - loss: 0.2495 - accuracy: 0.90 - ETA: 3s - loss: 0.2496 - accuracy: 0.90 - ETA: 3s - loss: 0.2495 - accuracy: 0.90 - ETA: 3s - loss: 0.2497 - accuracy: 0.90 - ETA: 3s - loss: 0.2496 - accuracy: 0.90 - ETA: 3s - loss: 0.2499 - accuracy: 0.90 - ETA: 3s - loss: 0.2498 - accuracy: 0.90 - ETA: 3s - loss: 0.2494 - accuracy: 0.90 - ETA: 3s - loss: 0.2492 - accuracy: 0.90 - ETA: 3s - loss: 0.2494 - accuracy: 0.90 - ETA: 3s - loss: 0.2489 - accuracy: 0.90 - ETA: 3s - loss: 0.2494 - accuracy: 0.90 - ETA: 3s - loss: 0.2503 - accuracy: 0.90 - ETA: 2s - loss: 0.2501 - accuracy: 0.90 - ETA: 2s - loss: 0.2502 - accuracy: 0.90 - ETA: 2s - loss: 0.2498 - accuracy: 0.90 - ETA: 2s - loss: 0.2492 - accuracy: 0.90 - ETA: 2s - loss: 0.2498 - accuracy: 0.90 - ETA: 2s - loss: 0.2498 - accuracy: 0.90 - ETA: 2s - loss: 0.2494 - accuracy: 0.90 - ETA: 2s - loss: 0.2495 - accuracy: 0.90 - ETA: 2s - loss: 0.2496 - accuracy: 0.90 - ETA: 2s - loss: 0.2501 - accuracy: 0.90 - ETA: 2s - loss: 0.2497 - accuracy: 0.90 - ETA: 2s - loss: 0.2500 - accuracy: 0.90 - ETA: 2s - loss: 0.2503 - accuracy: 0.90 - ETA: 2s - loss: 0.2503 - accuracy: 0.90 - ETA: 2s - loss: 0.2499 - accuracy: 0.90 - ETA: 2s - loss: 0.2505 - accuracy: 0.90 - ETA: 2s - loss: 0.2508 - accuracy: 0.90 - ETA: 1s - loss: 0.2508 - accuracy: 0.90 - ETA: 1s - loss: 0.2509 - accuracy: 0.90 - ETA: 1s - loss: 0.2512 - accuracy: 0.90 - ETA: 1s - loss: 0.2512 - accuracy: 0.90 - ETA: 1s - loss: 0.2511 - accuracy: 0.90 - ETA: 1s - loss: 0.2513 - accuracy: 0.90 - ETA: 1s - loss: 0.2513 - accuracy: 0.90 - ETA: 1s - loss: 0.2514 - accuracy: 0.90 - ETA: 1s - loss: 0.2516 - accuracy: 0.90 - ETA: 1s - loss: 0.2519 - accuracy: 0.90 - ETA: 1s - loss: 0.2516 - accuracy: 0.90 - ETA: 1s - loss: 0.2515 - accuracy: 0.90 - ETA: 1s - loss: 0.2522 - accuracy: 0.90 - ETA: 1s - loss: 0.2519 - accuracy: 0.90 - ETA: 1s - loss: 0.2515 - accuracy: 0.90 - ETA: 1s - loss: 0.2519 - accuracy: 0.90 - ETA: 1s - loss: 0.2523 - accuracy: 0.90 - ETA: 1s - loss: 0.2521 - accuracy: 0.90 - ETA: 1s - loss: 0.2524 - accuracy: 0.90 - ETA: 0s - loss: 0.2530 - accuracy: 0.90 - ETA: 0s - loss: 0.2528 - accuracy: 0.90 - ETA: 0s - loss: 0.2529 - accuracy: 0.90 - ETA: 0s - loss: 0.2529 - accuracy: 0.90 - ETA: 0s - loss: 0.2529 - accuracy: 0.90 - ETA: 0s - loss: 0.2528 - accuracy: 0.90 - ETA: 0s - loss: 0.2528 - accuracy: 0.90 - ETA: 0s - loss: 0.2530 - accuracy: 0.90 - ETA: 0s - loss: 0.2529 - accuracy: 0.90 - ETA: 0s - loss: 0.2530 - accuracy: 0.90 - ETA: 0s - loss: 0.2528 - accuracy: 0.90 - ETA: 0s - loss: 0.2528 - accuracy: 0.90 - ETA: 0s - loss: 0.2524 - accuracy: 0.90 - ETA: 0s - loss: 0.2525 - accuracy: 0.90 - ETA: 0s - loss: 0.2524 - accuracy: 0.90 - ETA: 0s - loss: 0.2522 - accuracy: 0.90 - ETA: 0s - loss: 0.2523 - accuracy: 0.90 - ETA: 0s - loss: 0.2524 - accuracy: 0.90 - ETA: 0s - loss: 0.2524 - accuracy: 0.90 - ETA: 0s - loss: 0.2523 - accuracy: 0.90 - ETA: 0s - loss: 0.2523 - accuracy: 0.90 - ETA: 0s - loss: 0.2521 - accuracy: 0.90 - 9s 152us/sample - loss: 0.2523 - accuracy: 0.9061 - val_loss: 0.3367 - val_accuracy: 0.8814\n",
      "Epoch 8/10\n",
      "60000/60000 [==============================] - ETA: 7s - loss: 0.2825 - accuracy: 0.90 - ETA: 7s - loss: 0.2529 - accuracy: 0.90 - ETA: 9s - loss: 0.2555 - accuracy: 0.90 - ETA: 8s - loss: 0.2456 - accuracy: 0.91 - ETA: 8s - loss: 0.2622 - accuracy: 0.90 - ETA: 8s - loss: 0.2641 - accuracy: 0.89 - ETA: 7s - loss: 0.2611 - accuracy: 0.89 - ETA: 7s - loss: 0.2541 - accuracy: 0.90 - ETA: 7s - loss: 0.2486 - accuracy: 0.90 - ETA: 7s - loss: 0.2464 - accuracy: 0.90 - ETA: 7s - loss: 0.2461 - accuracy: 0.90 - ETA: 6s - loss: 0.2466 - accuracy: 0.90 - ETA: 6s - loss: 0.2438 - accuracy: 0.90 - ETA: 6s - loss: 0.2435 - accuracy: 0.90 - ETA: 6s - loss: 0.2421 - accuracy: 0.90 - ETA: 6s - loss: 0.2428 - accuracy: 0.90 - ETA: 6s - loss: 0.2419 - accuracy: 0.90 - ETA: 6s - loss: 0.2369 - accuracy: 0.91 - ETA: 6s - loss: 0.2364 - accuracy: 0.91 - ETA: 6s - loss: 0.2349 - accuracy: 0.91 - ETA: 6s - loss: 0.2316 - accuracy: 0.91 - ETA: 6s - loss: 0.2285 - accuracy: 0.91 - ETA: 6s - loss: 0.2271 - accuracy: 0.91 - ETA: 5s - loss: 0.2280 - accuracy: 0.91 - ETA: 5s - loss: 0.2303 - accuracy: 0.91 - ETA: 5s - loss: 0.2309 - accuracy: 0.91 - ETA: 5s - loss: 0.2319 - accuracy: 0.91 - ETA: 5s - loss: 0.2328 - accuracy: 0.91 - ETA: 5s - loss: 0.2323 - accuracy: 0.91 - ETA: 5s - loss: 0.2319 - accuracy: 0.91 - ETA: 5s - loss: 0.2331 - accuracy: 0.91 - ETA: 6s - loss: 0.2340 - accuracy: 0.91 - ETA: 6s - loss: 0.2333 - accuracy: 0.91 - ETA: 6s - loss: 0.2341 - accuracy: 0.91 - ETA: 6s - loss: 0.2350 - accuracy: 0.91 - ETA: 6s - loss: 0.2344 - accuracy: 0.91 - ETA: 6s - loss: 0.2351 - accuracy: 0.91 - ETA: 6s - loss: 0.2350 - accuracy: 0.91 - ETA: 6s - loss: 0.2356 - accuracy: 0.91 - ETA: 6s - loss: 0.2346 - accuracy: 0.91 - ETA: 6s - loss: 0.2353 - accuracy: 0.91 - ETA: 6s - loss: 0.2347 - accuracy: 0.91 - ETA: 6s - loss: 0.2341 - accuracy: 0.91 - ETA: 6s - loss: 0.2348 - accuracy: 0.91 - ETA: 6s - loss: 0.2351 - accuracy: 0.91 - ETA: 6s - loss: 0.2350 - accuracy: 0.91 - ETA: 6s - loss: 0.2357 - accuracy: 0.91 - ETA: 6s - loss: 0.2355 - accuracy: 0.91 - ETA: 6s - loss: 0.2370 - accuracy: 0.91 - ETA: 6s - loss: 0.2368 - accuracy: 0.91 - ETA: 6s - loss: 0.2385 - accuracy: 0.91 - ETA: 6s - loss: 0.2383 - accuracy: 0.91 - ETA: 6s - loss: 0.2390 - accuracy: 0.91 - ETA: 5s - loss: 0.2385 - accuracy: 0.91 - ETA: 5s - loss: 0.2390 - accuracy: 0.91 - ETA: 5s - loss: 0.2385 - accuracy: 0.91 - ETA: 5s - loss: 0.2386 - accuracy: 0.91 - ETA: 5s - loss: 0.2382 - accuracy: 0.91 - ETA: 5s - loss: 0.2379 - accuracy: 0.91 - ETA: 5s - loss: 0.2373 - accuracy: 0.91 - ETA: 5s - loss: 0.2382 - accuracy: 0.91 - ETA: 5s - loss: 0.2376 - accuracy: 0.91 - ETA: 5s - loss: 0.2375 - accuracy: 0.91 - ETA: 5s - loss: 0.2380 - accuracy: 0.91 - ETA: 5s - loss: 0.2379 - accuracy: 0.91 - ETA: 5s - loss: 0.2376 - accuracy: 0.91 - ETA: 5s - loss: 0.2374 - accuracy: 0.91 - ETA: 5s - loss: 0.2376 - accuracy: 0.91 - ETA: 5s - loss: 0.2370 - accuracy: 0.91 - ETA: 5s - loss: 0.2375 - accuracy: 0.91 - ETA: 5s - loss: 0.2377 - accuracy: 0.91 - ETA: 5s - loss: 0.2376 - accuracy: 0.91 - ETA: 5s - loss: 0.2375 - accuracy: 0.91 - ETA: 5s - loss: 0.2369 - accuracy: 0.91 - ETA: 5s - loss: 0.2369 - accuracy: 0.91 - ETA: 5s - loss: 0.2376 - accuracy: 0.91 - ETA: 5s - loss: 0.2378 - accuracy: 0.91 - ETA: 4s - loss: 0.2379 - accuracy: 0.91 - ETA: 4s - loss: 0.2377 - accuracy: 0.91 - ETA: 4s - loss: 0.2376 - accuracy: 0.91 - ETA: 4s - loss: 0.2377 - accuracy: 0.91 - ETA: 4s - loss: 0.2378 - accuracy: 0.91 - ETA: 4s - loss: 0.2376 - accuracy: 0.91 - ETA: 4s - loss: 0.2380 - accuracy: 0.91 - ETA: 4s - loss: 0.2378 - accuracy: 0.91 - ETA: 4s - loss: 0.2381 - accuracy: 0.91 - ETA: 4s - loss: 0.2381 - accuracy: 0.91 - ETA: 4s - loss: 0.2391 - accuracy: 0.91 - ETA: 4s - loss: 0.2392 - accuracy: 0.91 - ETA: 4s - loss: 0.2391 - accuracy: 0.91 - ETA: 4s - loss: 0.2391 - accuracy: 0.91 - ETA: 4s - loss: 0.2392 - accuracy: 0.91 - ETA: 4s - loss: 0.2387 - accuracy: 0.91 - ETA: 4s - loss: 0.2390 - accuracy: 0.91 - ETA: 4s - loss: 0.2391 - accuracy: 0.91 - ETA: 4s - loss: 0.2393 - accuracy: 0.91 - ETA: 4s - loss: 0.2388 - accuracy: 0.91 - ETA: 4s - loss: 0.2389 - accuracy: 0.91 - ETA: 3s - loss: 0.2395 - accuracy: 0.91 - ETA: 3s - loss: 0.2398 - accuracy: 0.91 - ETA: 3s - loss: 0.2389 - accuracy: 0.91 - ETA: 3s - loss: 0.2393 - accuracy: 0.91 - ETA: 3s - loss: 0.2396 - accuracy: 0.91 - ETA: 3s - loss: 0.2390 - accuracy: 0.91 - ETA: 3s - loss: 0.2388 - accuracy: 0.91 - ETA: 3s - loss: 0.2387 - accuracy: 0.91 - ETA: 3s - loss: 0.2393 - accuracy: 0.91 - ETA: 3s - loss: 0.2398 - accuracy: 0.91 - ETA: 3s - loss: 0.2398 - accuracy: 0.91 - ETA: 3s - loss: 0.2402 - accuracy: 0.91 - ETA: 3s - loss: 0.2402 - accuracy: 0.91 - ETA: 3s - loss: 0.2398 - accuracy: 0.91 - ETA: 3s - loss: 0.2399 - accuracy: 0.91 - ETA: 3s - loss: 0.2405 - accuracy: 0.91 - ETA: 3s - loss: 0.2412 - accuracy: 0.91 - ETA: 3s - loss: 0.2414 - accuracy: 0.91 - ETA: 3s - loss: 0.2415 - accuracy: 0.91 - ETA: 2s - loss: 0.2414 - accuracy: 0.91 - ETA: 2s - loss: 0.2423 - accuracy: 0.91 - ETA: 2s - loss: 0.2424 - accuracy: 0.91 - ETA: 2s - loss: 0.2425 - accuracy: 0.91 - ETA: 2s - loss: 0.2424 - accuracy: 0.91 - ETA: 2s - loss: 0.2427 - accuracy: 0.91 - ETA: 2s - loss: 0.2428 - accuracy: 0.91 - ETA: 2s - loss: 0.2423 - accuracy: 0.91 - ETA: 2s - loss: 0.2423 - accuracy: 0.90 - ETA: 2s - loss: 0.2421 - accuracy: 0.91 - ETA: 2s - loss: 0.2415 - accuracy: 0.91 - ETA: 2s - loss: 0.2409 - accuracy: 0.91 - ETA: 2s - loss: 0.2412 - accuracy: 0.91 - ETA: 2s - loss: 0.2415 - accuracy: 0.91 - ETA: 2s - loss: 0.2410 - accuracy: 0.91 - ETA: 2s - loss: 0.2410 - accuracy: 0.91 - ETA: 1s - loss: 0.2414 - accuracy: 0.91 - ETA: 1s - loss: 0.2416 - accuracy: 0.91 - ETA: 1s - loss: 0.2418 - accuracy: 0.91 - ETA: 1s - loss: 0.2419 - accuracy: 0.90 - ETA: 1s - loss: 0.2423 - accuracy: 0.90 - ETA: 1s - loss: 0.2427 - accuracy: 0.90 - ETA: 1s - loss: 0.2424 - accuracy: 0.90 - ETA: 1s - loss: 0.2423 - accuracy: 0.90 - ETA: 1s - loss: 0.2421 - accuracy: 0.90 - ETA: 1s - loss: 0.2421 - accuracy: 0.90 - ETA: 1s - loss: 0.2424 - accuracy: 0.90 - ETA: 1s - loss: 0.2427 - accuracy: 0.90 - ETA: 1s - loss: 0.2428 - accuracy: 0.90 - ETA: 1s - loss: 0.2424 - accuracy: 0.90 - ETA: 1s - loss: 0.2424 - accuracy: 0.90 - ETA: 0s - loss: 0.2424 - accuracy: 0.90 - ETA: 0s - loss: 0.2424 - accuracy: 0.90 - ETA: 0s - loss: 0.2423 - accuracy: 0.90 - ETA: 0s - loss: 0.2423 - accuracy: 0.90 - ETA: 0s - loss: 0.2419 - accuracy: 0.90 - ETA: 0s - loss: 0.2419 - accuracy: 0.90 - ETA: 0s - loss: 0.2417 - accuracy: 0.90 - ETA: 0s - loss: 0.2415 - accuracy: 0.91 - ETA: 0s - loss: 0.2416 - accuracy: 0.90 - ETA: 0s - loss: 0.2417 - accuracy: 0.90 - ETA: 0s - loss: 0.2419 - accuracy: 0.90 - ETA: 0s - loss: 0.2422 - accuracy: 0.90 - ETA: 0s - loss: 0.2420 - accuracy: 0.90 - ETA: 0s - loss: 0.2417 - accuracy: 0.90 - ETA: 0s - loss: 0.2415 - accuracy: 0.90 - ETA: 0s - loss: 0.2417 - accuracy: 0.90 - ETA: 0s - loss: 0.2415 - accuracy: 0.90 - 9s 155us/sample - loss: 0.2415 - accuracy: 0.9098 - val_loss: 0.3402 - val_accuracy: 0.8841\n",
      "Epoch 9/10\n",
      "60000/60000 [==============================] - ETA: 12s - loss: 0.2636 - accuracy: 0.875 - ETA: 10s - loss: 0.2242 - accuracy: 0.909 - ETA: 9s - loss: 0.2296 - accuracy: 0.906 - ETA: 9s - loss: 0.2298 - accuracy: 0.90 - ETA: 9s - loss: 0.2403 - accuracy: 0.90 - ETA: 9s - loss: 0.2384 - accuracy: 0.90 - ETA: 9s - loss: 0.2358 - accuracy: 0.90 - ETA: 9s - loss: 0.2374 - accuracy: 0.90 - ETA: 9s - loss: 0.2378 - accuracy: 0.90 - ETA: 9s - loss: 0.2436 - accuracy: 0.90 - ETA: 9s - loss: 0.2407 - accuracy: 0.90 - ETA: 9s - loss: 0.2354 - accuracy: 0.90 - ETA: 9s - loss: 0.2323 - accuracy: 0.90 - ETA: 8s - loss: 0.2315 - accuracy: 0.90 - ETA: 8s - loss: 0.2320 - accuracy: 0.90 - ETA: 8s - loss: 0.2348 - accuracy: 0.90 - ETA: 8s - loss: 0.2314 - accuracy: 0.91 - ETA: 8s - loss: 0.2312 - accuracy: 0.91 - ETA: 8s - loss: 0.2290 - accuracy: 0.91 - ETA: 8s - loss: 0.2296 - accuracy: 0.91 - ETA: 8s - loss: 0.2302 - accuracy: 0.91 - ETA: 8s - loss: 0.2287 - accuracy: 0.91 - ETA: 8s - loss: 0.2282 - accuracy: 0.91 - ETA: 8s - loss: 0.2269 - accuracy: 0.91 - ETA: 8s - loss: 0.2267 - accuracy: 0.91 - ETA: 8s - loss: 0.2271 - accuracy: 0.91 - ETA: 8s - loss: 0.2248 - accuracy: 0.91 - ETA: 8s - loss: 0.2260 - accuracy: 0.91 - ETA: 8s - loss: 0.2266 - accuracy: 0.91 - ETA: 8s - loss: 0.2269 - accuracy: 0.91 - ETA: 8s - loss: 0.2276 - accuracy: 0.91 - ETA: 8s - loss: 0.2263 - accuracy: 0.91 - ETA: 8s - loss: 0.2253 - accuracy: 0.91 - ETA: 8s - loss: 0.2259 - accuracy: 0.91 - ETA: 8s - loss: 0.2270 - accuracy: 0.91 - ETA: 8s - loss: 0.2275 - accuracy: 0.91 - ETA: 8s - loss: 0.2269 - accuracy: 0.91 - ETA: 8s - loss: 0.2283 - accuracy: 0.91 - ETA: 8s - loss: 0.2278 - accuracy: 0.91 - ETA: 8s - loss: 0.2281 - accuracy: 0.91 - ETA: 8s - loss: 0.2289 - accuracy: 0.91 - ETA: 8s - loss: 0.2294 - accuracy: 0.91 - ETA: 8s - loss: 0.2301 - accuracy: 0.91 - ETA: 8s - loss: 0.2298 - accuracy: 0.91 - ETA: 8s - loss: 0.2307 - accuracy: 0.91 - ETA: 8s - loss: 0.2304 - accuracy: 0.91 - ETA: 7s - loss: 0.2317 - accuracy: 0.91 - ETA: 7s - loss: 0.2306 - accuracy: 0.91 - ETA: 7s - loss: 0.2312 - accuracy: 0.91 - ETA: 7s - loss: 0.2305 - accuracy: 0.91 - ETA: 7s - loss: 0.2306 - accuracy: 0.91 - ETA: 7s - loss: 0.2309 - accuracy: 0.91 - ETA: 7s - loss: 0.2305 - accuracy: 0.91 - ETA: 7s - loss: 0.2307 - accuracy: 0.91 - ETA: 7s - loss: 0.2298 - accuracy: 0.91 - ETA: 7s - loss: 0.2294 - accuracy: 0.91 - ETA: 7s - loss: 0.2289 - accuracy: 0.91 - ETA: 7s - loss: 0.2285 - accuracy: 0.91 - ETA: 7s - loss: 0.2292 - accuracy: 0.91 - ETA: 7s - loss: 0.2297 - accuracy: 0.91 - ETA: 7s - loss: 0.2297 - accuracy: 0.91 - ETA: 6s - loss: 0.2295 - accuracy: 0.91 - ETA: 6s - loss: 0.2281 - accuracy: 0.91 - ETA: 6s - loss: 0.2275 - accuracy: 0.91 - ETA: 6s - loss: 0.2269 - accuracy: 0.91 - ETA: 6s - loss: 0.2254 - accuracy: 0.91 - ETA: 6s - loss: 0.2255 - accuracy: 0.91 - ETA: 6s - loss: 0.2252 - accuracy: 0.91 - ETA: 6s - loss: 0.2253 - accuracy: 0.91 - ETA: 6s - loss: 0.2254 - accuracy: 0.91 - ETA: 6s - loss: 0.2250 - accuracy: 0.91 - ETA: 6s - loss: 0.2248 - accuracy: 0.91 - ETA: 6s - loss: 0.2253 - accuracy: 0.91 - ETA: 6s - loss: 0.2249 - accuracy: 0.91 - ETA: 6s - loss: 0.2250 - accuracy: 0.91 - ETA: 6s - loss: 0.2246 - accuracy: 0.91 - ETA: 6s - loss: 0.2248 - accuracy: 0.91 - ETA: 6s - loss: 0.2249 - accuracy: 0.91 - ETA: 6s - loss: 0.2242 - accuracy: 0.91 - ETA: 5s - loss: 0.2238 - accuracy: 0.91 - ETA: 5s - loss: 0.2242 - accuracy: 0.91 - ETA: 5s - loss: 0.2241 - accuracy: 0.91 - ETA: 5s - loss: 0.2245 - accuracy: 0.91 - ETA: 5s - loss: 0.2244 - accuracy: 0.91 - ETA: 5s - loss: 0.2250 - accuracy: 0.91 - ETA: 5s - loss: 0.2253 - accuracy: 0.91 - ETA: 5s - loss: 0.2253 - accuracy: 0.91 - ETA: 5s - loss: 0.2252 - accuracy: 0.91 - ETA: 5s - loss: 0.2253 - accuracy: 0.91 - ETA: 5s - loss: 0.2252 - accuracy: 0.91 - ETA: 5s - loss: 0.2254 - accuracy: 0.91 - ETA: 5s - loss: 0.2250 - accuracy: 0.91 - ETA: 5s - loss: 0.2251 - accuracy: 0.91 - ETA: 5s - loss: 0.2251 - accuracy: 0.91 - ETA: 5s - loss: 0.2249 - accuracy: 0.91 - ETA: 5s - loss: 0.2248 - accuracy: 0.91 - ETA: 5s - loss: 0.2248 - accuracy: 0.91 - ETA: 5s - loss: 0.2246 - accuracy: 0.91 - ETA: 4s - loss: 0.2249 - accuracy: 0.91 - ETA: 4s - loss: 0.2248 - accuracy: 0.91 - ETA: 4s - loss: 0.2253 - accuracy: 0.91 - ETA: 4s - loss: 0.2259 - accuracy: 0.91 - ETA: 4s - loss: 0.2259 - accuracy: 0.91 - ETA: 4s - loss: 0.2256 - accuracy: 0.91 - ETA: 4s - loss: 0.2255 - accuracy: 0.91 - ETA: 4s - loss: 0.2263 - accuracy: 0.91 - ETA: 4s - loss: 0.2266 - accuracy: 0.91 - ETA: 4s - loss: 0.2267 - accuracy: 0.91 - ETA: 4s - loss: 0.2267 - accuracy: 0.91 - ETA: 4s - loss: 0.2268 - accuracy: 0.91 - ETA: 4s - loss: 0.2269 - accuracy: 0.91 - ETA: 4s - loss: 0.2273 - accuracy: 0.91 - ETA: 4s - loss: 0.2278 - accuracy: 0.91 - ETA: 4s - loss: 0.2275 - accuracy: 0.91 - ETA: 4s - loss: 0.2275 - accuracy: 0.91 - ETA: 4s - loss: 0.2273 - accuracy: 0.91 - ETA: 4s - loss: 0.2274 - accuracy: 0.91 - ETA: 3s - loss: 0.2277 - accuracy: 0.91 - ETA: 3s - loss: 0.2280 - accuracy: 0.91 - ETA: 3s - loss: 0.2279 - accuracy: 0.91 - ETA: 3s - loss: 0.2276 - accuracy: 0.91 - ETA: 3s - loss: 0.2280 - accuracy: 0.91 - ETA: 3s - loss: 0.2285 - accuracy: 0.91 - ETA: 3s - loss: 0.2288 - accuracy: 0.91 - ETA: 3s - loss: 0.2289 - accuracy: 0.91 - ETA: 3s - loss: 0.2287 - accuracy: 0.91 - ETA: 3s - loss: 0.2292 - accuracy: 0.91 - ETA: 3s - loss: 0.2300 - accuracy: 0.91 - ETA: 3s - loss: 0.2304 - accuracy: 0.91 - ETA: 3s - loss: 0.2315 - accuracy: 0.91 - ETA: 3s - loss: 0.2320 - accuracy: 0.91 - ETA: 3s - loss: 0.2322 - accuracy: 0.91 - ETA: 2s - loss: 0.2316 - accuracy: 0.91 - ETA: 2s - loss: 0.2315 - accuracy: 0.91 - ETA: 2s - loss: 0.2312 - accuracy: 0.91 - ETA: 2s - loss: 0.2311 - accuracy: 0.91 - ETA: 2s - loss: 0.2312 - accuracy: 0.91 - ETA: 2s - loss: 0.2313 - accuracy: 0.91 - ETA: 2s - loss: 0.2312 - accuracy: 0.91 - ETA: 2s - loss: 0.2318 - accuracy: 0.91 - ETA: 2s - loss: 0.2322 - accuracy: 0.91 - ETA: 2s - loss: 0.2321 - accuracy: 0.91 - ETA: 2s - loss: 0.2324 - accuracy: 0.91 - ETA: 2s - loss: 0.2325 - accuracy: 0.91 - ETA: 2s - loss: 0.2323 - accuracy: 0.91 - ETA: 1s - loss: 0.2321 - accuracy: 0.91 - ETA: 1s - loss: 0.2323 - accuracy: 0.91 - ETA: 1s - loss: 0.2323 - accuracy: 0.91 - ETA: 1s - loss: 0.2322 - accuracy: 0.91 - ETA: 1s - loss: 0.2321 - accuracy: 0.91 - ETA: 1s - loss: 0.2325 - accuracy: 0.91 - ETA: 1s - loss: 0.2320 - accuracy: 0.91 - ETA: 1s - loss: 0.2321 - accuracy: 0.91 - ETA: 1s - loss: 0.2324 - accuracy: 0.91 - ETA: 1s - loss: 0.2323 - accuracy: 0.91 - ETA: 1s - loss: 0.2323 - accuracy: 0.91 - ETA: 1s - loss: 0.2319 - accuracy: 0.91 - ETA: 1s - loss: 0.2318 - accuracy: 0.91 - ETA: 1s - loss: 0.2319 - accuracy: 0.91 - ETA: 0s - loss: 0.2320 - accuracy: 0.91 - ETA: 0s - loss: 0.2321 - accuracy: 0.91 - ETA: 0s - loss: 0.2327 - accuracy: 0.91 - ETA: 0s - loss: 0.2327 - accuracy: 0.91 - ETA: 0s - loss: 0.2329 - accuracy: 0.91 - ETA: 0s - loss: 0.2329 - accuracy: 0.91 - ETA: 0s - loss: 0.2333 - accuracy: 0.91 - ETA: 0s - loss: 0.2332 - accuracy: 0.91 - ETA: 0s - loss: 0.2333 - accuracy: 0.91 - ETA: 0s - loss: 0.2328 - accuracy: 0.91 - ETA: 0s - loss: 0.2329 - accuracy: 0.91 - ETA: 0s - loss: 0.2332 - accuracy: 0.91 - ETA: 0s - loss: 0.2332 - accuracy: 0.91 - ETA: 0s - loss: 0.2333 - accuracy: 0.91 - ETA: 0s - loss: 0.2335 - accuracy: 0.91 - ETA: 0s - loss: 0.2333 - accuracy: 0.91 - ETA: 0s - loss: 0.2334 - accuracy: 0.91 - 10s 166us/sample - loss: 0.2335 - accuracy: 0.9132 - val_loss: 0.3339 - val_accuracy: 0.8851\n",
      "Epoch 10/10\n",
      "60000/60000 [==============================] - ETA: 18s - loss: 0.0980 - accuracy: 1.000 - ETA: 8s - loss: 0.2526 - accuracy: 0.899 - ETA: 9s - loss: 0.2185 - accuracy: 0.91 - ETA: 9s - loss: 0.2123 - accuracy: 0.91 - ETA: 8s - loss: 0.2021 - accuracy: 0.91 - ETA: 9s - loss: 0.1977 - accuracy: 0.91 - ETA: 9s - loss: 0.2018 - accuracy: 0.91 - ETA: 9s - loss: 0.2098 - accuracy: 0.91 - ETA: 9s - loss: 0.2101 - accuracy: 0.91 - ETA: 9s - loss: 0.2186 - accuracy: 0.91 - ETA: 9s - loss: 0.2171 - accuracy: 0.91 - ETA: 9s - loss: 0.2223 - accuracy: 0.91 - ETA: 9s - loss: 0.2231 - accuracy: 0.91 - ETA: 9s - loss: 0.2271 - accuracy: 0.91 - ETA: 9s - loss: 0.2254 - accuracy: 0.91 - ETA: 8s - loss: 0.2292 - accuracy: 0.91 - ETA: 8s - loss: 0.2317 - accuracy: 0.91 - ETA: 8s - loss: 0.2299 - accuracy: 0.91 - ETA: 8s - loss: 0.2292 - accuracy: 0.91 - ETA: 8s - loss: 0.2287 - accuracy: 0.91 - ETA: 8s - loss: 0.2274 - accuracy: 0.91 - ETA: 8s - loss: 0.2286 - accuracy: 0.91 - ETA: 8s - loss: 0.2280 - accuracy: 0.91 - ETA: 8s - loss: 0.2267 - accuracy: 0.91 - ETA: 8s - loss: 0.2260 - accuracy: 0.91 - ETA: 8s - loss: 0.2252 - accuracy: 0.91 - ETA: 7s - loss: 0.2249 - accuracy: 0.91 - ETA: 7s - loss: 0.2245 - accuracy: 0.91 - ETA: 7s - loss: 0.2224 - accuracy: 0.91 - ETA: 7s - loss: 0.2239 - accuracy: 0.91 - ETA: 7s - loss: 0.2230 - accuracy: 0.91 - ETA: 7s - loss: 0.2219 - accuracy: 0.91 - ETA: 7s - loss: 0.2237 - accuracy: 0.91 - ETA: 7s - loss: 0.2234 - accuracy: 0.91 - ETA: 7s - loss: 0.2234 - accuracy: 0.91 - ETA: 7s - loss: 0.2233 - accuracy: 0.91 - ETA: 7s - loss: 0.2224 - accuracy: 0.91 - ETA: 7s - loss: 0.2219 - accuracy: 0.91 - ETA: 7s - loss: 0.2238 - accuracy: 0.91 - ETA: 6s - loss: 0.2237 - accuracy: 0.91 - ETA: 6s - loss: 0.2238 - accuracy: 0.91 - ETA: 6s - loss: 0.2239 - accuracy: 0.91 - ETA: 6s - loss: 0.2232 - accuracy: 0.91 - ETA: 6s - loss: 0.2222 - accuracy: 0.91 - ETA: 6s - loss: 0.2223 - accuracy: 0.91 - ETA: 6s - loss: 0.2217 - accuracy: 0.91 - ETA: 6s - loss: 0.2212 - accuracy: 0.91 - ETA: 6s - loss: 0.2212 - accuracy: 0.91 - ETA: 6s - loss: 0.2206 - accuracy: 0.91 - ETA: 6s - loss: 0.2202 - accuracy: 0.91 - ETA: 6s - loss: 0.2202 - accuracy: 0.91 - ETA: 6s - loss: 0.2208 - accuracy: 0.91 - ETA: 6s - loss: 0.2205 - accuracy: 0.91 - ETA: 6s - loss: 0.2206 - accuracy: 0.91 - ETA: 6s - loss: 0.2205 - accuracy: 0.91 - ETA: 6s - loss: 0.2209 - accuracy: 0.91 - ETA: 6s - loss: 0.2202 - accuracy: 0.91 - ETA: 6s - loss: 0.2203 - accuracy: 0.91 - ETA: 6s - loss: 0.2202 - accuracy: 0.91 - ETA: 6s - loss: 0.2196 - accuracy: 0.91 - ETA: 5s - loss: 0.2194 - accuracy: 0.91 - ETA: 5s - loss: 0.2190 - accuracy: 0.91 - ETA: 5s - loss: 0.2187 - accuracy: 0.91 - ETA: 5s - loss: 0.2183 - accuracy: 0.91 - ETA: 5s - loss: 0.2184 - accuracy: 0.91 - ETA: 5s - loss: 0.2187 - accuracy: 0.91 - ETA: 5s - loss: 0.2190 - accuracy: 0.91 - ETA: 5s - loss: 0.2192 - accuracy: 0.91 - ETA: 5s - loss: 0.2187 - accuracy: 0.91 - ETA: 5s - loss: 0.2184 - accuracy: 0.91 - ETA: 5s - loss: 0.2181 - accuracy: 0.91 - ETA: 5s - loss: 0.2181 - accuracy: 0.91 - ETA: 5s - loss: 0.2182 - accuracy: 0.91 - ETA: 5s - loss: 0.2180 - accuracy: 0.91 - ETA: 5s - loss: 0.2176 - accuracy: 0.91 - ETA: 4s - loss: 0.2182 - accuracy: 0.91 - ETA: 4s - loss: 0.2193 - accuracy: 0.91 - ETA: 4s - loss: 0.2197 - accuracy: 0.91 - ETA: 4s - loss: 0.2194 - accuracy: 0.91 - ETA: 4s - loss: 0.2191 - accuracy: 0.91 - ETA: 4s - loss: 0.2193 - accuracy: 0.91 - ETA: 4s - loss: 0.2198 - accuracy: 0.91 - ETA: 4s - loss: 0.2198 - accuracy: 0.91 - ETA: 4s - loss: 0.2198 - accuracy: 0.91 - ETA: 4s - loss: 0.2200 - accuracy: 0.91 - ETA: 4s - loss: 0.2196 - accuracy: 0.91 - ETA: 4s - loss: 0.2199 - accuracy: 0.91 - ETA: 4s - loss: 0.2194 - accuracy: 0.91 - ETA: 4s - loss: 0.2187 - accuracy: 0.91 - ETA: 4s - loss: 0.2192 - accuracy: 0.91 - ETA: 3s - loss: 0.2194 - accuracy: 0.91 - ETA: 3s - loss: 0.2190 - accuracy: 0.91 - ETA: 3s - loss: 0.2187 - accuracy: 0.91 - ETA: 3s - loss: 0.2188 - accuracy: 0.91 - ETA: 3s - loss: 0.2192 - accuracy: 0.91 - ETA: 3s - loss: 0.2199 - accuracy: 0.91 - ETA: 3s - loss: 0.2201 - accuracy: 0.91 - ETA: 3s - loss: 0.2200 - accuracy: 0.91 - ETA: 3s - loss: 0.2201 - accuracy: 0.91 - ETA: 3s - loss: 0.2197 - accuracy: 0.91 - ETA: 3s - loss: 0.2194 - accuracy: 0.91 - ETA: 3s - loss: 0.2200 - accuracy: 0.91 - ETA: 3s - loss: 0.2201 - accuracy: 0.91 - ETA: 3s - loss: 0.2199 - accuracy: 0.91 - ETA: 2s - loss: 0.2203 - accuracy: 0.91 - ETA: 2s - loss: 0.2205 - accuracy: 0.91 - ETA: 2s - loss: 0.2204 - accuracy: 0.91 - ETA: 2s - loss: 0.2202 - accuracy: 0.91 - ETA: 2s - loss: 0.2207 - accuracy: 0.91 - ETA: 2s - loss: 0.2207 - accuracy: 0.91 - ETA: 2s - loss: 0.2213 - accuracy: 0.91 - ETA: 2s - loss: 0.2214 - accuracy: 0.91 - ETA: 2s - loss: 0.2213 - accuracy: 0.91 - ETA: 2s - loss: 0.2213 - accuracy: 0.91 - ETA: 2s - loss: 0.2213 - accuracy: 0.91 - ETA: 2s - loss: 0.2211 - accuracy: 0.91 - ETA: 2s - loss: 0.2211 - accuracy: 0.91 - ETA: 2s - loss: 0.2210 - accuracy: 0.91 - ETA: 2s - loss: 0.2205 - accuracy: 0.91 - ETA: 2s - loss: 0.2202 - accuracy: 0.91 - ETA: 1s - loss: 0.2204 - accuracy: 0.91 - ETA: 1s - loss: 0.2204 - accuracy: 0.91 - ETA: 1s - loss: 0.2203 - accuracy: 0.91 - ETA: 1s - loss: 0.2207 - accuracy: 0.91 - ETA: 1s - loss: 0.2204 - accuracy: 0.91 - ETA: 1s - loss: 0.2208 - accuracy: 0.91 - ETA: 1s - loss: 0.2207 - accuracy: 0.91 - ETA: 1s - loss: 0.2210 - accuracy: 0.91 - ETA: 1s - loss: 0.2209 - accuracy: 0.91 - ETA: 1s - loss: 0.2208 - accuracy: 0.91 - ETA: 1s - loss: 0.2214 - accuracy: 0.91 - ETA: 1s - loss: 0.2218 - accuracy: 0.91 - ETA: 1s - loss: 0.2218 - accuracy: 0.91 - ETA: 1s - loss: 0.2217 - accuracy: 0.91 - ETA: 1s - loss: 0.2217 - accuracy: 0.91 - ETA: 1s - loss: 0.2219 - accuracy: 0.91 - ETA: 1s - loss: 0.2220 - accuracy: 0.91 - ETA: 0s - loss: 0.2220 - accuracy: 0.91 - ETA: 0s - loss: 0.2223 - accuracy: 0.91 - ETA: 0s - loss: 0.2227 - accuracy: 0.91 - ETA: 0s - loss: 0.2225 - accuracy: 0.91 - ETA: 0s - loss: 0.2224 - accuracy: 0.91 - ETA: 0s - loss: 0.2227 - accuracy: 0.91 - ETA: 0s - loss: 0.2226 - accuracy: 0.91 - ETA: 0s - loss: 0.2227 - accuracy: 0.91 - ETA: 0s - loss: 0.2230 - accuracy: 0.91 - ETA: 0s - loss: 0.2232 - accuracy: 0.91 - ETA: 0s - loss: 0.2234 - accuracy: 0.91 - ETA: 0s - loss: 0.2236 - accuracy: 0.91 - ETA: 0s - loss: 0.2237 - accuracy: 0.91 - ETA: 0s - loss: 0.2237 - accuracy: 0.91 - ETA: 0s - loss: 0.2236 - accuracy: 0.91 - ETA: 0s - loss: 0.2236 - accuracy: 0.91 - ETA: 0s - loss: 0.2235 - accuracy: 0.91 - ETA: 0s - loss: 0.2235 - accuracy: 0.91 - ETA: 0s - loss: 0.2232 - accuracy: 0.91 - ETA: 0s - loss: 0.2237 - accuracy: 0.91 - 9s 148us/sample - loss: 0.2237 - accuracy: 0.9152 - val_loss: 0.3610 - val_accuracy: 0.8789\n"
     ]
    },
    {
     "data": {
      "text/plain": [
       "<tensorflow.python.keras.callbacks.History at 0x7fb1eabd9110>"
      ]
     },
     "execution_count": 20,
     "metadata": {},
     "output_type": "execute_result"
    }
   ],
   "source": [
    "model.fit(img_train, label_train, epochs=10, validation_data=(img_test, label_test))"
   ]
  },
  {
   "cell_type": "code",
   "execution_count": 21,
   "metadata": {},
   "outputs": [
    {
     "data": {
      "text/html": [
       "<span style=\"color:#4527A0\"><h1 style=\"font-size:18px\">Search space summary</h1></span>"
      ],
      "text/plain": [
       "<IPython.core.display.HTML object>"
      ]
     },
     "metadata": {},
     "output_type": "display_data"
    },
    {
     "data": {
      "text/html": [
       "<span style=\"color:cyan\"> |-Default search space size: 2</span>"
      ],
      "text/plain": [
       "<IPython.core.display.HTML object>"
      ]
     },
     "metadata": {},
     "output_type": "display_data"
    },
    {
     "data": {
      "text/html": [
       "<span style=\"color:#7E57C2\"><h2 style=\"font-size:16px\">units (Int)</h2></span>"
      ],
      "text/plain": [
       "<IPython.core.display.HTML object>"
      ]
     },
     "metadata": {},
     "output_type": "display_data"
    },
    {
     "data": {
      "text/html": [
       "<span style=\"color:cyan\"> |-default: None</span>"
      ],
      "text/plain": [
       "<IPython.core.display.HTML object>"
      ]
     },
     "metadata": {},
     "output_type": "display_data"
    },
    {
     "data": {
      "text/html": [
       "<span style=\"color:blue\"> |-max_value: 512</span>"
      ],
      "text/plain": [
       "<IPython.core.display.HTML object>"
      ]
     },
     "metadata": {},
     "output_type": "display_data"
    },
    {
     "data": {
      "text/html": [
       "<span style=\"color:cyan\"> |-min_value: 32</span>"
      ],
      "text/plain": [
       "<IPython.core.display.HTML object>"
      ]
     },
     "metadata": {},
     "output_type": "display_data"
    },
    {
     "data": {
      "text/html": [
       "<span style=\"color:blue\"> |-sampling: None</span>"
      ],
      "text/plain": [
       "<IPython.core.display.HTML object>"
      ]
     },
     "metadata": {},
     "output_type": "display_data"
    },
    {
     "data": {
      "text/html": [
       "<span style=\"color:cyan\"> |-step: 32</span>"
      ],
      "text/plain": [
       "<IPython.core.display.HTML object>"
      ]
     },
     "metadata": {},
     "output_type": "display_data"
    },
    {
     "data": {
      "text/html": [
       "<span style=\"color:#7E57C2\"><h2 style=\"font-size:16px\">learning_rate (Choice)</h2></span>"
      ],
      "text/plain": [
       "<IPython.core.display.HTML object>"
      ]
     },
     "metadata": {},
     "output_type": "display_data"
    },
    {
     "data": {
      "text/html": [
       "<span style=\"color:cyan\"> |-default: 0.01</span>"
      ],
      "text/plain": [
       "<IPython.core.display.HTML object>"
      ]
     },
     "metadata": {},
     "output_type": "display_data"
    },
    {
     "data": {
      "text/html": [
       "<span style=\"color:blue\"> |-ordered: True</span>"
      ],
      "text/plain": [
       "<IPython.core.display.HTML object>"
      ]
     },
     "metadata": {},
     "output_type": "display_data"
    },
    {
     "data": {
      "text/html": [
       "<span style=\"color:cyan\"> |-values: [0.01, 0.001, 0.0001]</span>"
      ],
      "text/plain": [
       "<IPython.core.display.HTML object>"
      ]
     },
     "metadata": {},
     "output_type": "display_data"
    }
   ],
   "source": [
    "tuner.search_space_summary()"
   ]
  },
  {
   "cell_type": "code",
   "execution_count": 23,
   "metadata": {},
   "outputs": [],
   "source": [
    "# tuner.results_summary()"
   ]
  },
  {
   "cell_type": "code",
   "execution_count": null,
   "metadata": {},
   "outputs": [],
   "source": []
  }
 ],
 "metadata": {
  "kernelspec": {
   "display_name": "Python 3",
   "language": "python",
   "name": "python3"
  },
  "language_info": {
   "codemirror_mode": {
    "name": "ipython",
    "version": 3
   },
   "file_extension": ".py",
   "mimetype": "text/x-python",
   "name": "python",
   "nbconvert_exporter": "python",
   "pygments_lexer": "ipython3",
   "version": "3.7.7"
  }
 },
 "nbformat": 4,
 "nbformat_minor": 4
}
