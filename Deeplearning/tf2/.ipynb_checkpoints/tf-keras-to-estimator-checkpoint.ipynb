{
 "cells": [
  {
   "cell_type": "code",
   "execution_count": 1,
   "metadata": {
    "scrolled": true
   },
   "outputs": [
    {
     "name": "stderr",
     "output_type": "stream",
     "text": [
      "/home/kdd/.local/lib/python3.6/site-packages/tensorflow/python/framework/dtypes.py:516: FutureWarning: Passing (type, 1) or '1type' as a synonym of type is deprecated; in a future version of numpy, it will be understood as (type, (1,)) / '(1,)type'.\n",
      "  _np_qint8 = np.dtype([(\"qint8\", np.int8, 1)])\n",
      "/home/kdd/.local/lib/python3.6/site-packages/tensorflow/python/framework/dtypes.py:517: FutureWarning: Passing (type, 1) or '1type' as a synonym of type is deprecated; in a future version of numpy, it will be understood as (type, (1,)) / '(1,)type'.\n",
      "  _np_quint8 = np.dtype([(\"quint8\", np.uint8, 1)])\n",
      "/home/kdd/.local/lib/python3.6/site-packages/tensorflow/python/framework/dtypes.py:518: FutureWarning: Passing (type, 1) or '1type' as a synonym of type is deprecated; in a future version of numpy, it will be understood as (type, (1,)) / '(1,)type'.\n",
      "  _np_qint16 = np.dtype([(\"qint16\", np.int16, 1)])\n",
      "/home/kdd/.local/lib/python3.6/site-packages/tensorflow/python/framework/dtypes.py:519: FutureWarning: Passing (type, 1) or '1type' as a synonym of type is deprecated; in a future version of numpy, it will be understood as (type, (1,)) / '(1,)type'.\n",
      "  _np_quint16 = np.dtype([(\"quint16\", np.uint16, 1)])\n",
      "/home/kdd/.local/lib/python3.6/site-packages/tensorflow/python/framework/dtypes.py:520: FutureWarning: Passing (type, 1) or '1type' as a synonym of type is deprecated; in a future version of numpy, it will be understood as (type, (1,)) / '(1,)type'.\n",
      "  _np_qint32 = np.dtype([(\"qint32\", np.int32, 1)])\n",
      "/home/kdd/.local/lib/python3.6/site-packages/tensorflow/python/framework/dtypes.py:525: FutureWarning: Passing (type, 1) or '1type' as a synonym of type is deprecated; in a future version of numpy, it will be understood as (type, (1,)) / '(1,)type'.\n",
      "  np_resource = np.dtype([(\"resource\", np.ubyte, 1)])\n",
      "/home/kdd/.local/lib/python3.6/site-packages/tensorboard/compat/tensorflow_stub/dtypes.py:541: FutureWarning: Passing (type, 1) or '1type' as a synonym of type is deprecated; in a future version of numpy, it will be understood as (type, (1,)) / '(1,)type'.\n",
      "  _np_qint8 = np.dtype([(\"qint8\", np.int8, 1)])\n",
      "/home/kdd/.local/lib/python3.6/site-packages/tensorboard/compat/tensorflow_stub/dtypes.py:542: FutureWarning: Passing (type, 1) or '1type' as a synonym of type is deprecated; in a future version of numpy, it will be understood as (type, (1,)) / '(1,)type'.\n",
      "  _np_quint8 = np.dtype([(\"quint8\", np.uint8, 1)])\n",
      "/home/kdd/.local/lib/python3.6/site-packages/tensorboard/compat/tensorflow_stub/dtypes.py:543: FutureWarning: Passing (type, 1) or '1type' as a synonym of type is deprecated; in a future version of numpy, it will be understood as (type, (1,)) / '(1,)type'.\n",
      "  _np_qint16 = np.dtype([(\"qint16\", np.int16, 1)])\n",
      "/home/kdd/.local/lib/python3.6/site-packages/tensorboard/compat/tensorflow_stub/dtypes.py:544: FutureWarning: Passing (type, 1) or '1type' as a synonym of type is deprecated; in a future version of numpy, it will be understood as (type, (1,)) / '(1,)type'.\n",
      "  _np_quint16 = np.dtype([(\"quint16\", np.uint16, 1)])\n",
      "/home/kdd/.local/lib/python3.6/site-packages/tensorboard/compat/tensorflow_stub/dtypes.py:545: FutureWarning: Passing (type, 1) or '1type' as a synonym of type is deprecated; in a future version of numpy, it will be understood as (type, (1,)) / '(1,)type'.\n",
      "  _np_qint32 = np.dtype([(\"qint32\", np.int32, 1)])\n",
      "/home/kdd/.local/lib/python3.6/site-packages/tensorboard/compat/tensorflow_stub/dtypes.py:550: FutureWarning: Passing (type, 1) or '1type' as a synonym of type is deprecated; in a future version of numpy, it will be understood as (type, (1,)) / '(1,)type'.\n",
      "  np_resource = np.dtype([(\"resource\", np.ubyte, 1)])\n"
     ]
    },
    {
     "name": "stdout",
     "output_type": "stream",
     "text": [
      "2.0.0-beta1\n",
      "sys.version_info(major=3, minor=6, micro=5, releaselevel='final', serial=0)\n",
      "matplotlib 3.0.3\n",
      "numpy 1.18.1\n",
      "pandas 0.24.1\n",
      "sklearn 0.21.2\n",
      "tensorflow 2.0.0-beta1\n",
      "tensorflow.python.keras.api._v2.keras 2.2.4-tf\n"
     ]
    }
   ],
   "source": [
    "import matplotlib as mpl\n",
    "import matplotlib.pyplot as plt\n",
    "%matplotlib inline\n",
    "import numpy as np\n",
    "import sklearn\n",
    "import pandas as pd\n",
    "import os\n",
    "import sys\n",
    "import time\n",
    "import tensorflow as tf\n",
    "from tensorflow import keras\n",
    "from sklearn.datasets import fetch_california_housing\n",
    "\n",
    "print(tf.__version__)\n",
    "print(sys.version_info)\n",
    "for module in mpl, np, pd, sklearn, tf, keras:\n",
    "    print(module.__name__, module.__version__)"
   ]
  },
  {
   "cell_type": "code",
   "execution_count": 2,
   "metadata": {},
   "outputs": [
    {
     "name": "stdout",
     "output_type": "stream",
     "text": [
      "\u001b[0m\u001b[38;5;105mcsv\u001b[0m/  \u001b[38;5;78meval.csv\u001b[0m  \u001b[38;5;105mtfrecord\u001b[0m/  \u001b[38;5;105mtfrecord_zip\u001b[0m/  \u001b[38;5;78mtrain.csv\u001b[0m\r\n"
     ]
    }
   ],
   "source": [
    "%ls data/"
   ]
  },
  {
   "cell_type": "code",
   "execution_count": 3,
   "metadata": {},
   "outputs": [],
   "source": [
    "train_file = './data/train.csv'\n",
    "eval_file = './data/eval.csv'\n",
    "\n",
    "train_df = pd.read_csv(train_file)\n",
    "eval_df = pd.read_csv(eval_file)"
   ]
  },
  {
   "cell_type": "code",
   "execution_count": 4,
   "metadata": {},
   "outputs": [
    {
     "name": "stdout",
     "output_type": "stream",
     "text": [
      "   survived   sex   age  n_siblings_spouses  parch  fare  class     deck  \\\n",
      "0         0  male  22.0                   1      0  7.25  Third  unknown   \n",
      "\n",
      "   embark_town alone  \n",
      "0  Southampton     n  \n",
      "   survived   sex   age  n_siblings_spouses  parch  fare  class     deck  \\\n",
      "0         0  male  35.0                   0      0  8.05  Third  unknown   \n",
      "\n",
      "   embark_town alone  \n",
      "0  Southampton     y  \n"
     ]
    }
   ],
   "source": [
    "print(train_df.head(1))\n",
    "print(eval_df.head(1))"
   ]
  },
  {
   "cell_type": "code",
   "execution_count": 5,
   "metadata": {
    "scrolled": false
   },
   "outputs": [
    {
     "data": {
      "text/html": [
       "<div>\n",
       "<style scoped>\n",
       "    .dataframe tbody tr th:only-of-type {\n",
       "        vertical-align: middle;\n",
       "    }\n",
       "\n",
       "    .dataframe tbody tr th {\n",
       "        vertical-align: top;\n",
       "    }\n",
       "\n",
       "    .dataframe thead th {\n",
       "        text-align: right;\n",
       "    }\n",
       "</style>\n",
       "<table border=\"1\" class=\"dataframe\">\n",
       "  <thead>\n",
       "    <tr style=\"text-align: right;\">\n",
       "      <th></th>\n",
       "      <th>survived</th>\n",
       "      <th>age</th>\n",
       "      <th>n_siblings_spouses</th>\n",
       "      <th>parch</th>\n",
       "      <th>fare</th>\n",
       "    </tr>\n",
       "  </thead>\n",
       "  <tbody>\n",
       "    <tr>\n",
       "      <th>count</th>\n",
       "      <td>627.000000</td>\n",
       "      <td>627.000000</td>\n",
       "      <td>627.000000</td>\n",
       "      <td>627.000000</td>\n",
       "      <td>627.000000</td>\n",
       "    </tr>\n",
       "    <tr>\n",
       "      <th>mean</th>\n",
       "      <td>0.387560</td>\n",
       "      <td>29.631308</td>\n",
       "      <td>0.545455</td>\n",
       "      <td>0.379585</td>\n",
       "      <td>34.385399</td>\n",
       "    </tr>\n",
       "    <tr>\n",
       "      <th>std</th>\n",
       "      <td>0.487582</td>\n",
       "      <td>12.511818</td>\n",
       "      <td>1.151090</td>\n",
       "      <td>0.792999</td>\n",
       "      <td>54.597730</td>\n",
       "    </tr>\n",
       "    <tr>\n",
       "      <th>min</th>\n",
       "      <td>0.000000</td>\n",
       "      <td>0.750000</td>\n",
       "      <td>0.000000</td>\n",
       "      <td>0.000000</td>\n",
       "      <td>0.000000</td>\n",
       "    </tr>\n",
       "    <tr>\n",
       "      <th>25%</th>\n",
       "      <td>0.000000</td>\n",
       "      <td>23.000000</td>\n",
       "      <td>0.000000</td>\n",
       "      <td>0.000000</td>\n",
       "      <td>7.895800</td>\n",
       "    </tr>\n",
       "    <tr>\n",
       "      <th>50%</th>\n",
       "      <td>0.000000</td>\n",
       "      <td>28.000000</td>\n",
       "      <td>0.000000</td>\n",
       "      <td>0.000000</td>\n",
       "      <td>15.045800</td>\n",
       "    </tr>\n",
       "    <tr>\n",
       "      <th>75%</th>\n",
       "      <td>1.000000</td>\n",
       "      <td>35.000000</td>\n",
       "      <td>1.000000</td>\n",
       "      <td>0.000000</td>\n",
       "      <td>31.387500</td>\n",
       "    </tr>\n",
       "    <tr>\n",
       "      <th>max</th>\n",
       "      <td>1.000000</td>\n",
       "      <td>80.000000</td>\n",
       "      <td>8.000000</td>\n",
       "      <td>5.000000</td>\n",
       "      <td>512.329200</td>\n",
       "    </tr>\n",
       "  </tbody>\n",
       "</table>\n",
       "</div>"
      ],
      "text/plain": [
       "         survived         age  n_siblings_spouses       parch        fare\n",
       "count  627.000000  627.000000          627.000000  627.000000  627.000000\n",
       "mean     0.387560   29.631308            0.545455    0.379585   34.385399\n",
       "std      0.487582   12.511818            1.151090    0.792999   54.597730\n",
       "min      0.000000    0.750000            0.000000    0.000000    0.000000\n",
       "25%      0.000000   23.000000            0.000000    0.000000    7.895800\n",
       "50%      0.000000   28.000000            0.000000    0.000000   15.045800\n",
       "75%      1.000000   35.000000            1.000000    0.000000   31.387500\n",
       "max      1.000000   80.000000            8.000000    5.000000  512.329200"
      ]
     },
     "execution_count": 5,
     "metadata": {},
     "output_type": "execute_result"
    }
   ],
   "source": [
    "train_df.describe()"
   ]
  },
  {
   "cell_type": "code",
   "execution_count": 6,
   "metadata": {},
   "outputs": [
    {
     "data": {
      "text/plain": [
       "((627, 10), (264, 10))"
      ]
     },
     "execution_count": 6,
     "metadata": {},
     "output_type": "execute_result"
    }
   ],
   "source": [
    "train_df.shape, eval_df.shape"
   ]
  },
  {
   "cell_type": "code",
   "execution_count": 7,
   "metadata": {},
   "outputs": [
    {
     "data": {
      "text/plain": [
       "Index(['survived', 'sex', 'age', 'n_siblings_spouses', 'parch', 'fare',\n",
       "       'class', 'deck', 'embark_town', 'alone'],\n",
       "      dtype='object')"
      ]
     },
     "execution_count": 7,
     "metadata": {},
     "output_type": "execute_result"
    }
   ],
   "source": [
    "train_df.columns"
   ]
  },
  {
   "cell_type": "code",
   "execution_count": 8,
   "metadata": {},
   "outputs": [
    {
     "data": {
      "text/plain": [
       "<matplotlib.axes._subplots.AxesSubplot at 0x7f13c3c2b748>"
      ]
     },
     "execution_count": 8,
     "metadata": {},
     "output_type": "execute_result"
    },
    {
     "data": {
      "image/png": "[encoded data removed]",
      "text/plain": [
       "<Figure size 432x288 with 1 Axes>"
      ]
     },
     "metadata": {
      "needs_background": "light"
     },
     "output_type": "display_data"
    }
   ],
   "source": [
    "train_df.survived.value_counts().plot(kind='barh')"
   ]
  },
  {
   "cell_type": "code",
   "execution_count": 9,
   "metadata": {
    "scrolled": true
   },
   "outputs": [
    {
     "data": {
      "text/plain": [
       "<matplotlib.axes._subplots.AxesSubplot at 0x7f13c3b6fdd8>"
      ]
     },
     "execution_count": 9,
     "metadata": {},
     "output_type": "execute_result"
    },
    {
     "data": {
      "image/png": "[encoded data removed]",
      "text/plain": [
       "<Figure size 432x288 with 1 Axes>"
      ]
     },
     "metadata": {
      "needs_background": "light"
     },
     "output_type": "display_data"
    }
   ],
   "source": [
    "train_df.sex.value_counts().plot(kind='barh')"
   ]
  },
  {
   "cell_type": "code",
   "execution_count": 10,
   "metadata": {},
   "outputs": [
    {
     "data": {
      "text/plain": [
       "<matplotlib.axes._subplots.AxesSubplot at 0x7f13c1adab38>"
      ]
     },
     "execution_count": 10,
     "metadata": {},
     "output_type": "execute_result"
    },
    {
     "data": {
      "image/png": "[encoded data removed]",
      "text/plain": [
       "<Figure size 432x288 with 1 Axes>"
      ]
     },
     "metadata": {
      "needs_background": "light"
     },
     "output_type": "display_data"
    }
   ],
   "source": [
    "train_df.age.hist(bins=10)"
   ]
  },
  {
   "cell_type": "code",
   "execution_count": 11,
   "metadata": {},
   "outputs": [
    {
     "data": {
      "text/plain": [
       "<matplotlib.axes._subplots.AxesSubplot at 0x7f13c1a5f7f0>"
      ]
     },
     "execution_count": 11,
     "metadata": {},
     "output_type": "execute_result"
    },
    {
     "data": {
      "image/png": "[encoded data removed]",
      "text/plain": [
       "<Figure size 432x288 with 1 Axes>"
      ]
     },
     "metadata": {
      "needs_background": "light"
     },
     "output_type": "display_data"
    }
   ],
   "source": [
    "train_df['class'].value_counts().plot(kind='barh')"
   ]
  },
  {
   "cell_type": "code",
   "execution_count": 12,
   "metadata": {},
   "outputs": [
    {
     "data": {
      "text/plain": [
       "sex\n",
       "female    217\n",
       "male      410\n",
       "Name: survived, dtype: int64"
      ]
     },
     "execution_count": 12,
     "metadata": {},
     "output_type": "execute_result"
    }
   ],
   "source": [
    "train_df.groupby('sex').survived.count()"
   ]
  },
  {
   "cell_type": "code",
   "execution_count": 13,
   "metadata": {},
   "outputs": [
    {
     "data": {
      "text/plain": [
       "sex\n",
       "female    0.778802\n",
       "male      0.180488\n",
       "Name: survived, dtype: float64"
      ]
     },
     "execution_count": 13,
     "metadata": {},
     "output_type": "execute_result"
    }
   ],
   "source": [
    "train_df.groupby('sex').survived.mean()"
   ]
  },
  {
   "cell_type": "code",
   "execution_count": 14,
   "metadata": {},
   "outputs": [
    {
     "data": {
      "text/plain": [
       "<matplotlib.axes._subplots.AxesSubplot at 0x7f13c1a34cf8>"
      ]
     },
     "execution_count": 14,
     "metadata": {},
     "output_type": "execute_result"
    },
    {
     "data": {
      "image/png": "[encoded data removed]",
      "text/plain": [
       "<Figure size 432x288 with 1 Axes>"
      ]
     },
     "metadata": {
      "needs_background": "light"
     },
     "output_type": "display_data"
    }
   ],
   "source": [
    "train_df.groupby('sex').mean().plot(kind='barh')"
   ]
  },
  {
   "cell_type": "code",
   "execution_count": 15,
   "metadata": {
    "scrolled": true
   },
   "outputs": [
    {
     "data": {
      "text/plain": [
       "<matplotlib.axes._subplots.AxesSubplot at 0x7f13c19b38d0>"
      ]
     },
     "execution_count": 15,
     "metadata": {},
     "output_type": "execute_result"
    },
    {
     "data": {
      "image/png": "[encoded data removed]",
      "text/plain": [
       "<Figure size 432x288 with 1 Axes>"
      ]
     },
     "metadata": {
      "needs_background": "light"
     },
     "output_type": "display_data"
    }
   ],
   "source": [
    "train_df.groupby('sex').survived.mean().plot(kind='barh')"
   ]
  },
  {
   "cell_type": "code",
   "execution_count": 16,
   "metadata": {},
   "outputs": [],
   "source": [
    "y_trian = train_df.pop('survived')\n",
    "y_eval = eval_df.pop('survived')"
   ]
  },
  {
   "cell_type": "code",
   "execution_count": 18,
   "metadata": {},
   "outputs": [
    {
     "data": {
      "text/plain": [
       "((627, 9), (264, 9))"
      ]
     },
     "execution_count": 18,
     "metadata": {},
     "output_type": "execute_result"
    }
   ],
   "source": [
    "train_df.shape, eval_df.shape"
   ]
  },
  {
   "cell_type": "code",
   "execution_count": 20,
   "metadata": {},
   "outputs": [
    {
     "name": "stdout",
     "output_type": "stream",
     "text": [
      "sex ['male' 'female']\n",
      "parch [0 1 2 5 3 4]\n",
      "class ['Third' 'First' 'Second']\n",
      "deck ['unknown' 'C' 'G' 'A' 'B' 'D' 'F' 'E']\n",
      "embark_town ['Southampton' 'Cherbourg' 'Queenstown' 'unknown']\n",
      "alone ['n' 'y']\n"
     ]
    }
   ],
   "source": [
    "categorical_columns = ['sex', 'parch', 'class', 'deck', 'embark_town', 'alone']\n",
    "numeric_columns = ['age', 'n_siblings_spouses', 'fare']\n",
    "feature_columns = []\n",
    "for categorical_column in categorical_columns:\n",
    "    vocab = train_df[categorical_column].unique()\n",
    "    print(categorical_column, vocab)\n",
    "    categ_col = tf.feature_column.categorical_column_with_vocabulary_list(categorical_column, vocab)\n",
    "    categ_col = tf.feature_column.indicator_column(categ_col)\n",
    "    feature_columns.append(categ_col)\n",
    "    \n",
    "for numeric_column in numeric_columns:\n",
    "    numeric_column = tf.feature_column.numeric_column(numeric_column, dtype=tf.float32)\n",
    "    feature_columns.append(numeric_column)"
   ]
  },
  {
   "cell_type": "code",
   "execution_count": 21,
   "metadata": {},
   "outputs": [
    {
     "data": {
      "text/plain": [
       "[IndicatorColumn(categorical_column=VocabularyListCategoricalColumn(key='sex', vocabulary_list=('male', 'female'), dtype=tf.string, default_value=-1, num_oov_buckets=0)),\n",
       " IndicatorColumn(categorical_column=VocabularyListCategoricalColumn(key='parch', vocabulary_list=(0, 1, 2, 5, 3, 4), dtype=tf.int64, default_value=-1, num_oov_buckets=0)),\n",
       " IndicatorColumn(categorical_column=VocabularyListCategoricalColumn(key='class', vocabulary_list=('Third', 'First', 'Second'), dtype=tf.string, default_value=-1, num_oov_buckets=0)),\n",
       " IndicatorColumn(categorical_column=VocabularyListCategoricalColumn(key='deck', vocabulary_list=('unknown', 'C', 'G', 'A', 'B', 'D', 'F', 'E'), dtype=tf.string, default_value=-1, num_oov_buckets=0)),\n",
       " IndicatorColumn(categorical_column=VocabularyListCategoricalColumn(key='embark_town', vocabulary_list=('Southampton', 'Cherbourg', 'Queenstown', 'unknown'), dtype=tf.string, default_value=-1, num_oov_buckets=0)),\n",
       " IndicatorColumn(categorical_column=VocabularyListCategoricalColumn(key='alone', vocabulary_list=('n', 'y'), dtype=tf.string, default_value=-1, num_oov_buckets=0)),\n",
       " NumericColumn(key='age', shape=(1,), default_value=None, dtype=tf.float32, normalizer_fn=None),\n",
       " NumericColumn(key='n_siblings_spouses', shape=(1,), default_value=None, dtype=tf.float32, normalizer_fn=None),\n",
       " NumericColumn(key='fare', shape=(1,), default_value=None, dtype=tf.float32, normalizer_fn=None)]"
      ]
     },
     "execution_count": 21,
     "metadata": {},
     "output_type": "execute_result"
    }
   ],
   "source": [
    "feature_columns"
   ]
  },
  {
   "cell_type": "code",
   "execution_count": 23,
   "metadata": {},
   "outputs": [],
   "source": [
    "def df_to_dataset(feature, target, epochs=10, shuffle=True, batch_size=32):\n",
    "    dataset = tf.data.Dataset.from_tensor_slices((dict(feature), target))\n",
    "    if shuffle:\n",
    "        dataset = dataset.shuffle(buffer_size=len(feature))\n",
    "    dataset = dataset.repeat(epochs).batch(batch_size)\n",
    "    return dataset\n",
    "        "
   ]
  },
  {
   "cell_type": "code",
   "execution_count": 25,
   "metadata": {},
   "outputs": [
    {
     "name": "stdout",
     "output_type": "stream",
     "text": [
      "{'sex': <tf.Tensor: id=41863, shape=(3,), dtype=string, numpy=array([b'male', b'female', b'male'], dtype=object)>, 'age': <tf.Tensor: id=41855, shape=(3,), dtype=float64, numpy=array([ 9., 18., 36.])>, 'n_siblings_spouses': <tf.Tensor: id=41861, shape=(3,), dtype=int32, numpy=array([5, 1, 0], dtype=int32)>, 'parch': <tf.Tensor: id=41862, shape=(3,), dtype=int32, numpy=array([2, 0, 0], dtype=int32)>, 'fare': <tf.Tensor: id=41860, shape=(3,), dtype=float64, numpy=array([46.9  , 17.8  , 12.875])>, 'class': <tf.Tensor: id=41857, shape=(3,), dtype=string, numpy=array([b'Third', b'Third', b'Second'], dtype=object)>, 'deck': <tf.Tensor: id=41858, shape=(3,), dtype=string, numpy=array([b'unknown', b'unknown', b'D'], dtype=object)>, 'embark_town': <tf.Tensor: id=41859, shape=(3,), dtype=string, numpy=array([b'Southampton', b'Southampton', b'Cherbourg'], dtype=object)>, 'alone': <tf.Tensor: id=41856, shape=(3,), dtype=string, numpy=array([b'n', b'n', b'y'], dtype=object)>} tf.Tensor([0 0 0], shape=(3,), dtype=int32)\n"
     ]
    }
   ],
   "source": [
    "train_dataset = df_to_dataset(train_df, y_trian, batch_size=3)\n",
    "for x, y in train_dataset.take(1):\n",
    "    print(x, y)"
   ]
  },
  {
   "cell_type": "code",
   "execution_count": 26,
   "metadata": {},
   "outputs": [
    {
     "name": "stdout",
     "output_type": "stream",
     "text": [
      "tf.Tensor(\n",
      "[[5.]\n",
      " [1.]\n",
      " [0.]], shape=(3, 1), dtype=float32)\n",
      "WARNING:tensorflow:From /home/kdd/.local/lib/python3.6/site-packages/tensorflow/python/feature_column/feature_column_v2.py:2655: add_dispatch_support.<locals>.wrapper (from tensorflow.python.ops.array_ops) is deprecated and will be removed in a future version.\n",
      "Instructions for updating:\n",
      "Use tf.where in 2.0, which has the same broadcast rule as np.where\n",
      "WARNING:tensorflow:From /home/kdd/.local/lib/python3.6/site-packages/tensorflow/python/feature_column/feature_column_v2.py:4215: IndicatorColumn._variable_shape (from tensorflow.python.feature_column.feature_column_v2) is deprecated and will be removed in a future version.\n",
      "Instructions for updating:\n",
      "The old _FeatureColumn APIs are being deprecated. Please use the new FeatureColumn APIs instead.\n",
      "WARNING:tensorflow:From /home/kdd/.local/lib/python3.6/site-packages/tensorflow/python/feature_column/feature_column_v2.py:4270: VocabularyListCategoricalColumn._num_buckets (from tensorflow.python.feature_column.feature_column_v2) is deprecated and will be removed in a future version.\n",
      "Instructions for updating:\n",
      "The old _FeatureColumn APIs are being deprecated. Please use the new FeatureColumn APIs instead.\n",
      "tf.Tensor(\n",
      "[[1. 0.]\n",
      " [0. 1.]\n",
      " [1. 0.]], shape=(3, 2), dtype=float32)\n"
     ]
    }
   ],
   "source": [
    "for x, y in train_dataset.take(1):\n",
    "    age_col = feature_columns[7]\n",
    "    gender_col = feature_columns[0]\n",
    "    print(keras.layers.DenseFeatures(age_col)(x))\n",
    "    print(keras.layers.DenseFeatures(gender_col)(x))"
   ]
  },
  {
   "cell_type": "code",
   "execution_count": 30,
   "metadata": {
    "scrolled": true
   },
   "outputs": [
    {
     "name": "stdout",
     "output_type": "stream",
     "text": [
      "tf.Tensor(\n",
      "[[ 9.     1.     0.     1.     0.     0.     1.     0.     0.     0.\n",
      "   0.     0.     0.     0.     1.     0.     0.     0.    46.9    5.\n",
      "   0.     0.     1.     0.     0.     0.     1.     0.   ]\n",
      " [18.     1.     0.     1.     0.     0.     1.     0.     0.     0.\n",
      "   0.     0.     0.     0.     1.     0.     0.     0.    17.8    1.\n",
      "   1.     0.     0.     0.     0.     0.     0.     1.   ]\n",
      " [36.     0.     1.     0.     0.     1.     0.     0.     0.     0.\n",
      "   0.     1.     0.     0.     0.     1.     0.     0.    12.875  0.\n",
      "   1.     0.     0.     0.     0.     0.     1.     0.   ]], shape=(3, 28), dtype=float32)\n"
     ]
    }
   ],
   "source": [
    "for x, y in train_dataset.take(1):\n",
    "    print(keras.layers.DenseFeatures(feature_columns)(x))"
   ]
  },
  {
   "cell_type": "code",
   "execution_count": 31,
   "metadata": {},
   "outputs": [],
   "source": [
    "train_dataset = df_to_dataset(train_df, y_trian, epochs=100)\n",
    "eval_dataset = df_to_dataset(eval_df, y_eval, epochs=1)"
   ]
  },
  {
   "cell_type": "code",
   "execution_count": 36,
   "metadata": {},
   "outputs": [],
   "source": [
    "model = keras.models.Sequential([\n",
    "    keras.layers.DenseFeatures(feature_columns),\n",
    "    keras.layers.Dense(100, activation='relu'),\n",
    "    keras.layers.Dense(100, activation='relu'),\n",
    "    keras.layers.Dense(2, activation='softmax')\n",
    "])\n",
    "\n",
    "model.compile(loss='sparse_categorical_crossentropy',\n",
    "             optimizer = keras.optimizers.SGD(learning_rate=0.01),\n",
    "             metrics=['accuracy'])"
   ]
  },
  {
   "cell_type": "code",
   "execution_count": 37,
   "metadata": {},
   "outputs": [
    {
     "name": "stdout",
     "output_type": "stream",
     "text": [
      "Epoch 1/100\n",
      "WARNING:tensorflow:Entity <bound method DenseFeatures.call of <tensorflow.python.feature_column.feature_column_v2.DenseFeatures object at 0x7f13ac38f5c0>> could not be transformed and will be executed as-is. Please report this to the AutoGraph team. When filing the bug, set the verbosity to 10 (on Linux, `export AUTOGRAPH_VERBOSITY=10`) and attach the full output. Cause: converting <bound method DenseFeatures.call of <tensorflow.python.feature_column.feature_column_v2.DenseFeatures object at 0x7f13ac38f5c0>>: AttributeError: module 'gast' has no attribute 'Num'\n",
      "WARNING: Entity <bound method DenseFeatures.call of <tensorflow.python.feature_column.feature_column_v2.DenseFeatures object at 0x7f13ac38f5c0>> could not be transformed and will be executed as-is. Please report this to the AutoGraph team. When filing the bug, set the verbosity to 10 (on Linux, `export AUTOGRAPH_VERBOSITY=10`) and attach the full output. Cause: converting <bound method DenseFeatures.call of <tensorflow.python.feature_column.feature_column_v2.DenseFeatures object at 0x7f13ac38f5c0>>: AttributeError: module 'gast' has no attribute 'Num'\n",
      "19/19 [==============================] - 1s 65ms/step - loss: 2.3075 - accuracy: 0.5300 - val_loss: 0.7615 - val_accuracy: 0.6250\n",
      "Epoch 2/100\n",
      "19/19 [==============================] - 0s 6ms/step - loss: 0.8421 - accuracy: 0.6689 - val_loss: 0.5965 - val_accuracy: 0.7227\n",
      "Epoch 3/100\n",
      "19/19 [==============================] - 0s 6ms/step - loss: 0.7838 - accuracy: 0.6182 - val_loss: 0.5899 - val_accuracy: 0.7031\n",
      "Epoch 4/100\n",
      "19/19 [==============================] - 0s 6ms/step - loss: 0.5960 - accuracy: 0.7085 - val_loss: 0.5890 - val_accuracy: 0.7109\n",
      "Epoch 5/100\n",
      "19/19 [==============================] - 0s 6ms/step - loss: 0.6434 - accuracy: 0.6691 - val_loss: 0.5830 - val_accuracy: 0.7188\n",
      "Epoch 6/100\n",
      "19/19 [==============================] - 0s 6ms/step - loss: 0.5937 - accuracy: 0.7068 - val_loss: 0.6291 - val_accuracy: 0.6641\n",
      "Epoch 7/100\n",
      "19/19 [==============================] - 0s 6ms/step - loss: 0.6289 - accuracy: 0.6919 - val_loss: 0.5961 - val_accuracy: 0.7227\n",
      "Epoch 8/100\n",
      "19/19 [==============================] - 0s 6ms/step - loss: 0.5870 - accuracy: 0.6973 - val_loss: 0.5773 - val_accuracy: 0.7188\n",
      "Epoch 9/100\n",
      "19/19 [==============================] - 0s 7ms/step - loss: 0.6105 - accuracy: 0.7190 - val_loss: 0.5784 - val_accuracy: 0.6953\n",
      "Epoch 10/100\n",
      "19/19 [==============================] - 0s 8ms/step - loss: 0.6090 - accuracy: 0.7181 - val_loss: 0.5735 - val_accuracy: 0.7227\n",
      "Epoch 11/100\n",
      "19/19 [==============================] - 0s 6ms/step - loss: 0.5924 - accuracy: 0.6931 - val_loss: 0.5720 - val_accuracy: 0.7344\n",
      "Epoch 12/100\n",
      "19/19 [==============================] - 0s 6ms/step - loss: 0.6181 - accuracy: 0.6636 - val_loss: 0.6373 - val_accuracy: 0.6641\n",
      "Epoch 13/100\n",
      "19/19 [==============================] - 0s 6ms/step - loss: 0.5549 - accuracy: 0.7593 - val_loss: 0.5645 - val_accuracy: 0.7305\n",
      "Epoch 14/100\n",
      "19/19 [==============================] - 0s 7ms/step - loss: 0.6014 - accuracy: 0.6878 - val_loss: 0.5690 - val_accuracy: 0.7305\n",
      "Epoch 15/100\n",
      "19/19 [==============================] - 0s 7ms/step - loss: 0.5628 - accuracy: 0.7498 - val_loss: 0.6497 - val_accuracy: 0.6289\n",
      "Epoch 16/100\n",
      "19/19 [==============================] - 0s 6ms/step - loss: 0.5832 - accuracy: 0.6803 - val_loss: 0.6071 - val_accuracy: 0.6992\n",
      "Epoch 17/100\n",
      "19/19 [==============================] - 0s 7ms/step - loss: 0.5943 - accuracy: 0.6758 - val_loss: 0.5826 - val_accuracy: 0.7148\n",
      "Epoch 18/100\n",
      "19/19 [==============================] - 0s 7ms/step - loss: 0.5639 - accuracy: 0.7178 - val_loss: 0.5577 - val_accuracy: 0.7266\n",
      "Epoch 19/100\n",
      "19/19 [==============================] - 0s 8ms/step - loss: 0.5864 - accuracy: 0.7133 - val_loss: 0.5798 - val_accuracy: 0.7188\n",
      "Epoch 20/100\n",
      "19/19 [==============================] - 0s 7ms/step - loss: 0.5756 - accuracy: 0.7040 - val_loss: 0.5506 - val_accuracy: 0.7227\n",
      "Epoch 21/100\n",
      "19/19 [==============================] - 0s 6ms/step - loss: 0.5586 - accuracy: 0.7437 - val_loss: 0.5683 - val_accuracy: 0.7188\n",
      "Epoch 22/100\n",
      "19/19 [==============================] - 0s 6ms/step - loss: 0.5668 - accuracy: 0.7203 - val_loss: 0.5516 - val_accuracy: 0.7227\n",
      "Epoch 23/100\n",
      "19/19 [==============================] - 0s 6ms/step - loss: 0.5657 - accuracy: 0.7023 - val_loss: 0.6015 - val_accuracy: 0.6289\n",
      "Epoch 24/100\n",
      "19/19 [==============================] - 0s 6ms/step - loss: 0.5356 - accuracy: 0.7501 - val_loss: 0.5981 - val_accuracy: 0.7148\n",
      "Epoch 25/100\n",
      "19/19 [==============================] - 0s 6ms/step - loss: 0.5743 - accuracy: 0.7029 - val_loss: 0.5567 - val_accuracy: 0.7188\n",
      "Epoch 26/100\n",
      "19/19 [==============================] - 0s 6ms/step - loss: 0.5767 - accuracy: 0.7353 - val_loss: 0.6509 - val_accuracy: 0.6953\n",
      "Epoch 27/100\n",
      "19/19 [==============================] - 0s 7ms/step - loss: 0.5525 - accuracy: 0.7240 - val_loss: 0.5427 - val_accuracy: 0.7227\n",
      "Epoch 28/100\n",
      "19/19 [==============================] - 0s 6ms/step - loss: 0.5608 - accuracy: 0.7248 - val_loss: 0.5476 - val_accuracy: 0.7109\n",
      "Epoch 29/100\n",
      "19/19 [==============================] - 0s 7ms/step - loss: 0.5358 - accuracy: 0.7430 - val_loss: 0.5463 - val_accuracy: 0.7344\n",
      "Epoch 30/100\n",
      "19/19 [==============================] - 0s 8ms/step - loss: 0.5354 - accuracy: 0.7520 - val_loss: 0.5359 - val_accuracy: 0.7383\n",
      "Epoch 31/100\n",
      "19/19 [==============================] - 0s 7ms/step - loss: 0.5563 - accuracy: 0.7619 - val_loss: 0.5585 - val_accuracy: 0.7148\n",
      "Epoch 32/100\n",
      "19/19 [==============================] - 0s 7ms/step - loss: 0.5654 - accuracy: 0.7414 - val_loss: 0.6500 - val_accuracy: 0.6328\n",
      "Epoch 33/100\n",
      "19/19 [==============================] - 0s 7ms/step - loss: 0.5844 - accuracy: 0.7118 - val_loss: 0.5333 - val_accuracy: 0.7344\n",
      "Epoch 34/100\n",
      "19/19 [==============================] - 0s 6ms/step - loss: 0.5588 - accuracy: 0.7313 - val_loss: 0.6099 - val_accuracy: 0.6758\n",
      "Epoch 35/100\n",
      "19/19 [==============================] - 0s 7ms/step - loss: 0.5475 - accuracy: 0.7509 - val_loss: 0.5337 - val_accuracy: 0.7188\n",
      "Epoch 36/100\n",
      "19/19 [==============================] - 0s 6ms/step - loss: 0.5656 - accuracy: 0.7409 - val_loss: 0.5298 - val_accuracy: 0.7461\n",
      "Epoch 37/100\n",
      "19/19 [==============================] - 0s 6ms/step - loss: 0.5626 - accuracy: 0.7417 - val_loss: 0.5756 - val_accuracy: 0.7070\n",
      "Epoch 38/100\n",
      "19/19 [==============================] - 0s 6ms/step - loss: 0.5352 - accuracy: 0.7621 - val_loss: 0.5478 - val_accuracy: 0.7539\n",
      "Epoch 39/100\n",
      "19/19 [==============================] - 0s 6ms/step - loss: 0.5830 - accuracy: 0.7405 - val_loss: 0.5674 - val_accuracy: 0.6836\n",
      "Epoch 40/100\n",
      "19/19 [==============================] - 0s 6ms/step - loss: 0.5465 - accuracy: 0.7385 - val_loss: 0.5234 - val_accuracy: 0.7500\n",
      "Epoch 41/100\n",
      "19/19 [==============================] - 0s 6ms/step - loss: 0.5279 - accuracy: 0.7565 - val_loss: 0.5246 - val_accuracy: 0.7500\n",
      "Epoch 42/100\n",
      "19/19 [==============================] - 0s 6ms/step - loss: 0.5504 - accuracy: 0.7350 - val_loss: 0.6087 - val_accuracy: 0.7266\n",
      "Epoch 43/100\n",
      "19/19 [==============================] - 0s 6ms/step - loss: 0.5657 - accuracy: 0.7506 - val_loss: 0.5513 - val_accuracy: 0.7305\n",
      "Epoch 44/100\n",
      "19/19 [==============================] - 0s 7ms/step - loss: 0.5235 - accuracy: 0.7814 - val_loss: 0.5394 - val_accuracy: 0.7422\n",
      "Epoch 45/100\n",
      "19/19 [==============================] - 0s 6ms/step - loss: 0.5483 - accuracy: 0.7432 - val_loss: 0.5816 - val_accuracy: 0.6875\n",
      "Epoch 46/100\n",
      "19/19 [==============================] - 0s 6ms/step - loss: 0.5139 - accuracy: 0.7859 - val_loss: 0.5092 - val_accuracy: 0.7617\n",
      "Epoch 47/100\n",
      "19/19 [==============================] - 0s 6ms/step - loss: 0.5137 - accuracy: 0.7459 - val_loss: 0.5594 - val_accuracy: 0.6992\n",
      "Epoch 48/100\n",
      "19/19 [==============================] - 0s 6ms/step - loss: 0.5522 - accuracy: 0.7396 - val_loss: 0.5253 - val_accuracy: 0.7344\n",
      "Epoch 49/100\n",
      "19/19 [==============================] - 0s 6ms/step - loss: 0.5195 - accuracy: 0.7812 - val_loss: 0.5251 - val_accuracy: 0.7461\n",
      "Epoch 50/100\n",
      "19/19 [==============================] - 0s 6ms/step - loss: 0.5331 - accuracy: 0.7074 - val_loss: 0.5538 - val_accuracy: 0.7227\n"
     ]
    },
    {
     "name": "stdout",
     "output_type": "stream",
     "text": [
      "Epoch 51/100\n",
      "19/19 [==============================] - 0s 6ms/step - loss: 0.5614 - accuracy: 0.7697 - val_loss: 0.7254 - val_accuracy: 0.6523\n",
      "Epoch 52/100\n",
      "19/19 [==============================] - 0s 6ms/step - loss: 0.5565 - accuracy: 0.7237 - val_loss: 0.5145 - val_accuracy: 0.7383\n",
      "Epoch 53/100\n",
      "19/19 [==============================] - 0s 6ms/step - loss: 0.5181 - accuracy: 0.7828 - val_loss: 0.5075 - val_accuracy: 0.7383\n",
      "Epoch 54/100\n",
      "19/19 [==============================] - 0s 5ms/step - loss: 0.5307 - accuracy: 0.7598 - val_loss: 0.5209 - val_accuracy: 0.7383\n",
      "Epoch 55/100\n",
      "19/19 [==============================] - 0s 6ms/step - loss: 0.5516 - accuracy: 0.7374 - val_loss: 0.5924 - val_accuracy: 0.7188\n",
      "Epoch 56/100\n",
      "19/19 [==============================] - 0s 6ms/step - loss: 0.5218 - accuracy: 0.7552 - val_loss: 0.5056 - val_accuracy: 0.7578\n",
      "Epoch 57/100\n",
      "19/19 [==============================] - 0s 6ms/step - loss: 0.5642 - accuracy: 0.7384 - val_loss: 0.5176 - val_accuracy: 0.7500\n",
      "Epoch 58/100\n",
      "19/19 [==============================] - 0s 6ms/step - loss: 0.5122 - accuracy: 0.7960 - val_loss: 0.5200 - val_accuracy: 0.7383\n",
      "Epoch 59/100\n",
      "19/19 [==============================] - 0s 5ms/step - loss: 0.5401 - accuracy: 0.7812 - val_loss: 0.5281 - val_accuracy: 0.7617\n",
      "Epoch 60/100\n",
      "19/19 [==============================] - 0s 5ms/step - loss: 0.5136 - accuracy: 0.7728 - val_loss: 0.5192 - val_accuracy: 0.7383\n",
      "Epoch 61/100\n",
      "19/19 [==============================] - 0s 6ms/step - loss: 0.5060 - accuracy: 0.7866 - val_loss: 0.5072 - val_accuracy: 0.7656\n",
      "Epoch 62/100\n",
      "19/19 [==============================] - 0s 8ms/step - loss: 0.5566 - accuracy: 0.7514 - val_loss: 0.5214 - val_accuracy: 0.7422\n",
      "Epoch 63/100\n",
      "19/19 [==============================] - 0s 8ms/step - loss: 0.5125 - accuracy: 0.7428 - val_loss: 0.5049 - val_accuracy: 0.7539\n",
      "Epoch 64/100\n",
      "19/19 [==============================] - 0s 6ms/step - loss: 0.4809 - accuracy: 0.7886 - val_loss: 0.4904 - val_accuracy: 0.7695\n",
      "Epoch 65/100\n",
      "19/19 [==============================] - 0s 6ms/step - loss: 0.5201 - accuracy: 0.7779 - val_loss: 0.5202 - val_accuracy: 0.7461\n",
      "Epoch 66/100\n",
      "19/19 [==============================] - 0s 8ms/step - loss: 0.5227 - accuracy: 0.7527 - val_loss: 0.5313 - val_accuracy: 0.7539\n",
      "Epoch 67/100\n",
      "19/19 [==============================] - 0s 8ms/step - loss: 0.5316 - accuracy: 0.7650 - val_loss: 0.4963 - val_accuracy: 0.7500\n",
      "Epoch 68/100\n",
      "19/19 [==============================] - 0s 6ms/step - loss: 0.5181 - accuracy: 0.7546 - val_loss: 0.4984 - val_accuracy: 0.7578\n",
      "Epoch 69/100\n",
      "19/19 [==============================] - 0s 6ms/step - loss: 0.5173 - accuracy: 0.7699 - val_loss: 0.4942 - val_accuracy: 0.7695\n",
      "Epoch 70/100\n",
      "19/19 [==============================] - 0s 6ms/step - loss: 0.5224 - accuracy: 0.7442 - val_loss: 0.5118 - val_accuracy: 0.7500\n",
      "Epoch 71/100\n",
      "19/19 [==============================] - 0s 5ms/step - loss: 0.5045 - accuracy: 0.7915 - val_loss: 0.6281 - val_accuracy: 0.7188\n",
      "Epoch 72/100\n",
      "19/19 [==============================] - 0s 6ms/step - loss: 0.5523 - accuracy: 0.6979 - val_loss: 0.5017 - val_accuracy: 0.7734\n",
      "Epoch 73/100\n",
      "19/19 [==============================] - 0s 5ms/step - loss: 0.5098 - accuracy: 0.8057 - val_loss: 0.4927 - val_accuracy: 0.7773\n",
      "Epoch 74/100\n",
      "19/19 [==============================] - 0s 6ms/step - loss: 0.4953 - accuracy: 0.7777 - val_loss: 0.4918 - val_accuracy: 0.7734\n",
      "Epoch 75/100\n",
      "19/19 [==============================] - 0s 6ms/step - loss: 0.5195 - accuracy: 0.7391 - val_loss: 0.4976 - val_accuracy: 0.7578\n",
      "Epoch 76/100\n",
      "19/19 [==============================] - 0s 6ms/step - loss: 0.4954 - accuracy: 0.7823 - val_loss: 0.5027 - val_accuracy: 0.7500\n",
      "Epoch 77/100\n",
      "19/19 [==============================] - 0s 6ms/step - loss: 0.5212 - accuracy: 0.7619 - val_loss: 0.7199 - val_accuracy: 0.5898\n",
      "Epoch 78/100\n",
      "19/19 [==============================] - 0s 6ms/step - loss: 0.5197 - accuracy: 0.7644 - val_loss: 0.5251 - val_accuracy: 0.7344\n",
      "Epoch 79/100\n",
      "19/19 [==============================] - 0s 6ms/step - loss: 0.4967 - accuracy: 0.8102 - val_loss: 0.5744 - val_accuracy: 0.7227\n",
      "Epoch 80/100\n",
      "19/19 [==============================] - 0s 6ms/step - loss: 0.5147 - accuracy: 0.7738 - val_loss: 0.5519 - val_accuracy: 0.7383\n",
      "Epoch 81/100\n",
      "19/19 [==============================] - 0s 6ms/step - loss: 0.5081 - accuracy: 0.7750 - val_loss: 0.5219 - val_accuracy: 0.7422\n",
      "Epoch 82/100\n",
      "19/19 [==============================] - 0s 6ms/step - loss: 0.4727 - accuracy: 0.7869 - val_loss: 0.4921 - val_accuracy: 0.7617\n",
      "Epoch 83/100\n",
      "19/19 [==============================] - 0s 6ms/step - loss: 0.5064 - accuracy: 0.7300 - val_loss: 0.4787 - val_accuracy: 0.7656\n",
      "Epoch 84/100\n",
      "19/19 [==============================] - 0s 6ms/step - loss: 0.5214 - accuracy: 0.7623 - val_loss: 0.5180 - val_accuracy: 0.7578\n",
      "Epoch 85/100\n",
      "19/19 [==============================] - 0s 7ms/step - loss: 0.5057 - accuracy: 0.7600 - val_loss: 0.5102 - val_accuracy: 0.7461\n",
      "Epoch 86/100\n",
      "19/19 [==============================] - 0s 7ms/step - loss: 0.5102 - accuracy: 0.7484 - val_loss: 0.5003 - val_accuracy: 0.7578\n",
      "Epoch 87/100\n",
      "19/19 [==============================] - 0s 7ms/step - loss: 0.5306 - accuracy: 0.7780 - val_loss: 0.5071 - val_accuracy: 0.7500\n",
      "Epoch 88/100\n",
      "19/19 [==============================] - 0s 8ms/step - loss: 0.4760 - accuracy: 0.7868 - val_loss: 0.5230 - val_accuracy: 0.7500\n",
      "Epoch 89/100\n",
      "19/19 [==============================] - 0s 7ms/step - loss: 0.5180 - accuracy: 0.7719 - val_loss: 0.5004 - val_accuracy: 0.7734\n",
      "Epoch 90/100\n",
      "19/19 [==============================] - 0s 7ms/step - loss: 0.5169 - accuracy: 0.7876 - val_loss: 0.5661 - val_accuracy: 0.7305\n",
      "Epoch 91/100\n",
      "19/19 [==============================] - 0s 7ms/step - loss: 0.4668 - accuracy: 0.8030 - val_loss: 0.4961 - val_accuracy: 0.7539\n",
      "Epoch 92/100\n",
      "19/19 [==============================] - 0s 7ms/step - loss: 0.4955 - accuracy: 0.7546 - val_loss: 0.4823 - val_accuracy: 0.7695\n",
      "Epoch 93/100\n",
      "19/19 [==============================] - 0s 6ms/step - loss: 0.5034 - accuracy: 0.7740 - val_loss: 0.6334 - val_accuracy: 0.7188\n",
      "Epoch 94/100\n",
      "19/19 [==============================] - 0s 7ms/step - loss: 0.4973 - accuracy: 0.7435 - val_loss: 0.4818 - val_accuracy: 0.7695\n",
      "Epoch 95/100\n",
      "19/19 [==============================] - 0s 6ms/step - loss: 0.5347 - accuracy: 0.7467 - val_loss: 0.4847 - val_accuracy: 0.7891\n",
      "Epoch 96/100\n",
      "19/19 [==============================] - 0s 6ms/step - loss: 0.5095 - accuracy: 0.7828 - val_loss: 0.4974 - val_accuracy: 0.7578\n",
      "Epoch 97/100\n",
      "19/19 [==============================] - 0s 6ms/step - loss: 0.4762 - accuracy: 0.8110 - val_loss: 0.4747 - val_accuracy: 0.7578\n",
      "Epoch 98/100\n",
      "19/19 [==============================] - 0s 7ms/step - loss: 0.4805 - accuracy: 0.8040 - val_loss: 0.4722 - val_accuracy: 0.7734\n",
      "Epoch 99/100\n",
      "19/19 [==============================] - 0s 7ms/step - loss: 0.5357 - accuracy: 0.7637 - val_loss: 0.5236 - val_accuracy: 0.7500\n",
      "Epoch 100/100\n",
      "19/19 [==============================] - 0s 6ms/step - loss: 0.4637 - accuracy: 0.7787 - val_loss: 0.5093 - val_accuracy: 0.7500\n"
     ]
    }
   ],
   "source": [
    "history = model.fit(train_dataset, validation_data=eval_dataset, steps_per_epoch=len(train_df) // 32,\n",
    "                   validation_steps = len(eval_df) // 32, epochs=100)"
   ]
  },
  {
   "cell_type": "code",
   "execution_count": 38,
   "metadata": {
    "scrolled": true
   },
   "outputs": [
    {
     "name": "stdout",
     "output_type": "stream",
     "text": [
      "INFO:tensorflow:Using default config.\n",
      "WARNING:tensorflow:Using temporary folder as model directory: /tmp/tmp3stp3ktf\n",
      "INFO:tensorflow:Using the Keras model provided.\n",
      "WARNING:tensorflow:You are creating an Estimator from a Keras model manually subclassed from `Model`, that was already called on some inputs (and thus already had weights). We are currently unable to preserve the model's state (its weights) as part of the estimator in this case. Be warned that the estimator has been created using a freshly initialized version of your model.\n",
      "Note that this doesn't affect the state of the model instance you passed as `keras_model` argument.\n",
      "INFO:tensorflow:Using config: {'_model_dir': '/tmp/tmp3stp3ktf', '_tf_random_seed': None, '_save_summary_steps': 100, '_save_checkpoints_steps': None, '_save_checkpoints_secs': 600, '_session_config': allow_soft_placement: true\n",
      "graph_options {\n",
      "  rewrite_options {\n",
      "    meta_optimizer_iterations: ONE\n",
      "  }\n",
      "}\n",
      ", '_keep_checkpoint_max': 5, '_keep_checkpoint_every_n_hours': 10000, '_log_step_count_steps': 100, '_train_distribute': None, '_device_fn': None, '_protocol': None, '_eval_distribute': None, '_experimental_distribute': None, '_experimental_max_worker_delay_secs': None, '_service': None, '_cluster_spec': <tensorflow.python.training.server_lib.ClusterSpec object at 0x7f13ac38f240>, '_task_type': 'worker', '_task_id': 0, '_global_id_in_cluster': 0, '_master': '', '_evaluation_master': '', '_is_chief': True, '_num_ps_replicas': 0, '_num_worker_replicas': 1}\n",
      "WARNING:tensorflow:From /home/kdd/.local/lib/python3.6/site-packages/tensorflow/python/training/training_util.py:236: Variable.initialized_value (from tensorflow.python.ops.variables) is deprecated and will be removed in a future version.\n",
      "Instructions for updating:\n",
      "Use Variable.read_value. Variables in 2.X are initialized automatically both in eager and graph (inside tf.defun) contexts.\n",
      "INFO:tensorflow:Calling model_fn.\n"
     ]
    },
    {
     "ename": "KeyError",
     "evalue": "\"The dictionary passed into features does not have the expected inputs keys defined in the keras model.\\n\\tExpected keys: {'input_5', 'input_6', 'input_9', 'input_3', 'input_7', 'input_8', 'input_1', 'input_2', 'input_4'}\\n\\tfeatures keys: {'n_siblings_spouses', 'sex', 'alone', 'fare', 'embark_town', 'deck', 'class', 'age', 'parch'}\\n\\tDifference: {'input_5', 'input_6', 'n_siblings_spouses', 'sex', 'alone', 'fare', 'input_9', 'embark_town', 'age', 'class', 'input_3', 'input_7', 'deck', 'input_8', 'input_1', 'parch', 'input_2', 'input_4'}\"",
     "output_type": "error",
     "traceback": [
      "\u001b[0;31m---------------------------------------------------------------------------\u001b[0m",
      "\u001b[0;31mKeyError\u001b[0m                                  Traceback (most recent call last)",
      "\u001b[0;32m<ipython-input-38-99f05777fa56>\u001b[0m in \u001b[0;36m<module>\u001b[0;34m()\u001b[0m\n\u001b[1;32m      1\u001b[0m \u001b[0mestimator\u001b[0m \u001b[0;34m=\u001b[0m \u001b[0mkeras\u001b[0m\u001b[0;34m.\u001b[0m\u001b[0mestimator\u001b[0m\u001b[0;34m.\u001b[0m\u001b[0mmodel_to_estimator\u001b[0m\u001b[0;34m(\u001b[0m\u001b[0mmodel\u001b[0m\u001b[0;34m)\u001b[0m\u001b[0;34m\u001b[0m\u001b[0m\n\u001b[0;32m----> 2\u001b[0;31m \u001b[0mestimator\u001b[0m\u001b[0;34m.\u001b[0m\u001b[0mtrain\u001b[0m\u001b[0;34m(\u001b[0m\u001b[0minput_fn\u001b[0m\u001b[0;34m=\u001b[0m\u001b[0;32mlambda\u001b[0m \u001b[0;34m:\u001b[0m \u001b[0mdf_to_dataset\u001b[0m\u001b[0;34m(\u001b[0m\u001b[0mtrain_df\u001b[0m\u001b[0;34m,\u001b[0m \u001b[0my_trian\u001b[0m\u001b[0;34m,\u001b[0m \u001b[0mepochs\u001b[0m\u001b[0;34m=\u001b[0m\u001b[0;36m100\u001b[0m\u001b[0;34m)\u001b[0m\u001b[0;34m)\u001b[0m\u001b[0;34m\u001b[0m\u001b[0m\n\u001b[0m",
      "\u001b[0;32m/home/kdd/.local/lib/python3.6/site-packages/tensorflow_estimator/python/estimator/estimator.py\u001b[0m in \u001b[0;36mtrain\u001b[0;34m(self, input_fn, hooks, steps, max_steps, saving_listeners)\u001b[0m\n\u001b[1;32m    365\u001b[0m \u001b[0;34m\u001b[0m\u001b[0m\n\u001b[1;32m    366\u001b[0m       \u001b[0msaving_listeners\u001b[0m \u001b[0;34m=\u001b[0m \u001b[0m_check_listeners_type\u001b[0m\u001b[0;34m(\u001b[0m\u001b[0msaving_listeners\u001b[0m\u001b[0;34m)\u001b[0m\u001b[0;34m\u001b[0m\u001b[0m\n\u001b[0;32m--> 367\u001b[0;31m       \u001b[0mloss\u001b[0m \u001b[0;34m=\u001b[0m \u001b[0mself\u001b[0m\u001b[0;34m.\u001b[0m\u001b[0m_train_model\u001b[0m\u001b[0;34m(\u001b[0m\u001b[0minput_fn\u001b[0m\u001b[0;34m,\u001b[0m \u001b[0mhooks\u001b[0m\u001b[0;34m,\u001b[0m \u001b[0msaving_listeners\u001b[0m\u001b[0;34m)\u001b[0m\u001b[0;34m\u001b[0m\u001b[0m\n\u001b[0m\u001b[1;32m    368\u001b[0m       \u001b[0mlogging\u001b[0m\u001b[0;34m.\u001b[0m\u001b[0minfo\u001b[0m\u001b[0;34m(\u001b[0m\u001b[0;34m'Loss for final step: %s.'\u001b[0m\u001b[0;34m,\u001b[0m \u001b[0mloss\u001b[0m\u001b[0;34m)\u001b[0m\u001b[0;34m\u001b[0m\u001b[0m\n\u001b[1;32m    369\u001b[0m       \u001b[0;32mreturn\u001b[0m \u001b[0mself\u001b[0m\u001b[0;34m\u001b[0m\u001b[0m\n",
      "\u001b[0;32m/home/kdd/.local/lib/python3.6/site-packages/tensorflow_estimator/python/estimator/estimator.py\u001b[0m in \u001b[0;36m_train_model\u001b[0;34m(self, input_fn, hooks, saving_listeners)\u001b[0m\n\u001b[1;32m   1156\u001b[0m       \u001b[0;32mreturn\u001b[0m \u001b[0mself\u001b[0m\u001b[0;34m.\u001b[0m\u001b[0m_train_model_distributed\u001b[0m\u001b[0;34m(\u001b[0m\u001b[0minput_fn\u001b[0m\u001b[0;34m,\u001b[0m \u001b[0mhooks\u001b[0m\u001b[0;34m,\u001b[0m \u001b[0msaving_listeners\u001b[0m\u001b[0;34m)\u001b[0m\u001b[0;34m\u001b[0m\u001b[0m\n\u001b[1;32m   1157\u001b[0m     \u001b[0;32melse\u001b[0m\u001b[0;34m:\u001b[0m\u001b[0;34m\u001b[0m\u001b[0m\n\u001b[0;32m-> 1158\u001b[0;31m       \u001b[0;32mreturn\u001b[0m \u001b[0mself\u001b[0m\u001b[0;34m.\u001b[0m\u001b[0m_train_model_default\u001b[0m\u001b[0;34m(\u001b[0m\u001b[0minput_fn\u001b[0m\u001b[0;34m,\u001b[0m \u001b[0mhooks\u001b[0m\u001b[0;34m,\u001b[0m \u001b[0msaving_listeners\u001b[0m\u001b[0;34m)\u001b[0m\u001b[0;34m\u001b[0m\u001b[0m\n\u001b[0m\u001b[1;32m   1159\u001b[0m \u001b[0;34m\u001b[0m\u001b[0m\n\u001b[1;32m   1160\u001b[0m   \u001b[0;32mdef\u001b[0m \u001b[0m_train_model_default\u001b[0m\u001b[0;34m(\u001b[0m\u001b[0mself\u001b[0m\u001b[0;34m,\u001b[0m \u001b[0minput_fn\u001b[0m\u001b[0;34m,\u001b[0m \u001b[0mhooks\u001b[0m\u001b[0;34m,\u001b[0m \u001b[0msaving_listeners\u001b[0m\u001b[0;34m)\u001b[0m\u001b[0;34m:\u001b[0m\u001b[0;34m\u001b[0m\u001b[0m\n",
      "\u001b[0;32m/home/kdd/.local/lib/python3.6/site-packages/tensorflow_estimator/python/estimator/estimator.py\u001b[0m in \u001b[0;36m_train_model_default\u001b[0;34m(self, input_fn, hooks, saving_listeners)\u001b[0m\n\u001b[1;32m   1186\u001b[0m       \u001b[0mworker_hooks\u001b[0m\u001b[0;34m.\u001b[0m\u001b[0mextend\u001b[0m\u001b[0;34m(\u001b[0m\u001b[0minput_hooks\u001b[0m\u001b[0;34m)\u001b[0m\u001b[0;34m\u001b[0m\u001b[0m\n\u001b[1;32m   1187\u001b[0m       estimator_spec = self._call_model_fn(\n\u001b[0;32m-> 1188\u001b[0;31m           features, labels, ModeKeys.TRAIN, self.config)\n\u001b[0m\u001b[1;32m   1189\u001b[0m       \u001b[0mglobal_step_tensor\u001b[0m \u001b[0;34m=\u001b[0m \u001b[0mtraining_util\u001b[0m\u001b[0;34m.\u001b[0m\u001b[0mget_global_step\u001b[0m\u001b[0;34m(\u001b[0m\u001b[0mg\u001b[0m\u001b[0;34m)\u001b[0m\u001b[0;34m\u001b[0m\u001b[0m\n\u001b[1;32m   1190\u001b[0m       return self._train_with_estimator_spec(estimator_spec, worker_hooks,\n",
      "\u001b[0;32m/home/kdd/.local/lib/python3.6/site-packages/tensorflow_estimator/python/estimator/estimator.py\u001b[0m in \u001b[0;36m_call_model_fn\u001b[0;34m(self, features, labels, mode, config)\u001b[0m\n\u001b[1;32m   1144\u001b[0m \u001b[0;34m\u001b[0m\u001b[0m\n\u001b[1;32m   1145\u001b[0m     \u001b[0mlogging\u001b[0m\u001b[0;34m.\u001b[0m\u001b[0minfo\u001b[0m\u001b[0;34m(\u001b[0m\u001b[0;34m'Calling model_fn.'\u001b[0m\u001b[0;34m)\u001b[0m\u001b[0;34m\u001b[0m\u001b[0m\n\u001b[0;32m-> 1146\u001b[0;31m     \u001b[0mmodel_fn_results\u001b[0m \u001b[0;34m=\u001b[0m \u001b[0mself\u001b[0m\u001b[0;34m.\u001b[0m\u001b[0m_model_fn\u001b[0m\u001b[0;34m(\u001b[0m\u001b[0mfeatures\u001b[0m\u001b[0;34m=\u001b[0m\u001b[0mfeatures\u001b[0m\u001b[0;34m,\u001b[0m \u001b[0;34m**\u001b[0m\u001b[0mkwargs\u001b[0m\u001b[0;34m)\u001b[0m\u001b[0;34m\u001b[0m\u001b[0m\n\u001b[0m\u001b[1;32m   1147\u001b[0m     \u001b[0mlogging\u001b[0m\u001b[0;34m.\u001b[0m\u001b[0minfo\u001b[0m\u001b[0;34m(\u001b[0m\u001b[0;34m'Done calling model_fn.'\u001b[0m\u001b[0;34m)\u001b[0m\u001b[0;34m\u001b[0m\u001b[0m\n\u001b[1;32m   1148\u001b[0m \u001b[0;34m\u001b[0m\u001b[0m\n",
      "\u001b[0;32m/home/kdd/.local/lib/python3.6/site-packages/tensorflow_estimator/python/estimator/keras.py\u001b[0m in \u001b[0;36mmodel_fn\u001b[0;34m(features, labels, mode)\u001b[0m\n\u001b[1;32m    283\u001b[0m         \u001b[0mfeatures\u001b[0m\u001b[0;34m=\u001b[0m\u001b[0mfeatures\u001b[0m\u001b[0;34m,\u001b[0m\u001b[0;34m\u001b[0m\u001b[0m\n\u001b[1;32m    284\u001b[0m         \u001b[0mlabels\u001b[0m\u001b[0;34m=\u001b[0m\u001b[0mlabels\u001b[0m\u001b[0;34m,\u001b[0m\u001b[0;34m\u001b[0m\u001b[0m\n\u001b[0;32m--> 285\u001b[0;31m         optimizer_config=optimizer_config)\n\u001b[0m\u001b[1;32m    286\u001b[0m     \u001b[0mmodel_output_names\u001b[0m \u001b[0;34m=\u001b[0m \u001b[0;34m[\u001b[0m\u001b[0;34m]\u001b[0m\u001b[0;34m\u001b[0m\u001b[0m\n\u001b[1;32m    287\u001b[0m     \u001b[0;31m# We need to make sure that the output names of the last layer in the model\u001b[0m\u001b[0;34m\u001b[0m\u001b[0;34m\u001b[0m\u001b[0m\n",
      "\u001b[0;32m/home/kdd/.local/lib/python3.6/site-packages/tensorflow_estimator/python/estimator/keras.py\u001b[0m in \u001b[0;36m_clone_and_build_model\u001b[0;34m(mode, keras_model, custom_objects, features, labels, optimizer_config)\u001b[0m\n\u001b[1;32m    205\u001b[0m   \u001b[0mK\u001b[0m\u001b[0;34m.\u001b[0m\u001b[0mset_learning_phase\u001b[0m\u001b[0;34m(\u001b[0m\u001b[0mmode\u001b[0m \u001b[0;34m==\u001b[0m \u001b[0mModeKeys\u001b[0m\u001b[0;34m.\u001b[0m\u001b[0mTRAIN\u001b[0m\u001b[0;34m)\u001b[0m\u001b[0;34m\u001b[0m\u001b[0m\n\u001b[1;32m    206\u001b[0m   input_tensors, target_tensors, sample_weight_tensors = (\n\u001b[0;32m--> 207\u001b[0;31m       _convert_estimator_io_to_keras(keras_model, features, labels))\n\u001b[0m\u001b[1;32m    208\u001b[0m \u001b[0;34m\u001b[0m\u001b[0m\n\u001b[1;32m    209\u001b[0m   \u001b[0mcompile_clone\u001b[0m \u001b[0;34m=\u001b[0m \u001b[0;34m(\u001b[0m\u001b[0mmode\u001b[0m \u001b[0;34m!=\u001b[0m \u001b[0mModeKeys\u001b[0m\u001b[0;34m.\u001b[0m\u001b[0mPREDICT\u001b[0m\u001b[0;34m)\u001b[0m\u001b[0;34m\u001b[0m\u001b[0m\n",
      "\u001b[0;32m/home/kdd/.local/lib/python3.6/site-packages/tensorflow_estimator/python/estimator/keras.py\u001b[0m in \u001b[0;36m_convert_estimator_io_to_keras\u001b[0;34m(keras_model, features, labels)\u001b[0m\n\u001b[1;32m    161\u001b[0m \u001b[0;34m\u001b[0m\u001b[0m\n\u001b[1;32m    162\u001b[0m   input_tensors = _to_ordered_tensor_list(\n\u001b[0;32m--> 163\u001b[0;31m       features, input_names, 'features', 'inputs')\n\u001b[0m\u001b[1;32m    164\u001b[0m   target_tensors = _to_ordered_tensor_list(\n\u001b[1;32m    165\u001b[0m       labels, output_names, 'labels', 'outputs')\n",
      "\u001b[0;32m/home/kdd/.local/lib/python3.6/site-packages/tensorflow_estimator/python/estimator/keras.py\u001b[0m in \u001b[0;36m_to_ordered_tensor_list\u001b[0;34m(obj, key_order, obj_name, order_name)\u001b[0m\n\u001b[1;32m    142\u001b[0m                 \u001b[0morder_name\u001b[0m\u001b[0;34m=\u001b[0m\u001b[0morder_name\u001b[0m\u001b[0;34m,\u001b[0m \u001b[0morder_keys\u001b[0m\u001b[0;34m=\u001b[0m\u001b[0mset\u001b[0m\u001b[0;34m(\u001b[0m\u001b[0mkey_order\u001b[0m\u001b[0;34m)\u001b[0m\u001b[0;34m,\u001b[0m\u001b[0;34m\u001b[0m\u001b[0m\n\u001b[1;32m    143\u001b[0m                 \u001b[0mobj_name\u001b[0m\u001b[0;34m=\u001b[0m\u001b[0mobj_name\u001b[0m\u001b[0;34m,\u001b[0m \u001b[0mobj_keys\u001b[0m\u001b[0;34m=\u001b[0m\u001b[0mset\u001b[0m\u001b[0;34m(\u001b[0m\u001b[0mobj\u001b[0m\u001b[0;34m.\u001b[0m\u001b[0mkeys\u001b[0m\u001b[0;34m(\u001b[0m\u001b[0;34m)\u001b[0m\u001b[0;34m)\u001b[0m\u001b[0;34m,\u001b[0m\u001b[0;34m\u001b[0m\u001b[0m\n\u001b[0;32m--> 144\u001b[0;31m                 different_keys=different_keys))\n\u001b[0m\u001b[1;32m    145\u001b[0m \u001b[0;34m\u001b[0m\u001b[0m\n\u001b[1;32m    146\u001b[0m       \u001b[0;32mreturn\u001b[0m \u001b[0;34m[\u001b[0m\u001b[0m_convert_tensor\u001b[0m\u001b[0;34m(\u001b[0m\u001b[0mobj\u001b[0m\u001b[0;34m[\u001b[0m\u001b[0mkey\u001b[0m\u001b[0;34m]\u001b[0m\u001b[0;34m)\u001b[0m \u001b[0;32mfor\u001b[0m \u001b[0mkey\u001b[0m \u001b[0;32min\u001b[0m \u001b[0mkey_order\u001b[0m\u001b[0;34m]\u001b[0m\u001b[0;34m\u001b[0m\u001b[0m\n",
      "\u001b[0;31mKeyError\u001b[0m: \"The dictionary passed into features does not have the expected inputs keys defined in the keras model.\\n\\tExpected keys: {'input_5', 'input_6', 'input_9', 'input_3', 'input_7', 'input_8', 'input_1', 'input_2', 'input_4'}\\n\\tfeatures keys: {'n_siblings_spouses', 'sex', 'alone', 'fare', 'embark_town', 'deck', 'class', 'age', 'parch'}\\n\\tDifference: {'input_5', 'input_6', 'n_siblings_spouses', 'sex', 'alone', 'fare', 'input_9', 'embark_town', 'age', 'class', 'input_3', 'input_7', 'deck', 'input_8', 'input_1', 'parch', 'input_2', 'input_4'}\""
     ]
    }
   ],
   "source": [
    "estimator = keras.estimator.model_to_estimator(model)\n",
    "estimator.train(input_fn=lambda : df_to_dataset(train_df, y_trian, epochs=100))"
   ]
  },
  {
   "cell_type": "code",
   "execution_count": null,
   "metadata": {},
   "outputs": [],
   "source": []
  }
 ],
 "metadata": {
  "kernelspec": {
   "display_name": "Python 3",
   "language": "python",
   "name": "python3"
  },
  "language_info": {
   "codemirror_mode": {
    "name": "ipython",
    "version": 3
   },
   "file_extension": ".py",
   "mimetype": "text/x-python",
   "name": "python",
   "nbconvert_exporter": "python",
   "pygments_lexer": "ipython3",
   "version": "3.6.5"
  }
 },
 "nbformat": 4,
 "nbformat_minor": 4
}
